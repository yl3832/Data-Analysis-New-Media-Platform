{
 "cells": [
  {
   "cell_type": "code",
   "execution_count": 1,
   "metadata": {
    "collapsed": true
   },
   "outputs": [],
   "source": [
    "import graphlab \n",
    "from graphlab import SFrame"
   ]
  },
  {
   "cell_type": "code",
   "execution_count": 2,
   "metadata": {
    "collapsed": false
   },
   "outputs": [
    {
     "name": "stderr",
     "output_type": "stream",
     "text": [
      "[INFO] graphlab.cython.cy_server: GraphLab Create v2.1 started. Logging: /tmp/graphlab_server_1492658883.log\n"
     ]
    },
    {
     "name": "stdout",
     "output_type": "stream",
     "text": [
      "This non-commercial license of GraphLab Create for academic use is assigned to kobecool248@163.com and will expire on March 05, 2018.\n"
     ]
    },
    {
     "data": {
      "text/html": [
       "<pre>Finished parsing file /Volumes/SILVA/新媒体数据/待统计处理0407/合并表2.csv</pre>"
      ],
      "text/plain": [
       "Finished parsing file /Volumes/SILVA/新媒体数据/待统计处理0407/合并表2.csv"
      ]
     },
     "metadata": {},
     "output_type": "display_data"
    },
    {
     "data": {
      "text/html": [
       "<pre>Parsing completed. Parsed 100 lines in 0.046072 secs.</pre>"
      ],
      "text/plain": [
       "Parsing completed. Parsed 100 lines in 0.046072 secs."
      ]
     },
     "metadata": {},
     "output_type": "display_data"
    },
    {
     "name": "stdout",
     "output_type": "stream",
     "text": [
      "------------------------------------------------------\n",
      "Inferred types from first 100 line(s) of file as \n",
      "column_type_hints=[int,str,int,int,int,int,int,int,str,str]\n",
      "If parsing fails due to incorrect types, you can correct\n",
      "the inferred type list above and pass it to read_csv in\n",
      "the column_type_hints argument\n",
      "------------------------------------------------------\n"
     ]
    },
    {
     "data": {
      "text/html": [
       "<pre>Finished parsing file /Volumes/SILVA/新媒体数据/待统计处理0407/合并表2.csv</pre>"
      ],
      "text/plain": [
       "Finished parsing file /Volumes/SILVA/新媒体数据/待统计处理0407/合并表2.csv"
      ]
     },
     "metadata": {},
     "output_type": "display_data"
    },
    {
     "data": {
      "text/html": [
       "<pre>Parsing completed. Parsed 1079 lines in 0.00923 secs.</pre>"
      ],
      "text/plain": [
       "Parsing completed. Parsed 1079 lines in 0.00923 secs."
      ]
     },
     "metadata": {},
     "output_type": "display_data"
    },
    {
     "data": {
      "text/html": [
       "<pre>Finished parsing file /Volumes/SILVA/新媒体数据/待统计处理0407/合并表2high.csv</pre>"
      ],
      "text/plain": [
       "Finished parsing file /Volumes/SILVA/新媒体数据/待统计处理0407/合并表2high.csv"
      ]
     },
     "metadata": {},
     "output_type": "display_data"
    },
    {
     "data": {
      "text/html": [
       "<pre>Parsing completed. Parsed 100 lines in 0.009297 secs.</pre>"
      ],
      "text/plain": [
       "Parsing completed. Parsed 100 lines in 0.009297 secs."
      ]
     },
     "metadata": {},
     "output_type": "display_data"
    },
    {
     "name": "stdout",
     "output_type": "stream",
     "text": [
      "------------------------------------------------------\n",
      "Inferred types from first 100 line(s) of file as \n",
      "column_type_hints=[int,str,int,int,str,int,int,int,str,str]\n",
      "If parsing fails due to incorrect types, you can correct\n",
      "the inferred type list above and pass it to read_csv in\n",
      "the column_type_hints argument\n",
      "------------------------------------------------------\n"
     ]
    },
    {
     "data": {
      "text/html": [
       "<pre>Finished parsing file /Volumes/SILVA/新媒体数据/待统计处理0407/合并表2high.csv</pre>"
      ],
      "text/plain": [
       "Finished parsing file /Volumes/SILVA/新媒体数据/待统计处理0407/合并表2high.csv"
      ]
     },
     "metadata": {},
     "output_type": "display_data"
    },
    {
     "data": {
      "text/html": [
       "<pre>Parsing completed. Parsed 327 lines in 0.008694 secs.</pre>"
      ],
      "text/plain": [
       "Parsing completed. Parsed 327 lines in 0.008694 secs."
      ]
     },
     "metadata": {},
     "output_type": "display_data"
    },
    {
     "data": {
      "text/html": [
       "<pre>Finished parsing file /Volumes/SILVA/新媒体数据/待统计处理0407/合并表2low.csv</pre>"
      ],
      "text/plain": [
       "Finished parsing file /Volumes/SILVA/新媒体数据/待统计处理0407/合并表2low.csv"
      ]
     },
     "metadata": {},
     "output_type": "display_data"
    },
    {
     "data": {
      "text/html": [
       "<pre>Parsing completed. Parsed 100 lines in 0.01158 secs.</pre>"
      ],
      "text/plain": [
       "Parsing completed. Parsed 100 lines in 0.01158 secs."
      ]
     },
     "metadata": {},
     "output_type": "display_data"
    },
    {
     "name": "stdout",
     "output_type": "stream",
     "text": [
      "------------------------------------------------------\n",
      "Inferred types from first 100 line(s) of file as \n",
      "column_type_hints=[int,str,int,int,int,int,int,int,str,str]\n",
      "If parsing fails due to incorrect types, you can correct\n",
      "the inferred type list above and pass it to read_csv in\n",
      "the column_type_hints argument\n",
      "------------------------------------------------------\n"
     ]
    },
    {
     "data": {
      "text/html": [
       "<pre>Finished parsing file /Volumes/SILVA/新媒体数据/待统计处理0407/合并表2low.csv</pre>"
      ],
      "text/plain": [
       "Finished parsing file /Volumes/SILVA/新媒体数据/待统计处理0407/合并表2low.csv"
      ]
     },
     "metadata": {},
     "output_type": "display_data"
    },
    {
     "data": {
      "text/html": [
       "<pre>Parsing completed. Parsed 752 lines in 0.009132 secs.</pre>"
      ],
      "text/plain": [
       "Parsing completed. Parsed 752 lines in 0.009132 secs."
      ]
     },
     "metadata": {},
     "output_type": "display_data"
    }
   ],
   "source": [
    "data=SFrame(data='/Volumes/SILVA/新媒体数据/待统计处理0407/合并表2.csv')\n",
    "datahigh=SFrame(data='/Volumes/SILVA/新媒体数据/待统计处理0407/合并表2high.csv')\n",
    "datalow=SFrame(data='/Volumes/SILVA/新媒体数据/待统计处理0407/合并表2low.csv')"
   ]
  },
  {
   "cell_type": "code",
   "execution_count": 3,
   "metadata": {
    "collapsed": false,
    "scrolled": true
   },
   "outputs": [
    {
     "data": {
      "text/html": [
       "<div style=\"max-height:1000px;max-width:1500px;overflow:auto;\"><table frame=\"box\" rules=\"cols\">\n",
       "    <tr>\n",
       "        <th style=\"padding-left: 1em; padding-right: 1em; text-align: center\">id</th>\n",
       "        <th style=\"padding-left: 1em; padding-right: 1em; text-align: center\">Title</th>\n",
       "        <th style=\"padding-left: 1em; padding-right: 1em; text-align: center\">Words_of_the_Title</th>\n",
       "        <th style=\"padding-left: 1em; padding-right: 1em; text-align: center\">English_or_not</th>\n",
       "        <th style=\"padding-left: 1em; padding-right: 1em; text-align: center\">person</th>\n",
       "        <th style=\"padding-left: 1em; padding-right: 1em; text-align: center\">the_Length_of_one_Episode</th>\n",
       "        <th style=\"padding-left: 1em; padding-right: 1em; text-align: center\">the_Playback_Amount_of_on<br>e_Episode ...</th>\n",
       "    </tr>\n",
       "    <tr>\n",
       "        <td style=\"padding-left: 1em; padding-right: 1em; text-align: center; vertical-align: top\">227</td>\n",
       "        <td style=\"padding-left: 1em; padding-right: 1em; text-align: center; vertical-align: top\">�����Ա����ϲ��ã�����ҩ�<br>�����ȷ�� ...</td>\n",
       "        <td style=\"padding-left: 1em; padding-right: 1em; text-align: center; vertical-align: top\">18</td>\n",
       "        <td style=\"padding-left: 1em; padding-right: 1em; text-align: center; vertical-align: top\">0</td>\n",
       "        <td style=\"padding-left: 1em; padding-right: 1em; text-align: center; vertical-align: top\">2</td>\n",
       "        <td style=\"padding-left: 1em; padding-right: 1em; text-align: center; vertical-align: top\">1079</td>\n",
       "        <td style=\"padding-left: 1em; padding-right: 1em; text-align: center; vertical-align: top\">10000</td>\n",
       "    </tr>\n",
       "    <tr>\n",
       "        <td style=\"padding-left: 1em; padding-right: 1em; text-align: center; vertical-align: top\">171</td>\n",
       "        <td style=\"padding-left: 1em; padding-right: 1em; text-align: center; vertical-align: top\">������̸���Ժ��ӽ������ʽ<br>�����ȡ�� ...</td>\n",
       "        <td style=\"padding-left: 1em; padding-right: 1em; text-align: center; vertical-align: top\">18</td>\n",
       "        <td style=\"padding-left: 1em; padding-right: 1em; text-align: center; vertical-align: top\">0</td>\n",
       "        <td style=\"padding-left: 1em; padding-right: 1em; text-align: center; vertical-align: top\">0</td>\n",
       "        <td style=\"padding-left: 1em; padding-right: 1em; text-align: center; vertical-align: top\">906</td>\n",
       "        <td style=\"padding-left: 1em; padding-right: 1em; text-align: center; vertical-align: top\">3967</td>\n",
       "    </tr>\n",
       "    <tr>\n",
       "        <td style=\"padding-left: 1em; padding-right: 1em; text-align: center; vertical-align: top\">172</td>\n",
       "        <td style=\"padding-left: 1em; padding-right: 1em; text-align: center; vertical-align: top\">������̸����ͯ���������<br>����⣨�£� ...</td>\n",
       "        <td style=\"padding-left: 1em; padding-right: 1em; text-align: center; vertical-align: top\">18</td>\n",
       "        <td style=\"padding-left: 1em; padding-right: 1em; text-align: center; vertical-align: top\">0</td>\n",
       "        <td style=\"padding-left: 1em; padding-right: 1em; text-align: center; vertical-align: top\">0</td>\n",
       "        <td style=\"padding-left: 1em; padding-right: 1em; text-align: center; vertical-align: top\">906</td>\n",
       "        <td style=\"padding-left: 1em; padding-right: 1em; text-align: center; vertical-align: top\">25000</td>\n",
       "    </tr>\n",
       "    <tr>\n",
       "        <td style=\"padding-left: 1em; padding-right: 1em; text-align: center; vertical-align: top\">173</td>\n",
       "        <td style=\"padding-left: 1em; padding-right: 1em; text-align: center; vertical-align: top\">������̸����ͯ���������<br>����⣨�ϣ� ...</td>\n",
       "        <td style=\"padding-left: 1em; padding-right: 1em; text-align: center; vertical-align: top\">18</td>\n",
       "        <td style=\"padding-left: 1em; padding-right: 1em; text-align: center; vertical-align: top\">0</td>\n",
       "        <td style=\"padding-left: 1em; padding-right: 1em; text-align: center; vertical-align: top\">0</td>\n",
       "        <td style=\"padding-left: 1em; padding-right: 1em; text-align: center; vertical-align: top\">906</td>\n",
       "        <td style=\"padding-left: 1em; padding-right: 1em; text-align: center; vertical-align: top\">17000</td>\n",
       "    </tr>\n",
       "    <tr>\n",
       "        <td style=\"padding-left: 1em; padding-right: 1em; text-align: center; vertical-align: top\">268</td>\n",
       "        <td style=\"padding-left: 1em; padding-right: 1em; text-align: center; vertical-align: top\">�ú��Ӱ����Ķ���С��ϷPAR<br>T01 ...</td>\n",
       "        <td style=\"padding-left: 1em; padding-right: 1em; text-align: center; vertical-align: top\">17</td>\n",
       "        <td style=\"padding-left: 1em; padding-right: 1em; text-align: center; vertical-align: top\">1</td>\n",
       "        <td style=\"padding-left: 1em; padding-right: 1em; text-align: center; vertical-align: top\">0</td>\n",
       "        <td style=\"padding-left: 1em; padding-right: 1em; text-align: center; vertical-align: top\">816</td>\n",
       "        <td style=\"padding-left: 1em; padding-right: 1em; text-align: center; vertical-align: top\">641</td>\n",
       "    </tr>\n",
       "    <tr>\n",
       "        <td style=\"padding-left: 1em; padding-right: 1em; text-align: center; vertical-align: top\">274</td>\n",
       "        <td style=\"padding-left: 1em; padding-right: 1em; text-align: center; vertical-align: top\">����Ƣ��Խ��Խѹ�֣��㶮�<br>� ...</td>\n",
       "        <td style=\"padding-left: 1em; padding-right: 1em; text-align: center; vertical-align: top\">14</td>\n",
       "        <td style=\"padding-left: 1em; padding-right: 1em; text-align: center; vertical-align: top\">0</td>\n",
       "        <td style=\"padding-left: 1em; padding-right: 1em; text-align: center; vertical-align: top\">2</td>\n",
       "        <td style=\"padding-left: 1em; padding-right: 1em; text-align: center; vertical-align: top\">795</td>\n",
       "        <td style=\"padding-left: 1em; padding-right: 1em; text-align: center; vertical-align: top\">4143</td>\n",
       "    </tr>\n",
       "    <tr>\n",
       "        <td style=\"padding-left: 1em; padding-right: 1em; text-align: center; vertical-align: top\">962</td>\n",
       "        <td style=\"padding-left: 1em; padding-right: 1em; text-align: center; vertical-align: top\">�������ֹ��Ρ�����������<br>��� ...</td>\n",
       "        <td style=\"padding-left: 1em; padding-right: 1em; text-align: center; vertical-align: top\">14</td>\n",
       "        <td style=\"padding-left: 1em; padding-right: 1em; text-align: center; vertical-align: top\">0</td>\n",
       "        <td style=\"padding-left: 1em; padding-right: 1em; text-align: center; vertical-align: top\">0</td>\n",
       "        <td style=\"padding-left: 1em; padding-right: 1em; text-align: center; vertical-align: top\">794</td>\n",
       "        <td style=\"padding-left: 1em; padding-right: 1em; text-align: center; vertical-align: top\">3244</td>\n",
       "    </tr>\n",
       "    <tr>\n",
       "        <td style=\"padding-left: 1em; padding-right: 1em; text-align: center; vertical-align: top\">1057</td>\n",
       "        <td style=\"padding-left: 1em; padding-right: 1em; text-align: center; vertical-align: top\">86 û�й������</td>\n",
       "        <td style=\"padding-left: 1em; padding-right: 1em; text-align: center; vertical-align: top\">9</td>\n",
       "        <td style=\"padding-left: 1em; padding-right: 1em; text-align: center; vertical-align: top\">0</td>\n",
       "        <td style=\"padding-left: 1em; padding-right: 1em; text-align: center; vertical-align: top\">0</td>\n",
       "        <td style=\"padding-left: 1em; padding-right: 1em; text-align: center; vertical-align: top\">771</td>\n",
       "        <td style=\"padding-left: 1em; padding-right: 1em; text-align: center; vertical-align: top\">30000</td>\n",
       "    </tr>\n",
       "    <tr>\n",
       "        <td style=\"padding-left: 1em; padding-right: 1em; text-align: center; vertical-align: top\">909</td>\n",
       "        <td style=\"padding-left: 1em; padding-right: 1em; text-align: center; vertical-align: top\">��Щ�汾���Խ����������Σ<br>� ...</td>\n",
       "        <td style=\"padding-left: 1em; padding-right: 1em; text-align: center; vertical-align: top\">13</td>\n",
       "        <td style=\"padding-left: 1em; padding-right: 1em; text-align: center; vertical-align: top\">0</td>\n",
       "        <td style=\"padding-left: 1em; padding-right: 1em; text-align: center; vertical-align: top\">0</td>\n",
       "        <td style=\"padding-left: 1em; padding-right: 1em; text-align: center; vertical-align: top\">766</td>\n",
       "        <td style=\"padding-left: 1em; padding-right: 1em; text-align: center; vertical-align: top\">84000</td>\n",
       "    </tr>\n",
       "    <tr>\n",
       "        <td style=\"padding-left: 1em; padding-right: 1em; text-align: center; vertical-align: top\">275</td>\n",
       "        <td style=\"padding-left: 1em; padding-right: 1em; text-align: center; vertical-align: top\">����������ӵĸ�����</td>\n",
       "        <td style=\"padding-left: 1em; padding-right: 1em; text-align: center; vertical-align: top\">11</td>\n",
       "        <td style=\"padding-left: 1em; padding-right: 1em; text-align: center; vertical-align: top\">0</td>\n",
       "        <td style=\"padding-left: 1em; padding-right: 1em; text-align: center; vertical-align: top\">2</td>\n",
       "        <td style=\"padding-left: 1em; padding-right: 1em; text-align: center; vertical-align: top\">759</td>\n",
       "        <td style=\"padding-left: 1em; padding-right: 1em; text-align: center; vertical-align: top\">1238</td>\n",
       "    </tr>\n",
       "</table>\n",
       "<table frame=\"box\" rules=\"cols\">\n",
       "    <tr>\n",
       "        <th style=\"padding-left: 1em; padding-right: 1em; text-align: center\">Release_Week</th>\n",
       "        <th style=\"padding-left: 1em; padding-right: 1em; text-align: center\">PageUrl</th>\n",
       "        <th style=\"padding-left: 1em; padding-right: 1em; text-align: center\">Relative</th>\n",
       "        <th style=\"padding-left: 1em; padding-right: 1em; text-align: center\">playbackperweek</th>\n",
       "    </tr>\n",
       "    <tr>\n",
       "        <td style=\"padding-left: 1em; padding-right: 1em; text-align: center; vertical-align: top\">1</td>\n",
       "        <td style=\"padding-left: 1em; padding-right: 1em; text-align: center; vertical-align: top\">http://v.qq.com/page/w/9/<br>i/w0337qp699i.html ...</td>\n",
       "        <td style=\"padding-left: 1em; padding-right: 1em; text-align: center; vertical-align: top\">5381 1337 144 1352 45<br>5382 3763 648 58 ...</td>\n",
       "        <td style=\"padding-left: 1em; padding-right: 1em; text-align: center; vertical-align: top\">10000.0</td>\n",
       "    </tr>\n",
       "    <tr>\n",
       "        <td style=\"padding-left: 1em; padding-right: 1em; text-align: center; vertical-align: top\">3</td>\n",
       "        <td style=\"padding-left: 1em; padding-right: 1em; text-align: center; vertical-align: top\">http://v.qq.com/page/x/3/<br>0/x0351a6h530.html ...</td>\n",
       "        <td style=\"padding-left: 1em; padding-right: 1em; text-align: center; vertical-align: top\">1259 1255 5119 1021 159<br>5082 2394 5355 58 ...</td>\n",
       "        <td style=\"padding-left: 1em; padding-right: 1em; text-align: center; vertical-align: top\">1322.33333333</td>\n",
       "    </tr>\n",
       "    <tr>\n",
       "        <td style=\"padding-left: 1em; padding-right: 1em; text-align: center; vertical-align: top\">2</td>\n",
       "        <td style=\"padding-left: 1em; padding-right: 1em; text-align: center; vertical-align: top\">http://v.qq.com/page/b/f/<br>f/b0350fs43ff.html ...</td>\n",
       "        <td style=\"padding-left: 1em; padding-right: 1em; text-align: center; vertical-align: top\">1259 1255 5119 5120 1645<br>1515 1482 757 ...</td>\n",
       "        <td style=\"padding-left: 1em; padding-right: 1em; text-align: center; vertical-align: top\">12500.0</td>\n",
       "    </tr>\n",
       "    <tr>\n",
       "        <td style=\"padding-left: 1em; padding-right: 1em; text-align: center; vertical-align: top\">2</td>\n",
       "        <td style=\"padding-left: 1em; padding-right: 1em; text-align: center; vertical-align: top\">http://v.qq.com/page/n/b/<br>i/n0350kk0dbi.html ...</td>\n",
       "        <td style=\"padding-left: 1em; padding-right: 1em; text-align: center; vertical-align: top\">1259 1255 5119 5120 1645<br>1515 1482 36 ...</td>\n",
       "        <td style=\"padding-left: 1em; padding-right: 1em; text-align: center; vertical-align: top\">8500.0</td>\n",
       "    </tr>\n",
       "    <tr>\n",
       "        <td style=\"padding-left: 1em; padding-right: 1em; text-align: center; vertical-align: top\">5</td>\n",
       "        <td style=\"padding-left: 1em; padding-right: 1em; text-align: center; vertical-align: top\">http://v.qq.com/page/x/h/<br>v/x0330ajqmhv.html ...</td>\n",
       "        <td style=\"padding-left: 1em; padding-right: 1em; text-align: center; vertical-align: top\">274 159 276 1344 40 2487<br>5404 ...</td>\n",
       "        <td style=\"padding-left: 1em; padding-right: 1em; text-align: center; vertical-align: top\">128.2</td>\n",
       "    </tr>\n",
       "    <tr>\n",
       "        <td style=\"padding-left: 1em; padding-right: 1em; text-align: center; vertical-align: top\">3</td>\n",
       "        <td style=\"padding-left: 1em; padding-right: 1em; text-align: center; vertical-align: top\">http://v.qq.com/page/z/y/<br>d/z0330rj6tyd.html ...</td>\n",
       "        <td style=\"padding-left: 1em; padding-right: 1em; text-align: center; vertical-align: top\">159 2119 5408 882 2030 45<br>3722 ...</td>\n",
       "        <td style=\"padding-left: 1em; padding-right: 1em; text-align: center; vertical-align: top\">1381.0</td>\n",
       "    </tr>\n",
       "    <tr>\n",
       "        <td style=\"padding-left: 1em; padding-right: 1em; text-align: center; vertical-align: top\">5</td>\n",
       "        <td style=\"padding-left: 1em; padding-right: 1em; text-align: center; vertical-align: top\">http://v.qq.com/page/v/x/<br>1/v0347lsyxx1.html ...</td>\n",
       "        <td style=\"padding-left: 1em; padding-right: 1em; text-align: center; vertical-align: top\">932 1083 767 2902 1934 40<br>2842 ...</td>\n",
       "        <td style=\"padding-left: 1em; padding-right: 1em; text-align: center; vertical-align: top\">648.8</td>\n",
       "    </tr>\n",
       "    <tr>\n",
       "        <td style=\"padding-left: 1em; padding-right: 1em; text-align: center; vertical-align: top\">2</td>\n",
       "        <td style=\"padding-left: 1em; padding-right: 1em; text-align: center; vertical-align: top\">http://v.qq.com/page/s/n/<br>p/s0329wz7ynp.html ...</td>\n",
       "        <td style=\"padding-left: 1em; padding-right: 1em; text-align: center; vertical-align: top\">3059 1554 3060 40 1934</td>\n",
       "        <td style=\"padding-left: 1em; padding-right: 1em; text-align: center; vertical-align: top\">15000.0</td>\n",
       "    </tr>\n",
       "    <tr>\n",
       "        <td style=\"padding-left: 1em; padding-right: 1em; text-align: center; vertical-align: top\">1</td>\n",
       "        <td style=\"padding-left: 1em; padding-right: 1em; text-align: center; vertical-align: top\">http://v.qq.com/page/m/x/<br>h/m0357s4ojxh.html ...</td>\n",
       "        <td style=\"padding-left: 1em; padding-right: 1em; text-align: center; vertical-align: top\">884 901 1324 274 1412<br>1350 637 ...</td>\n",
       "        <td style=\"padding-left: 1em; padding-right: 1em; text-align: center; vertical-align: top\">84000.0</td>\n",
       "    </tr>\n",
       "    <tr>\n",
       "        <td style=\"padding-left: 1em; padding-right: 1em; text-align: center; vertical-align: top\">3</td>\n",
       "        <td style=\"padding-left: 1em; padding-right: 1em; text-align: center; vertical-align: top\">http://v.qq.com/page/d/6/<br>o/d0330ggk36o.html ...</td>\n",
       "        <td style=\"padding-left: 1em; padding-right: 1em; text-align: center; vertical-align: top\">45 5409 602 159 40 2770<br>58 ...</td>\n",
       "        <td style=\"padding-left: 1em; padding-right: 1em; text-align: center; vertical-align: top\">412.666666667</td>\n",
       "    </tr>\n",
       "</table>\n",
       "[1077 rows x 11 columns]<br/>Note: Only the head of the SFrame is printed.<br/>You can use print_rows(num_rows=m, num_columns=n) to print more rows and columns.\n",
       "</div>"
      ],
      "text/plain": [
       "Columns:\n",
       "\tid\tint\n",
       "\tTitle\tstr\n",
       "\tWords_of_the_Title\tint\n",
       "\tEnglish_or_not\tint\n",
       "\tperson\tint\n",
       "\tthe_Length_of_one_Episode\tint\n",
       "\tthe_Playback_Amount_of_one_Episode\tint\n",
       "\tRelease_Week\tint\n",
       "\tPageUrl\tstr\n",
       "\tRelative\tstr\n",
       "\tplaybackperweek\tfloat\n",
       "\n",
       "Rows: 1077\n",
       "\n",
       "Data:\n",
       "+------+-------------------------------+--------------------+----------------+--------+\n",
       "|  id  |             Title             | Words_of_the_Title | English_or_not | person |\n",
       "+------+-------------------------------+--------------------+----------------+--------+\n",
       "| 227  | �����Ա����ϲ��ã�����ҩ������... |         18         |       0        |   2    |\n",
       "| 171  |  ������̸���Ժ��ӽ������ʽ�����... |         18         |       0        |   0    |\n",
       "| 172  |  ������̸����ͯ�������������⣨...  |         18         |       0        |   0    |\n",
       "| 173  |  ������̸����ͯ�������������⣨...  |         18         |       0        |   0    |\n",
       "| 268  |    �ú��Ӱ����Ķ���С��ϷPART01    |         17         |       1        |   0    |\n",
       "| 274  |       ����Ƣ��Խ��Խѹ�֣��㶮��      |         14         |       0        |   2    |\n",
       "| 962  |    �������ֹ��Ρ��������������   |         14         |       0        |   0    |\n",
       "| 1057 |          86 û�й������         |         9          |       0        |   0    |\n",
       "| 909  |     ��Щ�汾���Խ����������Σ�    |         13         |       0        |   0    |\n",
       "| 275  |       ����������ӵĸ�����       |         11         |       0        |   2    |\n",
       "+------+-------------------------------+--------------------+----------------+--------+\n",
       "+---------------------------+-------------------------------+--------------+\n",
       "| the_Length_of_one_Episode | the_Playback_Amount_of_one... | Release_Week |\n",
       "+---------------------------+-------------------------------+--------------+\n",
       "|            1079           |             10000             |      1       |\n",
       "|            906            |              3967             |      3       |\n",
       "|            906            |             25000             |      2       |\n",
       "|            906            |             17000             |      2       |\n",
       "|            816            |              641              |      5       |\n",
       "|            795            |              4143             |      3       |\n",
       "|            794            |              3244             |      5       |\n",
       "|            771            |             30000             |      2       |\n",
       "|            766            |             84000             |      1       |\n",
       "|            759            |              1238             |      3       |\n",
       "+---------------------------+-------------------------------+--------------+\n",
       "+-------------------------------+--------------------------------+-----------------+\n",
       "|            PageUrl            |            Relative            | playbackperweek |\n",
       "+-------------------------------+--------------------------------+-----------------+\n",
       "| http://v.qq.com/page/w/9/i... | 5381 1337 144 1352 45 5382...  |     10000.0     |\n",
       "| http://v.qq.com/page/x/3/0... | 1259 1255 5119 1021 159 50...  |  1322.33333333  |\n",
       "| http://v.qq.com/page/b/f/f... | 1259 1255 5119 5120 1645 1...  |     12500.0     |\n",
       "| http://v.qq.com/page/n/b/i... | 1259 1255 5119 5120 1645 1...  |      8500.0     |\n",
       "| http://v.qq.com/page/x/h/v... | 274 159 276 1344 40 2487 5404  |      128.2      |\n",
       "| http://v.qq.com/page/z/y/d... | 159 2119 5408 882 2030 45 3722 |      1381.0     |\n",
       "| http://v.qq.com/page/v/x/1... | 932 1083 767 2902 1934 40 2842 |      648.8      |\n",
       "| http://v.qq.com/page/s/n/p... |     3059 1554 3060 40 1934     |     15000.0     |\n",
       "| http://v.qq.com/page/m/x/h... | 884 901 1324 274 1412 1350 637 |     84000.0     |\n",
       "| http://v.qq.com/page/d/6/o... |   45 5409 602 159 40 2770 58   |  412.666666667  |\n",
       "+-------------------------------+--------------------------------+-----------------+\n",
       "[1077 rows x 11 columns]\n",
       "Note: Only the head of the SFrame is printed.\n",
       "You can use print_rows(num_rows=m, num_columns=n) to print more rows and columns."
      ]
     },
     "execution_count": 3,
     "metadata": {},
     "output_type": "execute_result"
    }
   ],
   "source": [
    "data=data.dropna()\n",
    "data['playbackperweek']=data['the_Playback_Amount_of_one_Episode']/data['Release_Week']\n",
    "datahigh=datahigh.dropna()\n",
    "datahigh['playbackperweek']=datahigh['the_Playback_Amount_of_one_Episode']/datahigh['Release_Week']\n",
    "datalow=datalow.dropna()\n",
    "datalow['playbackperweek']=datalow['the_Playback_Amount_of_one_Episode']/datalow['Release_Week']\n",
    "data"
   ]
  },
  {
   "cell_type": "code",
   "execution_count": 4,
   "metadata": {
    "collapsed": true
   },
   "outputs": [],
   "source": [
    "graphlab.canvas.set_target('ipynb')"
   ]
  },
  {
   "cell_type": "code",
   "execution_count": 5,
   "metadata": {
    "collapsed": true
   },
   "outputs": [],
   "source": [
    "train_data,test_data=data.random_split(0.85,seed=1)\n",
    "train_datalow,testlow_data=datalow.random_split(0.85,seed=1)\n",
    "train_datahigh,testhigh_data=datahigh.random_split(0.85,seed=1)"
   ]
  },
  {
   "cell_type": "code",
   "execution_count": 6,
   "metadata": {
    "collapsed": false
   },
   "outputs": [
    {
     "data": {
      "text/html": [
       "<div style=\"max-height:1000px;max-width:1500px;overflow:auto;\"><table frame=\"box\" rules=\"cols\">\n",
       "    <tr>\n",
       "        <th style=\"padding-left: 1em; padding-right: 1em; text-align: center\">id</th>\n",
       "        <th style=\"padding-left: 1em; padding-right: 1em; text-align: center\">Title</th>\n",
       "        <th style=\"padding-left: 1em; padding-right: 1em; text-align: center\">Words_of_the_Title</th>\n",
       "        <th style=\"padding-left: 1em; padding-right: 1em; text-align: center\">English_or_not</th>\n",
       "        <th style=\"padding-left: 1em; padding-right: 1em; text-align: center\">person</th>\n",
       "        <th style=\"padding-left: 1em; padding-right: 1em; text-align: center\">the_Length_of_one_Episode</th>\n",
       "        <th style=\"padding-left: 1em; padding-right: 1em; text-align: center\">the_Playback_Amount_of_on<br>e_Episode ...</th>\n",
       "    </tr>\n",
       "    <tr>\n",
       "        <td style=\"padding-left: 1em; padding-right: 1em; text-align: center; vertical-align: top\">227</td>\n",
       "        <td style=\"padding-left: 1em; padding-right: 1em; text-align: center; vertical-align: top\">�����Ա����ϲ��ã�����ҩ�<br>�����ȷ�� ...</td>\n",
       "        <td style=\"padding-left: 1em; padding-right: 1em; text-align: center; vertical-align: top\">18</td>\n",
       "        <td style=\"padding-left: 1em; padding-right: 1em; text-align: center; vertical-align: top\">0</td>\n",
       "        <td style=\"padding-left: 1em; padding-right: 1em; text-align: center; vertical-align: top\">2</td>\n",
       "        <td style=\"padding-left: 1em; padding-right: 1em; text-align: center; vertical-align: top\">1079</td>\n",
       "        <td style=\"padding-left: 1em; padding-right: 1em; text-align: center; vertical-align: top\">10000</td>\n",
       "    </tr>\n",
       "    <tr>\n",
       "        <td style=\"padding-left: 1em; padding-right: 1em; text-align: center; vertical-align: top\">171</td>\n",
       "        <td style=\"padding-left: 1em; padding-right: 1em; text-align: center; vertical-align: top\">������̸���Ժ��ӽ������ʽ<br>�����ȡ�� ...</td>\n",
       "        <td style=\"padding-left: 1em; padding-right: 1em; text-align: center; vertical-align: top\">18</td>\n",
       "        <td style=\"padding-left: 1em; padding-right: 1em; text-align: center; vertical-align: top\">0</td>\n",
       "        <td style=\"padding-left: 1em; padding-right: 1em; text-align: center; vertical-align: top\">0</td>\n",
       "        <td style=\"padding-left: 1em; padding-right: 1em; text-align: center; vertical-align: top\">906</td>\n",
       "        <td style=\"padding-left: 1em; padding-right: 1em; text-align: center; vertical-align: top\">3967</td>\n",
       "    </tr>\n",
       "    <tr>\n",
       "        <td style=\"padding-left: 1em; padding-right: 1em; text-align: center; vertical-align: top\">172</td>\n",
       "        <td style=\"padding-left: 1em; padding-right: 1em; text-align: center; vertical-align: top\">������̸����ͯ���������<br>����⣨�£� ...</td>\n",
       "        <td style=\"padding-left: 1em; padding-right: 1em; text-align: center; vertical-align: top\">18</td>\n",
       "        <td style=\"padding-left: 1em; padding-right: 1em; text-align: center; vertical-align: top\">0</td>\n",
       "        <td style=\"padding-left: 1em; padding-right: 1em; text-align: center; vertical-align: top\">0</td>\n",
       "        <td style=\"padding-left: 1em; padding-right: 1em; text-align: center; vertical-align: top\">906</td>\n",
       "        <td style=\"padding-left: 1em; padding-right: 1em; text-align: center; vertical-align: top\">25000</td>\n",
       "    </tr>\n",
       "    <tr>\n",
       "        <td style=\"padding-left: 1em; padding-right: 1em; text-align: center; vertical-align: top\">173</td>\n",
       "        <td style=\"padding-left: 1em; padding-right: 1em; text-align: center; vertical-align: top\">������̸����ͯ���������<br>����⣨�ϣ� ...</td>\n",
       "        <td style=\"padding-left: 1em; padding-right: 1em; text-align: center; vertical-align: top\">18</td>\n",
       "        <td style=\"padding-left: 1em; padding-right: 1em; text-align: center; vertical-align: top\">0</td>\n",
       "        <td style=\"padding-left: 1em; padding-right: 1em; text-align: center; vertical-align: top\">0</td>\n",
       "        <td style=\"padding-left: 1em; padding-right: 1em; text-align: center; vertical-align: top\">906</td>\n",
       "        <td style=\"padding-left: 1em; padding-right: 1em; text-align: center; vertical-align: top\">17000</td>\n",
       "    </tr>\n",
       "    <tr>\n",
       "        <td style=\"padding-left: 1em; padding-right: 1em; text-align: center; vertical-align: top\">268</td>\n",
       "        <td style=\"padding-left: 1em; padding-right: 1em; text-align: center; vertical-align: top\">�ú��Ӱ����Ķ���С��ϷPAR<br>T01 ...</td>\n",
       "        <td style=\"padding-left: 1em; padding-right: 1em; text-align: center; vertical-align: top\">17</td>\n",
       "        <td style=\"padding-left: 1em; padding-right: 1em; text-align: center; vertical-align: top\">1</td>\n",
       "        <td style=\"padding-left: 1em; padding-right: 1em; text-align: center; vertical-align: top\">0</td>\n",
       "        <td style=\"padding-left: 1em; padding-right: 1em; text-align: center; vertical-align: top\">816</td>\n",
       "        <td style=\"padding-left: 1em; padding-right: 1em; text-align: center; vertical-align: top\">641</td>\n",
       "    </tr>\n",
       "    <tr>\n",
       "        <td style=\"padding-left: 1em; padding-right: 1em; text-align: center; vertical-align: top\">274</td>\n",
       "        <td style=\"padding-left: 1em; padding-right: 1em; text-align: center; vertical-align: top\">����Ƣ��Խ��Խѹ�֣��㶮�<br>� ...</td>\n",
       "        <td style=\"padding-left: 1em; padding-right: 1em; text-align: center; vertical-align: top\">14</td>\n",
       "        <td style=\"padding-left: 1em; padding-right: 1em; text-align: center; vertical-align: top\">0</td>\n",
       "        <td style=\"padding-left: 1em; padding-right: 1em; text-align: center; vertical-align: top\">2</td>\n",
       "        <td style=\"padding-left: 1em; padding-right: 1em; text-align: center; vertical-align: top\">795</td>\n",
       "        <td style=\"padding-left: 1em; padding-right: 1em; text-align: center; vertical-align: top\">4143</td>\n",
       "    </tr>\n",
       "    <tr>\n",
       "        <td style=\"padding-left: 1em; padding-right: 1em; text-align: center; vertical-align: top\">962</td>\n",
       "        <td style=\"padding-left: 1em; padding-right: 1em; text-align: center; vertical-align: top\">�������ֹ��Ρ�����������<br>��� ...</td>\n",
       "        <td style=\"padding-left: 1em; padding-right: 1em; text-align: center; vertical-align: top\">14</td>\n",
       "        <td style=\"padding-left: 1em; padding-right: 1em; text-align: center; vertical-align: top\">0</td>\n",
       "        <td style=\"padding-left: 1em; padding-right: 1em; text-align: center; vertical-align: top\">0</td>\n",
       "        <td style=\"padding-left: 1em; padding-right: 1em; text-align: center; vertical-align: top\">794</td>\n",
       "        <td style=\"padding-left: 1em; padding-right: 1em; text-align: center; vertical-align: top\">3244</td>\n",
       "    </tr>\n",
       "    <tr>\n",
       "        <td style=\"padding-left: 1em; padding-right: 1em; text-align: center; vertical-align: top\">1057</td>\n",
       "        <td style=\"padding-left: 1em; padding-right: 1em; text-align: center; vertical-align: top\">86 û�й������</td>\n",
       "        <td style=\"padding-left: 1em; padding-right: 1em; text-align: center; vertical-align: top\">9</td>\n",
       "        <td style=\"padding-left: 1em; padding-right: 1em; text-align: center; vertical-align: top\">0</td>\n",
       "        <td style=\"padding-left: 1em; padding-right: 1em; text-align: center; vertical-align: top\">0</td>\n",
       "        <td style=\"padding-left: 1em; padding-right: 1em; text-align: center; vertical-align: top\">771</td>\n",
       "        <td style=\"padding-left: 1em; padding-right: 1em; text-align: center; vertical-align: top\">30000</td>\n",
       "    </tr>\n",
       "    <tr>\n",
       "        <td style=\"padding-left: 1em; padding-right: 1em; text-align: center; vertical-align: top\">909</td>\n",
       "        <td style=\"padding-left: 1em; padding-right: 1em; text-align: center; vertical-align: top\">��Щ�汾���Խ����������Σ<br>� ...</td>\n",
       "        <td style=\"padding-left: 1em; padding-right: 1em; text-align: center; vertical-align: top\">13</td>\n",
       "        <td style=\"padding-left: 1em; padding-right: 1em; text-align: center; vertical-align: top\">0</td>\n",
       "        <td style=\"padding-left: 1em; padding-right: 1em; text-align: center; vertical-align: top\">0</td>\n",
       "        <td style=\"padding-left: 1em; padding-right: 1em; text-align: center; vertical-align: top\">766</td>\n",
       "        <td style=\"padding-left: 1em; padding-right: 1em; text-align: center; vertical-align: top\">84000</td>\n",
       "    </tr>\n",
       "    <tr>\n",
       "        <td style=\"padding-left: 1em; padding-right: 1em; text-align: center; vertical-align: top\">275</td>\n",
       "        <td style=\"padding-left: 1em; padding-right: 1em; text-align: center; vertical-align: top\">����������ӵĸ�����</td>\n",
       "        <td style=\"padding-left: 1em; padding-right: 1em; text-align: center; vertical-align: top\">11</td>\n",
       "        <td style=\"padding-left: 1em; padding-right: 1em; text-align: center; vertical-align: top\">0</td>\n",
       "        <td style=\"padding-left: 1em; padding-right: 1em; text-align: center; vertical-align: top\">2</td>\n",
       "        <td style=\"padding-left: 1em; padding-right: 1em; text-align: center; vertical-align: top\">759</td>\n",
       "        <td style=\"padding-left: 1em; padding-right: 1em; text-align: center; vertical-align: top\">1238</td>\n",
       "    </tr>\n",
       "</table>\n",
       "<table frame=\"box\" rules=\"cols\">\n",
       "    <tr>\n",
       "        <th style=\"padding-left: 1em; padding-right: 1em; text-align: center\">Release_Week</th>\n",
       "        <th style=\"padding-left: 1em; padding-right: 1em; text-align: center\">PageUrl</th>\n",
       "        <th style=\"padding-left: 1em; padding-right: 1em; text-align: center\">Relative</th>\n",
       "        <th style=\"padding-left: 1em; padding-right: 1em; text-align: center\">playbackperweek</th>\n",
       "    </tr>\n",
       "    <tr>\n",
       "        <td style=\"padding-left: 1em; padding-right: 1em; text-align: center; vertical-align: top\">1</td>\n",
       "        <td style=\"padding-left: 1em; padding-right: 1em; text-align: center; vertical-align: top\">http://v.qq.com/page/w/9/<br>i/w0337qp699i.html ...</td>\n",
       "        <td style=\"padding-left: 1em; padding-right: 1em; text-align: center; vertical-align: top\">5381 1337 144 1352 45<br>5382 3763 648 58 ...</td>\n",
       "        <td style=\"padding-left: 1em; padding-right: 1em; text-align: center; vertical-align: top\">10000.0</td>\n",
       "    </tr>\n",
       "    <tr>\n",
       "        <td style=\"padding-left: 1em; padding-right: 1em; text-align: center; vertical-align: top\">3</td>\n",
       "        <td style=\"padding-left: 1em; padding-right: 1em; text-align: center; vertical-align: top\">http://v.qq.com/page/x/3/<br>0/x0351a6h530.html ...</td>\n",
       "        <td style=\"padding-left: 1em; padding-right: 1em; text-align: center; vertical-align: top\">1259 1255 5119 1021 159<br>5082 2394 5355 58 ...</td>\n",
       "        <td style=\"padding-left: 1em; padding-right: 1em; text-align: center; vertical-align: top\">1322.33333333</td>\n",
       "    </tr>\n",
       "    <tr>\n",
       "        <td style=\"padding-left: 1em; padding-right: 1em; text-align: center; vertical-align: top\">2</td>\n",
       "        <td style=\"padding-left: 1em; padding-right: 1em; text-align: center; vertical-align: top\">http://v.qq.com/page/b/f/<br>f/b0350fs43ff.html ...</td>\n",
       "        <td style=\"padding-left: 1em; padding-right: 1em; text-align: center; vertical-align: top\">1259 1255 5119 5120 1645<br>1515 1482 757 ...</td>\n",
       "        <td style=\"padding-left: 1em; padding-right: 1em; text-align: center; vertical-align: top\">12500.0</td>\n",
       "    </tr>\n",
       "    <tr>\n",
       "        <td style=\"padding-left: 1em; padding-right: 1em; text-align: center; vertical-align: top\">2</td>\n",
       "        <td style=\"padding-left: 1em; padding-right: 1em; text-align: center; vertical-align: top\">http://v.qq.com/page/n/b/<br>i/n0350kk0dbi.html ...</td>\n",
       "        <td style=\"padding-left: 1em; padding-right: 1em; text-align: center; vertical-align: top\">1259 1255 5119 5120 1645<br>1515 1482 36 ...</td>\n",
       "        <td style=\"padding-left: 1em; padding-right: 1em; text-align: center; vertical-align: top\">8500.0</td>\n",
       "    </tr>\n",
       "    <tr>\n",
       "        <td style=\"padding-left: 1em; padding-right: 1em; text-align: center; vertical-align: top\">5</td>\n",
       "        <td style=\"padding-left: 1em; padding-right: 1em; text-align: center; vertical-align: top\">http://v.qq.com/page/x/h/<br>v/x0330ajqmhv.html ...</td>\n",
       "        <td style=\"padding-left: 1em; padding-right: 1em; text-align: center; vertical-align: top\">274 159 276 1344 40 2487<br>5404 ...</td>\n",
       "        <td style=\"padding-left: 1em; padding-right: 1em; text-align: center; vertical-align: top\">128.2</td>\n",
       "    </tr>\n",
       "    <tr>\n",
       "        <td style=\"padding-left: 1em; padding-right: 1em; text-align: center; vertical-align: top\">3</td>\n",
       "        <td style=\"padding-left: 1em; padding-right: 1em; text-align: center; vertical-align: top\">http://v.qq.com/page/z/y/<br>d/z0330rj6tyd.html ...</td>\n",
       "        <td style=\"padding-left: 1em; padding-right: 1em; text-align: center; vertical-align: top\">159 2119 5408 882 2030 45<br>3722 ...</td>\n",
       "        <td style=\"padding-left: 1em; padding-right: 1em; text-align: center; vertical-align: top\">1381.0</td>\n",
       "    </tr>\n",
       "    <tr>\n",
       "        <td style=\"padding-left: 1em; padding-right: 1em; text-align: center; vertical-align: top\">5</td>\n",
       "        <td style=\"padding-left: 1em; padding-right: 1em; text-align: center; vertical-align: top\">http://v.qq.com/page/v/x/<br>1/v0347lsyxx1.html ...</td>\n",
       "        <td style=\"padding-left: 1em; padding-right: 1em; text-align: center; vertical-align: top\">932 1083 767 2902 1934 40<br>2842 ...</td>\n",
       "        <td style=\"padding-left: 1em; padding-right: 1em; text-align: center; vertical-align: top\">648.8</td>\n",
       "    </tr>\n",
       "    <tr>\n",
       "        <td style=\"padding-left: 1em; padding-right: 1em; text-align: center; vertical-align: top\">2</td>\n",
       "        <td style=\"padding-left: 1em; padding-right: 1em; text-align: center; vertical-align: top\">http://v.qq.com/page/s/n/<br>p/s0329wz7ynp.html ...</td>\n",
       "        <td style=\"padding-left: 1em; padding-right: 1em; text-align: center; vertical-align: top\">3059 1554 3060 40 1934</td>\n",
       "        <td style=\"padding-left: 1em; padding-right: 1em; text-align: center; vertical-align: top\">15000.0</td>\n",
       "    </tr>\n",
       "    <tr>\n",
       "        <td style=\"padding-left: 1em; padding-right: 1em; text-align: center; vertical-align: top\">1</td>\n",
       "        <td style=\"padding-left: 1em; padding-right: 1em; text-align: center; vertical-align: top\">http://v.qq.com/page/m/x/<br>h/m0357s4ojxh.html ...</td>\n",
       "        <td style=\"padding-left: 1em; padding-right: 1em; text-align: center; vertical-align: top\">884 901 1324 274 1412<br>1350 637 ...</td>\n",
       "        <td style=\"padding-left: 1em; padding-right: 1em; text-align: center; vertical-align: top\">84000.0</td>\n",
       "    </tr>\n",
       "    <tr>\n",
       "        <td style=\"padding-left: 1em; padding-right: 1em; text-align: center; vertical-align: top\">3</td>\n",
       "        <td style=\"padding-left: 1em; padding-right: 1em; text-align: center; vertical-align: top\">http://v.qq.com/page/d/6/<br>o/d0330ggk36o.html ...</td>\n",
       "        <td style=\"padding-left: 1em; padding-right: 1em; text-align: center; vertical-align: top\">45 5409 602 159 40 2770<br>58 ...</td>\n",
       "        <td style=\"padding-left: 1em; padding-right: 1em; text-align: center; vertical-align: top\">412.666666667</td>\n",
       "    </tr>\n",
       "</table>\n",
       "[1077 rows x 11 columns]<br/>Note: Only the head of the SFrame is printed.<br/>You can use print_rows(num_rows=m, num_columns=n) to print more rows and columns.\n",
       "</div>"
      ],
      "text/plain": [
       "Columns:\n",
       "\tid\tint\n",
       "\tTitle\tstr\n",
       "\tWords_of_the_Title\tint\n",
       "\tEnglish_or_not\tint\n",
       "\tperson\tint\n",
       "\tthe_Length_of_one_Episode\tint\n",
       "\tthe_Playback_Amount_of_one_Episode\tint\n",
       "\tRelease_Week\tint\n",
       "\tPageUrl\tstr\n",
       "\tRelative\tstr\n",
       "\tplaybackperweek\tfloat\n",
       "\n",
       "Rows: 1077\n",
       "\n",
       "Data:\n",
       "+------+-------------------------------+--------------------+----------------+--------+\n",
       "|  id  |             Title             | Words_of_the_Title | English_or_not | person |\n",
       "+------+-------------------------------+--------------------+----------------+--------+\n",
       "| 227  | �����Ա����ϲ��ã�����ҩ������... |         18         |       0        |   2    |\n",
       "| 171  |  ������̸���Ժ��ӽ������ʽ�����... |         18         |       0        |   0    |\n",
       "| 172  |  ������̸����ͯ�������������⣨...  |         18         |       0        |   0    |\n",
       "| 173  |  ������̸����ͯ�������������⣨...  |         18         |       0        |   0    |\n",
       "| 268  |    �ú��Ӱ����Ķ���С��ϷPART01    |         17         |       1        |   0    |\n",
       "| 274  |       ����Ƣ��Խ��Խѹ�֣��㶮��      |         14         |       0        |   2    |\n",
       "| 962  |    �������ֹ��Ρ��������������   |         14         |       0        |   0    |\n",
       "| 1057 |          86 û�й������         |         9          |       0        |   0    |\n",
       "| 909  |     ��Щ�汾���Խ����������Σ�    |         13         |       0        |   0    |\n",
       "| 275  |       ����������ӵĸ�����       |         11         |       0        |   2    |\n",
       "+------+-------------------------------+--------------------+----------------+--------+\n",
       "+---------------------------+-------------------------------+--------------+\n",
       "| the_Length_of_one_Episode | the_Playback_Amount_of_one... | Release_Week |\n",
       "+---------------------------+-------------------------------+--------------+\n",
       "|            1079           |             10000             |      1       |\n",
       "|            906            |              3967             |      3       |\n",
       "|            906            |             25000             |      2       |\n",
       "|            906            |             17000             |      2       |\n",
       "|            816            |              641              |      5       |\n",
       "|            795            |              4143             |      3       |\n",
       "|            794            |              3244             |      5       |\n",
       "|            771            |             30000             |      2       |\n",
       "|            766            |             84000             |      1       |\n",
       "|            759            |              1238             |      3       |\n",
       "+---------------------------+-------------------------------+--------------+\n",
       "+-------------------------------+--------------------------------+-----------------+\n",
       "|            PageUrl            |            Relative            | playbackperweek |\n",
       "+-------------------------------+--------------------------------+-----------------+\n",
       "| http://v.qq.com/page/w/9/i... | 5381 1337 144 1352 45 5382...  |     10000.0     |\n",
       "| http://v.qq.com/page/x/3/0... | 1259 1255 5119 1021 159 50...  |  1322.33333333  |\n",
       "| http://v.qq.com/page/b/f/f... | 1259 1255 5119 5120 1645 1...  |     12500.0     |\n",
       "| http://v.qq.com/page/n/b/i... | 1259 1255 5119 5120 1645 1...  |      8500.0     |\n",
       "| http://v.qq.com/page/x/h/v... | 274 159 276 1344 40 2487 5404  |      128.2      |\n",
       "| http://v.qq.com/page/z/y/d... | 159 2119 5408 882 2030 45 3722 |      1381.0     |\n",
       "| http://v.qq.com/page/v/x/1... | 932 1083 767 2902 1934 40 2842 |      648.8      |\n",
       "| http://v.qq.com/page/s/n/p... |     3059 1554 3060 40 1934     |     15000.0     |\n",
       "| http://v.qq.com/page/m/x/h... | 884 901 1324 274 1412 1350 637 |     84000.0     |\n",
       "| http://v.qq.com/page/d/6/o... |   45 5409 602 159 40 2770 58   |  412.666666667  |\n",
       "+-------------------------------+--------------------------------+-----------------+\n",
       "[1077 rows x 11 columns]\n",
       "Note: Only the head of the SFrame is printed.\n",
       "You can use print_rows(num_rows=m, num_columns=n) to print more rows and columns."
      ]
     },
     "execution_count": 6,
     "metadata": {},
     "output_type": "execute_result"
    }
   ],
   "source": [
    "data"
   ]
  },
  {
   "cell_type": "code",
   "execution_count": 131,
   "metadata": {
    "collapsed": false
   },
   "outputs": [],
   "source": [
    "my_features = ['Words_of_the_Title', 'the_Length_of_one_Episode','English_or_not']"
   ]
  },
  {
   "cell_type": "code",
   "execution_count": 132,
   "metadata": {
    "collapsed": false
   },
   "outputs": [
    {
     "data": {
      "application/javascript": [
       "$(\"head\").append($(\"<link/>\").attr({\n",
       "  rel:  \"stylesheet\",\n",
       "  type: \"text/css\",\n",
       "  href: \"//cdnjs.cloudflare.com/ajax/libs/font-awesome/4.1.0/css/font-awesome.min.css\"\n",
       "}));\n",
       "$(\"head\").append($(\"<link/>\").attr({\n",
       "  rel:  \"stylesheet\",\n",
       "  type: \"text/css\",\n",
       "  href: \"https://static.turi.com/products/graphlab-create/2.1/canvas/css/canvas.css\"\n",
       "}));\n",
       "\n",
       "            (function(){\n",
       "\n",
       "                var e = null;\n",
       "                if (typeof element == 'undefined') {\n",
       "                    var scripts = document.getElementsByTagName('script');\n",
       "                    var thisScriptTag = scripts[scripts.length-1];\n",
       "                    var parentDiv = thisScriptTag.parentNode;\n",
       "                    e = document.createElement('div');\n",
       "                    parentDiv.appendChild(e);\n",
       "                } else {\n",
       "                    e = element[0];\n",
       "                }\n",
       "\n",
       "                if (typeof requirejs !== 'undefined') {\n",
       "                    // disable load timeout; ipython_app.js is large and can take a while to load.\n",
       "                    requirejs.config({waitSeconds: 0});\n",
       "                }\n",
       "\n",
       "                require(['https://static.turi.com/products/graphlab-create/2.1/canvas/js/ipython_app.js'], function(IPythonApp){\n",
       "                    var app = new IPythonApp();\n",
       "                    app.attachView('sframe','Summary', {\"ipython\": true, \"sketch\": {\"Words_of_the_Title\": {\"std\": 5.503131725676762, \"complete\": true, \"min\": 6.0, \"max\": 48.0, \"quantile\": [6.0, 6.0, 6.0, 7.0, 7.0, 7.0, 8.0, 8.0, 8.0, 8.0, 8.0, 9.0, 9.0, 9.0, 9.0, 9.0, 10.0, 10.0, 10.0, 10.0, 10.0, 10.0, 11.0, 11.0, 11.0, 11.0, 11.0, 11.0, 12.0, 12.0, 12.0, 12.0, 12.0, 12.0, 13.0, 13.0, 13.0, 13.0, 13.0, 13.0, 13.0, 13.0, 14.0, 14.0, 14.0, 14.0, 14.0, 14.0, 14.0, 15.0, 15.0, 15.0, 15.0, 15.0, 15.0, 15.0, 15.0, 15.0, 15.0, 15.0, 16.0, 16.0, 16.0, 16.0, 16.0, 16.0, 17.0, 17.0, 17.0, 17.0, 17.0, 17.0, 18.0, 18.0, 18.0, 18.0, 18.0, 19.0, 19.0, 19.0, 19.0, 19.0, 19.0, 20.0, 20.0, 20.0, 20.0, 21.0, 21.0, 21.0, 22.0, 22.0, 23.0, 24.0, 25.0, 26.0, 27.0, 28.0, 29.0, 30.0, 48.0], \"median\": 15.0, \"numeric\": true, \"num_unique\": 31, \"num_undefined\": 0, \"var\": 30.284458790150094, \"progress\": 1.0, \"size\": 1077, \"frequent_items\": {\"6\": {\"frequency\": 26, \"value\": 6}, \"7\": {\"frequency\": 37, \"value\": 7}, \"8\": {\"frequency\": 55, \"value\": 8}, \"9\": {\"frequency\": 53, \"value\": 9}, \"10\": {\"frequency\": 62, \"value\": 10}, \"11\": {\"frequency\": 62, \"value\": 11}, \"12\": {\"frequency\": 68, \"value\": 12}, \"13\": {\"frequency\": 86, \"value\": 13}, \"14\": {\"frequency\": 78, \"value\": 14}, \"15\": {\"frequency\": 110, \"value\": 15}, \"16\": {\"frequency\": 67, \"value\": 16}, \"17\": {\"frequency\": 67, \"value\": 17}, \"18\": {\"frequency\": 56, \"value\": 18}, \"19\": {\"frequency\": 62, \"value\": 19}, \"20\": {\"frequency\": 43, \"value\": 20}, \"21\": {\"frequency\": 36, \"value\": 21}, \"22\": {\"frequency\": 18, \"value\": 22}, \"23\": {\"frequency\": 15, \"value\": 23}, \"24\": {\"frequency\": 5, \"value\": 24}, \"25\": {\"frequency\": 8, \"value\": 25}, \"26\": {\"frequency\": 13, \"value\": 26}, \"27\": {\"frequency\": 7, \"value\": 27}, \"28\": {\"frequency\": 20, \"value\": 28}, \"29\": {\"frequency\": 8, \"value\": 29}, \"30\": {\"frequency\": 7, \"value\": 30}, \"31\": {\"frequency\": 1, \"value\": 31}, \"32\": {\"frequency\": 3, \"value\": 32}, \"33\": {\"frequency\": 1, \"value\": 33}, \"35\": {\"frequency\": 1, \"value\": 35}, \"41\": {\"frequency\": 1, \"value\": 41}, \"48\": {\"frequency\": 1, \"value\": 48}}, \"mean\": 15.038997214484684}, \"the_Length_of_one_Episode\": {\"std\": 151.6091771381955, \"complete\": true, \"min\": 7.0, \"max\": 1079.0, \"quantile\": [7.0, 22.0, 32.0, 38.0, 42.0, 45.0, 48.0, 52.0, 55.0, 60.0, 62.0, 65.0, 70.0, 72.0, 80.0, 86.0, 89.0, 94.0, 98.0, 103.0, 106.0, 109.0, 114.0, 116.0, 121.0, 123.0, 126.0, 128.0, 131.0, 134.0, 138.0, 140.0, 143.0, 146.0, 150.0, 153.0, 156.0, 159.0, 162.0, 165.0, 169.0, 174.0, 179.0, 181.0, 184.0, 187.0, 192.0, 194.0, 196.0, 201.0, 206.0, 212.0, 215.0, 221.0, 223.0, 226.0, 229.0, 232.0, 234.0, 237.0, 241.0, 247.0, 253.0, 256.0, 264.0, 267.0, 271.0, 276.0, 281.0, 286.0, 288.0, 292.0, 296.0, 298.0, 300.0, 302.0, 305.0, 311.0, 315.0, 320.0, 324.0, 334.0, 338.0, 342.0, 345.0, 353.0, 362.0, 369.0, 376.0, 387.0, 396.0, 414.0, 442.0, 480.0, 505.0, 560.0, 588.0, 606.0, 639.0, 758.0, 1079.0], \"median\": 206.0, \"numeric\": true, \"num_unique\": 425, \"num_undefined\": 0, \"var\": 22985.342592520738, \"progress\": 1.0, \"size\": 1077, \"frequent_items\": {\"7\": {\"frequency\": 1, \"value\": 7}, \"10\": {\"frequency\": 1, \"value\": 10}, \"11\": {\"frequency\": 1, \"value\": 11}, \"15\": {\"frequency\": 3, \"value\": 15}, \"18\": {\"frequency\": 1, \"value\": 18}, \"19\": {\"frequency\": 1, \"value\": 19}, \"20\": {\"frequency\": 1, \"value\": 20}, \"21\": {\"frequency\": 1, \"value\": 21}, \"22\": {\"frequency\": 1, \"value\": 22}, \"26\": {\"frequency\": 1, \"value\": 26}, \"27\": {\"frequency\": 2, \"value\": 27}, \"30\": {\"frequency\": 7, \"value\": 30}, \"32\": {\"frequency\": 2, \"value\": 32}, \"33\": {\"frequency\": 1, \"value\": 33}, \"34\": {\"frequency\": 1, \"value\": 34}, \"35\": {\"frequency\": 2, \"value\": 35}, \"36\": {\"frequency\": 1, \"value\": 36}, \"37\": {\"frequency\": 2, \"value\": 37}, \"38\": {\"frequency\": 3, \"value\": 38}, \"39\": {\"frequency\": 1, \"value\": 39}, \"40\": {\"frequency\": 3, \"value\": 40}, \"41\": {\"frequency\": 2, \"value\": 41}, \"42\": {\"frequency\": 6, \"value\": 42}, \"43\": {\"frequency\": 5, \"value\": 43}, \"44\": {\"frequency\": 3, \"value\": 44}, \"45\": {\"frequency\": 1, \"value\": 45}, \"46\": {\"frequency\": 5, \"value\": 46}, \"47\": {\"frequency\": 5, \"value\": 47}, \"48\": {\"frequency\": 1, \"value\": 48}, \"49\": {\"frequency\": 3, \"value\": 49}, \"50\": {\"frequency\": 2, \"value\": 50}, \"51\": {\"frequency\": 3, \"value\": 51}, \"52\": {\"frequency\": 4, \"value\": 52}, \"53\": {\"frequency\": 6, \"value\": 53}, \"54\": {\"frequency\": 1, \"value\": 54}, \"55\": {\"frequency\": 4, \"value\": 55}, \"57\": {\"frequency\": 5, \"value\": 57}, \"59\": {\"frequency\": 2, \"value\": 59}, \"60\": {\"frequency\": 7, \"value\": 60}, \"61\": {\"frequency\": 4, \"value\": 61}, \"62\": {\"frequency\": 3, \"value\": 62}, \"64\": {\"frequency\": 4, \"value\": 64}, \"65\": {\"frequency\": 6, \"value\": 65}, \"66\": {\"frequency\": 1, \"value\": 66}, \"67\": {\"frequency\": 3, \"value\": 67}, \"68\": {\"frequency\": 1, \"value\": 68}, \"69\": {\"frequency\": 3, \"value\": 69}, \"70\": {\"frequency\": 7, \"value\": 70}, \"71\": {\"frequency\": 3, \"value\": 71}, \"72\": {\"frequency\": 4, \"value\": 72}, \"74\": {\"frequency\": 1, \"value\": 74}, \"75\": {\"frequency\": 1, \"value\": 75}, \"77\": {\"frequency\": 1, \"value\": 77}, \"78\": {\"frequency\": 1, \"value\": 78}, \"79\": {\"frequency\": 3, \"value\": 79}, \"80\": {\"frequency\": 6, \"value\": 80}, \"82\": {\"frequency\": 2, \"value\": 82}, \"83\": {\"frequency\": 1, \"value\": 83}, \"84\": {\"frequency\": 1, \"value\": 84}, \"85\": {\"frequency\": 3, \"value\": 85}, \"86\": {\"frequency\": 3, \"value\": 86}, \"87\": {\"frequency\": 3, \"value\": 87}, \"88\": {\"frequency\": 1, \"value\": 88}, \"89\": {\"frequency\": 5, \"value\": 89}, \"90\": {\"frequency\": 2, \"value\": 90}, \"91\": {\"frequency\": 1, \"value\": 91}, \"92\": {\"frequency\": 5, \"value\": 92}, \"94\": {\"frequency\": 4, \"value\": 94}, \"95\": {\"frequency\": 2, \"value\": 95}, \"96\": {\"frequency\": 1, \"value\": 96}, \"97\": {\"frequency\": 2, \"value\": 97}, \"98\": {\"frequency\": 5, \"value\": 98}, \"99\": {\"frequency\": 3, \"value\": 99}, \"100\": {\"frequency\": 3, \"value\": 100}, \"101\": {\"frequency\": 2, \"value\": 101}, \"103\": {\"frequency\": 3, \"value\": 103}, \"104\": {\"frequency\": 2, \"value\": 104}, \"105\": {\"frequency\": 6, \"value\": 105}, \"106\": {\"frequency\": 3, \"value\": 106}, \"107\": {\"frequency\": 5, \"value\": 107}, \"108\": {\"frequency\": 4, \"value\": 108}, \"109\": {\"frequency\": 2, \"value\": 109}, \"110\": {\"frequency\": 3, \"value\": 110}, \"111\": {\"frequency\": 1, \"value\": 111}, \"113\": {\"frequency\": 2, \"value\": 113}, \"114\": {\"frequency\": 6, \"value\": 114}, \"115\": {\"frequency\": 3, \"value\": 115}, \"116\": {\"frequency\": 6, \"value\": 116}, \"117\": {\"frequency\": 1, \"value\": 117}, \"118\": {\"frequency\": 2, \"value\": 118}, \"119\": {\"frequency\": 1, \"value\": 119}, \"120\": {\"frequency\": 4, \"value\": 120}, \"121\": {\"frequency\": 4, \"value\": 121}, \"122\": {\"frequency\": 8, \"value\": 122}, \"123\": {\"frequency\": 5, \"value\": 123}, \"124\": {\"frequency\": 2, \"value\": 124}, \"125\": {\"frequency\": 2, \"value\": 125}, \"126\": {\"frequency\": 3, \"value\": 126}, \"127\": {\"frequency\": 3, \"value\": 127}, \"128\": {\"frequency\": 8, \"value\": 128}, \"129\": {\"frequency\": 1, \"value\": 129}, \"130\": {\"frequency\": 4, \"value\": 130}, \"131\": {\"frequency\": 10, \"value\": 131}, \"132\": {\"frequency\": 1, \"value\": 132}, \"133\": {\"frequency\": 3, \"value\": 133}, \"134\": {\"frequency\": 5, \"value\": 134}, \"135\": {\"frequency\": 2, \"value\": 135}, \"136\": {\"frequency\": 2, \"value\": 136}, \"137\": {\"frequency\": 3, \"value\": 137}, \"138\": {\"frequency\": 4, \"value\": 138}, \"139\": {\"frequency\": 5, \"value\": 139}, \"140\": {\"frequency\": 4, \"value\": 140}, \"141\": {\"frequency\": 4, \"value\": 141}, \"142\": {\"frequency\": 3, \"value\": 142}, \"143\": {\"frequency\": 3, \"value\": 143}, \"145\": {\"frequency\": 3, \"value\": 145}, \"146\": {\"frequency\": 7, \"value\": 146}, \"147\": {\"frequency\": 3, \"value\": 147}, \"148\": {\"frequency\": 5, \"value\": 148}, \"149\": {\"frequency\": 1, \"value\": 149}, \"150\": {\"frequency\": 4, \"value\": 150}, \"151\": {\"frequency\": 5, \"value\": 151}, \"152\": {\"frequency\": 2, \"value\": 152}, \"153\": {\"frequency\": 4, \"value\": 153}, \"154\": {\"frequency\": 4, \"value\": 154}, \"155\": {\"frequency\": 2, \"value\": 155}, \"156\": {\"frequency\": 2, \"value\": 156}, \"157\": {\"frequency\": 4, \"value\": 157}, \"158\": {\"frequency\": 1, \"value\": 158}, \"159\": {\"frequency\": 6, \"value\": 159}, \"160\": {\"frequency\": 3, \"value\": 160}, \"161\": {\"frequency\": 4, \"value\": 161}, \"162\": {\"frequency\": 4, \"value\": 162}, \"163\": {\"frequency\": 6, \"value\": 163}, \"164\": {\"frequency\": 4, \"value\": 164}, \"165\": {\"frequency\": 1, \"value\": 165}, \"166\": {\"frequency\": 1, \"value\": 166}, \"167\": {\"frequency\": 2, \"value\": 167}, \"168\": {\"frequency\": 5, \"value\": 168}, \"169\": {\"frequency\": 2, \"value\": 169}, \"170\": {\"frequency\": 3, \"value\": 170}, \"171\": {\"frequency\": 3, \"value\": 171}, \"172\": {\"frequency\": 2, \"value\": 172}, \"173\": {\"frequency\": 2, \"value\": 173}, \"174\": {\"frequency\": 3, \"value\": 174}, \"175\": {\"frequency\": 3, \"value\": 175}, \"176\": {\"frequency\": 1, \"value\": 176}, \"177\": {\"frequency\": 2, \"value\": 177}, \"178\": {\"frequency\": 2, \"value\": 178}, \"179\": {\"frequency\": 4, \"value\": 179}, \"180\": {\"frequency\": 6, \"value\": 180}, \"181\": {\"frequency\": 4, \"value\": 181}, \"182\": {\"frequency\": 3, \"value\": 182}, \"183\": {\"frequency\": 4, \"value\": 183}, \"184\": {\"frequency\": 2, \"value\": 184}, \"185\": {\"frequency\": 4, \"value\": 185}, \"186\": {\"frequency\": 3, \"value\": 186}, \"187\": {\"frequency\": 4, \"value\": 187}, \"188\": {\"frequency\": 2, \"value\": 188}, \"189\": {\"frequency\": 3, \"value\": 189}, \"190\": {\"frequency\": 1, \"value\": 190}, \"191\": {\"frequency\": 3, \"value\": 191}, \"192\": {\"frequency\": 3, \"value\": 192}, \"193\": {\"frequency\": 4, \"value\": 193}, \"194\": {\"frequency\": 5, \"value\": 194}, \"195\": {\"frequency\": 4, \"value\": 195}, \"196\": {\"frequency\": 7, \"value\": 196}, \"197\": {\"frequency\": 4, \"value\": 197}, \"198\": {\"frequency\": 3, \"value\": 198}, \"199\": {\"frequency\": 1, \"value\": 199}, \"200\": {\"frequency\": 1, \"value\": 200}, \"201\": {\"frequency\": 1, \"value\": 201}, \"202\": {\"frequency\": 4, \"value\": 202}, \"203\": {\"frequency\": 2, \"value\": 203}, \"204\": {\"frequency\": 2, \"value\": 204}, \"205\": {\"frequency\": 2, \"value\": 205}, \"206\": {\"frequency\": 4, \"value\": 206}, \"207\": {\"frequency\": 1, \"value\": 207}, \"208\": {\"frequency\": 1, \"value\": 208}, \"209\": {\"frequency\": 1, \"value\": 209}, \"210\": {\"frequency\": 1, \"value\": 210}, \"211\": {\"frequency\": 2, \"value\": 211}, \"212\": {\"frequency\": 3, \"value\": 212}, \"213\": {\"frequency\": 4, \"value\": 213}, \"214\": {\"frequency\": 3, \"value\": 214}, \"215\": {\"frequency\": 3, \"value\": 215}, \"216\": {\"frequency\": 1, \"value\": 216}, \"217\": {\"frequency\": 3, \"value\": 217}, \"218\": {\"frequency\": 2, \"value\": 218}, \"219\": {\"frequency\": 1, \"value\": 219}, \"220\": {\"frequency\": 2, \"value\": 220}, \"221\": {\"frequency\": 3, \"value\": 221}, \"222\": {\"frequency\": 4, \"value\": 222}, \"223\": {\"frequency\": 7, \"value\": 223}, \"224\": {\"frequency\": 4, \"value\": 224}, \"226\": {\"frequency\": 5, \"value\": 226}, \"227\": {\"frequency\": 4, \"value\": 227}, \"228\": {\"frequency\": 5, \"value\": 228}, \"229\": {\"frequency\": 3, \"value\": 229}, \"230\": {\"frequency\": 5, \"value\": 230}, \"231\": {\"frequency\": 3, \"value\": 231}, \"232\": {\"frequency\": 2, \"value\": 232}, \"233\": {\"frequency\": 5, \"value\": 233}, \"234\": {\"frequency\": 5, \"value\": 234}, \"235\": {\"frequency\": 3, \"value\": 235}, \"236\": {\"frequency\": 3, \"value\": 236}, \"237\": {\"frequency\": 7, \"value\": 237}, \"238\": {\"frequency\": 1, \"value\": 238}, \"239\": {\"frequency\": 3, \"value\": 239}, \"240\": {\"frequency\": 1, \"value\": 240}, \"241\": {\"frequency\": 5, \"value\": 241}, \"242\": {\"frequency\": 1, \"value\": 242}, \"243\": {\"frequency\": 1, \"value\": 243}, \"244\": {\"frequency\": 2, \"value\": 244}, \"246\": {\"frequency\": 1, \"value\": 246}, \"247\": {\"frequency\": 5, \"value\": 247}, \"248\": {\"frequency\": 1, \"value\": 248}, \"249\": {\"frequency\": 2, \"value\": 249}, \"250\": {\"frequency\": 4, \"value\": 250}, \"252\": {\"frequency\": 2, \"value\": 252}, \"253\": {\"frequency\": 5, \"value\": 253}, \"254\": {\"frequency\": 2, \"value\": 254}, \"255\": {\"frequency\": 4, \"value\": 255}, \"256\": {\"frequency\": 1, \"value\": 256}, \"257\": {\"frequency\": 2, \"value\": 257}, \"260\": {\"frequency\": 3, \"value\": 260}, \"261\": {\"frequency\": 1, \"value\": 261}, \"262\": {\"frequency\": 3, \"value\": 262}, \"263\": {\"frequency\": 1, \"value\": 263}, \"264\": {\"frequency\": 3, \"value\": 264}, \"265\": {\"frequency\": 2, \"value\": 265}, \"266\": {\"frequency\": 4, \"value\": 266}, \"267\": {\"frequency\": 3, \"value\": 267}, \"268\": {\"frequency\": 5, \"value\": 268}, \"269\": {\"frequency\": 1, \"value\": 269}, \"270\": {\"frequency\": 3, \"value\": 270}, \"271\": {\"frequency\": 2, \"value\": 271}, \"272\": {\"frequency\": 2, \"value\": 272}, \"273\": {\"frequency\": 3, \"value\": 273}, \"274\": {\"frequency\": 1, \"value\": 274}, \"275\": {\"frequency\": 3, \"value\": 275}, \"276\": {\"frequency\": 4, \"value\": 276}, \"278\": {\"frequency\": 2, \"value\": 278}, \"279\": {\"frequency\": 4, \"value\": 279}, \"281\": {\"frequency\": 2, \"value\": 281}, \"282\": {\"frequency\": 2, \"value\": 282}, \"283\": {\"frequency\": 2, \"value\": 283}, \"284\": {\"frequency\": 2, \"value\": 284}, \"285\": {\"frequency\": 3, \"value\": 285}, \"286\": {\"frequency\": 6, \"value\": 286}, \"287\": {\"frequency\": 4, \"value\": 287}, \"288\": {\"frequency\": 3, \"value\": 288}, \"289\": {\"frequency\": 2, \"value\": 289}, \"290\": {\"frequency\": 1, \"value\": 290}, \"291\": {\"frequency\": 2, \"value\": 291}, \"292\": {\"frequency\": 5, \"value\": 292}, \"293\": {\"frequency\": 1, \"value\": 293}, \"294\": {\"frequency\": 1, \"value\": 294}, \"295\": {\"frequency\": 2, \"value\": 295}, \"296\": {\"frequency\": 8, \"value\": 296}, \"297\": {\"frequency\": 3, \"value\": 297}, \"298\": {\"frequency\": 7, \"value\": 298}, \"299\": {\"frequency\": 6, \"value\": 299}, \"300\": {\"frequency\": 7, \"value\": 300}, \"301\": {\"frequency\": 4, \"value\": 301}, \"302\": {\"frequency\": 6, \"value\": 302}, \"303\": {\"frequency\": 2, \"value\": 303}, \"304\": {\"frequency\": 3, \"value\": 304}, \"305\": {\"frequency\": 4, \"value\": 305}, \"307\": {\"frequency\": 5, \"value\": 307}, \"308\": {\"frequency\": 4, \"value\": 308}, \"310\": {\"frequency\": 1, \"value\": 310}, \"311\": {\"frequency\": 3, \"value\": 311}, \"312\": {\"frequency\": 3, \"value\": 312}, \"313\": {\"frequency\": 2, \"value\": 313}, \"314\": {\"frequency\": 1, \"value\": 314}, \"315\": {\"frequency\": 3, \"value\": 315}, \"316\": {\"frequency\": 2, \"value\": 316}, \"317\": {\"frequency\": 2, \"value\": 317}, \"318\": {\"frequency\": 2, \"value\": 318}, \"319\": {\"frequency\": 3, \"value\": 319}, \"320\": {\"frequency\": 4, \"value\": 320}, \"321\": {\"frequency\": 2, \"value\": 321}, \"322\": {\"frequency\": 3, \"value\": 322}, \"323\": {\"frequency\": 2, \"value\": 323}, \"324\": {\"frequency\": 1, \"value\": 324}, \"325\": {\"frequency\": 1, \"value\": 325}, \"326\": {\"frequency\": 1, \"value\": 326}, \"330\": {\"frequency\": 1, \"value\": 330}, \"331\": {\"frequency\": 3, \"value\": 331}, \"333\": {\"frequency\": 3, \"value\": 333}, \"334\": {\"frequency\": 4, \"value\": 334}, \"335\": {\"frequency\": 1, \"value\": 335}, \"336\": {\"frequency\": 5, \"value\": 336}, \"337\": {\"frequency\": 1, \"value\": 337}, \"338\": {\"frequency\": 2, \"value\": 338}, \"339\": {\"frequency\": 5, \"value\": 339}, \"340\": {\"frequency\": 3, \"value\": 340}, \"341\": {\"frequency\": 1, \"value\": 341}, \"342\": {\"frequency\": 3, \"value\": 342}, \"344\": {\"frequency\": 5, \"value\": 344}, \"345\": {\"frequency\": 4, \"value\": 345}, \"346\": {\"frequency\": 2, \"value\": 346}, \"348\": {\"frequency\": 2, \"value\": 348}, \"350\": {\"frequency\": 2, \"value\": 350}, \"351\": {\"frequency\": 2, \"value\": 351}, \"352\": {\"frequency\": 2, \"value\": 352}, \"353\": {\"frequency\": 1, \"value\": 353}, \"354\": {\"frequency\": 2, \"value\": 354}, \"355\": {\"frequency\": 2, \"value\": 355}, \"360\": {\"frequency\": 1, \"value\": 360}, \"361\": {\"frequency\": 4, \"value\": 361}, \"362\": {\"frequency\": 3, \"value\": 362}, \"363\": {\"frequency\": 2, \"value\": 363}, \"364\": {\"frequency\": 1, \"value\": 364}, \"365\": {\"frequency\": 1, \"value\": 365}, \"367\": {\"frequency\": 1, \"value\": 367}, \"368\": {\"frequency\": 2, \"value\": 368}, \"369\": {\"frequency\": 3, \"value\": 369}, \"370\": {\"frequency\": 2, \"value\": 370}, \"371\": {\"frequency\": 2, \"value\": 371}, \"373\": {\"frequency\": 1, \"value\": 373}, \"374\": {\"frequency\": 2, \"value\": 374}, \"375\": {\"frequency\": 1, \"value\": 375}, \"376\": {\"frequency\": 4, \"value\": 376}, \"377\": {\"frequency\": 3, \"value\": 377}, \"379\": {\"frequency\": 3, \"value\": 379}, \"385\": {\"frequency\": 1, \"value\": 385}, \"387\": {\"frequency\": 3, \"value\": 387}, \"388\": {\"frequency\": 2, \"value\": 388}, \"389\": {\"frequency\": 2, \"value\": 389}, \"390\": {\"frequency\": 3, \"value\": 390}, \"392\": {\"frequency\": 1, \"value\": 392}, \"396\": {\"frequency\": 2, \"value\": 396}, \"398\": {\"frequency\": 1, \"value\": 398}, \"399\": {\"frequency\": 1, \"value\": 399}, \"400\": {\"frequency\": 1, \"value\": 400}, \"401\": {\"frequency\": 1, \"value\": 401}, \"402\": {\"frequency\": 1, \"value\": 402}, \"404\": {\"frequency\": 1, \"value\": 404}, \"405\": {\"frequency\": 1, \"value\": 405}, \"409\": {\"frequency\": 2, \"value\": 409}, \"413\": {\"frequency\": 1, \"value\": 413}, \"414\": {\"frequency\": 1, \"value\": 414}, \"415\": {\"frequency\": 1, \"value\": 415}, \"428\": {\"frequency\": 1, \"value\": 428}, \"437\": {\"frequency\": 2, \"value\": 437}, \"438\": {\"frequency\": 2, \"value\": 438}, \"439\": {\"frequency\": 1, \"value\": 439}, \"441\": {\"frequency\": 2, \"value\": 441}, \"442\": {\"frequency\": 2, \"value\": 442}, \"445\": {\"frequency\": 1, \"value\": 445}, \"450\": {\"frequency\": 1, \"value\": 450}, \"454\": {\"frequency\": 1, \"value\": 454}, \"455\": {\"frequency\": 1, \"value\": 455}, \"458\": {\"frequency\": 1, \"value\": 458}, \"459\": {\"frequency\": 1, \"value\": 459}, \"460\": {\"frequency\": 1, \"value\": 460}, \"473\": {\"frequency\": 1, \"value\": 473}, \"478\": {\"frequency\": 1, \"value\": 478}, \"480\": {\"frequency\": 1, \"value\": 480}, \"481\": {\"frequency\": 1, \"value\": 481}, \"486\": {\"frequency\": 1, \"value\": 486}, \"487\": {\"frequency\": 1, \"value\": 487}, \"490\": {\"frequency\": 1, \"value\": 490}, \"493\": {\"frequency\": 2, \"value\": 493}, \"495\": {\"frequency\": 1, \"value\": 495}, \"498\": {\"frequency\": 1, \"value\": 498}, \"502\": {\"frequency\": 1, \"value\": 502}, \"503\": {\"frequency\": 1, \"value\": 503}, \"505\": {\"frequency\": 1, \"value\": 505}, \"506\": {\"frequency\": 1, \"value\": 506}, \"512\": {\"frequency\": 1, \"value\": 512}, \"516\": {\"frequency\": 1, \"value\": 516}, \"523\": {\"frequency\": 1, \"value\": 523}, \"525\": {\"frequency\": 1, \"value\": 525}, \"533\": {\"frequency\": 1, \"value\": 533}, \"538\": {\"frequency\": 1, \"value\": 538}, \"539\": {\"frequency\": 1, \"value\": 539}, \"543\": {\"frequency\": 1, \"value\": 543}, \"553\": {\"frequency\": 1, \"value\": 553}, \"560\": {\"frequency\": 1, \"value\": 560}, \"569\": {\"frequency\": 1, \"value\": 569}, \"570\": {\"frequency\": 1, \"value\": 570}, \"572\": {\"frequency\": 1, \"value\": 572}, \"575\": {\"frequency\": 1, \"value\": 575}, \"578\": {\"frequency\": 1, \"value\": 578}, \"583\": {\"frequency\": 1, \"value\": 583}, \"584\": {\"frequency\": 2, \"value\": 584}, \"586\": {\"frequency\": 1, \"value\": 586}, \"588\": {\"frequency\": 1, \"value\": 588}, \"590\": {\"frequency\": 3, \"value\": 590}, \"594\": {\"frequency\": 2, \"value\": 594}, \"596\": {\"frequency\": 1, \"value\": 596}, \"601\": {\"frequency\": 1, \"value\": 601}, \"602\": {\"frequency\": 1, \"value\": 602}, \"604\": {\"frequency\": 1, \"value\": 604}, \"605\": {\"frequency\": 1, \"value\": 605}, \"606\": {\"frequency\": 1, \"value\": 606}, \"608\": {\"frequency\": 2, \"value\": 608}, \"615\": {\"frequency\": 1, \"value\": 615}, \"621\": {\"frequency\": 1, \"value\": 621}, \"622\": {\"frequency\": 2, \"value\": 622}, \"624\": {\"frequency\": 1, \"value\": 624}, \"625\": {\"frequency\": 1, \"value\": 625}, \"626\": {\"frequency\": 1, \"value\": 626}, \"637\": {\"frequency\": 1, \"value\": 637}, \"639\": {\"frequency\": 1, \"value\": 639}, \"642\": {\"frequency\": 1, \"value\": 642}, \"646\": {\"frequency\": 1, \"value\": 646}, \"661\": {\"frequency\": 1, \"value\": 661}, \"683\": {\"frequency\": 1, \"value\": 683}, \"717\": {\"frequency\": 1, \"value\": 717}, \"718\": {\"frequency\": 1, \"value\": 718}, \"743\": {\"frequency\": 2, \"value\": 743}, \"751\": {\"frequency\": 2, \"value\": 751}, \"758\": {\"frequency\": 1, \"value\": 758}, \"759\": {\"frequency\": 1, \"value\": 759}, \"766\": {\"frequency\": 1, \"value\": 766}, \"771\": {\"frequency\": 1, \"value\": 771}, \"794\": {\"frequency\": 1, \"value\": 794}, \"795\": {\"frequency\": 1, \"value\": 795}, \"816\": {\"frequency\": 1, \"value\": 816}, \"906\": {\"frequency\": 3, \"value\": 906}, \"1079\": {\"frequency\": 1, \"value\": 1079}}, \"mean\": 230.91922005571038}, \"English_or_not\": {\"std\": 0.3191843502884538, \"complete\": true, \"min\": 0.0, \"max\": 1.0, \"quantile\": [0.0, 0.0, 0.0, 0.0, 0.0, 0.0, 0.0, 0.0, 0.0, 0.0, 0.0, 0.0, 0.0, 0.0, 0.0, 0.0, 0.0, 0.0, 0.0, 0.0, 0.0, 0.0, 0.0, 0.0, 0.0, 0.0, 0.0, 0.0, 0.0, 0.0, 0.0, 0.0, 0.0, 0.0, 0.0, 0.0, 0.0, 0.0, 0.0, 0.0, 0.0, 0.0, 0.0, 0.0, 0.0, 0.0, 0.0, 0.0, 0.0, 0.0, 0.0, 0.0, 0.0, 0.0, 0.0, 0.0, 0.0, 0.0, 0.0, 0.0, 0.0, 0.0, 0.0, 0.0, 0.0, 0.0, 0.0, 0.0, 0.0, 0.0, 0.0, 0.0, 0.0, 0.0, 0.0, 0.0, 0.0, 0.0, 0.0, 0.0, 0.0, 0.0, 0.0, 0.0, 0.0, 0.0, 0.0, 0.0, 0.0, 1.0, 1.0, 1.0, 1.0, 1.0, 1.0, 1.0, 1.0, 1.0, 1.0, 1.0, 1.0], \"median\": 0.0, \"numeric\": true, \"num_unique\": 2, \"num_undefined\": 0, \"var\": 0.1018786494690624, \"progress\": 1.0, \"size\": 1077, \"frequent_items\": {\"0\": {\"frequency\": 953, \"value\": 0}, \"1\": {\"frequency\": 124, \"value\": 1}}, \"mean\": 0.11513463324048281}}, \"selected_variable\": {\"name\": [\"<SFrame>\"], \"descriptives\": {\"rows\": 1077, \"columns\": 3}, \"view_component\": \"Summary\", \"view_file\": \"sframe\", \"view_params\": {\"y\": null, \"x\": null, \"columns\": [\"Words_of_the_Title\", \"the_Length_of_one_Episode\", \"English_or_not\"], \"view\": null}, \"view_components\": [\"Summary\", \"Table\", \"Bar Chart\", \"BoxWhisker Plot\", \"Line Chart\", \"Scatter Plot\", \"Heat Map\", \"Plots\"], \"type\": \"SFrame\", \"columns\": [{\"dtype\": \"int\", \"name\": \"Words_of_the_Title\"}, {\"dtype\": \"int\", \"name\": \"the_Length_of_one_Episode\"}, {\"dtype\": \"int\", \"name\": \"English_or_not\"}], \"column_identifiers\": [\"Words_of_the_Title\", \"the_Length_of_one_Episode\", \"English_or_not\"]}, \"columns\": [{\"dtype\": \"int\", \"name\": \"Words_of_the_Title\"}, {\"dtype\": \"int\", \"name\": \"the_Length_of_one_Episode\"}, {\"dtype\": \"int\", \"name\": \"English_or_not\"}]}, e);\n",
       "                });\n",
       "            })();\n",
       "        "
      ]
     },
     "metadata": {},
     "output_type": "display_data"
    }
   ],
   "source": [
    "data[my_features].show()"
   ]
  },
  {
   "cell_type": "code",
   "execution_count": 18,
   "metadata": {
    "collapsed": false
   },
   "outputs": [
    {
     "data": {
      "application/javascript": [
       "$(\"head\").append($(\"<link/>\").attr({\n",
       "  rel:  \"stylesheet\",\n",
       "  type: \"text/css\",\n",
       "  href: \"//cdnjs.cloudflare.com/ajax/libs/font-awesome/4.1.0/css/font-awesome.min.css\"\n",
       "}));\n",
       "$(\"head\").append($(\"<link/>\").attr({\n",
       "  rel:  \"stylesheet\",\n",
       "  type: \"text/css\",\n",
       "  href: \"https://static.turi.com/products/graphlab-create/2.1/canvas/css/canvas.css\"\n",
       "}));\n",
       "\n",
       "            (function(){\n",
       "\n",
       "                var e = null;\n",
       "                if (typeof element == 'undefined') {\n",
       "                    var scripts = document.getElementsByTagName('script');\n",
       "                    var thisScriptTag = scripts[scripts.length-1];\n",
       "                    var parentDiv = thisScriptTag.parentNode;\n",
       "                    e = document.createElement('div');\n",
       "                    parentDiv.appendChild(e);\n",
       "                } else {\n",
       "                    e = element[0];\n",
       "                }\n",
       "\n",
       "                if (typeof requirejs !== 'undefined') {\n",
       "                    // disable load timeout; ipython_app.js is large and can take a while to load.\n",
       "                    requirejs.config({waitSeconds: 0});\n",
       "                }\n",
       "\n",
       "                require(['https://static.turi.com/products/graphlab-create/2.1/canvas/js/ipython_app.js'], function(IPythonApp){\n",
       "                    var app = new IPythonApp();\n",
       "                    app.attachView('sarray','Numeric', {\"ipython\": true, \"sketch\": {\"std\": 5.503131725676762, \"complete\": true, \"min\": 6.0, \"max\": 48.0, \"quantile\": [6.0, 6.0, 6.0, 7.0, 7.0, 7.0, 8.0, 8.0, 8.0, 8.0, 8.0, 9.0, 9.0, 9.0, 9.0, 9.0, 10.0, 10.0, 10.0, 10.0, 10.0, 10.0, 11.0, 11.0, 11.0, 11.0, 11.0, 11.0, 12.0, 12.0, 12.0, 12.0, 12.0, 12.0, 13.0, 13.0, 13.0, 13.0, 13.0, 13.0, 13.0, 13.0, 14.0, 14.0, 14.0, 14.0, 14.0, 14.0, 14.0, 15.0, 15.0, 15.0, 15.0, 15.0, 15.0, 15.0, 15.0, 15.0, 15.0, 15.0, 16.0, 16.0, 16.0, 16.0, 16.0, 16.0, 17.0, 17.0, 17.0, 17.0, 17.0, 17.0, 18.0, 18.0, 18.0, 18.0, 18.0, 19.0, 19.0, 19.0, 19.0, 19.0, 19.0, 20.0, 20.0, 20.0, 20.0, 21.0, 21.0, 21.0, 22.0, 22.0, 23.0, 24.0, 25.0, 26.0, 27.0, 28.0, 29.0, 30.0, 48.0], \"median\": 15.0, \"numeric\": true, \"num_unique\": 31, \"num_undefined\": 0, \"var\": 30.284458790150094, \"progress\": 1.0, \"size\": 1077, \"frequent_items\": {\"6\": {\"frequency\": 26, \"value\": 6}, \"7\": {\"frequency\": 37, \"value\": 7}, \"8\": {\"frequency\": 55, \"value\": 8}, \"9\": {\"frequency\": 53, \"value\": 9}, \"10\": {\"frequency\": 62, \"value\": 10}, \"11\": {\"frequency\": 62, \"value\": 11}, \"12\": {\"frequency\": 68, \"value\": 12}, \"13\": {\"frequency\": 86, \"value\": 13}, \"14\": {\"frequency\": 78, \"value\": 14}, \"15\": {\"frequency\": 110, \"value\": 15}, \"16\": {\"frequency\": 67, \"value\": 16}, \"17\": {\"frequency\": 67, \"value\": 17}, \"18\": {\"frequency\": 56, \"value\": 18}, \"19\": {\"frequency\": 62, \"value\": 19}, \"20\": {\"frequency\": 43, \"value\": 20}, \"21\": {\"frequency\": 36, \"value\": 21}, \"22\": {\"frequency\": 18, \"value\": 22}, \"23\": {\"frequency\": 15, \"value\": 23}, \"24\": {\"frequency\": 5, \"value\": 24}, \"25\": {\"frequency\": 8, \"value\": 25}, \"26\": {\"frequency\": 13, \"value\": 26}, \"27\": {\"frequency\": 7, \"value\": 27}, \"28\": {\"frequency\": 20, \"value\": 28}, \"29\": {\"frequency\": 8, \"value\": 29}, \"30\": {\"frequency\": 7, \"value\": 30}, \"31\": {\"frequency\": 1, \"value\": 31}, \"32\": {\"frequency\": 3, \"value\": 32}, \"33\": {\"frequency\": 1, \"value\": 33}, \"35\": {\"frequency\": 1, \"value\": 35}, \"41\": {\"frequency\": 1, \"value\": 41}, \"48\": {\"frequency\": 1, \"value\": 48}}, \"mean\": 15.038997214484684}, \"selected_variable\": {\"name\": [\"<SArray>\"], \"dtype\": \"int\", \"view_component\": \"Numeric\", \"view_file\": \"sarray\", \"descriptives\": {\"rows\": 1077}, \"type\": \"SArray\", \"view_components\": [\"Numeric\", \"Categorical\"]}, \"histogram\": {\"progress\": 1.0, \"histogram\": {\"max\": 48.59495999999996, \"bins\": [171, 192, 341, 185, 112, 33, 35, 5, 1, 1, 0, 1], \"min\": 5.4640800000000205}, \"min\": 6, \"complete\": 1, \"max\": 48}}, e);\n",
       "                });\n",
       "            })();\n",
       "        "
      ]
     },
     "metadata": {},
     "output_type": "display_data"
    },
    {
     "data": {
      "application/javascript": [
       "$(\"head\").append($(\"<link/>\").attr({\n",
       "  rel:  \"stylesheet\",\n",
       "  type: \"text/css\",\n",
       "  href: \"//cdnjs.cloudflare.com/ajax/libs/font-awesome/4.1.0/css/font-awesome.min.css\"\n",
       "}));\n",
       "$(\"head\").append($(\"<link/>\").attr({\n",
       "  rel:  \"stylesheet\",\n",
       "  type: \"text/css\",\n",
       "  href: \"https://static.turi.com/products/graphlab-create/2.1/canvas/css/canvas.css\"\n",
       "}));\n",
       "\n",
       "            (function(){\n",
       "\n",
       "                var e = null;\n",
       "                if (typeof element == 'undefined') {\n",
       "                    var scripts = document.getElementsByTagName('script');\n",
       "                    var thisScriptTag = scripts[scripts.length-1];\n",
       "                    var parentDiv = thisScriptTag.parentNode;\n",
       "                    e = document.createElement('div');\n",
       "                    parentDiv.appendChild(e);\n",
       "                } else {\n",
       "                    e = element[0];\n",
       "                }\n",
       "\n",
       "                if (typeof requirejs !== 'undefined') {\n",
       "                    // disable load timeout; ipython_app.js is large and can take a while to load.\n",
       "                    requirejs.config({waitSeconds: 0});\n",
       "                }\n",
       "\n",
       "                require(['https://static.turi.com/products/graphlab-create/2.1/canvas/js/ipython_app.js'], function(IPythonApp){\n",
       "                    var app = new IPythonApp();\n",
       "                    app.attachView('sarray','Numeric', {\"ipython\": true, \"sketch\": {\"std\": 151.6091771381955, \"complete\": true, \"min\": 7.0, \"max\": 1079.0, \"quantile\": [7.0, 22.0, 32.0, 38.0, 42.0, 45.0, 48.0, 52.0, 55.0, 60.0, 62.0, 65.0, 70.0, 72.0, 80.0, 86.0, 89.0, 94.0, 98.0, 103.0, 106.0, 109.0, 114.0, 116.0, 121.0, 123.0, 126.0, 128.0, 131.0, 134.0, 138.0, 140.0, 143.0, 146.0, 150.0, 153.0, 156.0, 159.0, 162.0, 165.0, 169.0, 174.0, 179.0, 181.0, 184.0, 187.0, 192.0, 194.0, 196.0, 201.0, 206.0, 212.0, 215.0, 221.0, 223.0, 226.0, 229.0, 232.0, 234.0, 237.0, 241.0, 247.0, 253.0, 256.0, 264.0, 267.0, 271.0, 276.0, 281.0, 286.0, 288.0, 292.0, 296.0, 298.0, 300.0, 302.0, 305.0, 311.0, 315.0, 320.0, 324.0, 334.0, 338.0, 342.0, 345.0, 353.0, 362.0, 369.0, 376.0, 387.0, 396.0, 414.0, 442.0, 480.0, 505.0, 560.0, 588.0, 606.0, 639.0, 758.0, 1079.0], \"median\": 206.0, \"numeric\": true, \"num_unique\": 425, \"num_undefined\": 0, \"var\": 22985.342592520738, \"progress\": 1.0, \"size\": 1077, \"frequent_items\": {\"7\": {\"frequency\": 1, \"value\": 7}, \"10\": {\"frequency\": 1, \"value\": 10}, \"11\": {\"frequency\": 1, \"value\": 11}, \"15\": {\"frequency\": 3, \"value\": 15}, \"18\": {\"frequency\": 1, \"value\": 18}, \"19\": {\"frequency\": 1, \"value\": 19}, \"20\": {\"frequency\": 1, \"value\": 20}, \"21\": {\"frequency\": 1, \"value\": 21}, \"22\": {\"frequency\": 1, \"value\": 22}, \"26\": {\"frequency\": 1, \"value\": 26}, \"27\": {\"frequency\": 2, \"value\": 27}, \"30\": {\"frequency\": 7, \"value\": 30}, \"32\": {\"frequency\": 2, \"value\": 32}, \"33\": {\"frequency\": 1, \"value\": 33}, \"34\": {\"frequency\": 1, \"value\": 34}, \"35\": {\"frequency\": 2, \"value\": 35}, \"36\": {\"frequency\": 1, \"value\": 36}, \"37\": {\"frequency\": 2, \"value\": 37}, \"38\": {\"frequency\": 3, \"value\": 38}, \"39\": {\"frequency\": 1, \"value\": 39}, \"40\": {\"frequency\": 3, \"value\": 40}, \"41\": {\"frequency\": 2, \"value\": 41}, \"42\": {\"frequency\": 6, \"value\": 42}, \"43\": {\"frequency\": 5, \"value\": 43}, \"44\": {\"frequency\": 3, \"value\": 44}, \"45\": {\"frequency\": 1, \"value\": 45}, \"46\": {\"frequency\": 5, \"value\": 46}, \"47\": {\"frequency\": 5, \"value\": 47}, \"48\": {\"frequency\": 1, \"value\": 48}, \"49\": {\"frequency\": 3, \"value\": 49}, \"50\": {\"frequency\": 2, \"value\": 50}, \"51\": {\"frequency\": 3, \"value\": 51}, \"52\": {\"frequency\": 4, \"value\": 52}, \"53\": {\"frequency\": 6, \"value\": 53}, \"54\": {\"frequency\": 1, \"value\": 54}, \"55\": {\"frequency\": 4, \"value\": 55}, \"57\": {\"frequency\": 5, \"value\": 57}, \"59\": {\"frequency\": 2, \"value\": 59}, \"60\": {\"frequency\": 7, \"value\": 60}, \"61\": {\"frequency\": 4, \"value\": 61}, \"62\": {\"frequency\": 3, \"value\": 62}, \"64\": {\"frequency\": 4, \"value\": 64}, \"65\": {\"frequency\": 6, \"value\": 65}, \"66\": {\"frequency\": 1, \"value\": 66}, \"67\": {\"frequency\": 3, \"value\": 67}, \"68\": {\"frequency\": 1, \"value\": 68}, \"69\": {\"frequency\": 3, \"value\": 69}, \"70\": {\"frequency\": 7, \"value\": 70}, \"71\": {\"frequency\": 3, \"value\": 71}, \"72\": {\"frequency\": 4, \"value\": 72}, \"74\": {\"frequency\": 1, \"value\": 74}, \"75\": {\"frequency\": 1, \"value\": 75}, \"77\": {\"frequency\": 1, \"value\": 77}, \"78\": {\"frequency\": 1, \"value\": 78}, \"79\": {\"frequency\": 3, \"value\": 79}, \"80\": {\"frequency\": 6, \"value\": 80}, \"82\": {\"frequency\": 2, \"value\": 82}, \"83\": {\"frequency\": 1, \"value\": 83}, \"84\": {\"frequency\": 1, \"value\": 84}, \"85\": {\"frequency\": 3, \"value\": 85}, \"86\": {\"frequency\": 3, \"value\": 86}, \"87\": {\"frequency\": 3, \"value\": 87}, \"88\": {\"frequency\": 1, \"value\": 88}, \"89\": {\"frequency\": 5, \"value\": 89}, \"90\": {\"frequency\": 2, \"value\": 90}, \"91\": {\"frequency\": 1, \"value\": 91}, \"92\": {\"frequency\": 5, \"value\": 92}, \"94\": {\"frequency\": 4, \"value\": 94}, \"95\": {\"frequency\": 2, \"value\": 95}, \"96\": {\"frequency\": 1, \"value\": 96}, \"97\": {\"frequency\": 2, \"value\": 97}, \"98\": {\"frequency\": 5, \"value\": 98}, \"99\": {\"frequency\": 3, \"value\": 99}, \"100\": {\"frequency\": 3, \"value\": 100}, \"101\": {\"frequency\": 2, \"value\": 101}, \"103\": {\"frequency\": 3, \"value\": 103}, \"104\": {\"frequency\": 2, \"value\": 104}, \"105\": {\"frequency\": 6, \"value\": 105}, \"106\": {\"frequency\": 3, \"value\": 106}, \"107\": {\"frequency\": 5, \"value\": 107}, \"108\": {\"frequency\": 4, \"value\": 108}, \"109\": {\"frequency\": 2, \"value\": 109}, \"110\": {\"frequency\": 3, \"value\": 110}, \"111\": {\"frequency\": 1, \"value\": 111}, \"113\": {\"frequency\": 2, \"value\": 113}, \"114\": {\"frequency\": 6, \"value\": 114}, \"115\": {\"frequency\": 3, \"value\": 115}, \"116\": {\"frequency\": 6, \"value\": 116}, \"117\": {\"frequency\": 1, \"value\": 117}, \"118\": {\"frequency\": 2, \"value\": 118}, \"119\": {\"frequency\": 1, \"value\": 119}, \"120\": {\"frequency\": 4, \"value\": 120}, \"121\": {\"frequency\": 4, \"value\": 121}, \"122\": {\"frequency\": 8, \"value\": 122}, \"123\": {\"frequency\": 5, \"value\": 123}, \"124\": {\"frequency\": 2, \"value\": 124}, \"125\": {\"frequency\": 2, \"value\": 125}, \"126\": {\"frequency\": 3, \"value\": 126}, \"127\": {\"frequency\": 3, \"value\": 127}, \"128\": {\"frequency\": 8, \"value\": 128}, \"129\": {\"frequency\": 1, \"value\": 129}, \"130\": {\"frequency\": 4, \"value\": 130}, \"131\": {\"frequency\": 10, \"value\": 131}, \"132\": {\"frequency\": 1, \"value\": 132}, \"133\": {\"frequency\": 3, \"value\": 133}, \"134\": {\"frequency\": 5, \"value\": 134}, \"135\": {\"frequency\": 2, \"value\": 135}, \"136\": {\"frequency\": 2, \"value\": 136}, \"137\": {\"frequency\": 3, \"value\": 137}, \"138\": {\"frequency\": 4, \"value\": 138}, \"139\": {\"frequency\": 5, \"value\": 139}, \"140\": {\"frequency\": 4, \"value\": 140}, \"141\": {\"frequency\": 4, \"value\": 141}, \"142\": {\"frequency\": 3, \"value\": 142}, \"143\": {\"frequency\": 3, \"value\": 143}, \"145\": {\"frequency\": 3, \"value\": 145}, \"146\": {\"frequency\": 7, \"value\": 146}, \"147\": {\"frequency\": 3, \"value\": 147}, \"148\": {\"frequency\": 5, \"value\": 148}, \"149\": {\"frequency\": 1, \"value\": 149}, \"150\": {\"frequency\": 4, \"value\": 150}, \"151\": {\"frequency\": 5, \"value\": 151}, \"152\": {\"frequency\": 2, \"value\": 152}, \"153\": {\"frequency\": 4, \"value\": 153}, \"154\": {\"frequency\": 4, \"value\": 154}, \"155\": {\"frequency\": 2, \"value\": 155}, \"156\": {\"frequency\": 2, \"value\": 156}, \"157\": {\"frequency\": 4, \"value\": 157}, \"158\": {\"frequency\": 1, \"value\": 158}, \"159\": {\"frequency\": 6, \"value\": 159}, \"160\": {\"frequency\": 3, \"value\": 160}, \"161\": {\"frequency\": 4, \"value\": 161}, \"162\": {\"frequency\": 4, \"value\": 162}, \"163\": {\"frequency\": 6, \"value\": 163}, \"164\": {\"frequency\": 4, \"value\": 164}, \"165\": {\"frequency\": 1, \"value\": 165}, \"166\": {\"frequency\": 1, \"value\": 166}, \"167\": {\"frequency\": 2, \"value\": 167}, \"168\": {\"frequency\": 5, \"value\": 168}, \"169\": {\"frequency\": 2, \"value\": 169}, \"170\": {\"frequency\": 3, \"value\": 170}, \"171\": {\"frequency\": 3, \"value\": 171}, \"172\": {\"frequency\": 2, \"value\": 172}, \"173\": {\"frequency\": 2, \"value\": 173}, \"174\": {\"frequency\": 3, \"value\": 174}, \"175\": {\"frequency\": 3, \"value\": 175}, \"176\": {\"frequency\": 1, \"value\": 176}, \"177\": {\"frequency\": 2, \"value\": 177}, \"178\": {\"frequency\": 2, \"value\": 178}, \"179\": {\"frequency\": 4, \"value\": 179}, \"180\": {\"frequency\": 6, \"value\": 180}, \"181\": {\"frequency\": 4, \"value\": 181}, \"182\": {\"frequency\": 3, \"value\": 182}, \"183\": {\"frequency\": 4, \"value\": 183}, \"184\": {\"frequency\": 2, \"value\": 184}, \"185\": {\"frequency\": 4, \"value\": 185}, \"186\": {\"frequency\": 3, \"value\": 186}, \"187\": {\"frequency\": 4, \"value\": 187}, \"188\": {\"frequency\": 2, \"value\": 188}, \"189\": {\"frequency\": 3, \"value\": 189}, \"190\": {\"frequency\": 1, \"value\": 190}, \"191\": {\"frequency\": 3, \"value\": 191}, \"192\": {\"frequency\": 3, \"value\": 192}, \"193\": {\"frequency\": 4, \"value\": 193}, \"194\": {\"frequency\": 5, \"value\": 194}, \"195\": {\"frequency\": 4, \"value\": 195}, \"196\": {\"frequency\": 7, \"value\": 196}, \"197\": {\"frequency\": 4, \"value\": 197}, \"198\": {\"frequency\": 3, \"value\": 198}, \"199\": {\"frequency\": 1, \"value\": 199}, \"200\": {\"frequency\": 1, \"value\": 200}, \"201\": {\"frequency\": 1, \"value\": 201}, \"202\": {\"frequency\": 4, \"value\": 202}, \"203\": {\"frequency\": 2, \"value\": 203}, \"204\": {\"frequency\": 2, \"value\": 204}, \"205\": {\"frequency\": 2, \"value\": 205}, \"206\": {\"frequency\": 4, \"value\": 206}, \"207\": {\"frequency\": 1, \"value\": 207}, \"208\": {\"frequency\": 1, \"value\": 208}, \"209\": {\"frequency\": 1, \"value\": 209}, \"210\": {\"frequency\": 1, \"value\": 210}, \"211\": {\"frequency\": 2, \"value\": 211}, \"212\": {\"frequency\": 3, \"value\": 212}, \"213\": {\"frequency\": 4, \"value\": 213}, \"214\": {\"frequency\": 3, \"value\": 214}, \"215\": {\"frequency\": 3, \"value\": 215}, \"216\": {\"frequency\": 1, \"value\": 216}, \"217\": {\"frequency\": 3, \"value\": 217}, \"218\": {\"frequency\": 2, \"value\": 218}, \"219\": {\"frequency\": 1, \"value\": 219}, \"220\": {\"frequency\": 2, \"value\": 220}, \"221\": {\"frequency\": 3, \"value\": 221}, \"222\": {\"frequency\": 4, \"value\": 222}, \"223\": {\"frequency\": 7, \"value\": 223}, \"224\": {\"frequency\": 4, \"value\": 224}, \"226\": {\"frequency\": 5, \"value\": 226}, \"227\": {\"frequency\": 4, \"value\": 227}, \"228\": {\"frequency\": 5, \"value\": 228}, \"229\": {\"frequency\": 3, \"value\": 229}, \"230\": {\"frequency\": 5, \"value\": 230}, \"231\": {\"frequency\": 3, \"value\": 231}, \"232\": {\"frequency\": 2, \"value\": 232}, \"233\": {\"frequency\": 5, \"value\": 233}, \"234\": {\"frequency\": 5, \"value\": 234}, \"235\": {\"frequency\": 3, \"value\": 235}, \"236\": {\"frequency\": 3, \"value\": 236}, \"237\": {\"frequency\": 7, \"value\": 237}, \"238\": {\"frequency\": 1, \"value\": 238}, \"239\": {\"frequency\": 3, \"value\": 239}, \"240\": {\"frequency\": 1, \"value\": 240}, \"241\": {\"frequency\": 5, \"value\": 241}, \"242\": {\"frequency\": 1, \"value\": 242}, \"243\": {\"frequency\": 1, \"value\": 243}, \"244\": {\"frequency\": 2, \"value\": 244}, \"246\": {\"frequency\": 1, \"value\": 246}, \"247\": {\"frequency\": 5, \"value\": 247}, \"248\": {\"frequency\": 1, \"value\": 248}, \"249\": {\"frequency\": 2, \"value\": 249}, \"250\": {\"frequency\": 4, \"value\": 250}, \"252\": {\"frequency\": 2, \"value\": 252}, \"253\": {\"frequency\": 5, \"value\": 253}, \"254\": {\"frequency\": 2, \"value\": 254}, \"255\": {\"frequency\": 4, \"value\": 255}, \"256\": {\"frequency\": 1, \"value\": 256}, \"257\": {\"frequency\": 2, \"value\": 257}, \"260\": {\"frequency\": 3, \"value\": 260}, \"261\": {\"frequency\": 1, \"value\": 261}, \"262\": {\"frequency\": 3, \"value\": 262}, \"263\": {\"frequency\": 1, \"value\": 263}, \"264\": {\"frequency\": 3, \"value\": 264}, \"265\": {\"frequency\": 2, \"value\": 265}, \"266\": {\"frequency\": 4, \"value\": 266}, \"267\": {\"frequency\": 3, \"value\": 267}, \"268\": {\"frequency\": 5, \"value\": 268}, \"269\": {\"frequency\": 1, \"value\": 269}, \"270\": {\"frequency\": 3, \"value\": 270}, \"271\": {\"frequency\": 2, \"value\": 271}, \"272\": {\"frequency\": 2, \"value\": 272}, \"273\": {\"frequency\": 3, \"value\": 273}, \"274\": {\"frequency\": 1, \"value\": 274}, \"275\": {\"frequency\": 3, \"value\": 275}, \"276\": {\"frequency\": 4, \"value\": 276}, \"278\": {\"frequency\": 2, \"value\": 278}, \"279\": {\"frequency\": 4, \"value\": 279}, \"281\": {\"frequency\": 2, \"value\": 281}, \"282\": {\"frequency\": 2, \"value\": 282}, \"283\": {\"frequency\": 2, \"value\": 283}, \"284\": {\"frequency\": 2, \"value\": 284}, \"285\": {\"frequency\": 3, \"value\": 285}, \"286\": {\"frequency\": 6, \"value\": 286}, \"287\": {\"frequency\": 4, \"value\": 287}, \"288\": {\"frequency\": 3, \"value\": 288}, \"289\": {\"frequency\": 2, \"value\": 289}, \"290\": {\"frequency\": 1, \"value\": 290}, \"291\": {\"frequency\": 2, \"value\": 291}, \"292\": {\"frequency\": 5, \"value\": 292}, \"293\": {\"frequency\": 1, \"value\": 293}, \"294\": {\"frequency\": 1, \"value\": 294}, \"295\": {\"frequency\": 2, \"value\": 295}, \"296\": {\"frequency\": 8, \"value\": 296}, \"297\": {\"frequency\": 3, \"value\": 297}, \"298\": {\"frequency\": 7, \"value\": 298}, \"299\": {\"frequency\": 6, \"value\": 299}, \"300\": {\"frequency\": 7, \"value\": 300}, \"301\": {\"frequency\": 4, \"value\": 301}, \"302\": {\"frequency\": 6, \"value\": 302}, \"303\": {\"frequency\": 2, \"value\": 303}, \"304\": {\"frequency\": 3, \"value\": 304}, \"305\": {\"frequency\": 4, \"value\": 305}, \"307\": {\"frequency\": 5, \"value\": 307}, \"308\": {\"frequency\": 4, \"value\": 308}, \"310\": {\"frequency\": 1, \"value\": 310}, \"311\": {\"frequency\": 3, \"value\": 311}, \"312\": {\"frequency\": 3, \"value\": 312}, \"313\": {\"frequency\": 2, \"value\": 313}, \"314\": {\"frequency\": 1, \"value\": 314}, \"315\": {\"frequency\": 3, \"value\": 315}, \"316\": {\"frequency\": 2, \"value\": 316}, \"317\": {\"frequency\": 2, \"value\": 317}, \"318\": {\"frequency\": 2, \"value\": 318}, \"319\": {\"frequency\": 3, \"value\": 319}, \"320\": {\"frequency\": 4, \"value\": 320}, \"321\": {\"frequency\": 2, \"value\": 321}, \"322\": {\"frequency\": 3, \"value\": 322}, \"323\": {\"frequency\": 2, \"value\": 323}, \"324\": {\"frequency\": 1, \"value\": 324}, \"325\": {\"frequency\": 1, \"value\": 325}, \"326\": {\"frequency\": 1, \"value\": 326}, \"330\": {\"frequency\": 1, \"value\": 330}, \"331\": {\"frequency\": 3, \"value\": 331}, \"333\": {\"frequency\": 3, \"value\": 333}, \"334\": {\"frequency\": 4, \"value\": 334}, \"335\": {\"frequency\": 1, \"value\": 335}, \"336\": {\"frequency\": 5, \"value\": 336}, \"337\": {\"frequency\": 1, \"value\": 337}, \"338\": {\"frequency\": 2, \"value\": 338}, \"339\": {\"frequency\": 5, \"value\": 339}, \"340\": {\"frequency\": 3, \"value\": 340}, \"341\": {\"frequency\": 1, \"value\": 341}, \"342\": {\"frequency\": 3, \"value\": 342}, \"344\": {\"frequency\": 5, \"value\": 344}, \"345\": {\"frequency\": 4, \"value\": 345}, \"346\": {\"frequency\": 2, \"value\": 346}, \"348\": {\"frequency\": 2, \"value\": 348}, \"350\": {\"frequency\": 2, \"value\": 350}, \"351\": {\"frequency\": 2, \"value\": 351}, \"352\": {\"frequency\": 2, \"value\": 352}, \"353\": {\"frequency\": 1, \"value\": 353}, \"354\": {\"frequency\": 2, \"value\": 354}, \"355\": {\"frequency\": 2, \"value\": 355}, \"360\": {\"frequency\": 1, \"value\": 360}, \"361\": {\"frequency\": 4, \"value\": 361}, \"362\": {\"frequency\": 3, \"value\": 362}, \"363\": {\"frequency\": 2, \"value\": 363}, \"364\": {\"frequency\": 1, \"value\": 364}, \"365\": {\"frequency\": 1, \"value\": 365}, \"367\": {\"frequency\": 1, \"value\": 367}, \"368\": {\"frequency\": 2, \"value\": 368}, \"369\": {\"frequency\": 3, \"value\": 369}, \"370\": {\"frequency\": 2, \"value\": 370}, \"371\": {\"frequency\": 2, \"value\": 371}, \"373\": {\"frequency\": 1, \"value\": 373}, \"374\": {\"frequency\": 2, \"value\": 374}, \"375\": {\"frequency\": 1, \"value\": 375}, \"376\": {\"frequency\": 4, \"value\": 376}, \"377\": {\"frequency\": 3, \"value\": 377}, \"379\": {\"frequency\": 3, \"value\": 379}, \"385\": {\"frequency\": 1, \"value\": 385}, \"387\": {\"frequency\": 3, \"value\": 387}, \"388\": {\"frequency\": 2, \"value\": 388}, \"389\": {\"frequency\": 2, \"value\": 389}, \"390\": {\"frequency\": 3, \"value\": 390}, \"392\": {\"frequency\": 1, \"value\": 392}, \"396\": {\"frequency\": 2, \"value\": 396}, \"398\": {\"frequency\": 1, \"value\": 398}, \"399\": {\"frequency\": 1, \"value\": 399}, \"400\": {\"frequency\": 1, \"value\": 400}, \"401\": {\"frequency\": 1, \"value\": 401}, \"402\": {\"frequency\": 1, \"value\": 402}, \"404\": {\"frequency\": 1, \"value\": 404}, \"405\": {\"frequency\": 1, \"value\": 405}, \"409\": {\"frequency\": 2, \"value\": 409}, \"413\": {\"frequency\": 1, \"value\": 413}, \"414\": {\"frequency\": 1, \"value\": 414}, \"415\": {\"frequency\": 1, \"value\": 415}, \"428\": {\"frequency\": 1, \"value\": 428}, \"437\": {\"frequency\": 2, \"value\": 437}, \"438\": {\"frequency\": 2, \"value\": 438}, \"439\": {\"frequency\": 1, \"value\": 439}, \"441\": {\"frequency\": 2, \"value\": 441}, \"442\": {\"frequency\": 2, \"value\": 442}, \"445\": {\"frequency\": 1, \"value\": 445}, \"450\": {\"frequency\": 1, \"value\": 450}, \"454\": {\"frequency\": 1, \"value\": 454}, \"455\": {\"frequency\": 1, \"value\": 455}, \"458\": {\"frequency\": 1, \"value\": 458}, \"459\": {\"frequency\": 1, \"value\": 459}, \"460\": {\"frequency\": 1, \"value\": 460}, \"473\": {\"frequency\": 1, \"value\": 473}, \"478\": {\"frequency\": 1, \"value\": 478}, \"480\": {\"frequency\": 1, \"value\": 480}, \"481\": {\"frequency\": 1, \"value\": 481}, \"486\": {\"frequency\": 1, \"value\": 486}, \"487\": {\"frequency\": 1, \"value\": 487}, \"490\": {\"frequency\": 1, \"value\": 490}, \"493\": {\"frequency\": 2, \"value\": 493}, \"495\": {\"frequency\": 1, \"value\": 495}, \"498\": {\"frequency\": 1, \"value\": 498}, \"502\": {\"frequency\": 1, \"value\": 502}, \"503\": {\"frequency\": 1, \"value\": 503}, \"505\": {\"frequency\": 1, \"value\": 505}, \"506\": {\"frequency\": 1, \"value\": 506}, \"512\": {\"frequency\": 1, \"value\": 512}, \"516\": {\"frequency\": 1, \"value\": 516}, \"523\": {\"frequency\": 1, \"value\": 523}, \"525\": {\"frequency\": 1, \"value\": 525}, \"533\": {\"frequency\": 1, \"value\": 533}, \"538\": {\"frequency\": 1, \"value\": 538}, \"539\": {\"frequency\": 1, \"value\": 539}, \"543\": {\"frequency\": 1, \"value\": 543}, \"553\": {\"frequency\": 1, \"value\": 553}, \"560\": {\"frequency\": 1, \"value\": 560}, \"569\": {\"frequency\": 1, \"value\": 569}, \"570\": {\"frequency\": 1, \"value\": 570}, \"572\": {\"frequency\": 1, \"value\": 572}, \"575\": {\"frequency\": 1, \"value\": 575}, \"578\": {\"frequency\": 1, \"value\": 578}, \"583\": {\"frequency\": 1, \"value\": 583}, \"584\": {\"frequency\": 2, \"value\": 584}, \"586\": {\"frequency\": 1, \"value\": 586}, \"588\": {\"frequency\": 1, \"value\": 588}, \"590\": {\"frequency\": 3, \"value\": 590}, \"594\": {\"frequency\": 2, \"value\": 594}, \"596\": {\"frequency\": 1, \"value\": 596}, \"601\": {\"frequency\": 1, \"value\": 601}, \"602\": {\"frequency\": 1, \"value\": 602}, \"604\": {\"frequency\": 1, \"value\": 604}, \"605\": {\"frequency\": 1, \"value\": 605}, \"606\": {\"frequency\": 1, \"value\": 606}, \"608\": {\"frequency\": 2, \"value\": 608}, \"615\": {\"frequency\": 1, \"value\": 615}, \"621\": {\"frequency\": 1, \"value\": 621}, \"622\": {\"frequency\": 2, \"value\": 622}, \"624\": {\"frequency\": 1, \"value\": 624}, \"625\": {\"frequency\": 1, \"value\": 625}, \"626\": {\"frequency\": 1, \"value\": 626}, \"637\": {\"frequency\": 1, \"value\": 637}, \"639\": {\"frequency\": 1, \"value\": 639}, \"642\": {\"frequency\": 1, \"value\": 642}, \"646\": {\"frequency\": 1, \"value\": 646}, \"661\": {\"frequency\": 1, \"value\": 661}, \"683\": {\"frequency\": 1, \"value\": 683}, \"717\": {\"frequency\": 1, \"value\": 717}, \"718\": {\"frequency\": 1, \"value\": 718}, \"743\": {\"frequency\": 2, \"value\": 743}, \"751\": {\"frequency\": 2, \"value\": 751}, \"758\": {\"frequency\": 1, \"value\": 758}, \"759\": {\"frequency\": 1, \"value\": 759}, \"766\": {\"frequency\": 1, \"value\": 766}, \"771\": {\"frequency\": 1, \"value\": 771}, \"794\": {\"frequency\": 1, \"value\": 794}, \"795\": {\"frequency\": 1, \"value\": 795}, \"816\": {\"frequency\": 1, \"value\": 816}, \"906\": {\"frequency\": 3, \"value\": 906}, \"1079\": {\"frequency\": 1, \"value\": 1079}}, \"mean\": 230.91922005571038}, \"selected_variable\": {\"name\": [\"<SArray>\"], \"dtype\": \"int\", \"view_component\": \"Numeric\", \"view_file\": \"sarray\", \"descriptives\": {\"rows\": 1077}, \"type\": \"SArray\", \"view_components\": [\"Numeric\", \"Categorical\"]}, \"histogram\": {\"progress\": 1.0, \"histogram\": {\"max\": 1092.1480000000001, \"bins\": [167, 285, 258, 215, 69, 28, 32, 8, 11, 3, 0, 1], \"min\": -3.9799999999999613}, \"min\": 7, \"complete\": 1, \"max\": 1079}}, e);\n",
       "                });\n",
       "            })();\n",
       "        "
      ]
     },
     "metadata": {},
     "output_type": "display_data"
    }
   ],
   "source": [
    "data['Words_of_the_Title'].show()\n",
    "data['the_Length_of_one_Episode'].show()"
   ]
  },
  {
   "cell_type": "code",
   "execution_count": 21,
   "metadata": {
    "collapsed": false
   },
   "outputs": [
    {
     "data": {
      "application/javascript": [
       "$(\"head\").append($(\"<link/>\").attr({\n",
       "  rel:  \"stylesheet\",\n",
       "  type: \"text/css\",\n",
       "  href: \"//cdnjs.cloudflare.com/ajax/libs/font-awesome/4.1.0/css/font-awesome.min.css\"\n",
       "}));\n",
       "$(\"head\").append($(\"<link/>\").attr({\n",
       "  rel:  \"stylesheet\",\n",
       "  type: \"text/css\",\n",
       "  href: \"https://static.turi.com/products/graphlab-create/2.1/canvas/css/canvas.css\"\n",
       "}));\n",
       "\n",
       "            (function(){\n",
       "\n",
       "                var e = null;\n",
       "                if (typeof element == 'undefined') {\n",
       "                    var scripts = document.getElementsByTagName('script');\n",
       "                    var thisScriptTag = scripts[scripts.length-1];\n",
       "                    var parentDiv = thisScriptTag.parentNode;\n",
       "                    e = document.createElement('div');\n",
       "                    parentDiv.appendChild(e);\n",
       "                } else {\n",
       "                    e = element[0];\n",
       "                }\n",
       "\n",
       "                if (typeof requirejs !== 'undefined') {\n",
       "                    // disable load timeout; ipython_app.js is large and can take a while to load.\n",
       "                    requirejs.config({waitSeconds: 0});\n",
       "                }\n",
       "\n",
       "                require(['https://static.turi.com/products/graphlab-create/2.1/canvas/js/ipython_app.js'], function(IPythonApp){\n",
       "                    var app = new IPythonApp();\n",
       "                    app.attachView('sframe','Plots', {\"selected_variable\": {\"name\": [\"datahigh\"], \"descriptives\": {\"rows\": 327, \"columns\": 11}, \"view_component\": \"Plots\", \"view_file\": \"sframe\", \"view_params\": {\"y\": \"the_Playback_Amount_of_one_Episode\", \"x\": \"Words_of_the_Title\", \"columns\": [\"id\", \"Title\", \"Words_of_the_Title\", \"English_or_not\", \"person\", \"the_Length_of_one_Episode\", \"the_Playback_Amount_of_one_Episode\", \"Release_Week\", \"PageUrl\", \"Relative\", \"playbackperweek\"], \"view\": \"Scatter Plot\"}, \"view_components\": [\"Summary\", \"Table\", \"Bar Chart\", \"BoxWhisker Plot\", \"Line Chart\", \"Scatter Plot\", \"Heat Map\", \"Plots\"], \"type\": \"SFrame\", \"columns\": [{\"dtype\": \"int\", \"name\": \"id\"}, {\"dtype\": \"str\", \"name\": \"Title\"}, {\"dtype\": \"int\", \"name\": \"Words_of_the_Title\"}, {\"dtype\": \"int\", \"name\": \"English_or_not\"}, {\"dtype\": \"str\", \"name\": \"person\"}, {\"dtype\": \"int\", \"name\": \"the_Length_of_one_Episode\"}, {\"dtype\": \"int\", \"name\": \"the_Playback_Amount_of_one_Episode\"}, {\"dtype\": \"int\", \"name\": \"Release_Week\"}, {\"dtype\": \"str\", \"name\": \"PageUrl\"}, {\"dtype\": \"str\", \"name\": \"Relative\"}, {\"dtype\": \"float\", \"name\": \"playbackperweek\"}], \"column_identifiers\": [\"the_Playback_Amount_of_one_Episode\", \"Title\", \"playbackperweek\", \"the_Length_of_one_Episode\", \"Relative\", \"person\", \"Release_Week\", \"PageUrl\", \"English_or_not\", \"Words_of_the_Title\", \"id\"]}, \"complete\": 1, \"ipython\": true, \"progress\": 1.0, \"data\": [[28, 3751000], [22, 3252000], [23, 3152000], [25, 2815000], [20, 2811000], [15, 2666000], [28, 2420000], [19, 2409000], [17, 2385000], [17, 2260000], [15, 2233000], [21, 2222000], [15, 2194000], [17, 2118000], [17, 2101000], [17, 2096000], [13, 2088000], [17, 2078000], [12, 2054000], [25, 2013000], [20, 1872000], [20, 1854000], [21, 1789000], [14, 1782000], [15, 1759000], [16, 1709000], [11, 1699000], [18, 1669000], [17, 1640000], [25, 1630000], [16, 1551000], [26, 1527000], [19, 1495000], [20, 1444000], [18, 1343000], [15, 1315000], [32, 1309000], [21, 1288000], [24, 1276000], [12, 1273000], [7, 1243000], [28, 1238000], [23, 1234000], [12, 1225000], [18, 1163000], [10, 1133000], [26, 1130000], [28, 1098000], [14, 1089000], [29, 1070000], [14, 1061000], [17, 1054000], [15, 1043000], [28, 1027000], [19, 1010000], [14, 985000], [30, 972000], [17, 953000], [12, 951000], [8, 950000], [28, 922000], [17, 919000], [25, 912000], [28, 902000], [13, 876000], [26, 876000], [13, 851000], [17, 819000], [35, 812000], [14, 811000], [19, 805000], [13, 804000], [26, 797000], [8, 788000], [29, 773000], [15, 771000], [13, 760000], [23, 757000], [14, 756000], [24, 748000], [11, 745000], [18, 743000], [28, 738000], [14, 736000], [15, 725000], [28, 710000], [28, 708000], [8, 706000], [21, 697000], [20, 685000], [14, 675000], [20, 669000], [12, 648000], [11, 628000], [30, 624000], [9, 621000], [32, 620000], [16, 612000], [20, 609000], [15, 607000], [20, 592000], [27, 591000], [28, 583000], [25, 574000], [8, 561000], [23, 556000], [17, 540000], [30, 535000], [20, 532000], [20, 522000], [14, 520000], [17, 519000], [22, 516000], [20, 516000], [27, 514000], [18, 513000], [15, 513000], [19, 510000], [15, 498000], [11, 493000], [28, 487000], [8, 484000], [21, 482000], [10, 464000], [18, 455000], [18, 452000], [14, 451000], [12, 449000], [22, 440000], [7, 440000], [7, 431000], [8, 422000], [20, 418000], [8, 393000], [6, 385000], [13, 384000], [20, 380000], [18, 376000], [27, 373000], [20, 371000], [22, 369000], [13, 369000], [22, 369000], [13, 366000], [17, 365000], [22, 362000], [8, 361000], [14, 359000], [7, 358000], [14, 355000], [23, 354000], [6, 349000], [10, 347000], [18, 343000], [15, 342000], [19, 340000], [18, 340000], [9, 340000], [11, 338000], [16, 336000], [8, 335000], [6, 331000], [13, 331000], [19, 327000], [20, 323000], [20, 318000], [11, 316000], [29, 314000], [10, 311000], [10, 307000], [17, 304000], [18, 304000], [13, 304000], [19, 303000], [33, 299000], [23, 296000], [10, 294000], [18, 292000], [19, 286000], [11, 284000], [15, 281000], [11, 279000], [9, 277000], [29, 276000], [8, 270000], [16, 266000], [15, 265000], [25, 265000], [20, 264000], [21, 263000], [16, 261000], [8, 258000], [14, 254000], [10, 250000], [9, 246000], [17, 244000], [15, 240000], [9, 238000], [9, 237000], [17, 236000], [16, 234000], [6, 234000], [19, 233000], [15, 232000], [10, 230000], [18, 226000], [12, 225000], [7, 222000], [15, 220000], [13, 217000], [22, 216000], [13, 215000], [8, 215000], [30, 215000], [10, 211000], [21, 209000], [9, 208000], [12, 206000], [18, 206000], [12, 204000], [11, 203000], [15, 196000], [21, 195000], [6, 194000], [6, 193000], [12, 192000], [23, 191000], [16, 191000], [17, 191000], [11, 190000], [16, 185000], [19, 181000], [10, 181000], [13, 180000], [12, 179000], [18, 178000], [17, 177000], [18, 176000], [14, 175000], [14, 175000], [14, 174000], [20, 174000], [12, 174000], [22, 172000], [12, 172000], [15, 170000], [6, 170000], [20, 168000], [16, 166000], [16, 163000], [11, 163000], [11, 162000], [14, 158000], [11, 158000], [17, 157000], [19, 155000], [7, 151000], [14, 151000], [11, 151000], [16, 150000], [15, 148000], [13, 147000], [16, 145000], [12, 145000], [8, 144000], [19, 143000], [14, 142000], [13, 142000], [7, 142000], [7, 141000], [10, 139000], [7, 138000], [21, 136000], [14, 136000], [17, 136000], [11, 135000], [12, 135000], [6, 134000], [7, 134000], [18, 132000], [18, 132000], [11, 132000], [19, 131000], [10, 131000], [17, 130000], [14, 130000], [12, 129000], [18, 129000], [9, 127000], [15, 127000], [12, 127000], [11, 127000], [15, 126000], [6, 126000], [14, 125000], [18, 123000], [17, 123000], [13, 123000], [19, 123000], [15, 122000], [21, 122000], [12, 120000], [15, 120000], [8, 120000], [14, 119000], [12, 119000], [15, 118000], [16, 116000], [7, 116000], [11, 115000], [12, 114000], [20, 112000], [30, 112000], [6, 111000], [7, 110000], [26, 109000], [13, 109000], [12, 108000], [13, 108000], [8, 108000], [22, 107000], [20, 103000], [13, 103000], [9, 103000], [17, 102000], [7, 101000], [11, 100000]], \"columns\": [{\"dtype\": \"int\", \"name\": \"id\"}, {\"dtype\": \"str\", \"name\": \"Title\"}, {\"dtype\": \"int\", \"name\": \"Words_of_the_Title\"}, {\"dtype\": \"int\", \"name\": \"English_or_not\"}, {\"dtype\": \"str\", \"name\": \"person\"}, {\"dtype\": \"int\", \"name\": \"the_Length_of_one_Episode\"}, {\"dtype\": \"int\", \"name\": \"the_Playback_Amount_of_one_Episode\"}, {\"dtype\": \"int\", \"name\": \"Release_Week\"}, {\"dtype\": \"str\", \"name\": \"PageUrl\"}, {\"dtype\": \"str\", \"name\": \"Relative\"}, {\"dtype\": \"float\", \"name\": \"playbackperweek\"}]}, e);\n",
       "                });\n",
       "            })();\n",
       "        "
      ]
     },
     "metadata": {},
     "output_type": "display_data"
    },
    {
     "data": {
      "application/javascript": [
       "$(\"head\").append($(\"<link/>\").attr({\n",
       "  rel:  \"stylesheet\",\n",
       "  type: \"text/css\",\n",
       "  href: \"//cdnjs.cloudflare.com/ajax/libs/font-awesome/4.1.0/css/font-awesome.min.css\"\n",
       "}));\n",
       "$(\"head\").append($(\"<link/>\").attr({\n",
       "  rel:  \"stylesheet\",\n",
       "  type: \"text/css\",\n",
       "  href: \"https://static.turi.com/products/graphlab-create/2.1/canvas/css/canvas.css\"\n",
       "}));\n",
       "\n",
       "            (function(){\n",
       "\n",
       "                var e = null;\n",
       "                if (typeof element == 'undefined') {\n",
       "                    var scripts = document.getElementsByTagName('script');\n",
       "                    var thisScriptTag = scripts[scripts.length-1];\n",
       "                    var parentDiv = thisScriptTag.parentNode;\n",
       "                    e = document.createElement('div');\n",
       "                    parentDiv.appendChild(e);\n",
       "                } else {\n",
       "                    e = element[0];\n",
       "                }\n",
       "\n",
       "                if (typeof requirejs !== 'undefined') {\n",
       "                    // disable load timeout; ipython_app.js is large and can take a while to load.\n",
       "                    requirejs.config({waitSeconds: 0});\n",
       "                }\n",
       "\n",
       "                require(['https://static.turi.com/products/graphlab-create/2.1/canvas/js/ipython_app.js'], function(IPythonApp){\n",
       "                    var app = new IPythonApp();\n",
       "                    app.attachView('sframe','Plots', {\"selected_variable\": {\"name\": [\"data\"], \"descriptives\": {\"rows\": 1077, \"columns\": 11}, \"view_component\": \"Plots\", \"view_file\": \"sframe\", \"view_params\": {\"y\": \"the_Playback_Amount_of_one_Episode\", \"x\": \"the_Length_of_one_Episode\", \"columns\": [\"id\", \"Title\", \"Words_of_the_Title\", \"English_or_not\", \"person\", \"the_Length_of_one_Episode\", \"the_Playback_Amount_of_one_Episode\", \"Release_Week\", \"PageUrl\", \"Relative\", \"playbackperweek\"], \"view\": \"Scatter Plot\"}, \"view_components\": [\"Summary\", \"Table\", \"Bar Chart\", \"BoxWhisker Plot\", \"Line Chart\", \"Scatter Plot\", \"Heat Map\", \"Plots\"], \"type\": \"SFrame\", \"columns\": [{\"dtype\": \"int\", \"name\": \"id\"}, {\"dtype\": \"str\", \"name\": \"Title\"}, {\"dtype\": \"int\", \"name\": \"Words_of_the_Title\"}, {\"dtype\": \"int\", \"name\": \"English_or_not\"}, {\"dtype\": \"int\", \"name\": \"person\"}, {\"dtype\": \"int\", \"name\": \"the_Length_of_one_Episode\"}, {\"dtype\": \"int\", \"name\": \"the_Playback_Amount_of_one_Episode\"}, {\"dtype\": \"int\", \"name\": \"Release_Week\"}, {\"dtype\": \"str\", \"name\": \"PageUrl\"}, {\"dtype\": \"str\", \"name\": \"Relative\"}, {\"dtype\": \"float\", \"name\": \"playbackperweek\"}], \"column_identifiers\": [\"the_Playback_Amount_of_one_Episode\", \"Title\", \"playbackperweek\", \"the_Length_of_one_Episode\", \"Relative\", \"person\", \"Release_Week\", \"PageUrl\", \"English_or_not\", \"Words_of_the_Title\", \"id\"]}, \"complete\": 1, \"ipython\": true, \"progress\": 1.0, \"data\": [[1079, 10000], [906, 3967], [906, 25000], [906, 17000], [50, 708], [795, 4143], [794, 3244], [46, 263000], [42, 141000], [759, 1238], [758, 1444], [751, 563], [751, 1117], [30, 454], [743, 14000], [718, 277], [717, 158], [49, 176000], [661, 1832], [646, 999], [642, 49000], [639, 20000], [637, 709], [626, 1464], [625, 27000], [624, 12000], [622, 7714], [622, 22000], [621, 11000], [615, 13000], [608, 29000], [608, 41000], [606, 29000], [605, 36000], [604, 93000], [602, 1136], [601, 14000], [42, 19000], [594, 16000], [594, 42000], [590, 350], [590, 15000], [590, 1492], [588, 17000], [586, 752], [42, 43000], [584, 22000], [583, 10000], [578, 5360], [575, 14000], [572, 8927], [570, 23000], [569, 47000], [560, 16000], [553, 1472], [543, 23000], [539, 22000], [538, 9571], [533, 18000], [525, 11000], [523, 14000], [516, 1314], [512, 57000], [506, 66000], [505, 12000], [10, 230], [502, 26000], [498, 12000], [495, 1223], [493, 23000], [493, 16000], [490, 10000], [487, 38000], [486, 7832], [481, 135000], [480, 16000], [478, 30000], [473, 10000], [460, 376000], [459, 28000], [458, 6744], [455, 11000], [454, 127000], [450, 963], [445, 19000], [442, 195000], [442, 10000], [441, 1577], [441, 14000], [439, 9068], [438, 226000], [438, 22000], [437, 17000], [437, 11000], [428, 20000], [415, 76000], [414, 14000], [30, 628000], [409, 3706], [43, 17000], [405, 39000], [404, 51000], [402, 31000], [32, 110000], [400, 160], [399, 46000], [398, 28000], [396, 2303], [396, 18000], [392, 44000], [390, 20000], [390, 47000], [390, 119000], [389, 178000], [389, 532000], [388, 98000], [388, 21000], [387, 748000], [387, 1163000], [387, 11000], [385, 31000], [379, 125000], [379, 12000], [379, 85000], [377, 432], [40, 743000], [43, 18000], [376, 9580], [376, 18000], [376, 37000], [376, 12000], [375, 569], [374, 30], [374, 8662], [373, 14000], [371, 39000], [371, 38000], [370, 37000], [370, 2101], [369, 418000], [369, 516000], [369, 394], [368, 255], [368, 1640000], [367, 5935], [27, 69], [364, 1495000], [363, 354000], [363, 36000], [362, 706000], [362, 16000], [362, 45000], [361, 158000], [361, 1782000], [361, 401], [361, 32000], [360, 487000], [355, 685000], [355, 40000], [354, 5637], [354, 18000], [353, 18000], [352, 3252000], [352, 595], [351, 607000], [351, 2260000], [350, 2666000], [350, 31000], [348, 23000], [348, 24000], [346, 32000], [346, 1699000], [345, 389], [36, 208000], [345, 805000], [345, 34000], [344, 747], [344, 1759000], [344, 574000], [344, 21000], [344, 70000], [342, 609000], [342, 773000], [37, 23000], [341, 44000], [340, 9109], [340, 96], [340, 52000], [339, 540], [339, 15000], [339, 11000], [339, 12000], [339, 102000], [338, 14000], [338, 126000], [337, 2420000], [336, 264000], [336, 30000], [336, 238], [336, 25000], [336, 2492], [335, 47000], [334, 180000], [334, 6909], [334, 21000], [334, 38000], [333, 175000], [333, 2229], [333, 28000], [331, 203000], [331, 21000], [331, 27000], [46, 15000], [326, 72000], [325, 32000], [324, 593], [323, 49000], [323, 43000], [322, 303000], [322, 514000], [322, 20000], [321, 296000], [321, 82], [320, 2078000], [320, 2088000], [320, 15000], [320, 48000], [319, 1709000], [319, 99000], [40, 807], [318, 540000], [318, 52000], [317, 593], [317, 52000], [316, 244000], [316, 27000], [315, 18000], [315, 39000], [315, 36000], [314, 88000], [44, 157000], [313, 28000], [312, 304000], [312, 56000], [312, 42000], [311, 129000], [311, 9051], [311, 11000], [310, 145000], [308, 56000], [308, 2509], [308, 108000], [308, 79000], [307, 583000], [307, 3152000], [307, 39000], [307, 15000], [307, 60000], [305, 2815000], [305, 13000], [305, 31000], [305, 116000], [304, 236000], [304, 276000], [304, 11000], [303, 2194000], [303, 25000], [302, 145000], [302, 55000], [302, 51000], [302, 314000], [302, 1669000], [302, 876000], [301, 185000], [34, 11000], [301, 53000], [301, 53000], [300, 3340], [300, 54000], [300, 53000], [300, 58000], [300, 9048], [43, 8416], [300, 45000], [299, 1161], [299, 2263], [299, 32000], [299, 3751000], [299, 132000], [299, 34000], [298, 45000], [298, 3773], [298, 1010000], [298, 2101000], [298, 35000], [298, 55000], [298, 11000], [297, 181000], [297, 669000], [297, 88000], [296, 520000], [296, 119000], [296, 234], [296, 1222], [48, 1225000], [296, 43000], [296, 14000], [296, 22000], [295, 9621], [295, 1001], [294, 5547], [293, 3803], [292, 155000], [292, 2118000], [292, 52000], [292, 1343000], [292, 33000], [291, 10000], [291, 970], [290, 1751], [289, 162000], [289, 2096000], [288, 172000], [288, 33000], [288, 22000], [287, 130000], [287, 36000], [287, 27000], [47, 25000], [286, 142000], [286, 233000], [286, 29000], [286, 9157], [286, 23000], [7, 580], [285, 482000], [285, 373000], [285, 2013000], [284, 3359], [284, 60000], [283, 804000], [283, 57000], [282, 122000], [282, 9746], [281, 2233000], [281, 40000], [279, 16000], [18, 194000], [279, 49000], [279, 10000], [278, 2184], [278, 130000], [276, 369], [276, 15000], [15, 1585], [276, 30000], [275, 522000], [275, 30000], [275, 17000], [274, 13000], [273, 123000], [273, 12000], [273, 65000], [272, 345], [272, 1872000], [271, 384000], [30, 35000], [270, 393000], [20, 507], [270, 93000], [269, 20000], [268, 220000], [268, 18000], [268, 130], [268, 53], [268, 16000], [267, 113], [267, 11000], [40, 15000], [266, 756000], [266, 413], [266, 38000], [266, 1551000], [265, 40000], [265, 28000], [264, 17000], [264, 234], [264, 49000], [263, 33000], [262, 340000], [262, 9080], [42, 4693], [261, 24000], [260, 254000], [38, 22000], [52, 4791], [257, 132000], [257, 20000], [256, 6815], [255, 36000], [255, 42000], [26, 745000], [255, 16000], [254, 366000], [254, 516000], [253, 9798], [253, 69], [253, 22], [253, 920], [253, 123000], [252, 142000], [252, 3943], [250, 112000], [250, 557], [250, 22000], [250, 90000], [249, 12000], [249, 359000], [248, 31000], [247, 513000], [247, 73], [247, 44], [247, 980], [247, 3418], [246, 5208], [244, 2072], [244, 14000], [243, 230000], [242, 170], [241, 1767], [241, 19000], [241, 207], [241, 79], [42, 163000], [240, 50000], [239, 951000], [239, 31000], [239, 22000], [238, 50000], [237, 2988], [237, 265000], [237, 6260], [237, 12000], [47, 111000], [237, 68000], [237, 80000], [236, 2054000], [236, 1203], [236, 56000], [235, 2542], [235, 10000], [235, 30000], [234, 2409000], [234, 1288000], [234, 510000], [234, 771000], [234, 922000], [233, 23000], [233, 2627], [233, 19000], [39, 14000], [233, 63000], [232, 449000], [232, 451000], [47, 21000], [30, 477], [231, 52000], [230, 42000], [230, 13000], [230, 28000], [230, 114000], [230, 71000], [229, 819000], [229, 1001], [229, 108000], [228, 347000], [228, 80000], [228, 79000], [228, 246000], [228, 1447], [227, 3242], [227, 14000], [227, 33000], [227, 13000], [226, 10000], [226, 21000], [226, 18000], [226, 17000], [226, 41000], [224, 1234000], [224, 18000], [224, 127000], [224, 17000], [223, 757000], [223, 174000], [223, 147000], [223, 45000], [223, 18000], [223, 3979], [223, 13000], [222, 1130000], [222, 345], [222, 299000], [222, 11000], [221, 1239], [221, 25000], [221, 21000], [220, 612000], [220, 2222000], [219, 39000], [218, 2495], [218, 1309000], [217, 79000], [217, 327000], [217, 5240], [216, 22000], [215, 25000], [215, 4644], [215, 1444000], [32, 75000], [214, 307000], [214, 287], [213, 1149], [213, 284000], [213, 234000], [213, 672], [212, 371000], [212, 59000], [22, 4656], [211, 24000], [211, 65], [210, 6977], [209, 55000], [208, 150], [207, 648000], [206, 2385000], [206, 1054000], [206, 12000], [35, 55000], [205, 1789000], [205, 592000], [204, 261000], [204, 15000], [203, 4032], [203, 11000], [202, 3031], [15, 59000], [202, 250000], [202, 13000], [201, 455000], [200, 71000], [199, 413], [198, 16000], [198, 1298], [198, 22000], [197, 2811000], [197, 75000], [197, 15000], [197, 760000], [196, 1089000], [196, 44000], [196, 380000], [196, 13000], [196, 22000], [196, 331000], [37, 12000], [195, 15000], [195, 1896], [195, 11000], [195, 2408], [194, 55000], [194, 452000], [194, 18], [194, 513000], [194, 20000], [193, 2569], [193, 21000], [193, 708000], [193, 876000], [192, 985000], [192, 23000], [192, 30000], [191, 37000], [191, 116000], [191, 10000], [190, 33000], [189, 26000], [189, 80], [189, 399], [188, 1527000], [188, 902000], [187, 48000], [187, 12000], [52, 809], [187, 123000], [186, 28000], [186, 24000], [186, 1098000], [185, 11000], [185, 9925], [185, 107000], [185, 82000], [38, 14000], [184, 55000], [183, 318000], [183, 697000], [183, 534], [183, 8081], [182, 2804], [182, 15000], [182, 539], [181, 331000], [181, 1273000], [181, 19000], [181, 135000], [180, 1315000], [180, 2955], [180, 92000], [180, 193000], [180, 362000], [180, 68000], [179, 20000], [179, 556000], [179, 912000], [179, 6043], [178, 191000], [178, 3351], [177, 6289], [177, 972000], [30, 21000], [175, 2299], [175, 32000], [175, 17000], [174, 1043000], [174, 19000], [174, 519000], [173, 103000], [173, 952], [172, 13000], [172, 91000], [171, 209000], [171, 620000], [171, 53000], [170, 950000], [170, 67000], [170, 115000], [169, 46000], [169, 20000], [168, 1006], [168, 36000], [168, 191000], [168, 1138], [168, 710000], [167, 369000], [167, 319], [166, 11000], [165, 2827], [164, 163000], [164, 10000], [164, 3292], [164, 44000], [163, 27000], [163, 737], [163, 919000], [163, 32000], [163, 40000], [163, 33000], [162, 58000], [162, 131000], [162, 49000], [162, 820], [161, 129000], [161, 122000], [161, 29000], [161, 354], [160, 46000], [160, 5346], [160, 27000], [159, 238000], [159, 14000], [159, 2602], [159, 1027000], [159, 20000], [159, 206000], [158, 13000], [49, 26000], [157, 3405], [157, 25000], [157, 53000], [156, 22000], [156, 4474], [155, 7705], [155, 273], [154, 2458], [154, 11000], [154, 22000], [42, 493000], [153, 16000], [153, 8886], [153, 166000], [153, 65000], [152, 103000], [152, 179000], [151, 49000], [151, 292000], [151, 7519], [41, 15000], [151, 19000], [150, 247], [150, 6669], [150, 136000], [150, 84000], [149, 6136], [148, 1374], [148, 120000], [148, 139000], [148, 138000], [148, 53000], [147, 16000], [147, 675000], [147, 616], [146, 28000], [146, 4253], [146, 4669], [146, 8844], [146, 54000], [146, 355000], [146, 9658], [145, 9880], [145, 21000], [145, 4809], [47, 621000], [143, 196000], [49, 9536], [142, 53000], [142, 8035], [142, 2270], [141, 851000], [141, 7842], [141, 9118], [141, 34000], [140, 44000], [140, 26000], [140, 335], [140, 1022], [139, 151000], [139, 624000], [139, 123000], [139, 1133000], [139, 5081], [138, 131000], [138, 120000], [138, 222], [138, 18000], [137, 42000], [137, 211000], [137, 2398], [136, 4075], [136, 4698], [135, 3653], [135, 336000], [134, 16000], [134, 736000], [134, 12000], [46, 3923], [134, 68000], [133, 1642], [133, 281000], [133, 1055], [132, 7865], [131, 601], [131, 23000], [131, 1080], [131, 174000], [131, 361000], [131, 127000], [131, 535000], [131, 440000], [131, 21000], [43, 170000], [130, 286000], [130, 216000], [130, 100000], [130, 93000], [129, 4218], [128, 1201], [128, 1171], [128, 64000], [128, 49000], [128, 575], [128, 10000], [128, 738000], [128, 52000], [127, 32000], [127, 369000], [46, 294000], [126, 2738], [126, 285], [126, 24000], [125, 71000], [125, 907], [124, 47000], [38, 11000], [123, 1367], [123, 3643], [19, 170000], [123, 12000], [123, 78000], [122, 245], [122, 1352], [122, 8085], [122, 2281], [122, 331], [41, 1735], [122, 240000], [122, 10000], [121, 8936], [121, 733], [121, 5062], [121, 12000], [120, 623], [120, 12000], [120, 4649], [120, 85000], [119, 14000], [118, 177000], [118, 953000], [117, 971], [116, 3394], [116, 217000], [47, 16000], [116, 109000], [116, 788000], [116, 132000], [115, 479], [115, 882], [115, 11000], [114, 304], [114, 1000], [114, 199], [114, 17000], [114, 96000], [114, 1061000], [113, 15000], [113, 15000], [111, 80000], [110, 1070000], [110, 56000], [110, 37000], [109, 591000], [109, 96000], [108, 1538], [52, 19000], [108, 14000], [108, 47000], [107, 193], [107, 27000], [107, 222000], [107, 172000], [107, 118000], [106, 10000], [106, 1350], [106, 148000], [105, 15000], [105, 24000], [105, 46000], [105, 1243000], [105, 31000], [105, 215000], [104, 136000], [35, 335000], [103, 2159], [103, 12000], [103, 53000], [101, 539], [101, 2024], [100, 215000], [100, 498000], [100, 144000], [99, 1557], [99, 3053], [99, 191000], [98, 1584], [98, 1255], [98, 728], [98, 369000], [98, 108000], [97, 2345], [97, 499], [96, 127000], [95, 168000], [95, 440000], [94, 350], [94, 134000], [94, 277000], [94, 367], [92, 211], [92, 304000], [92, 174000], [92, 225000], [92, 1276000], [91, 25000], [90, 126000], [90, 93000], [89, 11000], [89, 23000], [89, 1152], [89, 103000], [89, 151000], [88, 385000], [44, 206000], [27, 17000], [87, 48000], [86, 29000], [86, 2700], [86, 431000], [85, 4486], [85, 338000], [85, 812000], [84, 14000], [83, 464000], [82, 6174], [82, 365000], [80, 476], [80, 120000], [80, 18000], [80, 215000], [51, 5225], [80, 92000], [79, 151000], [52, 3667], [79, 143000], [78, 5737], [77, 101000], [75, 134000], [74, 181000], [72, 11000], [72, 342000], [72, 12000], [72, 4453], [71, 10000], [71, 4291], [71, 17000], [33, 192000], [70, 488], [70, 142000], [70, 56000], [70, 19000], [70, 1463], [70, 9160], [69, 56000], [69, 33000], [69, 30000], [68, 314], [67, 2371], [67, 3627], [67, 9694], [66, 51000], [65, 12000], [65, 7252], [65, 98000], [65, 358000], [65, 366], [65, 56000], [64, 20000], [64, 349000], [64, 13000], [64, 2270], [62, 4143], [62, 234000], [62, 28000], [61, 52000], [61, 109000], [61, 811000], [61, 797000], [60, 561000], [60, 237000], [43, 6696], [60, 24000], [60, 4275], [60, 2759], [60, 28000], [59, 112000], [59, 20000], [50, 14000], [45, 4207], [57, 1718], [57, 58000], [57, 11000], [55, 29000], [55, 323000], [55, 14000], [55, 25000], [54, 15000], [53, 311000], [21, 340000], [53, 150000], [53, 725000], [53, 2504], [53, 82000]], \"columns\": [{\"dtype\": \"int\", \"name\": \"id\"}, {\"dtype\": \"str\", \"name\": \"Title\"}, {\"dtype\": \"int\", \"name\": \"Words_of_the_Title\"}, {\"dtype\": \"int\", \"name\": \"English_or_not\"}, {\"dtype\": \"int\", \"name\": \"person\"}, {\"dtype\": \"int\", \"name\": \"the_Length_of_one_Episode\"}, {\"dtype\": \"int\", \"name\": \"the_Playback_Amount_of_one_Episode\"}, {\"dtype\": \"int\", \"name\": \"Release_Week\"}, {\"dtype\": \"str\", \"name\": \"PageUrl\"}, {\"dtype\": \"str\", \"name\": \"Relative\"}, {\"dtype\": \"float\", \"name\": \"playbackperweek\"}]}, e);\n",
       "                });\n",
       "            })();\n",
       "        "
      ]
     },
     "metadata": {},
     "output_type": "display_data"
    }
   ],
   "source": [
    "datahigh.show(view=\"Scatter Plot\", x=\"Words_of_the_Title\", y=\"the_Playback_Amount_of_one_Episode\")\n",
    "data.show(view=\"Scatter Plot\", x=\"the_Length_of_one_Episode\", y=\"the_Playback_Amount_of_one_Episode\")"
   ]
  },
  {
   "cell_type": "code",
   "execution_count": 91,
   "metadata": {
    "collapsed": false
   },
   "outputs": [
    {
     "data": {
      "application/javascript": [
       "$(\"head\").append($(\"<link/>\").attr({\n",
       "  rel:  \"stylesheet\",\n",
       "  type: \"text/css\",\n",
       "  href: \"//cdnjs.cloudflare.com/ajax/libs/font-awesome/4.1.0/css/font-awesome.min.css\"\n",
       "}));\n",
       "$(\"head\").append($(\"<link/>\").attr({\n",
       "  rel:  \"stylesheet\",\n",
       "  type: \"text/css\",\n",
       "  href: \"https://static.turi.com/products/graphlab-create/2.1/canvas/css/canvas.css\"\n",
       "}));\n",
       "\n",
       "            (function(){\n",
       "\n",
       "                var e = null;\n",
       "                if (typeof element == 'undefined') {\n",
       "                    var scripts = document.getElementsByTagName('script');\n",
       "                    var thisScriptTag = scripts[scripts.length-1];\n",
       "                    var parentDiv = thisScriptTag.parentNode;\n",
       "                    e = document.createElement('div');\n",
       "                    parentDiv.appendChild(e);\n",
       "                } else {\n",
       "                    e = element[0];\n",
       "                }\n",
       "\n",
       "                if (typeof requirejs !== 'undefined') {\n",
       "                    // disable load timeout; ipython_app.js is large and can take a while to load.\n",
       "                    requirejs.config({waitSeconds: 0});\n",
       "                }\n",
       "\n",
       "                require(['https://static.turi.com/products/graphlab-create/2.1/canvas/js/ipython_app.js'], function(IPythonApp){\n",
       "                    var app = new IPythonApp();\n",
       "                    app.attachView('sframe','Plots', {\"selected_variable\": {\"name\": [\"datahigh\"], \"descriptives\": {\"rows\": 327, \"columns\": 11}, \"view_component\": \"Plots\", \"view_file\": \"sframe\", \"view_params\": {\"y\": \"playbackperweek\", \"x\": \"English_or_not\", \"columns\": [\"id\", \"Title\", \"Words_of_the_Title\", \"English_or_not\", \"person\", \"the_Length_of_one_Episode\", \"the_Playback_Amount_of_one_Episode\", \"Release_Week\", \"PageUrl\", \"Relative\", \"playbackperweek\"], \"view\": \"BoxWhisker Plot\"}, \"view_components\": [\"Summary\", \"Table\", \"Bar Chart\", \"BoxWhisker Plot\", \"Line Chart\", \"Scatter Plot\", \"Heat Map\", \"Plots\"], \"type\": \"SFrame\", \"columns\": [{\"dtype\": \"int\", \"name\": \"id\"}, {\"dtype\": \"str\", \"name\": \"Title\"}, {\"dtype\": \"int\", \"name\": \"Words_of_the_Title\"}, {\"dtype\": \"int\", \"name\": \"English_or_not\"}, {\"dtype\": \"str\", \"name\": \"person\"}, {\"dtype\": \"int\", \"name\": \"the_Length_of_one_Episode\"}, {\"dtype\": \"int\", \"name\": \"the_Playback_Amount_of_one_Episode\"}, {\"dtype\": \"int\", \"name\": \"Release_Week\"}, {\"dtype\": \"str\", \"name\": \"PageUrl\"}, {\"dtype\": \"str\", \"name\": \"Relative\"}, {\"dtype\": \"float\", \"name\": \"playbackperweek\"}], \"column_identifiers\": [\"the_Playback_Amount_of_one_Episode\", \"Title\", \"playbackperweek\", \"the_Length_of_one_Episode\", \"Relative\", \"person\", \"Release_Week\", \"PageUrl\", \"English_or_not\", \"Words_of_the_Title\", \"id\"]}, \"complete\": 1, \"ipython\": true, \"progress\": 1.0, \"data\": {\"grouped\": [[0, [17571.428571428572, 22000.0, 34333.333333333336, 35833.333333333336, 64500.0, 147000.0, 263500.0, 522000.0, 544500.0, 1192500.0, 2409000.0]], [1, [24285.714285714286, 24285.714285714286, 39000.0, 45000.0, 63200.0, 130500.0, 185750.0, 314000.0, 425500.0, 805000.0, 805000.0]]], \"omitted\": 0}, \"columns\": [{\"dtype\": \"int\", \"name\": \"id\"}, {\"dtype\": \"str\", \"name\": \"Title\"}, {\"dtype\": \"int\", \"name\": \"Words_of_the_Title\"}, {\"dtype\": \"int\", \"name\": \"English_or_not\"}, {\"dtype\": \"str\", \"name\": \"person\"}, {\"dtype\": \"int\", \"name\": \"the_Length_of_one_Episode\"}, {\"dtype\": \"int\", \"name\": \"the_Playback_Amount_of_one_Episode\"}, {\"dtype\": \"int\", \"name\": \"Release_Week\"}, {\"dtype\": \"str\", \"name\": \"PageUrl\"}, {\"dtype\": \"str\", \"name\": \"Relative\"}, {\"dtype\": \"float\", \"name\": \"playbackperweek\"}]}, e);\n",
       "                });\n",
       "            })();\n",
       "        "
      ]
     },
     "metadata": {},
     "output_type": "display_data"
    }
   ],
   "source": [
    "datahigh.show(view='BoxWhisker Plot', x='English_or_not', y='playbackperweek')"
   ]
  },
  {
   "cell_type": "code",
   "execution_count": 92,
   "metadata": {
    "collapsed": false
   },
   "outputs": [
    {
     "data": {
      "text/html": [
       "<pre>Linear regression:</pre>"
      ],
      "text/plain": [
       "Linear regression:"
      ]
     },
     "metadata": {},
     "output_type": "display_data"
    },
    {
     "data": {
      "text/html": [
       "<pre>--------------------------------------------------------</pre>"
      ],
      "text/plain": [
       "--------------------------------------------------------"
      ]
     },
     "metadata": {},
     "output_type": "display_data"
    },
    {
     "data": {
      "text/html": [
       "<pre>Number of examples          : 637</pre>"
      ],
      "text/plain": [
       "Number of examples          : 637"
      ]
     },
     "metadata": {},
     "output_type": "display_data"
    },
    {
     "data": {
      "text/html": [
       "<pre>Number of features          : 3</pre>"
      ],
      "text/plain": [
       "Number of features          : 3"
      ]
     },
     "metadata": {},
     "output_type": "display_data"
    },
    {
     "data": {
      "text/html": [
       "<pre>Number of unpacked features : 3</pre>"
      ],
      "text/plain": [
       "Number of unpacked features : 3"
      ]
     },
     "metadata": {},
     "output_type": "display_data"
    },
    {
     "data": {
      "text/html": [
       "<pre>Number of coefficients    : 4</pre>"
      ],
      "text/plain": [
       "Number of coefficients    : 4"
      ]
     },
     "metadata": {},
     "output_type": "display_data"
    },
    {
     "data": {
      "text/html": [
       "<pre>Starting Newton Method</pre>"
      ],
      "text/plain": [
       "Starting Newton Method"
      ]
     },
     "metadata": {},
     "output_type": "display_data"
    },
    {
     "data": {
      "text/html": [
       "<pre>--------------------------------------------------------</pre>"
      ],
      "text/plain": [
       "--------------------------------------------------------"
      ]
     },
     "metadata": {},
     "output_type": "display_data"
    },
    {
     "data": {
      "text/html": [
       "<pre>+-----------+----------+--------------+--------------------+----------------------+---------------+-----------------+</pre>"
      ],
      "text/plain": [
       "+-----------+----------+--------------+--------------------+----------------------+---------------+-----------------+"
      ]
     },
     "metadata": {},
     "output_type": "display_data"
    },
    {
     "data": {
      "text/html": [
       "<pre>| Iteration | Passes   | Elapsed Time | Training-max_error | Validation-max_error | Training-rmse | Validation-rmse |</pre>"
      ],
      "text/plain": [
       "| Iteration | Passes   | Elapsed Time | Training-max_error | Validation-max_error | Training-rmse | Validation-rmse |"
      ]
     },
     "metadata": {},
     "output_type": "display_data"
    },
    {
     "data": {
      "text/html": [
       "<pre>+-----------+----------+--------------+--------------------+----------------------+---------------+-----------------+</pre>"
      ],
      "text/plain": [
       "+-----------+----------+--------------+--------------------+----------------------+---------------+-----------------+"
      ]
     },
     "metadata": {},
     "output_type": "display_data"
    },
    {
     "data": {
      "text/html": [
       "<pre>+-----------+----------+--------------+--------------------+----------------------+---------------+-----------------+</pre>"
      ],
      "text/plain": [
       "+-----------+----------+--------------+--------------------+----------------------+---------------+-----------------+"
      ]
     },
     "metadata": {},
     "output_type": "display_data"
    },
    {
     "data": {
      "text/html": [
       "<pre>TERMINATED: Terminated due to numerical overflow error.</pre>"
      ],
      "text/plain": [
       "TERMINATED: Terminated due to numerical overflow error."
      ]
     },
     "metadata": {},
     "output_type": "display_data"
    },
    {
     "data": {
      "text/html": [
       "<pre>This model may not be ideal. To improve it, consider doing one of the following:\n",
       "(a) Increasing the regularization.\n",
       "(b) Standardizing the input data.\n",
       "(c) Removing highly correlated features.\n",
       "(d) Removing `inf` and `NaN` values in the training data.</pre>"
      ],
      "text/plain": [
       "This model may not be ideal. To improve it, consider doing one of the following:\n",
       "(a) Increasing the regularization.\n",
       "(b) Standardizing the input data.\n",
       "(c) Removing highly correlated features.\n",
       "(d) Removing `inf` and `NaN` values in the training data."
      ]
     },
     "metadata": {},
     "output_type": "display_data"
    },
    {
     "name": "stdout",
     "output_type": "stream",
     "text": [
      "Class                          : LinearRegression\n",
      "\n",
      "Schema\n",
      "------\n",
      "Number of coefficients         : 4\n",
      "Number of examples             : 637\n",
      "Number of feature columns      : 3\n",
      "Number of unpacked features    : 3\n",
      "\n",
      "Hyperparameters\n",
      "---------------\n",
      "L1 penalty                     : 0.0\n",
      "L2 penalty                     : 0.01\n",
      "\n",
      "Training Summary\n",
      "----------------\n",
      "Solver                         : newton\n",
      "Solver iterations              : 0\n",
      "Solver status                  : TERMINATED: Terminated due to numerical overflow error. \n",
      "Training time (sec)            : 0.0007\n",
      "\n",
      "Settings\n",
      "--------\n",
      "Residual sum of squares        : inf\n",
      "Training RMSE                  : inf\n",
      "\n",
      "Highest Positive Coefficients\n",
      "-----------------------------\n",
      "No Positive Coefficients       : \n",
      "\n",
      "Lowest Negative Coefficients\n",
      "----------------------------\n",
      "No Negative Coefficients       : \n",
      "\n"
     ]
    }
   ],
   "source": [
    "example_model = graphlab.linear_regression.create(train_datalow, target = 'playbackperweek', features =my_features, \n",
    "                                                  validation_set = train_datalow)\n",
    "example_model.summary()"
   ]
  },
  {
   "cell_type": "code",
   "execution_count": 94,
   "metadata": {
    "collapsed": false
   },
   "outputs": [],
   "source": [
    "import matplotlib.pyplot as plt\n",
    "%matplotlib inline"
   ]
  },
  {
   "cell_type": "code",
   "execution_count": 136,
   "metadata": {
    "collapsed": false
   },
   "outputs": [
    {
     "data": {
      "text/html": [
       "<pre>Linear regression:</pre>"
      ],
      "text/plain": [
       "Linear regression:"
      ]
     },
     "metadata": {},
     "output_type": "display_data"
    },
    {
     "data": {
      "text/html": [
       "<pre>--------------------------------------------------------</pre>"
      ],
      "text/plain": [
       "--------------------------------------------------------"
      ]
     },
     "metadata": {},
     "output_type": "display_data"
    },
    {
     "data": {
      "text/html": [
       "<pre>Number of examples          : 914</pre>"
      ],
      "text/plain": [
       "Number of examples          : 914"
      ]
     },
     "metadata": {},
     "output_type": "display_data"
    },
    {
     "data": {
      "text/html": [
       "<pre>Number of features          : 1</pre>"
      ],
      "text/plain": [
       "Number of features          : 1"
      ]
     },
     "metadata": {},
     "output_type": "display_data"
    },
    {
     "data": {
      "text/html": [
       "<pre>Number of unpacked features : 1</pre>"
      ],
      "text/plain": [
       "Number of unpacked features : 1"
      ]
     },
     "metadata": {},
     "output_type": "display_data"
    },
    {
     "data": {
      "text/html": [
       "<pre>Number of coefficients    : 2</pre>"
      ],
      "text/plain": [
       "Number of coefficients    : 2"
      ]
     },
     "metadata": {},
     "output_type": "display_data"
    },
    {
     "data": {
      "text/html": [
       "<pre>Starting Newton Method</pre>"
      ],
      "text/plain": [
       "Starting Newton Method"
      ]
     },
     "metadata": {},
     "output_type": "display_data"
    },
    {
     "data": {
      "text/html": [
       "<pre>--------------------------------------------------------</pre>"
      ],
      "text/plain": [
       "--------------------------------------------------------"
      ]
     },
     "metadata": {},
     "output_type": "display_data"
    },
    {
     "data": {
      "text/html": [
       "<pre>+-----------+----------+--------------+--------------------+----------------------+---------------+-----------------+</pre>"
      ],
      "text/plain": [
       "+-----------+----------+--------------+--------------------+----------------------+---------------+-----------------+"
      ]
     },
     "metadata": {},
     "output_type": "display_data"
    },
    {
     "data": {
      "text/html": [
       "<pre>| Iteration | Passes   | Elapsed Time | Training-max_error | Validation-max_error | Training-rmse | Validation-rmse |</pre>"
      ],
      "text/plain": [
       "| Iteration | Passes   | Elapsed Time | Training-max_error | Validation-max_error | Training-rmse | Validation-rmse |"
      ]
     },
     "metadata": {},
     "output_type": "display_data"
    },
    {
     "data": {
      "text/html": [
       "<pre>+-----------+----------+--------------+--------------------+----------------------+---------------+-----------------+</pre>"
      ],
      "text/plain": [
       "+-----------+----------+--------------+--------------------+----------------------+---------------+-----------------+"
      ]
     },
     "metadata": {},
     "output_type": "display_data"
    },
    {
     "data": {
      "text/html": [
       "<pre>+-----------+----------+--------------+--------------------+----------------------+---------------+-----------------+</pre>"
      ],
      "text/plain": [
       "+-----------+----------+--------------+--------------------+----------------------+---------------+-----------------+"
      ]
     },
     "metadata": {},
     "output_type": "display_data"
    },
    {
     "data": {
      "text/html": [
       "<pre>TERMINATED: Terminated due to numerical overflow error.</pre>"
      ],
      "text/plain": [
       "TERMINATED: Terminated due to numerical overflow error."
      ]
     },
     "metadata": {},
     "output_type": "display_data"
    },
    {
     "data": {
      "text/html": [
       "<pre>This model may not be ideal. To improve it, consider doing one of the following:\n",
       "(a) Increasing the regularization.\n",
       "(b) Standardizing the input data.\n",
       "(c) Removing highly correlated features.\n",
       "(d) Removing `inf` and `NaN` values in the training data.</pre>"
      ],
      "text/plain": [
       "This model may not be ideal. To improve it, consider doing one of the following:\n",
       "(a) Increasing the regularization.\n",
       "(b) Standardizing the input data.\n",
       "(c) Removing highly correlated features.\n",
       "(d) Removing `inf` and `NaN` values in the training data."
      ]
     },
     "metadata": {},
     "output_type": "display_data"
    }
   ],
   "source": [
    "slrm_1=graphlab.linear_regression.create(train_data,target='playbackperweek',features=['the_Length_of_one_Episode'],validation_set=train_data,verbose=True)"
   ]
  },
  {
   "cell_type": "code",
   "execution_count": 123,
   "metadata": {
    "collapsed": false
   },
   "outputs": [
    {
     "data": {
      "text/plain": [
       "[<matplotlib.lines.Line2D at 0x1300cfd10>,\n",
       " <matplotlib.lines.Line2D at 0x1300cfdd0>]"
      ]
     },
     "execution_count": 123,
     "metadata": {},
     "output_type": "execute_result"
    },
    {
     "data": {
      "image/png": "[encoded data removed]",
      "text/plain": [
       "<matplotlib.figure.Figure at 0x12d79bb90>"
      ]
     },
     "metadata": {},
     "output_type": "display_data"
    }
   ],
   "source": [
    "plt.plot(train_datalow['the_Length_of_one_Episode'],train_datalow['playbackperweek'],'.',\n",
    "        train_datalow['the_Length_of_one_Episode'], slrm_1.predict(train_datalow),'+')"
   ]
  },
  {
   "cell_type": "code",
   "execution_count": null,
   "metadata": {
    "collapsed": true
   },
   "outputs": [],
   "source": [
    "slrm_2=graphlab.linear_regression.create(train_datahigh,target='playbackperweek',features=['the_Length_of_one_Episode'],validation_set=train_datahigh,verbose=False)"
   ]
  },
  {
   "cell_type": "code",
   "execution_count": null,
   "metadata": {
    "collapsed": true
   },
   "outputs": [],
   "source": []
  },
  {
   "cell_type": "code",
   "execution_count": 99,
   "metadata": {
    "collapsed": true
   },
   "outputs": [],
   "source": [
    "def polynomial_sframe(feature, degree):\n",
    "    poly_sframe = graphlab.SFrame()\n",
    "    poly_sframe['power_1']= feature\n",
    "    if degree > 1:\n",
    "        for power in range(2, degree+1): \n",
    "            name = 'power_' + str(power)\n",
    "            poly_sframe[name]=feature.apply(lambda x: x**power)\n",
    "    return poly_sframe"
   ]
  },
  {
   "cell_type": "code",
   "execution_count": 112,
   "metadata": {
    "collapsed": true
   },
   "outputs": [],
   "source": [
    "polydata1=polynomial_sframe(train_datahigh['the_Length_of_one_Episode'],3)\n",
    "my_features1 = polydata1.column_names()\n",
    "polydata1['playbackperweek'] = train_datahigh['playbackperweek']"
   ]
  },
  {
   "cell_type": "code",
   "execution_count": 113,
   "metadata": {
    "collapsed": false
   },
   "outputs": [],
   "source": [
    "polymodel3=graphlab.linear_regression.create(polydata1,target='playbackperweek',features=my_features1,verbose=False)"
   ]
  },
  {
   "cell_type": "code",
   "execution_count": 114,
   "metadata": {
    "collapsed": false
   },
   "outputs": [
    {
     "data": {
      "text/plain": [
       "<bound method LinearRegression.summary of Class                          : LinearRegression\n",
       "\n",
       "Schema\n",
       "------\n",
       "Number of coefficients         : 4\n",
       "Number of examples             : 264\n",
       "Number of feature columns      : 3\n",
       "Number of unpacked features    : 3\n",
       "\n",
       "Hyperparameters\n",
       "---------------\n",
       "L1 penalty                     : 0.0\n",
       "L2 penalty                     : 0.01\n",
       "\n",
       "Training Summary\n",
       "----------------\n",
       "Solver                         : newton\n",
       "Solver iterations              : 1\n",
       "Solver status                  : SUCCESS: Optimal solution found.\n",
       "Training time (sec)            : 0.0015\n",
       "\n",
       "Settings\n",
       "--------\n",
       "Residual sum of squares        : 1.55137444134e+13\n",
       "Training RMSE                  : 242413.2492\n",
       "\n",
       "Highest Positive Coefficients\n",
       "-----------------------------\n",
       "(intercept)                    : 93022.743\n",
       "power_2                        : 6.6218\n",
       "\n",
       "Lowest Negative Coefficients\n",
       "----------------------------\n",
       "power_1                        : -103.5166\n",
       "power_3                        : -0.0131\n",
       ">"
      ]
     },
     "execution_count": 114,
     "metadata": {},
     "output_type": "execute_result"
    },
    {
     "data": {
      "image/png": "[encoded data removed]",
      "text/plain": [
       "<matplotlib.figure.Figure at 0x11d936110>"
      ]
     },
     "metadata": {},
     "output_type": "display_data"
    }
   ],
   "source": [
    "plt.plot(polydata1['power_1'],polydata1['playbackperweek'],'.',\n",
    "        polydata1['power_1'], polymodel3.predict(polydata1),'+')\n",
    "polymodel3.summary"
   ]
  },
  {
   "cell_type": "code",
   "execution_count": 139,
   "metadata": {
    "collapsed": false
   },
   "outputs": [
    {
     "data": {
      "text/plain": [
       "1077"
      ]
     },
     "execution_count": 139,
     "metadata": {},
     "output_type": "execute_result"
    }
   ],
   "source": [
    "len(data)"
   ]
  },
  {
   "cell_type": "code",
   "execution_count": null,
   "metadata": {
    "collapsed": true
   },
   "outputs": [],
   "source": []
  }
 ],
 "metadata": {
  "kernelspec": {
   "display_name": "Python 2",
   "language": "python",
   "name": "python2"
  },
  "language_info": {
   "codemirror_mode": {
    "name": "ipython",
    "version": 2
   },
   "file_extension": ".py",
   "mimetype": "text/x-python",
   "name": "python",
   "nbconvert_exporter": "python",
   "pygments_lexer": "ipython2",
   "version": "2.7.11"
  }
 },
 "nbformat": 4,
 "nbformat_minor": 0
}
