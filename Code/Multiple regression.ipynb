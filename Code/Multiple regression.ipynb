{
 "cells": [
  {
   "cell_type": "code",
   "execution_count": 1,
   "metadata": {
    "collapsed": true
   },
   "outputs": [],
   "source": [
    "import graphlab \n",
    "from graphlab import SFrame"
   ]
  },
  {
   "cell_type": "code",
   "execution_count": 11,
   "metadata": {
    "collapsed": false
   },
   "outputs": [
    {
     "data": {
      "text/html": [
       "<pre>Finished parsing file /Volumes/SILVA/新媒体数据/待统计处理0407/合并表3.csv</pre>"
      ],
      "text/plain": [
       "Finished parsing file /Volumes/SILVA/新媒体数据/待统计处理0407/合并表3.csv"
      ]
     },
     "metadata": {},
     "output_type": "display_data"
    },
    {
     "data": {
      "text/html": [
       "<pre>Parsing completed. Parsed 100 lines in 0.010209 secs.</pre>"
      ],
      "text/plain": [
       "Parsing completed. Parsed 100 lines in 0.010209 secs."
      ]
     },
     "metadata": {},
     "output_type": "display_data"
    },
    {
     "name": "stdout",
     "output_type": "stream",
     "text": [
      "------------------------------------------------------\n",
      "Inferred types from first 100 line(s) of file as \n",
      "column_type_hints=[int,int,int,int,int,int,float]\n",
      "If parsing fails due to incorrect types, you can correct\n",
      "the inferred type list above and pass it to read_csv in\n",
      "the column_type_hints argument\n",
      "------------------------------------------------------\n"
     ]
    },
    {
     "data": {
      "text/html": [
       "<pre>Finished parsing file /Volumes/SILVA/新媒体数据/待统计处理0407/合并表3.csv</pre>"
      ],
      "text/plain": [
       "Finished parsing file /Volumes/SILVA/新媒体数据/待统计处理0407/合并表3.csv"
      ]
     },
     "metadata": {},
     "output_type": "display_data"
    },
    {
     "data": {
      "text/html": [
       "<pre>Parsing completed. Parsed 1077 lines in 0.010287 secs.</pre>"
      ],
      "text/plain": [
       "Parsing completed. Parsed 1077 lines in 0.010287 secs."
      ]
     },
     "metadata": {},
     "output_type": "display_data"
    },
    {
     "data": {
      "text/html": [
       "<div style=\"max-height:1000px;max-width:1500px;overflow:auto;\"><table frame=\"box\" rules=\"cols\">\n",
       "    <tr>\n",
       "        <th style=\"padding-left: 1em; padding-right: 1em; text-align: center\">id</th>\n",
       "        <th style=\"padding-left: 1em; padding-right: 1em; text-align: center\">Words_of_the_Title</th>\n",
       "        <th style=\"padding-left: 1em; padding-right: 1em; text-align: center\">English_or_not</th>\n",
       "        <th style=\"padding-left: 1em; padding-right: 1em; text-align: center\">the_Length_of_one_Episode</th>\n",
       "        <th style=\"padding-left: 1em; padding-right: 1em; text-align: center\">the_Playback_Amount_of_on<br>e_Episode ...</th>\n",
       "        <th style=\"padding-left: 1em; padding-right: 1em; text-align: center\">Release_Week</th>\n",
       "    </tr>\n",
       "    <tr>\n",
       "        <td style=\"padding-left: 1em; padding-right: 1em; text-align: center; vertical-align: top\">344</td>\n",
       "        <td style=\"padding-left: 1em; padding-right: 1em; text-align: center; vertical-align: top\">15</td>\n",
       "        <td style=\"padding-left: 1em; padding-right: 1em; text-align: center; vertical-align: top\">0</td>\n",
       "        <td style=\"padding-left: 1em; padding-right: 1em; text-align: center; vertical-align: top\">194</td>\n",
       "        <td style=\"padding-left: 1em; padding-right: 1em; text-align: center; vertical-align: top\">18</td>\n",
       "        <td style=\"padding-left: 1em; padding-right: 1em; text-align: center; vertical-align: top\">3</td>\n",
       "    </tr>\n",
       "    <tr>\n",
       "        <td style=\"padding-left: 1em; padding-right: 1em; text-align: center; vertical-align: top\">737</td>\n",
       "        <td style=\"padding-left: 1em; padding-right: 1em; text-align: center; vertical-align: top\">15</td>\n",
       "        <td style=\"padding-left: 1em; padding-right: 1em; text-align: center; vertical-align: top\">0</td>\n",
       "        <td style=\"padding-left: 1em; padding-right: 1em; text-align: center; vertical-align: top\">253</td>\n",
       "        <td style=\"padding-left: 1em; padding-right: 1em; text-align: center; vertical-align: top\">22</td>\n",
       "        <td style=\"padding-left: 1em; padding-right: 1em; text-align: center; vertical-align: top\">3</td>\n",
       "    </tr>\n",
       "    <tr>\n",
       "        <td style=\"padding-left: 1em; padding-right: 1em; text-align: center; vertical-align: top\">741</td>\n",
       "        <td style=\"padding-left: 1em; padding-right: 1em; text-align: center; vertical-align: top\">10</td>\n",
       "        <td style=\"padding-left: 1em; padding-right: 1em; text-align: center; vertical-align: top\">0</td>\n",
       "        <td style=\"padding-left: 1em; padding-right: 1em; text-align: center; vertical-align: top\">374</td>\n",
       "        <td style=\"padding-left: 1em; padding-right: 1em; text-align: center; vertical-align: top\">30</td>\n",
       "        <td style=\"padding-left: 1em; padding-right: 1em; text-align: center; vertical-align: top\">3</td>\n",
       "    </tr>\n",
       "    <tr>\n",
       "        <td style=\"padding-left: 1em; padding-right: 1em; text-align: center; vertical-align: top\">738</td>\n",
       "        <td style=\"padding-left: 1em; padding-right: 1em; text-align: center; vertical-align: top\">13</td>\n",
       "        <td style=\"padding-left: 1em; padding-right: 1em; text-align: center; vertical-align: top\">0</td>\n",
       "        <td style=\"padding-left: 1em; padding-right: 1em; text-align: center; vertical-align: top\">247</td>\n",
       "        <td style=\"padding-left: 1em; padding-right: 1em; text-align: center; vertical-align: top\">44</td>\n",
       "        <td style=\"padding-left: 1em; padding-right: 1em; text-align: center; vertical-align: top\">3</td>\n",
       "    </tr>\n",
       "    <tr>\n",
       "        <td style=\"padding-left: 1em; padding-right: 1em; text-align: center; vertical-align: top\">731</td>\n",
       "        <td style=\"padding-left: 1em; padding-right: 1em; text-align: center; vertical-align: top\">15</td>\n",
       "        <td style=\"padding-left: 1em; padding-right: 1em; text-align: center; vertical-align: top\">0</td>\n",
       "        <td style=\"padding-left: 1em; padding-right: 1em; text-align: center; vertical-align: top\">253</td>\n",
       "        <td style=\"padding-left: 1em; padding-right: 1em; text-align: center; vertical-align: top\">69</td>\n",
       "        <td style=\"padding-left: 1em; padding-right: 1em; text-align: center; vertical-align: top\">4</td>\n",
       "    </tr>\n",
       "    <tr>\n",
       "        <td style=\"padding-left: 1em; padding-right: 1em; text-align: center; vertical-align: top\">735</td>\n",
       "        <td style=\"padding-left: 1em; padding-right: 1em; text-align: center; vertical-align: top\">19</td>\n",
       "        <td style=\"padding-left: 1em; padding-right: 1em; text-align: center; vertical-align: top\">0</td>\n",
       "        <td style=\"padding-left: 1em; padding-right: 1em; text-align: center; vertical-align: top\">268</td>\n",
       "        <td style=\"padding-left: 1em; padding-right: 1em; text-align: center; vertical-align: top\">53</td>\n",
       "        <td style=\"padding-left: 1em; padding-right: 1em; text-align: center; vertical-align: top\">3</td>\n",
       "    </tr>\n",
       "    <tr>\n",
       "        <td style=\"padding-left: 1em; padding-right: 1em; text-align: center; vertical-align: top\">766</td>\n",
       "        <td style=\"padding-left: 1em; padding-right: 1em; text-align: center; vertical-align: top\">10</td>\n",
       "        <td style=\"padding-left: 1em; padding-right: 1em; text-align: center; vertical-align: top\">0</td>\n",
       "        <td style=\"padding-left: 1em; padding-right: 1em; text-align: center; vertical-align: top\">231</td>\n",
       "        <td style=\"padding-left: 1em; padding-right: 1em; text-align: center; vertical-align: top\">53</td>\n",
       "        <td style=\"padding-left: 1em; padding-right: 1em; text-align: center; vertical-align: top\">3</td>\n",
       "    </tr>\n",
       "    <tr>\n",
       "        <td style=\"padding-left: 1em; padding-right: 1em; text-align: center; vertical-align: top\">730</td>\n",
       "        <td style=\"padding-left: 1em; padding-right: 1em; text-align: center; vertical-align: top\">13</td>\n",
       "        <td style=\"padding-left: 1em; padding-right: 1em; text-align: center; vertical-align: top\">0</td>\n",
       "        <td style=\"padding-left: 1em; padding-right: 1em; text-align: center; vertical-align: top\">247</td>\n",
       "        <td style=\"padding-left: 1em; padding-right: 1em; text-align: center; vertical-align: top\">73</td>\n",
       "        <td style=\"padding-left: 1em; padding-right: 1em; text-align: center; vertical-align: top\">4</td>\n",
       "    </tr>\n",
       "    <tr>\n",
       "        <td style=\"padding-left: 1em; padding-right: 1em; text-align: center; vertical-align: top\">748</td>\n",
       "        <td style=\"padding-left: 1em; padding-right: 1em; text-align: center; vertical-align: top\">14</td>\n",
       "        <td style=\"padding-left: 1em; padding-right: 1em; text-align: center; vertical-align: top\">0</td>\n",
       "        <td style=\"padding-left: 1em; padding-right: 1em; text-align: center; vertical-align: top\">211</td>\n",
       "        <td style=\"padding-left: 1em; padding-right: 1em; text-align: center; vertical-align: top\">65</td>\n",
       "        <td style=\"padding-left: 1em; padding-right: 1em; text-align: center; vertical-align: top\">3</td>\n",
       "    </tr>\n",
       "    <tr>\n",
       "        <td style=\"padding-left: 1em; padding-right: 1em; text-align: center; vertical-align: top\">424</td>\n",
       "        <td style=\"padding-left: 1em; padding-right: 1em; text-align: center; vertical-align: top\">8</td>\n",
       "        <td style=\"padding-left: 1em; padding-right: 1em; text-align: center; vertical-align: top\">0</td>\n",
       "        <td style=\"padding-left: 1em; padding-right: 1em; text-align: center; vertical-align: top\">51</td>\n",
       "        <td style=\"padding-left: 1em; padding-right: 1em; text-align: center; vertical-align: top\">22</td>\n",
       "        <td style=\"padding-left: 1em; padding-right: 1em; text-align: center; vertical-align: top\">1</td>\n",
       "    </tr>\n",
       "</table>\n",
       "<table frame=\"box\" rules=\"cols\">\n",
       "    <tr>\n",
       "        <th style=\"padding-left: 1em; padding-right: 1em; text-align: center\">perweek</th>\n",
       "    </tr>\n",
       "    <tr>\n",
       "        <td style=\"padding-left: 1em; padding-right: 1em; text-align: center; vertical-align: top\">6.0</td>\n",
       "    </tr>\n",
       "    <tr>\n",
       "        <td style=\"padding-left: 1em; padding-right: 1em; text-align: center; vertical-align: top\">7.333333333</td>\n",
       "    </tr>\n",
       "    <tr>\n",
       "        <td style=\"padding-left: 1em; padding-right: 1em; text-align: center; vertical-align: top\">10.0</td>\n",
       "    </tr>\n",
       "    <tr>\n",
       "        <td style=\"padding-left: 1em; padding-right: 1em; text-align: center; vertical-align: top\">14.66666667</td>\n",
       "    </tr>\n",
       "    <tr>\n",
       "        <td style=\"padding-left: 1em; padding-right: 1em; text-align: center; vertical-align: top\">17.25</td>\n",
       "    </tr>\n",
       "    <tr>\n",
       "        <td style=\"padding-left: 1em; padding-right: 1em; text-align: center; vertical-align: top\">17.66666667</td>\n",
       "    </tr>\n",
       "    <tr>\n",
       "        <td style=\"padding-left: 1em; padding-right: 1em; text-align: center; vertical-align: top\">17.66666667</td>\n",
       "    </tr>\n",
       "    <tr>\n",
       "        <td style=\"padding-left: 1em; padding-right: 1em; text-align: center; vertical-align: top\">18.25</td>\n",
       "    </tr>\n",
       "    <tr>\n",
       "        <td style=\"padding-left: 1em; padding-right: 1em; text-align: center; vertical-align: top\">21.66666667</td>\n",
       "    </tr>\n",
       "    <tr>\n",
       "        <td style=\"padding-left: 1em; padding-right: 1em; text-align: center; vertical-align: top\">22.0</td>\n",
       "    </tr>\n",
       "</table>\n",
       "[1077 rows x 7 columns]<br/>Note: Only the head of the SFrame is printed.<br/>You can use print_rows(num_rows=m, num_columns=n) to print more rows and columns.\n",
       "</div>"
      ],
      "text/plain": [
       "Columns:\n",
       "\tid\tint\n",
       "\tWords_of_the_Title\tint\n",
       "\tEnglish_or_not\tint\n",
       "\tthe_Length_of_one_Episode\tint\n",
       "\tthe_Playback_Amount_of_one_Episode\tint\n",
       "\tRelease_Week\tint\n",
       "\tperweek\tfloat\n",
       "\n",
       "Rows: 1077\n",
       "\n",
       "Data:\n",
       "+-----+--------------------+----------------+---------------------------+-------------------------------+\n",
       "|  id | Words_of_the_Title | English_or_not | the_Length_of_one_Episode | the_Playback_Amount_of_one... |\n",
       "+-----+--------------------+----------------+---------------------------+-------------------------------+\n",
       "| 344 |         15         |       0        |            194            |               18              |\n",
       "| 737 |         15         |       0        |            253            |               22              |\n",
       "| 741 |         10         |       0        |            374            |               30              |\n",
       "| 738 |         13         |       0        |            247            |               44              |\n",
       "| 731 |         15         |       0        |            253            |               69              |\n",
       "| 735 |         19         |       0        |            268            |               53              |\n",
       "| 766 |         10         |       0        |            231            |               53              |\n",
       "| 730 |         13         |       0        |            247            |               73              |\n",
       "| 748 |         14         |       0        |            211            |               65              |\n",
       "| 424 |         8          |       0        |             51            |               22              |\n",
       "+-----+--------------------+----------------+---------------------------+-------------------------------+\n",
       "+--------------+-------------+\n",
       "| Release_Week |   perweek   |\n",
       "+--------------+-------------+\n",
       "|      3       |     6.0     |\n",
       "|      3       | 7.333333333 |\n",
       "|      3       |     10.0    |\n",
       "|      3       | 14.66666667 |\n",
       "|      4       |    17.25    |\n",
       "|      3       | 17.66666667 |\n",
       "|      3       | 17.66666667 |\n",
       "|      4       |    18.25    |\n",
       "|      3       | 21.66666667 |\n",
       "|      1       |     22.0    |\n",
       "+--------------+-------------+\n",
       "[1077 rows x 7 columns]\n",
       "Note: Only the head of the SFrame is printed.\n",
       "You can use print_rows(num_rows=m, num_columns=n) to print more rows and columns."
      ]
     },
     "execution_count": 11,
     "metadata": {},
     "output_type": "execute_result"
    }
   ],
   "source": [
    "data=SFrame(data='/Volumes/SILVA/新媒体数据/待统计处理0407/合并表3.csv')\n",
    "train_data,test_data=data.random_split(0.85,seed=1)\n",
    "data"
   ]
  },
  {
   "cell_type": "code",
   "execution_count": 13,
   "metadata": {
    "collapsed": true
   },
   "outputs": [],
   "source": [
    "graphlab.canvas.set_target('ipynb')"
   ]
  },
  {
   "cell_type": "code",
   "execution_count": 15,
   "metadata": {
    "collapsed": true
   },
   "outputs": [],
   "source": [
    "my_features = ['Words_of_the_Title', 'the_Length_of_one_Episode','English_or_not']"
   ]
  },
  {
   "cell_type": "code",
   "execution_count": 16,
   "metadata": {
    "collapsed": false
   },
   "outputs": [
    {
     "data": {
      "application/javascript": [
       "$(\"head\").append($(\"<link/>\").attr({\n",
       "  rel:  \"stylesheet\",\n",
       "  type: \"text/css\",\n",
       "  href: \"//cdnjs.cloudflare.com/ajax/libs/font-awesome/4.1.0/css/font-awesome.min.css\"\n",
       "}));\n",
       "$(\"head\").append($(\"<link/>\").attr({\n",
       "  rel:  \"stylesheet\",\n",
       "  type: \"text/css\",\n",
       "  href: \"https://static.turi.com/products/graphlab-create/2.1/canvas/css/canvas.css\"\n",
       "}));\n",
       "\n",
       "            (function(){\n",
       "\n",
       "                var e = null;\n",
       "                if (typeof element == 'undefined') {\n",
       "                    var scripts = document.getElementsByTagName('script');\n",
       "                    var thisScriptTag = scripts[scripts.length-1];\n",
       "                    var parentDiv = thisScriptTag.parentNode;\n",
       "                    e = document.createElement('div');\n",
       "                    parentDiv.appendChild(e);\n",
       "                } else {\n",
       "                    e = element[0];\n",
       "                }\n",
       "\n",
       "                if (typeof requirejs !== 'undefined') {\n",
       "                    // disable load timeout; ipython_app.js is large and can take a while to load.\n",
       "                    requirejs.config({waitSeconds: 0});\n",
       "                }\n",
       "\n",
       "                require(['https://static.turi.com/products/graphlab-create/2.1/canvas/js/ipython_app.js'], function(IPythonApp){\n",
       "                    var app = new IPythonApp();\n",
       "                    app.attachView('sframe','Summary', {\"ipython\": true, \"sketch\": {\"Words_of_the_Title\": {\"std\": 5.503131725676761, \"complete\": true, \"min\": 6.0, \"max\": 48.0, \"quantile\": [6.0, 6.0, 6.0, 7.0, 7.0, 7.0, 8.0, 8.0, 8.0, 8.0, 8.0, 9.0, 9.0, 9.0, 9.0, 9.0, 10.0, 10.0, 10.0, 10.0, 10.0, 10.0, 11.0, 11.0, 11.0, 11.0, 11.0, 11.0, 12.0, 12.0, 12.0, 12.0, 12.0, 12.0, 13.0, 13.0, 13.0, 13.0, 13.0, 13.0, 13.0, 13.0, 14.0, 14.0, 14.0, 14.0, 14.0, 14.0, 14.0, 15.0, 15.0, 15.0, 15.0, 15.0, 15.0, 15.0, 15.0, 15.0, 15.0, 15.0, 16.0, 16.0, 16.0, 16.0, 16.0, 16.0, 17.0, 17.0, 17.0, 17.0, 17.0, 17.0, 18.0, 18.0, 18.0, 18.0, 18.0, 19.0, 19.0, 19.0, 19.0, 19.0, 19.0, 20.0, 20.0, 20.0, 20.0, 21.0, 21.0, 21.0, 22.0, 22.0, 23.0, 24.0, 25.0, 26.0, 27.0, 28.0, 29.0, 30.0, 48.0], \"median\": 15.0, \"numeric\": true, \"num_unique\": 31, \"num_undefined\": 0, \"var\": 30.284458790150087, \"progress\": 1.0, \"size\": 1077, \"frequent_items\": {\"6\": {\"frequency\": 26, \"value\": 6}, \"7\": {\"frequency\": 37, \"value\": 7}, \"8\": {\"frequency\": 55, \"value\": 8}, \"9\": {\"frequency\": 53, \"value\": 9}, \"10\": {\"frequency\": 62, \"value\": 10}, \"11\": {\"frequency\": 62, \"value\": 11}, \"12\": {\"frequency\": 68, \"value\": 12}, \"13\": {\"frequency\": 86, \"value\": 13}, \"14\": {\"frequency\": 78, \"value\": 14}, \"15\": {\"frequency\": 110, \"value\": 15}, \"16\": {\"frequency\": 67, \"value\": 16}, \"17\": {\"frequency\": 67, \"value\": 17}, \"18\": {\"frequency\": 56, \"value\": 18}, \"19\": {\"frequency\": 62, \"value\": 19}, \"20\": {\"frequency\": 43, \"value\": 20}, \"21\": {\"frequency\": 36, \"value\": 21}, \"22\": {\"frequency\": 18, \"value\": 22}, \"23\": {\"frequency\": 15, \"value\": 23}, \"24\": {\"frequency\": 5, \"value\": 24}, \"25\": {\"frequency\": 8, \"value\": 25}, \"26\": {\"frequency\": 13, \"value\": 26}, \"27\": {\"frequency\": 7, \"value\": 27}, \"28\": {\"frequency\": 20, \"value\": 28}, \"29\": {\"frequency\": 8, \"value\": 29}, \"30\": {\"frequency\": 7, \"value\": 30}, \"31\": {\"frequency\": 1, \"value\": 31}, \"32\": {\"frequency\": 3, \"value\": 32}, \"33\": {\"frequency\": 1, \"value\": 33}, \"35\": {\"frequency\": 1, \"value\": 35}, \"41\": {\"frequency\": 1, \"value\": 41}, \"48\": {\"frequency\": 1, \"value\": 48}}, \"mean\": 15.038997214484676}, \"the_Length_of_one_Episode\": {\"std\": 151.60917713819552, \"complete\": true, \"min\": 7.0, \"max\": 1079.0, \"quantile\": [7.0, 22.0, 32.0, 38.0, 42.0, 45.0, 48.0, 52.0, 55.0, 60.0, 62.0, 65.0, 70.0, 72.0, 80.0, 86.0, 89.0, 94.0, 98.0, 103.0, 106.0, 109.0, 114.0, 116.0, 121.0, 123.0, 126.0, 128.0, 131.0, 134.0, 138.0, 140.0, 143.0, 146.0, 150.0, 153.0, 156.0, 159.0, 162.0, 165.0, 169.0, 174.0, 179.0, 181.0, 184.0, 187.0, 192.0, 194.0, 196.0, 201.0, 206.0, 212.0, 215.0, 221.0, 223.0, 226.0, 229.0, 232.0, 234.0, 237.0, 241.0, 247.0, 253.0, 256.0, 264.0, 267.0, 271.0, 276.0, 281.0, 286.0, 288.0, 292.0, 296.0, 298.0, 300.0, 302.0, 305.0, 311.0, 315.0, 320.0, 324.0, 334.0, 338.0, 342.0, 345.0, 353.0, 362.0, 369.0, 376.0, 387.0, 396.0, 414.0, 442.0, 480.0, 505.0, 560.0, 588.0, 606.0, 639.0, 758.0, 1079.0], \"median\": 206.0, \"numeric\": true, \"num_unique\": 425, \"num_undefined\": 0, \"var\": 22985.342592520745, \"progress\": 1.0, \"size\": 1077, \"frequent_items\": {\"7\": {\"frequency\": 1, \"value\": 7}, \"10\": {\"frequency\": 1, \"value\": 10}, \"11\": {\"frequency\": 1, \"value\": 11}, \"15\": {\"frequency\": 3, \"value\": 15}, \"18\": {\"frequency\": 1, \"value\": 18}, \"19\": {\"frequency\": 1, \"value\": 19}, \"20\": {\"frequency\": 1, \"value\": 20}, \"21\": {\"frequency\": 1, \"value\": 21}, \"22\": {\"frequency\": 1, \"value\": 22}, \"26\": {\"frequency\": 1, \"value\": 26}, \"27\": {\"frequency\": 2, \"value\": 27}, \"30\": {\"frequency\": 7, \"value\": 30}, \"32\": {\"frequency\": 2, \"value\": 32}, \"33\": {\"frequency\": 1, \"value\": 33}, \"34\": {\"frequency\": 1, \"value\": 34}, \"35\": {\"frequency\": 2, \"value\": 35}, \"36\": {\"frequency\": 1, \"value\": 36}, \"37\": {\"frequency\": 2, \"value\": 37}, \"38\": {\"frequency\": 3, \"value\": 38}, \"39\": {\"frequency\": 1, \"value\": 39}, \"40\": {\"frequency\": 3, \"value\": 40}, \"41\": {\"frequency\": 2, \"value\": 41}, \"42\": {\"frequency\": 6, \"value\": 42}, \"43\": {\"frequency\": 5, \"value\": 43}, \"44\": {\"frequency\": 3, \"value\": 44}, \"45\": {\"frequency\": 1, \"value\": 45}, \"46\": {\"frequency\": 5, \"value\": 46}, \"47\": {\"frequency\": 5, \"value\": 47}, \"48\": {\"frequency\": 1, \"value\": 48}, \"49\": {\"frequency\": 3, \"value\": 49}, \"50\": {\"frequency\": 2, \"value\": 50}, \"51\": {\"frequency\": 3, \"value\": 51}, \"52\": {\"frequency\": 4, \"value\": 52}, \"53\": {\"frequency\": 6, \"value\": 53}, \"54\": {\"frequency\": 1, \"value\": 54}, \"55\": {\"frequency\": 4, \"value\": 55}, \"57\": {\"frequency\": 5, \"value\": 57}, \"59\": {\"frequency\": 2, \"value\": 59}, \"60\": {\"frequency\": 7, \"value\": 60}, \"61\": {\"frequency\": 4, \"value\": 61}, \"62\": {\"frequency\": 3, \"value\": 62}, \"64\": {\"frequency\": 4, \"value\": 64}, \"65\": {\"frequency\": 6, \"value\": 65}, \"66\": {\"frequency\": 1, \"value\": 66}, \"67\": {\"frequency\": 3, \"value\": 67}, \"68\": {\"frequency\": 1, \"value\": 68}, \"69\": {\"frequency\": 3, \"value\": 69}, \"70\": {\"frequency\": 7, \"value\": 70}, \"71\": {\"frequency\": 3, \"value\": 71}, \"72\": {\"frequency\": 4, \"value\": 72}, \"74\": {\"frequency\": 1, \"value\": 74}, \"75\": {\"frequency\": 1, \"value\": 75}, \"77\": {\"frequency\": 1, \"value\": 77}, \"78\": {\"frequency\": 1, \"value\": 78}, \"79\": {\"frequency\": 3, \"value\": 79}, \"80\": {\"frequency\": 6, \"value\": 80}, \"82\": {\"frequency\": 2, \"value\": 82}, \"83\": {\"frequency\": 1, \"value\": 83}, \"84\": {\"frequency\": 1, \"value\": 84}, \"85\": {\"frequency\": 3, \"value\": 85}, \"86\": {\"frequency\": 3, \"value\": 86}, \"87\": {\"frequency\": 3, \"value\": 87}, \"88\": {\"frequency\": 1, \"value\": 88}, \"89\": {\"frequency\": 5, \"value\": 89}, \"90\": {\"frequency\": 2, \"value\": 90}, \"91\": {\"frequency\": 1, \"value\": 91}, \"92\": {\"frequency\": 5, \"value\": 92}, \"94\": {\"frequency\": 4, \"value\": 94}, \"95\": {\"frequency\": 2, \"value\": 95}, \"96\": {\"frequency\": 1, \"value\": 96}, \"97\": {\"frequency\": 2, \"value\": 97}, \"98\": {\"frequency\": 5, \"value\": 98}, \"99\": {\"frequency\": 3, \"value\": 99}, \"100\": {\"frequency\": 3, \"value\": 100}, \"101\": {\"frequency\": 2, \"value\": 101}, \"103\": {\"frequency\": 3, \"value\": 103}, \"104\": {\"frequency\": 2, \"value\": 104}, \"105\": {\"frequency\": 6, \"value\": 105}, \"106\": {\"frequency\": 3, \"value\": 106}, \"107\": {\"frequency\": 5, \"value\": 107}, \"108\": {\"frequency\": 4, \"value\": 108}, \"109\": {\"frequency\": 2, \"value\": 109}, \"110\": {\"frequency\": 3, \"value\": 110}, \"111\": {\"frequency\": 1, \"value\": 111}, \"113\": {\"frequency\": 2, \"value\": 113}, \"114\": {\"frequency\": 6, \"value\": 114}, \"115\": {\"frequency\": 3, \"value\": 115}, \"116\": {\"frequency\": 6, \"value\": 116}, \"117\": {\"frequency\": 1, \"value\": 117}, \"118\": {\"frequency\": 2, \"value\": 118}, \"119\": {\"frequency\": 1, \"value\": 119}, \"120\": {\"frequency\": 4, \"value\": 120}, \"121\": {\"frequency\": 4, \"value\": 121}, \"122\": {\"frequency\": 8, \"value\": 122}, \"123\": {\"frequency\": 5, \"value\": 123}, \"124\": {\"frequency\": 2, \"value\": 124}, \"125\": {\"frequency\": 2, \"value\": 125}, \"126\": {\"frequency\": 3, \"value\": 126}, \"127\": {\"frequency\": 3, \"value\": 127}, \"128\": {\"frequency\": 8, \"value\": 128}, \"129\": {\"frequency\": 1, \"value\": 129}, \"130\": {\"frequency\": 4, \"value\": 130}, \"131\": {\"frequency\": 10, \"value\": 131}, \"132\": {\"frequency\": 1, \"value\": 132}, \"133\": {\"frequency\": 3, \"value\": 133}, \"134\": {\"frequency\": 5, \"value\": 134}, \"135\": {\"frequency\": 2, \"value\": 135}, \"136\": {\"frequency\": 2, \"value\": 136}, \"137\": {\"frequency\": 3, \"value\": 137}, \"138\": {\"frequency\": 4, \"value\": 138}, \"139\": {\"frequency\": 5, \"value\": 139}, \"140\": {\"frequency\": 4, \"value\": 140}, \"141\": {\"frequency\": 4, \"value\": 141}, \"142\": {\"frequency\": 3, \"value\": 142}, \"143\": {\"frequency\": 3, \"value\": 143}, \"145\": {\"frequency\": 3, \"value\": 145}, \"146\": {\"frequency\": 7, \"value\": 146}, \"147\": {\"frequency\": 3, \"value\": 147}, \"148\": {\"frequency\": 5, \"value\": 148}, \"149\": {\"frequency\": 1, \"value\": 149}, \"150\": {\"frequency\": 4, \"value\": 150}, \"151\": {\"frequency\": 5, \"value\": 151}, \"152\": {\"frequency\": 2, \"value\": 152}, \"153\": {\"frequency\": 4, \"value\": 153}, \"154\": {\"frequency\": 4, \"value\": 154}, \"155\": {\"frequency\": 2, \"value\": 155}, \"156\": {\"frequency\": 2, \"value\": 156}, \"157\": {\"frequency\": 4, \"value\": 157}, \"158\": {\"frequency\": 1, \"value\": 158}, \"159\": {\"frequency\": 6, \"value\": 159}, \"160\": {\"frequency\": 3, \"value\": 160}, \"161\": {\"frequency\": 4, \"value\": 161}, \"162\": {\"frequency\": 4, \"value\": 162}, \"163\": {\"frequency\": 6, \"value\": 163}, \"164\": {\"frequency\": 4, \"value\": 164}, \"165\": {\"frequency\": 1, \"value\": 165}, \"166\": {\"frequency\": 1, \"value\": 166}, \"167\": {\"frequency\": 2, \"value\": 167}, \"168\": {\"frequency\": 5, \"value\": 168}, \"169\": {\"frequency\": 2, \"value\": 169}, \"170\": {\"frequency\": 3, \"value\": 170}, \"171\": {\"frequency\": 3, \"value\": 171}, \"172\": {\"frequency\": 2, \"value\": 172}, \"173\": {\"frequency\": 2, \"value\": 173}, \"174\": {\"frequency\": 3, \"value\": 174}, \"175\": {\"frequency\": 3, \"value\": 175}, \"176\": {\"frequency\": 1, \"value\": 176}, \"177\": {\"frequency\": 2, \"value\": 177}, \"178\": {\"frequency\": 2, \"value\": 178}, \"179\": {\"frequency\": 4, \"value\": 179}, \"180\": {\"frequency\": 6, \"value\": 180}, \"181\": {\"frequency\": 4, \"value\": 181}, \"182\": {\"frequency\": 3, \"value\": 182}, \"183\": {\"frequency\": 4, \"value\": 183}, \"184\": {\"frequency\": 2, \"value\": 184}, \"185\": {\"frequency\": 4, \"value\": 185}, \"186\": {\"frequency\": 3, \"value\": 186}, \"187\": {\"frequency\": 4, \"value\": 187}, \"188\": {\"frequency\": 2, \"value\": 188}, \"189\": {\"frequency\": 3, \"value\": 189}, \"190\": {\"frequency\": 1, \"value\": 190}, \"191\": {\"frequency\": 3, \"value\": 191}, \"192\": {\"frequency\": 3, \"value\": 192}, \"193\": {\"frequency\": 4, \"value\": 193}, \"194\": {\"frequency\": 5, \"value\": 194}, \"195\": {\"frequency\": 4, \"value\": 195}, \"196\": {\"frequency\": 7, \"value\": 196}, \"197\": {\"frequency\": 4, \"value\": 197}, \"198\": {\"frequency\": 3, \"value\": 198}, \"199\": {\"frequency\": 1, \"value\": 199}, \"200\": {\"frequency\": 1, \"value\": 200}, \"201\": {\"frequency\": 1, \"value\": 201}, \"202\": {\"frequency\": 4, \"value\": 202}, \"203\": {\"frequency\": 2, \"value\": 203}, \"204\": {\"frequency\": 2, \"value\": 204}, \"205\": {\"frequency\": 2, \"value\": 205}, \"206\": {\"frequency\": 4, \"value\": 206}, \"207\": {\"frequency\": 1, \"value\": 207}, \"208\": {\"frequency\": 1, \"value\": 208}, \"209\": {\"frequency\": 1, \"value\": 209}, \"210\": {\"frequency\": 1, \"value\": 210}, \"211\": {\"frequency\": 2, \"value\": 211}, \"212\": {\"frequency\": 3, \"value\": 212}, \"213\": {\"frequency\": 4, \"value\": 213}, \"214\": {\"frequency\": 3, \"value\": 214}, \"215\": {\"frequency\": 3, \"value\": 215}, \"216\": {\"frequency\": 1, \"value\": 216}, \"217\": {\"frequency\": 3, \"value\": 217}, \"218\": {\"frequency\": 2, \"value\": 218}, \"219\": {\"frequency\": 1, \"value\": 219}, \"220\": {\"frequency\": 2, \"value\": 220}, \"221\": {\"frequency\": 3, \"value\": 221}, \"222\": {\"frequency\": 4, \"value\": 222}, \"223\": {\"frequency\": 7, \"value\": 223}, \"224\": {\"frequency\": 4, \"value\": 224}, \"226\": {\"frequency\": 5, \"value\": 226}, \"227\": {\"frequency\": 4, \"value\": 227}, \"228\": {\"frequency\": 5, \"value\": 228}, \"229\": {\"frequency\": 3, \"value\": 229}, \"230\": {\"frequency\": 5, \"value\": 230}, \"231\": {\"frequency\": 3, \"value\": 231}, \"232\": {\"frequency\": 2, \"value\": 232}, \"233\": {\"frequency\": 5, \"value\": 233}, \"234\": {\"frequency\": 5, \"value\": 234}, \"235\": {\"frequency\": 3, \"value\": 235}, \"236\": {\"frequency\": 3, \"value\": 236}, \"237\": {\"frequency\": 7, \"value\": 237}, \"238\": {\"frequency\": 1, \"value\": 238}, \"239\": {\"frequency\": 3, \"value\": 239}, \"240\": {\"frequency\": 1, \"value\": 240}, \"241\": {\"frequency\": 5, \"value\": 241}, \"242\": {\"frequency\": 1, \"value\": 242}, \"243\": {\"frequency\": 1, \"value\": 243}, \"244\": {\"frequency\": 2, \"value\": 244}, \"246\": {\"frequency\": 1, \"value\": 246}, \"247\": {\"frequency\": 5, \"value\": 247}, \"248\": {\"frequency\": 1, \"value\": 248}, \"249\": {\"frequency\": 2, \"value\": 249}, \"250\": {\"frequency\": 4, \"value\": 250}, \"252\": {\"frequency\": 2, \"value\": 252}, \"253\": {\"frequency\": 5, \"value\": 253}, \"254\": {\"frequency\": 2, \"value\": 254}, \"255\": {\"frequency\": 4, \"value\": 255}, \"256\": {\"frequency\": 1, \"value\": 256}, \"257\": {\"frequency\": 2, \"value\": 257}, \"260\": {\"frequency\": 3, \"value\": 260}, \"261\": {\"frequency\": 1, \"value\": 261}, \"262\": {\"frequency\": 3, \"value\": 262}, \"263\": {\"frequency\": 1, \"value\": 263}, \"264\": {\"frequency\": 3, \"value\": 264}, \"265\": {\"frequency\": 2, \"value\": 265}, \"266\": {\"frequency\": 4, \"value\": 266}, \"267\": {\"frequency\": 3, \"value\": 267}, \"268\": {\"frequency\": 5, \"value\": 268}, \"269\": {\"frequency\": 1, \"value\": 269}, \"270\": {\"frequency\": 3, \"value\": 270}, \"271\": {\"frequency\": 2, \"value\": 271}, \"272\": {\"frequency\": 2, \"value\": 272}, \"273\": {\"frequency\": 3, \"value\": 273}, \"274\": {\"frequency\": 1, \"value\": 274}, \"275\": {\"frequency\": 3, \"value\": 275}, \"276\": {\"frequency\": 4, \"value\": 276}, \"278\": {\"frequency\": 2, \"value\": 278}, \"279\": {\"frequency\": 4, \"value\": 279}, \"281\": {\"frequency\": 2, \"value\": 281}, \"282\": {\"frequency\": 2, \"value\": 282}, \"283\": {\"frequency\": 2, \"value\": 283}, \"284\": {\"frequency\": 2, \"value\": 284}, \"285\": {\"frequency\": 3, \"value\": 285}, \"286\": {\"frequency\": 6, \"value\": 286}, \"287\": {\"frequency\": 4, \"value\": 287}, \"288\": {\"frequency\": 3, \"value\": 288}, \"289\": {\"frequency\": 2, \"value\": 289}, \"290\": {\"frequency\": 1, \"value\": 290}, \"291\": {\"frequency\": 2, \"value\": 291}, \"292\": {\"frequency\": 5, \"value\": 292}, \"293\": {\"frequency\": 1, \"value\": 293}, \"294\": {\"frequency\": 1, \"value\": 294}, \"295\": {\"frequency\": 2, \"value\": 295}, \"296\": {\"frequency\": 8, \"value\": 296}, \"297\": {\"frequency\": 3, \"value\": 297}, \"298\": {\"frequency\": 7, \"value\": 298}, \"299\": {\"frequency\": 6, \"value\": 299}, \"300\": {\"frequency\": 7, \"value\": 300}, \"301\": {\"frequency\": 4, \"value\": 301}, \"302\": {\"frequency\": 6, \"value\": 302}, \"303\": {\"frequency\": 2, \"value\": 303}, \"304\": {\"frequency\": 3, \"value\": 304}, \"305\": {\"frequency\": 4, \"value\": 305}, \"307\": {\"frequency\": 5, \"value\": 307}, \"308\": {\"frequency\": 4, \"value\": 308}, \"310\": {\"frequency\": 1, \"value\": 310}, \"311\": {\"frequency\": 3, \"value\": 311}, \"312\": {\"frequency\": 3, \"value\": 312}, \"313\": {\"frequency\": 2, \"value\": 313}, \"314\": {\"frequency\": 1, \"value\": 314}, \"315\": {\"frequency\": 3, \"value\": 315}, \"316\": {\"frequency\": 2, \"value\": 316}, \"317\": {\"frequency\": 2, \"value\": 317}, \"318\": {\"frequency\": 2, \"value\": 318}, \"319\": {\"frequency\": 3, \"value\": 319}, \"320\": {\"frequency\": 4, \"value\": 320}, \"321\": {\"frequency\": 2, \"value\": 321}, \"322\": {\"frequency\": 3, \"value\": 322}, \"323\": {\"frequency\": 2, \"value\": 323}, \"324\": {\"frequency\": 1, \"value\": 324}, \"325\": {\"frequency\": 1, \"value\": 325}, \"326\": {\"frequency\": 1, \"value\": 326}, \"330\": {\"frequency\": 1, \"value\": 330}, \"331\": {\"frequency\": 3, \"value\": 331}, \"333\": {\"frequency\": 3, \"value\": 333}, \"334\": {\"frequency\": 4, \"value\": 334}, \"335\": {\"frequency\": 1, \"value\": 335}, \"336\": {\"frequency\": 5, \"value\": 336}, \"337\": {\"frequency\": 1, \"value\": 337}, \"338\": {\"frequency\": 2, \"value\": 338}, \"339\": {\"frequency\": 5, \"value\": 339}, \"340\": {\"frequency\": 3, \"value\": 340}, \"341\": {\"frequency\": 1, \"value\": 341}, \"342\": {\"frequency\": 3, \"value\": 342}, \"344\": {\"frequency\": 5, \"value\": 344}, \"345\": {\"frequency\": 4, \"value\": 345}, \"346\": {\"frequency\": 2, \"value\": 346}, \"348\": {\"frequency\": 2, \"value\": 348}, \"350\": {\"frequency\": 2, \"value\": 350}, \"351\": {\"frequency\": 2, \"value\": 351}, \"352\": {\"frequency\": 2, \"value\": 352}, \"353\": {\"frequency\": 1, \"value\": 353}, \"354\": {\"frequency\": 2, \"value\": 354}, \"355\": {\"frequency\": 2, \"value\": 355}, \"360\": {\"frequency\": 1, \"value\": 360}, \"361\": {\"frequency\": 4, \"value\": 361}, \"362\": {\"frequency\": 3, \"value\": 362}, \"363\": {\"frequency\": 2, \"value\": 363}, \"364\": {\"frequency\": 1, \"value\": 364}, \"365\": {\"frequency\": 1, \"value\": 365}, \"367\": {\"frequency\": 1, \"value\": 367}, \"368\": {\"frequency\": 2, \"value\": 368}, \"369\": {\"frequency\": 3, \"value\": 369}, \"370\": {\"frequency\": 2, \"value\": 370}, \"371\": {\"frequency\": 2, \"value\": 371}, \"373\": {\"frequency\": 1, \"value\": 373}, \"374\": {\"frequency\": 2, \"value\": 374}, \"375\": {\"frequency\": 1, \"value\": 375}, \"376\": {\"frequency\": 4, \"value\": 376}, \"377\": {\"frequency\": 3, \"value\": 377}, \"379\": {\"frequency\": 3, \"value\": 379}, \"385\": {\"frequency\": 1, \"value\": 385}, \"387\": {\"frequency\": 3, \"value\": 387}, \"388\": {\"frequency\": 2, \"value\": 388}, \"389\": {\"frequency\": 2, \"value\": 389}, \"390\": {\"frequency\": 3, \"value\": 390}, \"392\": {\"frequency\": 1, \"value\": 392}, \"396\": {\"frequency\": 2, \"value\": 396}, \"398\": {\"frequency\": 1, \"value\": 398}, \"399\": {\"frequency\": 1, \"value\": 399}, \"400\": {\"frequency\": 1, \"value\": 400}, \"401\": {\"frequency\": 1, \"value\": 401}, \"402\": {\"frequency\": 1, \"value\": 402}, \"404\": {\"frequency\": 1, \"value\": 404}, \"405\": {\"frequency\": 1, \"value\": 405}, \"409\": {\"frequency\": 2, \"value\": 409}, \"413\": {\"frequency\": 1, \"value\": 413}, \"414\": {\"frequency\": 1, \"value\": 414}, \"415\": {\"frequency\": 1, \"value\": 415}, \"428\": {\"frequency\": 1, \"value\": 428}, \"437\": {\"frequency\": 2, \"value\": 437}, \"438\": {\"frequency\": 2, \"value\": 438}, \"439\": {\"frequency\": 1, \"value\": 439}, \"441\": {\"frequency\": 2, \"value\": 441}, \"442\": {\"frequency\": 2, \"value\": 442}, \"445\": {\"frequency\": 1, \"value\": 445}, \"450\": {\"frequency\": 1, \"value\": 450}, \"454\": {\"frequency\": 1, \"value\": 454}, \"455\": {\"frequency\": 1, \"value\": 455}, \"458\": {\"frequency\": 1, \"value\": 458}, \"459\": {\"frequency\": 1, \"value\": 459}, \"460\": {\"frequency\": 1, \"value\": 460}, \"473\": {\"frequency\": 1, \"value\": 473}, \"478\": {\"frequency\": 1, \"value\": 478}, \"480\": {\"frequency\": 1, \"value\": 480}, \"481\": {\"frequency\": 1, \"value\": 481}, \"486\": {\"frequency\": 1, \"value\": 486}, \"487\": {\"frequency\": 1, \"value\": 487}, \"490\": {\"frequency\": 1, \"value\": 490}, \"493\": {\"frequency\": 2, \"value\": 493}, \"495\": {\"frequency\": 1, \"value\": 495}, \"498\": {\"frequency\": 1, \"value\": 498}, \"502\": {\"frequency\": 1, \"value\": 502}, \"503\": {\"frequency\": 1, \"value\": 503}, \"505\": {\"frequency\": 1, \"value\": 505}, \"506\": {\"frequency\": 1, \"value\": 506}, \"512\": {\"frequency\": 1, \"value\": 512}, \"516\": {\"frequency\": 1, \"value\": 516}, \"523\": {\"frequency\": 1, \"value\": 523}, \"525\": {\"frequency\": 1, \"value\": 525}, \"533\": {\"frequency\": 1, \"value\": 533}, \"538\": {\"frequency\": 1, \"value\": 538}, \"539\": {\"frequency\": 1, \"value\": 539}, \"543\": {\"frequency\": 1, \"value\": 543}, \"553\": {\"frequency\": 1, \"value\": 553}, \"560\": {\"frequency\": 1, \"value\": 560}, \"569\": {\"frequency\": 1, \"value\": 569}, \"570\": {\"frequency\": 1, \"value\": 570}, \"572\": {\"frequency\": 1, \"value\": 572}, \"575\": {\"frequency\": 1, \"value\": 575}, \"578\": {\"frequency\": 1, \"value\": 578}, \"583\": {\"frequency\": 1, \"value\": 583}, \"584\": {\"frequency\": 2, \"value\": 584}, \"586\": {\"frequency\": 1, \"value\": 586}, \"588\": {\"frequency\": 1, \"value\": 588}, \"590\": {\"frequency\": 3, \"value\": 590}, \"594\": {\"frequency\": 2, \"value\": 594}, \"596\": {\"frequency\": 1, \"value\": 596}, \"601\": {\"frequency\": 1, \"value\": 601}, \"602\": {\"frequency\": 1, \"value\": 602}, \"604\": {\"frequency\": 1, \"value\": 604}, \"605\": {\"frequency\": 1, \"value\": 605}, \"606\": {\"frequency\": 1, \"value\": 606}, \"608\": {\"frequency\": 2, \"value\": 608}, \"615\": {\"frequency\": 1, \"value\": 615}, \"621\": {\"frequency\": 1, \"value\": 621}, \"622\": {\"frequency\": 2, \"value\": 622}, \"624\": {\"frequency\": 1, \"value\": 624}, \"625\": {\"frequency\": 1, \"value\": 625}, \"626\": {\"frequency\": 1, \"value\": 626}, \"637\": {\"frequency\": 1, \"value\": 637}, \"639\": {\"frequency\": 1, \"value\": 639}, \"642\": {\"frequency\": 1, \"value\": 642}, \"646\": {\"frequency\": 1, \"value\": 646}, \"661\": {\"frequency\": 1, \"value\": 661}, \"683\": {\"frequency\": 1, \"value\": 683}, \"717\": {\"frequency\": 1, \"value\": 717}, \"718\": {\"frequency\": 1, \"value\": 718}, \"743\": {\"frequency\": 2, \"value\": 743}, \"751\": {\"frequency\": 2, \"value\": 751}, \"758\": {\"frequency\": 1, \"value\": 758}, \"759\": {\"frequency\": 1, \"value\": 759}, \"766\": {\"frequency\": 1, \"value\": 766}, \"771\": {\"frequency\": 1, \"value\": 771}, \"794\": {\"frequency\": 1, \"value\": 794}, \"795\": {\"frequency\": 1, \"value\": 795}, \"816\": {\"frequency\": 1, \"value\": 816}, \"906\": {\"frequency\": 3, \"value\": 906}, \"1079\": {\"frequency\": 1, \"value\": 1079}}, \"mean\": 230.91922005571035}, \"English_or_not\": {\"std\": 0.31918435028845377, \"complete\": true, \"min\": 0.0, \"max\": 1.0, \"quantile\": [0.0, 0.0, 0.0, 0.0, 0.0, 0.0, 0.0, 0.0, 0.0, 0.0, 0.0, 0.0, 0.0, 0.0, 0.0, 0.0, 0.0, 0.0, 0.0, 0.0, 0.0, 0.0, 0.0, 0.0, 0.0, 0.0, 0.0, 0.0, 0.0, 0.0, 0.0, 0.0, 0.0, 0.0, 0.0, 0.0, 0.0, 0.0, 0.0, 0.0, 0.0, 0.0, 0.0, 0.0, 0.0, 0.0, 0.0, 0.0, 0.0, 0.0, 0.0, 0.0, 0.0, 0.0, 0.0, 0.0, 0.0, 0.0, 0.0, 0.0, 0.0, 0.0, 0.0, 0.0, 0.0, 0.0, 0.0, 0.0, 0.0, 0.0, 0.0, 0.0, 0.0, 0.0, 0.0, 0.0, 0.0, 0.0, 0.0, 0.0, 0.0, 0.0, 0.0, 0.0, 0.0, 0.0, 0.0, 0.0, 0.0, 1.0, 1.0, 1.0, 1.0, 1.0, 1.0, 1.0, 1.0, 1.0, 1.0, 1.0, 1.0], \"median\": 0.0, \"numeric\": true, \"num_unique\": 2, \"num_undefined\": 0, \"var\": 0.10187864946906235, \"progress\": 1.0, \"size\": 1077, \"frequent_items\": {\"0\": {\"frequency\": 953, \"value\": 0}, \"1\": {\"frequency\": 124, \"value\": 1}}, \"mean\": 0.11513463324048283}}, \"selected_variable\": {\"name\": [\"<SFrame>\"], \"descriptives\": {\"rows\": 1077, \"columns\": 3}, \"view_component\": \"Summary\", \"view_file\": \"sframe\", \"view_params\": {\"y\": null, \"x\": null, \"columns\": [\"Words_of_the_Title\", \"the_Length_of_one_Episode\", \"English_or_not\"], \"view\": null}, \"view_components\": [\"Summary\", \"Table\", \"Bar Chart\", \"BoxWhisker Plot\", \"Line Chart\", \"Scatter Plot\", \"Heat Map\", \"Plots\"], \"type\": \"SFrame\", \"columns\": [{\"dtype\": \"int\", \"name\": \"Words_of_the_Title\"}, {\"dtype\": \"int\", \"name\": \"the_Length_of_one_Episode\"}, {\"dtype\": \"int\", \"name\": \"English_or_not\"}], \"column_identifiers\": [\"Words_of_the_Title\", \"the_Length_of_one_Episode\", \"English_or_not\"]}, \"columns\": [{\"dtype\": \"int\", \"name\": \"Words_of_the_Title\"}, {\"dtype\": \"int\", \"name\": \"the_Length_of_one_Episode\"}, {\"dtype\": \"int\", \"name\": \"English_or_not\"}]}, e);\n",
       "                });\n",
       "            })();\n",
       "        "
      ]
     },
     "metadata": {},
     "output_type": "display_data"
    }
   ],
   "source": [
    "data[my_features].show()"
   ]
  },
  {
   "cell_type": "code",
   "execution_count": 18,
   "metadata": {
    "collapsed": false
   },
   "outputs": [
    {
     "data": {
      "application/javascript": [
       "$(\"head\").append($(\"<link/>\").attr({\n",
       "  rel:  \"stylesheet\",\n",
       "  type: \"text/css\",\n",
       "  href: \"//cdnjs.cloudflare.com/ajax/libs/font-awesome/4.1.0/css/font-awesome.min.css\"\n",
       "}));\n",
       "$(\"head\").append($(\"<link/>\").attr({\n",
       "  rel:  \"stylesheet\",\n",
       "  type: \"text/css\",\n",
       "  href: \"https://static.turi.com/products/graphlab-create/2.1/canvas/css/canvas.css\"\n",
       "}));\n",
       "\n",
       "            (function(){\n",
       "\n",
       "                var e = null;\n",
       "                if (typeof element == 'undefined') {\n",
       "                    var scripts = document.getElementsByTagName('script');\n",
       "                    var thisScriptTag = scripts[scripts.length-1];\n",
       "                    var parentDiv = thisScriptTag.parentNode;\n",
       "                    e = document.createElement('div');\n",
       "                    parentDiv.appendChild(e);\n",
       "                } else {\n",
       "                    e = element[0];\n",
       "                }\n",
       "\n",
       "                if (typeof requirejs !== 'undefined') {\n",
       "                    // disable load timeout; ipython_app.js is large and can take a while to load.\n",
       "                    requirejs.config({waitSeconds: 0});\n",
       "                }\n",
       "\n",
       "                require(['https://static.turi.com/products/graphlab-create/2.1/canvas/js/ipython_app.js'], function(IPythonApp){\n",
       "                    var app = new IPythonApp();\n",
       "                    app.attachView('sframe','Plots', {\"selected_variable\": {\"name\": [\"data\"], \"descriptives\": {\"rows\": 1077, \"columns\": 7}, \"view_component\": \"Plots\", \"view_file\": \"sframe\", \"view_params\": {\"y\": \"perweek\", \"x\": \"Words_of_the_Title\", \"columns\": [\"id\", \"Words_of_the_Title\", \"English_or_not\", \"the_Length_of_one_Episode\", \"the_Playback_Amount_of_one_Episode\", \"Release_Week\", \"perweek\"], \"view\": \"Scatter Plot\"}, \"view_components\": [\"Summary\", \"Table\", \"Bar Chart\", \"BoxWhisker Plot\", \"Line Chart\", \"Scatter Plot\", \"Heat Map\", \"Plots\"], \"type\": \"SFrame\", \"columns\": [{\"dtype\": \"int\", \"name\": \"id\"}, {\"dtype\": \"int\", \"name\": \"Words_of_the_Title\"}, {\"dtype\": \"int\", \"name\": \"English_or_not\"}, {\"dtype\": \"int\", \"name\": \"the_Length_of_one_Episode\"}, {\"dtype\": \"int\", \"name\": \"the_Playback_Amount_of_one_Episode\"}, {\"dtype\": \"int\", \"name\": \"Release_Week\"}, {\"dtype\": \"float\", \"name\": \"perweek\"}], \"column_identifiers\": [\"perweek\", \"the_Playback_Amount_of_one_Episode\", \"Release_Week\", \"the_Length_of_one_Episode\", \"English_or_not\", \"Words_of_the_Title\", \"id\"]}, \"complete\": 1, \"ipython\": true, \"progress\": 1.0, \"data\": [[15, 6.0], [17, 423600.0], [10, 10.0], [17, 452000.0], [15, 17.25], [19, 17.66666667], [10, 17.66666667], [13, 18.25], [14, 21.66666667], [8, 22.0], [16, 23.0], [30, 23.0], [20, 26.33333333], [19, 27.33333333], [18, 32.0], [19, 32.5], [13, 34.0], [26, 292000.0], [17, 42.2], [14, 47.28571429], [22, 48.25], [20, 1405500.0], [16, 52.66666667], [19, 53.33333333], [15, 57.4], [18, 59.0], [17, 525250.0], [30, 61.25], [28, 61.75], [12, 62.8], [14, 63.75], [19, 66.33333333], [19, 69.0], [7, 69.0], [15, 71.25], [10, 73.8], [28, 76.0], [9, 76.66666667], [12, 78.0], [17, 80.0], [7, 82.85714286], [10, 83.75], [19, 86.25], [26, 87.5], [19, 88.5], [8, 91.5], [11, 339800.0], [16, 98.0], [15, 99.5], [8, 101.4], [16, 108.0], [10, 110.0], [41, 111.0], [19, 118.6], [28, 119.0], [28, 119.75], [15, 125.1428571], [17, 128.2], [21, 131.3333333], [18, 133.6666667], [18, 136.5], [18, 137.6666667], [12, 139.25], [26, 150.25], [28, 155.75], [19, 159.5], [17, 166.3333333], [20, 180.0], [7, 181.4], [19, 182.0], [11, 183.25], [9, 183.5], [17, 185.4285714], [9, 188.75], [14, 190.4], [8, 191.6666667], [11, 194.0], [16, 198.3333333], [12, 199.5], [7, 215.75], [17, 223.4], [21, 225.3333333], [16, 227.6], [26, 236.0], [7, 238.5], [16, 240.75], [24, 244.0], [17, 245.6666667], [17, 255.5], [32, 267.0], [10, 269.5], [16, 269.5], [13, 270.0], [15, 273.3333333], [17, 277.0], [17, 281.5], [15, 284.5], [29, 287.25], [12, 290.25], [20, 290.4], [12, 294.0], [12, 294.4], [28, 300.25], [16, 309.75], [15, 323.6666667], [11, 326.6666667], [12, 333.0], [12, 350.0], [11, 350.2], [8, 351.6666667], [12, 354.5], [16, 373.5], [12, 376.0], [9, 384.0], [29, 389.25], [18, 390.3333333], [17, 391.1428571], [18, 401.0], [6, 403.5], [28, 366000.0], [11, 412.6666667], [12, 427.25], [12, 429.5], [7, 452.6], [8, 454.0], [14, 455.6666667], [23, 458.0], [11, 459.8], [15, 460.0], [15, 469.5], [7, 474.0], [11, 474.2], [21, 481.3333333], [17, 481.6], [19, 482.3333333], [11, 491.6], [13, 500.5], [19, 500.5], [12, 503.0], [15, 525.6666667], [15, 528.0], [20, 528.3333333], [15, 539.75], [18, 292000.0], [20, 266000.0], [17, 575.75], [27, 586.25], [16, 593.0], [22, 609.0], [13, 611.0], [12, 616.0], [12, 623.75], [19, 642.25], [16, 648.4], [14, 648.8], [11, 650.5], [16, 658.4], [16, 671.8], [18, 672.0], [15, 674.6666667], [15, 678.8], [15, 687.0], [13, 700.3333333], [17, 706.75], [8, 731.5], [8, 743.0], [9, 746.0], [16, 763.25], [16, 771.0], [15, 809.0], [7, 809.0], [15, 841.4], [13, 875.6666667], [19, 876.5714286], [17, 913.25], [15, 914.3333333], [9, 919.6666667], [19, 934.6666667], [14, 996.0], [13, 1000.0], [11, 1002.666667], [18, 1010.333333], [14, 1036.0], [13, 1054.5], [14, 1059.666667], [16, 1092.0], [15, 513000.0], [21, 1111.5], [15, 1113.333333], [13, 1127.4], [13, 1135.0], [10, 1135.0], [21, 894500.0], [16, 1161.0], [20, 1178.2], [17, 1199.0], [29, 1208.6], [12, 1223.0], [17, 1254.5], [19, 1255.0], [14, 1257.666667], [16, 1267.666667], [23, 1271.0], [7, 1306.25], [8, 1310.0], [8, 1314.0], [18, 1322.333333], [15, 1340.0], [8, 1344.0], [21, 1347.5], [11, 1348.8], [13, 1350.0], [14, 1381.0], [15, 533200.0], [14, 1428.571429], [11, 1464.0], [18, 1477.5], [17, 1491.333333], [9, 1495.333333], [15, 1538.0], [12, 1542.8], [19, 1543.5], [15, 1552.0], [15, 1556.333333], [22, 650400.0], [6, 1674.0], [15, 1687.333333], [13, 1709.0], [11, 1732.4], [17, 419200.0], [16, 1744.25], [11, 279000.0], [10, 1813.5], [12, 424333.3333], [13, 1816.0], [14, 1821.5], [16, 1833.333333], [13, 1833.5], [19, 1857.142857], [19, 1959.6], [14, 1978.333333], [10, 2000.0], [11, 2000.0], [15, 2000.0], [15, 2079.333333], [13, 2145.5], [7, 2200.0], [14, 2200.0], [12, 2200.0], [19, 2200.0], [11, 2200.0], [10, 2200.0], [10, 2212.0], [14, 2221.5], [24, 2262.0], [12, 2262.75], [23, 2270.0], [19, 2277.25], [8, 950000.0], [25, 2289.25], [11, 2324.5], [25, 287000.0], [9, 2349.0], [6, 2392.75], [12, 2400.0], [12, 2400.0], [12, 2400.0], [26, 2400.0], [8, 2400.0], [19, 2404.5], [12, 2492.0], [16, 2500.0], [27, 2500.0], [8, 2504.0], [18, 268600.0], [20, 2540.5], [21, 2568.333333], [13, 2600.0], [13, 2600.0], [10, 2600.0], [8, 2600.0], [14, 2600.0], [14, 2604.0], [8, 2610.666667], [14, 2678.333333], [14, 2700.0], [8, 2750.0], [15, 2750.0], [13, 2750.0], [10, 2800.0], [9, 2800.0], [8, 2800.0], [9, 2800.0], [14, 2800.0], [17, 2800.0], [13, 2800.0], [15, 2800.0], [7, 2833.333333], [20, 2975.666667], [12, 2978.666667], [13, 3000.0], [15, 3000.0], [19, 3000.0], [28, 3000.0], [14, 3000.0], [19, 3000.0], [10, 3000.0], [29, 314000.0], [13, 3000.0], [20, 3000.0], [6, 3000.0], [11, 3000.0], [20, 3003.0], [15, 3144.5], [14, 3166.666667], [7, 3166.666667], [13, 3200.0], [21, 3200.0], [10, 3200.0], [7, 3200.0], [11, 3207.0], [8, 3231.333333], [24, 3248.666667], [22, 3250.0], [19, 3250.0], [10, 3308.333333], [8, 3333.333333], [7, 3333.333333], [6, 3333.333333], [14, 3351.0], [16, 3400.0], [25, 326000.0], [15, 3400.0], [9, 3400.0], [16, 3500.0], [8, 3500.0], [15, 3500.0], [20, 3600.0], [21, 3600.0], [9, 3600.0], [9, 3666.666667], [15, 3666.666667], [15, 3666.666667], [17, 3666.666667], [9, 3666.666667], [10, 3666.666667], [18, 3706.0], [12, 3750.0], [7, 3750.0], [16, 266000.0], [26, 3800.0], [11, 3800.0], [21, 3833.333333], [14, 3857.142857], [12, 3923.0], [19, 3943.0], [13, 3979.0], [8, 4000.0], [9, 4000.0], [8, 4000.0], [8, 4000.0], [8, 4000.0], [20, 4000.0], [18, 4000.0], [13, 4000.0], [14, 4000.0], [16, 4000.0], [8, 4000.0], [16, 4075.0], [9, 4200.0], [9, 277000.0], [10, 4250.0], [14, 4253.0], [6, 4275.0], [13, 4400.0], [21, 4400.0], [15, 4400.0], [21, 4400.0], [10, 4422.0], [6, 4453.0], [17, 4500.0], [26, 4500.0], [7, 4500.0], [28, 484000.0], [9, 4600.0], [9, 4600.0], [21, 4617.0], [14, 4666.666667], [18, 4666.666667], [25, 4666.666667], [15, 4666.666667], [10, 4666.666667], [9, 4693.0], [23, 4750.0], [16, 4750.0], [9, 4791.0], [18, 4800.0], [10, 4829.0], [13, 4940.0], [9, 5000.0], [16, 5000.0], [8, 5000.0], [17, 5000.0], [13, 5000.0], [10, 5000.0], [16, 5000.0], [9, 5000.0], [10, 5000.0], [10, 5000.0], [15, 5200.0], [14, 5250.0], [10, 5250.0], [13, 5250.0], [16, 5276.0], [27, 5333.333333], [15, 5333.333333], [13, 696000.0], [9, 5333.333333], [19, 5346.0], [20, 5400.0], [23, 617000.0], [10, 5500.0], [22, 5500.0], [12, 5500.0], [19, 5500.0], [14, 5600.0], [15, 5600.0], [19, 5666.666667], [11, 5737.0], [13, 5750.0], [12, 5750.0], [19, 5800.0], [20, 6000.0], [12, 6000.0], [11, 6000.0], [14, 6000.0], [6, 6000.0], [15, 438800.0], [13, 6000.0], [9, 6200.0], [13, 6200.0], [14, 6250.0], [6, 6250.0], [9, 6400.0], [16, 341800.0], [14, 6500.0], [14, 6600.0], [9, 6600.0], [9, 6666.666667], [15, 6666.666667], [18, 340000.0], [10, 6750.0], [20, 6815.0], [22, 6909.0], [14, 7000.0], [15, 7000.0], [21, 482000.0], [15, 446600.0], [13, 7200.0], [21, 7200.0], [17, 7200.0], [16, 7250.0], [10, 7250.0], [12, 684666.6667], [8, 7333.333333], [18, 7333.333333], [18, 7333.333333], [10, 7333.333333], [6, 7428.571429], [19, 7500.0], [11, 7500.0], [17, 7500.0], [17, 7500.0], [12, 7500.0], [9, 7666.666667], [7, 431000.0], [13, 7666.666667], [13, 7750.0], [14, 7800.0], [11, 7842.0], [15, 7865.0], [23, 8000.0], [19, 8000.0], [7, 8000.0], [21, 370333.3333], [9, 8000.0], [11, 8000.0], [18, 8081.0], [23, 8250.0], [17, 8333.333333], [6, 8333.333333], [17, 8400.0], [14, 8400.0], [13, 8416.0], [18, 8500.0], [11, 8500.0], [13, 8500.0], [15, 8500.0], [19, 8571.428571], [22, 8600.0], [18, 8666.666667], [15, 8800.0], [10, 9000.0], [8, 9000.0], [26, 9000.0], [20, 9000.0], [13, 9000.0], [13, 9000.0], [6, 9160.0], [15, 9200.0], [7, 9250.0], [15, 9250.0], [13, 9333.333333], [12, 9400.0], [8, 9500.0], [9, 9500.0], [15, 657500.0], [23, 757000.0], [13, 9536.0], [11, 9580.0], [9, 9666.666667], [15, 9800.0], [18, 10000.0], [18, 10000.0], [21, 10000.0], [8, 10000.0], [17, 10000.0], [14, 10000.0], [9, 10000.0], [15, 265000.0], [16, 10000.0], [13, 10000.0], [15, 10000.0], [20, 10000.0], [13, 425500.0], [21, 10000.0], [15, 10000.0], [12, 10000.0], [16, 10500.0], [20, 10500.0], [8, 10500.0], [14, 10750.0], [8, 10750.0], [9, 11000.0], [12, 11000.0], [15, 1043000.0], [18, 11000.0], [15, 11000.0], [13, 11000.0], [13, 11000.0], [14, 11000.0], [15, 11000.0], [15, 11000.0], [7, 11000.0], [13, 11200.0], [17, 11200.0], [21, 11333.33333], [8, 11333.33333], [11, 11400.0], [10, 11500.0], [11, 11500.0], [7, 11500.0], [18, 11700.0], [9, 11800.0], [10, 12000.0], [19, 12000.0], [12, 12000.0], [15, 12000.0], [7, 12000.0], [13, 12142.85714], [18, 12500.0], [18, 12500.0], [16, 12500.0], [14, 12750.0], [8, 13000.0], [17, 13000.0], [15, 13000.0], [23, 13000.0], [11, 13000.0], [10, 13000.0], [16, 13000.0], [11, 13200.0], [19, 13500.0], [20, 374400.0], [14, 544500.0], [20, 13750.0], [9, 14000.0], [9, 14000.0], [19, 14000.0], [15, 14000.0], [20, 14000.0], [21, 14000.0], [21, 14000.0], [12, 14000.0], [7, 14000.0], [12, 14400.0], [12, 14500.0], [21, 14500.0], [15, 14666.66667], [9, 15000.0], [11, 15000.0], [15, 15333.33333], [9, 15500.0], [17, 15500.0], [13, 15800.0], [14, 16000.0], [11, 16000.0], [21, 16333.33333], [9, 16333.33333], [19, 17000.0], [17, 17000.0], [13, 17000.0], [6, 17000.0], [11, 17000.0], [15, 17333.33333], [17, 17571.42857], [16, 17666.66667], [10, 377666.6667], [16, 18000.0], [18, 18000.0], [17, 18000.0], [19, 18000.0], [15, 18333.33333], [10, 18333.33333], [18, 18600.0], [16, 18600.0], [17, 19333.33333], [15, 19500.0], [11, 19500.0], [17, 19800.0], [16, 20000.0], [10, 20000.0], [14, 20000.0], [15, 20000.0], [9, 20500.0], [10, 21000.0], [18, 21000.0], [13, 21000.0], [11, 21000.0], [15, 21142.85714], [15, 22000.0], [21, 22000.0], [16, 22000.0], [10, 22000.0], [15, 22000.0], [15, 22000.0], [7, 22000.0], [6, 22333.33333], [13, 22500.0], [11, 22500.0], [12, 22666.66667], [19, 23000.0], [14, 23000.0], [10, 23166.66667], [16, 23200.0], [23, 630400.0], [15, 23500.0], [7, 23500.0], [15, 23600.0], [23, 23666.66667], [14, 24000.0], [15, 24000.0], [13, 24000.0], [15, 24285.71429], [8, 24500.0], [19, 24500.0], [19, 24600.0], [22, 25000.0], [21, 25000.0], [11, 25000.0], [15, 25200.0], [15, 25400.0], [16, 26000.0], [14, 26000.0], [18, 26000.0], [10, 26000.0], [16, 26500.0], [15, 26666.66667], [16, 27000.0], [22, 27000.0], [26, 565000.0], [10, 27500.0], [12, 28000.0], [11, 28000.0], [21, 28000.0], [8, 28000.0], [13, 28000.0], [13, 28000.0], [11, 28000.0], [14, 28400.0], [9, 29000.0], [7, 29000.0], [13, 29500.0], [12, 29750.0], [18, 30000.0], [19, 30000.0], [8, 30000.0], [21, 30500.0], [8, 30666.66667], [15, 31000.0], [14, 31000.0], [10, 31000.0], [11, 31750.0], [15, 32000.0], [15, 32000.0], [13, 32000.0], [14, 32000.0], [12, 32000.0], [19, 33000.0], [13, 33000.0], [7, 33500.0], [14, 34000.0], [17, 34000.0], [6, 34000.0], [13, 34333.33333], [28, 750200.0], [20, 35000.0], [18, 35200.0], [18, 35500.0], [15, 35500.0], [19, 35750.0], [30, 35833.33333], [20, 264000.0], [25, 563000.0], [13, 36333.33333], [17, 37000.0], [12, 37000.0], [16, 37500.0], [17, 38000.0], [17, 38000.0], [16, 38000.0], [12, 38000.0], [17, 38200.0], [14, 39000.0], [17, 39000.0], [16, 39000.0], [16, 39500.0], [16, 40000.0], [12, 40000.0], [15, 40142.85714], [12, 41000.0], [13, 42000.0], [15, 42000.0], [12, 42333.33333], [12, 43000.0], [20, 522000.0], [19, 747500.0], [17, 43333.33333], [14, 43750.0], [18, 44000.0], [14, 44000.0], [11, 44000.0], [17, 44250.0], [11, 45000.0], [12, 45000.0], [16, 45000.0], [12, 45000.0], [10, 45250.0], [14, 45500.0], [10, 46000.0], [13, 46000.0], [22, 47000.0], [9, 47000.0], [13, 47333.33333], [11, 47500.0], [19, 47666.66667], [8, 48000.0], [13, 49000.0], [14, 49000.0], [19, 49000.0], [9, 49200.0], [10, 49571.42857], [16, 50000.0], [7, 50333.33333], [14, 50333.33333], [7, 50500.0], [31, 51000.0], [20, 51500.0], [19, 51666.66667], [16, 336000.0], [9, 52000.0], [14, 52666.66667], [11, 52666.66667], [14, 53000.0], [21, 53000.0], [48, 53000.0], [26, 53000.0], [10, 53000.0], [11, 53000.0], [20, 618000.0], [29, 54000.0], [8, 54000.0], [18, 333800.0], [6, 55500.0], [11, 56000.0], [30, 56000.0], [18, 57000.0], [13, 804000.0], [22, 57333.33333], [28, 58000.0], [12, 58000.0], [11, 58000.0], [14, 58333.33333], [6, 58500.0], [9, 59500.0], [17, 546666.6667], [15, 60000.0], [19, 60333.33333], [18, 60800.0], [13, 60800.0], [11, 63200.0], [9, 63500.0], [29, 386500.0], [6, 64000.0], [6, 64333.33333], [18, 64500.0], [16, 65000.0], [10, 65000.0], [12, 324000.0], [18, 66000.0], [25, 66250.0], [10, 67000.0], [11, 67666.66667], [19, 68000.0], [13, 68000.0], [12, 68000.0], [7, 69000.0], [8, 69142.85714], [21, 70000.0], [14, 71000.0], [7, 71000.0], [14, 71800.0], [22, 72000.0], [8, 72200.0], [13, 72333.33333], [18, 1163000.0], [17, 73000.0], [15, 73333.33333], [22, 73800.0], [17, 74142.85714], [27, 74600.0], [15, 75000.0], [18, 75333.33333], [19, 75750.0], [6, 77000.0], [10, 77750.0], [14, 530500.0], [22, 440000.0], [15, 80000.0], [16, 81500.0], [11, 81500.0], [15, 82000.0], [11, 82000.0], [16, 82000.0], [6, 82750.0], [16, 83000.0], [15, 83000.0], [14, 594000.0], [13, 84000.0], [8, 84400.0], [14, 84666.66667], [9, 85000.0], [7, 88000.0], [17, 90000.0], [10, 92000.0], [21, 93000.0], [23, 95500.0], [6, 96000.0], [15, 98000.0], [8, 98000.0], [20, 98666.66667], [11, 100000.0], [17, 415600.0], [17, 102000.0], [10, 102333.3333], [14, 756000.0], [10, 105500.0], [30, 107000.0], [13, 107500.0], [20, 107666.6667], [12, 108000.0], [13, 108000.0], [19, 109000.0], [20, 112000.0], [11, 112666.6667], [26, 113857.1429], [10, 115000.0], [11, 115000.0], [15, 116000.0], [27, 118200.0], [14, 119000.0], [15, 122000.0], [13, 122000.0], [18, 123000.0], [13, 123000.0], [30, 124800.0], [14, 125000.0], [13, 125142.8571], [11, 125600.0], [6, 126000.0], [8, 129000.0], [18, 513000.0], [19, 131000.0], [10, 131000.0], [18, 132000.0], [25, 335500.0], [14, 135000.0], [12, 135857.1429], [21, 136000.0], [23, 139000.0], [8, 140250.0], [28, 141600.0], [11, 142000.0], [16, 145000.0], [12, 145000.0], [13, 147000.0], [10, 147000.0], [23, 148000.0], [33, 149500.0], [18, 150666.6667], [11, 151000.0], [28, 291500.0], [32, 155000.0], [17, 157000.0], [13, 760000.0], [11, 162000.0], [14, 162200.0], [35, 162400.0], [17, 163800.0], [11, 164333.3333], [13, 165500.0], [20, 168000.0], [19, 170000.0], [15, 171000.0], [20, 172000.0], [12, 172000.0], [29, 1070000.0], [14, 174000.0], [20, 174000.0], [21, 174250.0], [12, 175000.0], [23, 177000.0], [28, 177500.0], [18, 178000.0], [7, 179000.0], [13, 180000.0], [15, 181250.0], [25, 182400.0], [19, 805000.0], [14, 184000.0], [28, 184400.0], [22, 184500.0], [28, 184500.0], [13, 184500.0], [16, 185000.0], [20, 185500.0], [18, 185750.0], [11, 186250.0], [18, 188000.0], [20, 190000.0], [6, 349000.0], [15, 192750.0], [6, 194000.0], [30, 194400.0], [21, 195000.0], [15, 196000.0], [20, 304500.0], [17, 1192500.0], [8, 197000.0], [19, 202000.0], [15, 202333.3333], [16, 204000.0], [28, 205400.0], [12, 206000.0], [18, 206000.0], [9, 207000.0], [21, 209000.0], [21, 214666.6667], [7, 222000.0], [29, 276000.0], [12, 224500.0], [28, 225500.0], [19, 2409000.0], [10, 232000.0], [19, 233000.0], [16, 310200.0], [9, 237000.0], [17, 238250.0], [20, 240666.6667], [28, 243500.0], [17, 244000.0], [28, 247600.0], [7, 248600.0], [24, 249333.3333], [10, 250000.0], [26, 254500.0], [24, 255200.0], [27, 257000.0], [22, 258000.0], [32, 261800.0]], \"columns\": [{\"dtype\": \"int\", \"name\": \"id\"}, {\"dtype\": \"int\", \"name\": \"Words_of_the_Title\"}, {\"dtype\": \"int\", \"name\": \"English_or_not\"}, {\"dtype\": \"int\", \"name\": \"the_Length_of_one_Episode\"}, {\"dtype\": \"int\", \"name\": \"the_Playback_Amount_of_one_Episode\"}, {\"dtype\": \"int\", \"name\": \"Release_Week\"}, {\"dtype\": \"float\", \"name\": \"perweek\"}]}, e);\n",
       "                });\n",
       "            })();\n",
       "        "
      ]
     },
     "metadata": {},
     "output_type": "display_data"
    },
    {
     "data": {
      "application/javascript": [
       "$(\"head\").append($(\"<link/>\").attr({\n",
       "  rel:  \"stylesheet\",\n",
       "  type: \"text/css\",\n",
       "  href: \"//cdnjs.cloudflare.com/ajax/libs/font-awesome/4.1.0/css/font-awesome.min.css\"\n",
       "}));\n",
       "$(\"head\").append($(\"<link/>\").attr({\n",
       "  rel:  \"stylesheet\",\n",
       "  type: \"text/css\",\n",
       "  href: \"https://static.turi.com/products/graphlab-create/2.1/canvas/css/canvas.css\"\n",
       "}));\n",
       "\n",
       "            (function(){\n",
       "\n",
       "                var e = null;\n",
       "                if (typeof element == 'undefined') {\n",
       "                    var scripts = document.getElementsByTagName('script');\n",
       "                    var thisScriptTag = scripts[scripts.length-1];\n",
       "                    var parentDiv = thisScriptTag.parentNode;\n",
       "                    e = document.createElement('div');\n",
       "                    parentDiv.appendChild(e);\n",
       "                } else {\n",
       "                    e = element[0];\n",
       "                }\n",
       "\n",
       "                if (typeof requirejs !== 'undefined') {\n",
       "                    // disable load timeout; ipython_app.js is large and can take a while to load.\n",
       "                    requirejs.config({waitSeconds: 0});\n",
       "                }\n",
       "\n",
       "                require(['https://static.turi.com/products/graphlab-create/2.1/canvas/js/ipython_app.js'], function(IPythonApp){\n",
       "                    var app = new IPythonApp();\n",
       "                    app.attachView('sframe','Plots', {\"selected_variable\": {\"name\": [\"data\"], \"descriptives\": {\"rows\": 1077, \"columns\": 7}, \"view_component\": \"Plots\", \"view_file\": \"sframe\", \"view_params\": {\"y\": \"perweek\", \"x\": \"the_Length_of_one_Episode\", \"columns\": [\"id\", \"Words_of_the_Title\", \"English_or_not\", \"the_Length_of_one_Episode\", \"the_Playback_Amount_of_one_Episode\", \"Release_Week\", \"perweek\"], \"view\": \"Scatter Plot\"}, \"view_components\": [\"Summary\", \"Table\", \"Bar Chart\", \"BoxWhisker Plot\", \"Line Chart\", \"Scatter Plot\", \"Heat Map\", \"Plots\"], \"type\": \"SFrame\", \"columns\": [{\"dtype\": \"int\", \"name\": \"id\"}, {\"dtype\": \"int\", \"name\": \"Words_of_the_Title\"}, {\"dtype\": \"int\", \"name\": \"English_or_not\"}, {\"dtype\": \"int\", \"name\": \"the_Length_of_one_Episode\"}, {\"dtype\": \"int\", \"name\": \"the_Playback_Amount_of_one_Episode\"}, {\"dtype\": \"int\", \"name\": \"Release_Week\"}, {\"dtype\": \"float\", \"name\": \"perweek\"}], \"column_identifiers\": [\"perweek\", \"the_Playback_Amount_of_one_Episode\", \"Release_Week\", \"the_Length_of_one_Episode\", \"English_or_not\", \"Words_of_the_Title\", \"id\"]}, \"complete\": 1, \"ipython\": true, \"progress\": 1.0, \"data\": [[194, 6.0], [253, 7.333333333], [374, 10.0], [247, 14.66666667], [262, 265000.0], [268, 17.66666667], [194, 513000.0], [247, 18.25], [110, 1070000.0], [51, 22.0], [377, 23.0], [27, 23.0], [241, 26.33333333], [321, 27.33333333], [340, 32.0], [268, 32.5], [242, 34.0], [267, 37.66666667], [345, 805000.0], [122, 47.28571429], [107, 48.25], [208, 50.0], [717, 52.66666667], [400, 53.33333333], [214, 57.4], [266, 59.0], [336, 59.5], [122, 61.25], [150, 61.75], [68, 62.8], [368, 63.75], [114, 66.33333333], [241, 69.0], [222, 69.0], [126, 71.25], [276, 73.8], [342, 386500.0], [10, 76.66666667], [86, 431000.0], [189, 80.0], [7, 82.85714286], [140, 83.75], [272, 86.25], [94, 87.5], [161, 88.5], [65, 91.5], [345, 97.25], [743, 98.0], [122, 99.5], [20, 101.4], [377, 108.0], [123, 110.0], [138, 111.0], [317, 118.6], [80, 119.0], [115, 119.75], [184, 125.1428571], [135, 336000.0], [369, 131.3333333], [361, 133.6666667], [155, 136.5], [199, 137.6666667], [250, 139.25], [131, 150.25], [120, 155.75], [167, 159.5], [97, 166.3333333], [339, 180.0], [125, 181.4], [98, 182.0], [121, 183.25], [94, 183.5], [198, 185.4285714], [503, 188.75], [173, 190.4], [128, 191.6666667], [223, 757000.0], [352, 198.3333333], [189, 199.5], [46, 215.75], [751, 223.4], [122, 225.3333333], [168, 227.6], [50, 236.0], [30, 238.5], [450, 240.75], [70, 244.0], [163, 245.6666667], [140, 255.5], [183, 267.0], [170, 950000.0], [101, 269.5], [131, 270.0], [162, 273.3333333], [718, 277.0], [751, 281.5], [375, 284.5], [213, 287.25], [299, 290.25], [413, 290.4], [115, 294.0], [553, 294.4], [128, 300.25], [221, 309.75], [117, 323.6666667], [247, 326.6666667], [646, 333.0], [590, 350.0], [290, 350.2], [133, 351.6666667], [637, 354.5], [344, 373.5], [586, 376.0], [342, 304500.0], [99, 389.25], [128, 390.3333333], [126, 391.1428571], [236, 401.0], [40, 403.5], [133, 410.5], [759, 412.6666667], [44, 427.25], [57, 429.5], [299, 452.6], [30, 454.0], [186, 366000.0], [661, 458.0], [175, 459.8], [253, 460.0], [401, 469.5], [195, 474.0], [67, 474.2], [758, 481.3333333], [195, 481.6], [228, 482.3333333], [154, 491.6], [295, 500.5], [229, 500.5], [168, 503.0], [441, 525.6666667], [98, 528.0], [15, 528.3333333], [103, 539.75], [104, 561.25], [602, 568.0], [396, 575.75], [97, 586.25], [324, 593.0], [596, 609.0], [296, 611.0], [147, 616.0], [218, 623.75], [193, 642.25], [227, 648.4], [794, 648.8], [159, 650.5], [164, 658.4], [284, 671.8], [213, 672.0], [298, 525250.0], [116, 678.8], [148, 687.0], [370, 700.3333333], [165, 706.75], [70, 731.5], [333, 743.0], [590, 746.0], [99, 763.25], [377, 771.0], [116, 809.0], [52, 809.0], [45, 841.4], [233, 875.6666667], [149, 876.5714286], [135, 913.25], [124, 914.3333333], [60, 919.6666667], [182, 934.6666667], [237, 996.0], [114, 1000.0], [157, 1002.666667], [220, 370333.3333], [244, 1036.0], [129, 1054.5], [176, 1059.666667], [278, 1092.0], [294, 1109.4], [150, 1111.5], [300, 1113.333333], [354, 1127.4], [157, 1135.0], [64, 1135.0], [122, 1140.5], [215, 1161.0], [205, 894500.0], [137, 1199.0], [179, 1208.6], [495, 1223.0], [308, 1254.5], [98, 1255.0], [298, 1257.666667], [293, 1267.666667], [235, 1271.0], [51, 1306.25], [217, 1310.0], [516, 1314.0], [906, 1322.333333], [578, 1340.0], [203, 1344.0], [344, 586333.3333], [458, 1348.8], [106, 1350.0], [795, 1381.0], [62, 1381.0], [164, 1428.571429], [626, 1464.0], [180, 1477.5], [156, 1491.333333], [85, 1495.333333], [266, 756000.0], [622, 1542.8], [82, 1543.5], [22, 1552.0], [146, 1556.333333], [237, 1565.0], [43, 1674.0], [121, 1687.333333], [247, 1709.0], [374, 1732.4], [41, 1735.0], [210, 1744.25], [241, 1767.0], [67, 1813.5], [439, 1813.6], [262, 1816.0], [123, 1821.5], [203, 1833.333333], [52, 1833.5], [196, 1857.142857], [253, 1959.6], [367, 1978.333333], [181, 424333.3333], [473, 2000.0], [291, 2000.0], [361, 594000.0], [71, 2145.5], [455, 2200.0], [387, 2200.0], [339, 2200.0], [233, 2200.0], [114, 530500.0], [57, 2200.0], [279, 2212.0], [153, 2221.5], [300, 2262.0], [319, 341800.0], [142, 2270.0], [320, 696000.0], [141, 2279.5], [236, 684666.6667], [120, 2324.5], [743, 2333.333333], [136, 2349.0], [538, 2392.75], [379, 2400.0], [376, 2400.0], [339, 2400.0], [237, 2400.0], [121, 2400.0], [145, 2404.5], [336, 2492.0], [235, 2500.0], [191, 2500.0], [53, 2504.0], [151, 2506.333333], [139, 2540.5], [155, 2568.333333], [230, 2600.0], [227, 2600.0], [202, 2600.0], [154, 2600.0], [87, 2600.0], [246, 2604.0], [486, 2610.666667], [142, 2678.333333], [86, 2700.0], [437, 2750.0], [222, 2750.0], [72, 2750.0], [575, 2800.0], [441, 2800.0], [414, 2800.0], [338, 2800.0], [244, 2800.0], [234, 2409000.0], [108, 2800.0], [281, 446600.0], [114, 2833.333333], [572, 2975.666667], [121, 2978.666667], [590, 3000.0], [339, 3000.0], [320, 3000.0], [276, 3000.0], [249, 3000.0], [206, 3000.0], [204, 3000.0], [187, 3000.0], [113, 3000.0], [113, 3000.0], [65, 3000.0], [37, 3000.0], [247, 513000.0], [177, 3144.5], [233, 3166.666667], [52, 3166.666667], [594, 3200.0], [279, 3200.0], [198, 3200.0], [57, 3200.0], [345, 618000.0], [67, 3231.333333], [282, 3248.666667], [139, 377666.6667], [180, 657500.0], [185, 3308.333333], [583, 3333.333333], [179, 3333.333333], [71, 3333.333333], [178, 3351.0], [264, 3400.0], [175, 3400.0], [43, 3400.0], [27, 3400.0], [601, 3500.0], [287, 3500.0], [206, 3500.0], [226, 3600.0], [224, 3600.0], [223, 3600.0], [525, 3666.666667], [304, 3666.666667], [267, 3666.666667], [185, 3666.666667], [38, 3666.666667], [34, 3666.666667], [409, 3706.0], [197, 3750.0], [195, 3750.0], [320, 415600.0], [181, 3800.0], [15, 279000.0], [192, 3833.333333], [107, 3857.142857], [46, 3923.0], [252, 3943.0], [223, 3979.0], [624, 4000.0], [560, 4000.0], [498, 4000.0], [493, 4000.0], [480, 4000.0], [307, 291500.0], [269, 4000.0], [153, 4000.0], [134, 4000.0], [134, 4000.0], [64, 4000.0], [136, 4075.0], [331, 4200.0], [131, 4200.0], [437, 4250.0], [146, 4253.0], [60, 4275.0], [584, 4400.0], [239, 4400.0], [216, 4400.0], [198, 4400.0], [146, 4422.0], [72, 4453.0], [353, 4500.0], [315, 4500.0], [80, 4500.0], [299, 4571.428571], [286, 4600.0], [89, 4600.0], [330, 4617.0], [373, 4666.666667], [296, 4666.666667], [227, 4666.666667], [55, 4666.666667], [38, 4666.666667], [42, 4693.0], [241, 4750.0], [174, 4750.0], [52, 4791.0], [348, 4800.0], [146, 4829.0], [272, 374400.0], [151, 292000.0], [322, 5000.0], [307, 5000.0], [260, 5000.0], [194, 5000.0], [182, 5000.0], [128, 5000.0], [54, 5000.0], [41, 5000.0], [40, 5000.0], [49, 5200.0], [344, 5250.0], [226, 5250.0], [145, 5250.0], [271, 5276.0], [255, 5333.333333], [175, 5333.333333], [147, 5333.333333], [131, 440000.0], [160, 5346.0], [625, 5400.0], [621, 5500.0], [298, 5500.0], [166, 5500.0], [156, 5500.0], [115, 5500.0], [265, 5600.0], [230, 5600.0], [275, 5666.666667], [78, 5737.0], [283, 804000.0], [37, 5750.0], [267, 5800.0], [261, 6000.0], [211, 6000.0], [123, 6000.0], [103, 6000.0], [72, 6000.0], [69, 6000.0], [43, 6000.0], [350, 6200.0], [305, 6200.0], [221, 6250.0], [70, 6250.0], [361, 6400.0], [172, 6500.0], [64, 6500.0], [292, 6600.0], [227, 6600.0], [639, 6666.666667], [159, 6666.666667], [316, 6750.0], [80, 6750.0], [256, 6815.0], [334, 6909.0], [584, 7000.0], [119, 7000.0], [47, 7000.0], [285, 482000.0], [605, 7200.0], [262, 340000.0], [287, 7200.0], [86, 7250.0], [55, 7250.0], [65, 7252.0], [539, 7333.333333], [438, 7333.333333], [301, 7333.333333], [38, 7333.333333], [61, 7428.571429], [478, 7500.0], [336, 7500.0], [286, 7500.0], [105, 7500.0], [46, 7500.0], [570, 7666.666667], [141, 425500.0], [266, 310200.0], [302, 314000.0], [307, 7800.0], [141, 7842.0], [132, 7865.0], [281, 8000.0], [268, 8000.0], [186, 8000.0], [143, 8000.0], [105, 8000.0], [87, 8000.0], [183, 8081.0], [190, 8250.0], [91, 8333.333333], [47, 8333.333333], [319, 8400.0], [230, 8400.0], [43, 8416.0], [906, 8500.0], [207, 324000.0], [345, 8500.0], [141, 8500.0], [284, 8571.428571], [237, 8600.0], [292, 8666.666667], [140, 8800.0], [533, 9000.0], [396, 9000.0], [268, 9000.0], [223, 9000.0], [168, 9000.0], [163, 9000.0], [70, 9160.0], [105, 9200.0], [370, 9250.0], [191, 9250.0], [60, 9333.333333], [335, 9400.0], [389, 266000.0], [334, 9500.0], [70, 9500.0], [232, 451000.0], [364, 747500.0], [376, 9580.0], [608, 9666.666667], [128, 9800.0], [1079, 10000.0], [442, 10000.0], [355, 10000.0], [279, 10000.0], [275, 10000.0], [265, 10000.0], [257, 10000.0], [240, 10000.0], [238, 10000.0], [226, 10000.0], [214, 10000.0], [192, 10000.0], [169, 10000.0], [122, 10000.0], [106, 10000.0], [59, 10000.0], [594, 10500.0], [334, 10500.0], [30, 10500.0], [323, 10750.0], [42, 10750.0], [622, 11000.0], [311, 11000.0], [296, 11000.0], [304, 276000.0], [260, 11000.0], [209, 11000.0], [195, 11000.0], [163, 11000.0], [154, 11000.0], [89, 11000.0], [69, 11000.0], [312, 11200.0], [308, 11200.0], [300, 11333.33333], [275, 522000.0], [512, 11400.0], [493, 11500.0], [160, 11500.0], [79, 11500.0], [264, 11700.0], [15, 11800.0], [505, 12000.0], [273, 12000.0], [134, 12000.0], [120, 12000.0], [60, 12000.0], [120, 12142.85714], [313, 266000.0], [157, 12500.0], [55, 12500.0], [404, 12750.0], [502, 13000.0], [317, 13000.0], [305, 13000.0], [274, 13000.0], [223, 13000.0], [189, 13000.0], [140, 13000.0], [506, 13200.0], [197, 1405500.0], [146, 13500.0], [180, 13600.0], [194, 13750.0], [523, 14000.0], [459, 14000.0], [398, 14000.0], [255, 14000.0], [94, 277000.0], [146, 14000.0], [84, 14000.0], [69, 14000.0], [39, 14000.0], [326, 14400.0], [292, 268600.0], [161, 14500.0], [392, 14666.66667], [771, 15000.0], [409, 15000.0], [342, 15333.33333], [402, 15500.0], [248, 15500.0], [308, 15800.0], [346, 16000.0], [187, 16000.0], [264, 16333.33333], [202, 16333.33333], [379, 17000.0], [226, 17000.0], [224, 17000.0], [71, 17000.0], [66, 17000.0], [128, 17333.33333], [253, 17571.42857], [157, 17666.66667], [148, 17666.66667], [376, 18000.0], [354, 18000.0], [315, 18000.0], [138, 18000.0], [298, 18333.33333], [35, 18333.33333], [130, 18600.0], [90, 18600.0], [162, 19333.33333], [299, 750200.0], [219, 19500.0], [319, 19800.0], [390, 20000.0], [307, 20000.0], [270, 20000.0], [111, 20000.0], [608, 20500.0], [388, 21000.0], [233, 21000.0], [221, 21000.0], [193, 21000.0], [106, 21142.85714], [314, 22000.0], [288, 22000.0], [250, 22000.0], [196, 22000.0], [196, 22000.0], [164, 22000.0], [32, 22000.0], [94, 22333.33333], [300, 22500.0], [298, 22500.0], [134, 22666.66667], [233, 23000.0], [169, 23000.0], [148, 23166.66667], [305, 23200.0], [569, 23500.0], [124, 23500.0], [42, 23500.0], [368, 546666.6667], [230, 23666.66667], [320, 24000.0], [138, 24000.0], [126, 24000.0], [43, 24285.71429], [642, 24500.0], [151, 24500.0], [139, 24600.0], [336, 25000.0], [303, 25000.0], [215, 25000.0], [338, 25200.0], [224, 25400.0], [318, 26000.0], [278, 26000.0], [231, 26000.0], [123, 26000.0], [142, 26500.0], [228, 26666.66667], [287, 27000.0], [160, 27000.0], [116, 27250.0], [184, 27500.0], [333, 28000.0], [313, 28000.0], [236, 28000.0], [150, 28000.0], [70, 28000.0], [65, 28000.0], [62, 28000.0], [286, 28400.0], [606, 29000.0], [191, 29000.0], [212, 29500.0], [296, 29750.0], [276, 30000.0], [235, 30000.0], [80, 30000.0], [161, 30500.0], [80, 30666.66667], [604, 31000.0], [385, 31000.0], [105, 31000.0], [96, 31750.0], [325, 32000.0], [163, 32000.0], [127, 32000.0], [109, 32000.0], [33, 32000.0], [288, 33000.0], [241, 33000.0], [75, 33500.0], [150, 34000.0], [104, 34000.0], [19, 34000.0], [152, 34333.33333], [387, 1163000.0], [298, 35000.0], [49, 35200.0], [200, 35500.0], [125, 35500.0], [79, 35750.0], [80, 35833.33333], [255, 36000.0], [98, 36000.0], [61, 36333.33333], [376, 37000.0], [110, 37000.0], [197, 37500.0], [415, 38000.0], [371, 38000.0], [266, 38000.0], [230, 38000.0], [99, 38200.0], [405, 39000.0], [315, 39000.0], [213, 39000.0], [217, 39500.0], [163, 40000.0], [148, 40000.0], [133, 40142.85714], [226, 41000.0], [312, 42000.0], [137, 42000.0], [131, 42333.33333], [311, 43000.0], [296, 43000.0], [100, 43000.0], [287, 43333.33333], [87, 43750.0], [341, 44000.0], [196, 544500.0], [116, 44000.0], [118, 44250.0], [481, 45000.0], [362, 45000.0], [250, 45000.0], [352, 650400.0], [74, 45250.0], [172, 45500.0], [399, 46000.0], [180, 46000.0], [390, 47000.0], [108, 47000.0], [252, 47333.33333], [30, 47500.0], [130, 47666.66667], [100, 48000.0], [323, 49000.0], [279, 49000.0], [285, 335500.0], [228, 49200.0], [228, 49571.42857], [53, 50000.0], [139, 50333.33333], [89, 50333.33333], [77, 50500.0], [302, 51000.0], [173, 51500.0], [292, 51666.66667], [340, 52000.0], [36, 52000.0], [361, 52666.66667], [131, 52666.66667], [683, 53000.0], [301, 53000.0], [301, 53000.0], [300, 53000.0], [171, 53000.0], [103, 53000.0], [185, 53500.0], [300, 54000.0], [60, 54000.0], [302, 55000.0], [47, 55500.0], [110, 56000.0], [59, 56000.0], [283, 57000.0], [196, 57166.66667], [288, 57333.33333], [300, 58000.0], [92, 58000.0], [57, 58000.0], [333, 58333.33333], [62, 58500.0], [159, 59500.0], [152, 59666.66667], [122, 60000.0], [297, 60333.33333], [143, 60800.0], [92, 60800.0], [51, 63200.0], [454, 63500.0], [271, 64000.0], [128, 64000.0], [180, 64333.33333], [307, 630400.0], [273, 65000.0], [153, 65000.0], [46, 65750.0], [299, 66000.0], [237, 66250.0], [197, 760000.0], [331, 67666.66667], [276, 68000.0], [237, 68000.0], [108, 68000.0], [148, 69000.0], [57, 69142.85714], [344, 70000.0], [146, 71000.0], [70, 71000.0], [249, 71800.0], [130, 72000.0], [131, 72200.0], [116, 72333.33333], [180, 72400.0], [344, 287000.0], [268, 73333.33333], [98, 73800.0], [224, 617000.0], [285, 74600.0], [32, 75000.0], [302, 333800.0], [322, 75750.0], [88, 77000.0], [53, 77750.0], [304, 78666.66667], [228, 79000.0], [237, 80000.0], [164, 81500.0], [42, 81500.0], [255, 82000.0], [185, 82000.0], [53, 82000.0], [196, 82750.0], [153, 83000.0], [346, 339800.0], [35, 83750.0], [289, 419200.0], [30, 84400.0], [260, 84666.66667], [21, 85000.0], [95, 88000.0], [318, 90000.0], [187, 92000.0], [270, 93000.0], [178, 95500.0], [114, 96000.0], [388, 98000.0], [206, 263500.0], [205, 98666.66667], [130, 100000.0], [337, 484000.0], [339, 102000.0], [214, 102333.3333], [369, 104500.0], [137, 105500.0], [131, 107000.0], [105, 107500.0], [55, 107666.6667], [308, 108000.0], [229, 108000.0], [217, 109000.0], [250, 112000.0], [85, 112666.6667], [64, 349000.0], [243, 115000.0], [170, 115000.0], [11, 116000.0], [109, 118200.0], [390, 119000.0], [282, 122000.0], [254, 122000.0], [273, 123000.0], [187, 123000.0], [139, 124800.0], [379, 125000.0], [302, 125142.8571], [30, 125600.0], [90, 126000.0], [53, 129000.0], [204, 130500.0], [162, 131000.0], [138, 131000.0], [257, 132000.0], [181, 135000.0], [147, 135000.0], [239, 135857.1429], [296, 136000.0], [179, 139000.0], [60, 140250.0], [193, 141600.0], [213, 142000.0], [310, 145000.0], [302, 145000.0], [223, 147000.0], [336, 264000.0], [321, 148000.0], [222, 149500.0], [194, 150666.6667], [79, 151000.0], [201, 151666.6667], [171, 155000.0], [44, 157000.0], [183, 159000.0], [289, 162000.0], [61, 162200.0], [85, 162400.0], [193, 292000.0], [42, 164333.3333], [181, 165500.0], [95, 168000.0], [234, 170000.0], [72, 171000.0], [254, 172000.0], [107, 172000.0], [296, 173333.3333], [305, 563000.0], [131, 174000.0], [183, 174250.0], [48, 175000.0], [363, 177000.0], [168, 177500.0], [389, 178000.0], [65, 179000.0], [334, 180000.0], [53, 181250.0], [179, 182400.0], [163, 183800.0], [134, 184000.0], [234, 184400.0], [167, 184500.0], [128, 184500.0], [206, 1192500.0], [301, 185000.0], [212, 185500.0], [40, 185750.0], [26, 186250.0], [222, 565000.0], [196, 190000.0], [168, 191000.0], [234, 192750.0], [18, 194000.0], [177, 194400.0], [442, 195000.0], [143, 196000.0], [270, 196500.0], [192, 197000.0], [116, 197000.0], [298, 202000.0], [351, 202333.3333], [220, 204000.0], [159, 205400.0], [159, 206000.0], [44, 206000.0], [47, 207000.0], [171, 209000.0], [234, 214666.6667], [107, 222000.0], [297, 223000.0], [232, 224500.0], [303, 438800.0], [355, 228333.3333], [83, 232000.0], [286, 233000.0], [362, 235333.3333], [60, 237000.0], [118, 238250.0], [215, 240666.6667], [350, 533200.0], [316, 244000.0], [231, 326000.0], [105, 248600.0], [387, 249333.3333], [202, 250000.0], [188, 254500.0], [92, 255200.0], [322, 257000.0], [369, 258000.0], [218, 261800.0]], \"columns\": [{\"dtype\": \"int\", \"name\": \"id\"}, {\"dtype\": \"int\", \"name\": \"Words_of_the_Title\"}, {\"dtype\": \"int\", \"name\": \"English_or_not\"}, {\"dtype\": \"int\", \"name\": \"the_Length_of_one_Episode\"}, {\"dtype\": \"int\", \"name\": \"the_Playback_Amount_of_one_Episode\"}, {\"dtype\": \"int\", \"name\": \"Release_Week\"}, {\"dtype\": \"float\", \"name\": \"perweek\"}]}, e);\n",
       "                });\n",
       "            })();\n",
       "        "
      ]
     },
     "metadata": {},
     "output_type": "display_data"
    }
   ],
   "source": [
    "data.show(view=\"Scatter Plot\", x=\"Words_of_the_Title\", y=\"perweek\")\n",
    "data.show(view=\"Scatter Plot\", x=\"the_Length_of_one_Episode\", y=\"perweek\")"
   ]
  },
  {
   "cell_type": "code",
   "execution_count": 21,
   "metadata": {
    "collapsed": false
   },
   "outputs": [
    {
     "data": {
      "application/javascript": [
       "$(\"head\").append($(\"<link/>\").attr({\n",
       "  rel:  \"stylesheet\",\n",
       "  type: \"text/css\",\n",
       "  href: \"//cdnjs.cloudflare.com/ajax/libs/font-awesome/4.1.0/css/font-awesome.min.css\"\n",
       "}));\n",
       "$(\"head\").append($(\"<link/>\").attr({\n",
       "  rel:  \"stylesheet\",\n",
       "  type: \"text/css\",\n",
       "  href: \"https://static.turi.com/products/graphlab-create/2.1/canvas/css/canvas.css\"\n",
       "}));\n",
       "\n",
       "            (function(){\n",
       "\n",
       "                var e = null;\n",
       "                if (typeof element == 'undefined') {\n",
       "                    var scripts = document.getElementsByTagName('script');\n",
       "                    var thisScriptTag = scripts[scripts.length-1];\n",
       "                    var parentDiv = thisScriptTag.parentNode;\n",
       "                    e = document.createElement('div');\n",
       "                    parentDiv.appendChild(e);\n",
       "                } else {\n",
       "                    e = element[0];\n",
       "                }\n",
       "\n",
       "                if (typeof requirejs !== 'undefined') {\n",
       "                    // disable load timeout; ipython_app.js is large and can take a while to load.\n",
       "                    requirejs.config({waitSeconds: 0});\n",
       "                }\n",
       "\n",
       "                require(['https://static.turi.com/products/graphlab-create/2.1/canvas/js/ipython_app.js'], function(IPythonApp){\n",
       "                    var app = new IPythonApp();\n",
       "                    app.attachView('sarray','Numeric', {\"ipython\": true, \"sketch\": {\"std\": 5.503131725676761, \"complete\": true, \"min\": 6.0, \"max\": 48.0, \"quantile\": [6.0, 6.0, 6.0, 7.0, 7.0, 7.0, 8.0, 8.0, 8.0, 8.0, 8.0, 9.0, 9.0, 9.0, 9.0, 9.0, 10.0, 10.0, 10.0, 10.0, 10.0, 10.0, 11.0, 11.0, 11.0, 11.0, 11.0, 11.0, 12.0, 12.0, 12.0, 12.0, 12.0, 12.0, 13.0, 13.0, 13.0, 13.0, 13.0, 13.0, 13.0, 13.0, 14.0, 14.0, 14.0, 14.0, 14.0, 14.0, 14.0, 15.0, 15.0, 15.0, 15.0, 15.0, 15.0, 15.0, 15.0, 15.0, 15.0, 15.0, 16.0, 16.0, 16.0, 16.0, 16.0, 16.0, 17.0, 17.0, 17.0, 17.0, 17.0, 17.0, 18.0, 18.0, 18.0, 18.0, 18.0, 19.0, 19.0, 19.0, 19.0, 19.0, 19.0, 20.0, 20.0, 20.0, 20.0, 21.0, 21.0, 21.0, 22.0, 22.0, 23.0, 24.0, 25.0, 26.0, 27.0, 28.0, 29.0, 30.0, 48.0], \"median\": 15.0, \"numeric\": true, \"num_unique\": 31, \"num_undefined\": 0, \"var\": 30.284458790150087, \"progress\": 1.0, \"size\": 1077, \"frequent_items\": {\"6\": {\"frequency\": 26, \"value\": 6}, \"7\": {\"frequency\": 37, \"value\": 7}, \"8\": {\"frequency\": 55, \"value\": 8}, \"9\": {\"frequency\": 53, \"value\": 9}, \"10\": {\"frequency\": 62, \"value\": 10}, \"11\": {\"frequency\": 62, \"value\": 11}, \"12\": {\"frequency\": 68, \"value\": 12}, \"13\": {\"frequency\": 86, \"value\": 13}, \"14\": {\"frequency\": 78, \"value\": 14}, \"15\": {\"frequency\": 110, \"value\": 15}, \"16\": {\"frequency\": 67, \"value\": 16}, \"17\": {\"frequency\": 67, \"value\": 17}, \"18\": {\"frequency\": 56, \"value\": 18}, \"19\": {\"frequency\": 62, \"value\": 19}, \"20\": {\"frequency\": 43, \"value\": 20}, \"21\": {\"frequency\": 36, \"value\": 21}, \"22\": {\"frequency\": 18, \"value\": 22}, \"23\": {\"frequency\": 15, \"value\": 23}, \"24\": {\"frequency\": 5, \"value\": 24}, \"25\": {\"frequency\": 8, \"value\": 25}, \"26\": {\"frequency\": 13, \"value\": 26}, \"27\": {\"frequency\": 7, \"value\": 27}, \"28\": {\"frequency\": 20, \"value\": 28}, \"29\": {\"frequency\": 8, \"value\": 29}, \"30\": {\"frequency\": 7, \"value\": 30}, \"31\": {\"frequency\": 1, \"value\": 31}, \"32\": {\"frequency\": 3, \"value\": 32}, \"33\": {\"frequency\": 1, \"value\": 33}, \"35\": {\"frequency\": 1, \"value\": 35}, \"41\": {\"frequency\": 1, \"value\": 41}, \"48\": {\"frequency\": 1, \"value\": 48}}, \"mean\": 15.038997214484676}, \"selected_variable\": {\"name\": [\"<SArray>\"], \"dtype\": \"int\", \"view_component\": \"Numeric\", \"view_file\": \"sarray\", \"descriptives\": {\"rows\": 1077}, \"type\": \"SArray\", \"view_components\": [\"Numeric\", \"Categorical\"]}, \"histogram\": {\"progress\": 1.0, \"histogram\": {\"max\": 48.175800000000095, \"bins\": [171, 192, 341, 185, 112, 26, 42, 5, 1, 1, 0, 1], \"min\": 5.782199999999971}, \"min\": 6, \"complete\": 1, \"max\": 48}}, e);\n",
       "                });\n",
       "            })();\n",
       "        "
      ]
     },
     "metadata": {},
     "output_type": "display_data"
    },
    {
     "data": {
      "application/javascript": [
       "$(\"head\").append($(\"<link/>\").attr({\n",
       "  rel:  \"stylesheet\",\n",
       "  type: \"text/css\",\n",
       "  href: \"//cdnjs.cloudflare.com/ajax/libs/font-awesome/4.1.0/css/font-awesome.min.css\"\n",
       "}));\n",
       "$(\"head\").append($(\"<link/>\").attr({\n",
       "  rel:  \"stylesheet\",\n",
       "  type: \"text/css\",\n",
       "  href: \"https://static.turi.com/products/graphlab-create/2.1/canvas/css/canvas.css\"\n",
       "}));\n",
       "\n",
       "            (function(){\n",
       "\n",
       "                var e = null;\n",
       "                if (typeof element == 'undefined') {\n",
       "                    var scripts = document.getElementsByTagName('script');\n",
       "                    var thisScriptTag = scripts[scripts.length-1];\n",
       "                    var parentDiv = thisScriptTag.parentNode;\n",
       "                    e = document.createElement('div');\n",
       "                    parentDiv.appendChild(e);\n",
       "                } else {\n",
       "                    e = element[0];\n",
       "                }\n",
       "\n",
       "                if (typeof requirejs !== 'undefined') {\n",
       "                    // disable load timeout; ipython_app.js is large and can take a while to load.\n",
       "                    requirejs.config({waitSeconds: 0});\n",
       "                }\n",
       "\n",
       "                require(['https://static.turi.com/products/graphlab-create/2.1/canvas/js/ipython_app.js'], function(IPythonApp){\n",
       "                    var app = new IPythonApp();\n",
       "                    app.attachView('sarray','Numeric', {\"ipython\": true, \"sketch\": {\"std\": 151.60917713819552, \"complete\": true, \"min\": 7.0, \"max\": 1079.0, \"quantile\": [7.0, 22.0, 32.0, 38.0, 42.0, 45.0, 48.0, 52.0, 55.0, 60.0, 62.0, 65.0, 70.0, 72.0, 80.0, 86.0, 89.0, 94.0, 98.0, 103.0, 106.0, 109.0, 114.0, 116.0, 121.0, 123.0, 126.0, 128.0, 131.0, 134.0, 138.0, 140.0, 143.0, 146.0, 150.0, 153.0, 156.0, 159.0, 162.0, 165.0, 169.0, 174.0, 179.0, 181.0, 184.0, 187.0, 192.0, 194.0, 196.0, 201.0, 206.0, 212.0, 215.0, 221.0, 223.0, 226.0, 229.0, 232.0, 234.0, 237.0, 241.0, 247.0, 253.0, 256.0, 264.0, 267.0, 271.0, 276.0, 281.0, 286.0, 288.0, 292.0, 296.0, 298.0, 300.0, 302.0, 305.0, 311.0, 315.0, 320.0, 324.0, 334.0, 338.0, 342.0, 345.0, 353.0, 362.0, 369.0, 376.0, 387.0, 396.0, 414.0, 442.0, 480.0, 505.0, 560.0, 588.0, 606.0, 639.0, 758.0, 1079.0], \"median\": 206.0, \"numeric\": true, \"num_unique\": 425, \"num_undefined\": 0, \"var\": 22985.342592520745, \"progress\": 1.0, \"size\": 1077, \"frequent_items\": {\"7\": {\"frequency\": 1, \"value\": 7}, \"10\": {\"frequency\": 1, \"value\": 10}, \"11\": {\"frequency\": 1, \"value\": 11}, \"15\": {\"frequency\": 3, \"value\": 15}, \"18\": {\"frequency\": 1, \"value\": 18}, \"19\": {\"frequency\": 1, \"value\": 19}, \"20\": {\"frequency\": 1, \"value\": 20}, \"21\": {\"frequency\": 1, \"value\": 21}, \"22\": {\"frequency\": 1, \"value\": 22}, \"26\": {\"frequency\": 1, \"value\": 26}, \"27\": {\"frequency\": 2, \"value\": 27}, \"30\": {\"frequency\": 7, \"value\": 30}, \"32\": {\"frequency\": 2, \"value\": 32}, \"33\": {\"frequency\": 1, \"value\": 33}, \"34\": {\"frequency\": 1, \"value\": 34}, \"35\": {\"frequency\": 2, \"value\": 35}, \"36\": {\"frequency\": 1, \"value\": 36}, \"37\": {\"frequency\": 2, \"value\": 37}, \"38\": {\"frequency\": 3, \"value\": 38}, \"39\": {\"frequency\": 1, \"value\": 39}, \"40\": {\"frequency\": 3, \"value\": 40}, \"41\": {\"frequency\": 2, \"value\": 41}, \"42\": {\"frequency\": 6, \"value\": 42}, \"43\": {\"frequency\": 5, \"value\": 43}, \"44\": {\"frequency\": 3, \"value\": 44}, \"45\": {\"frequency\": 1, \"value\": 45}, \"46\": {\"frequency\": 5, \"value\": 46}, \"47\": {\"frequency\": 5, \"value\": 47}, \"48\": {\"frequency\": 1, \"value\": 48}, \"49\": {\"frequency\": 3, \"value\": 49}, \"50\": {\"frequency\": 2, \"value\": 50}, \"51\": {\"frequency\": 3, \"value\": 51}, \"52\": {\"frequency\": 4, \"value\": 52}, \"53\": {\"frequency\": 6, \"value\": 53}, \"54\": {\"frequency\": 1, \"value\": 54}, \"55\": {\"frequency\": 4, \"value\": 55}, \"57\": {\"frequency\": 5, \"value\": 57}, \"59\": {\"frequency\": 2, \"value\": 59}, \"60\": {\"frequency\": 7, \"value\": 60}, \"61\": {\"frequency\": 4, \"value\": 61}, \"62\": {\"frequency\": 3, \"value\": 62}, \"64\": {\"frequency\": 4, \"value\": 64}, \"65\": {\"frequency\": 6, \"value\": 65}, \"66\": {\"frequency\": 1, \"value\": 66}, \"67\": {\"frequency\": 3, \"value\": 67}, \"68\": {\"frequency\": 1, \"value\": 68}, \"69\": {\"frequency\": 3, \"value\": 69}, \"70\": {\"frequency\": 7, \"value\": 70}, \"71\": {\"frequency\": 3, \"value\": 71}, \"72\": {\"frequency\": 4, \"value\": 72}, \"74\": {\"frequency\": 1, \"value\": 74}, \"75\": {\"frequency\": 1, \"value\": 75}, \"77\": {\"frequency\": 1, \"value\": 77}, \"78\": {\"frequency\": 1, \"value\": 78}, \"79\": {\"frequency\": 3, \"value\": 79}, \"80\": {\"frequency\": 6, \"value\": 80}, \"82\": {\"frequency\": 2, \"value\": 82}, \"83\": {\"frequency\": 1, \"value\": 83}, \"84\": {\"frequency\": 1, \"value\": 84}, \"85\": {\"frequency\": 3, \"value\": 85}, \"86\": {\"frequency\": 3, \"value\": 86}, \"87\": {\"frequency\": 3, \"value\": 87}, \"88\": {\"frequency\": 1, \"value\": 88}, \"89\": {\"frequency\": 5, \"value\": 89}, \"90\": {\"frequency\": 2, \"value\": 90}, \"91\": {\"frequency\": 1, \"value\": 91}, \"92\": {\"frequency\": 5, \"value\": 92}, \"94\": {\"frequency\": 4, \"value\": 94}, \"95\": {\"frequency\": 2, \"value\": 95}, \"96\": {\"frequency\": 1, \"value\": 96}, \"97\": {\"frequency\": 2, \"value\": 97}, \"98\": {\"frequency\": 5, \"value\": 98}, \"99\": {\"frequency\": 3, \"value\": 99}, \"100\": {\"frequency\": 3, \"value\": 100}, \"101\": {\"frequency\": 2, \"value\": 101}, \"103\": {\"frequency\": 3, \"value\": 103}, \"104\": {\"frequency\": 2, \"value\": 104}, \"105\": {\"frequency\": 6, \"value\": 105}, \"106\": {\"frequency\": 3, \"value\": 106}, \"107\": {\"frequency\": 5, \"value\": 107}, \"108\": {\"frequency\": 4, \"value\": 108}, \"109\": {\"frequency\": 2, \"value\": 109}, \"110\": {\"frequency\": 3, \"value\": 110}, \"111\": {\"frequency\": 1, \"value\": 111}, \"113\": {\"frequency\": 2, \"value\": 113}, \"114\": {\"frequency\": 6, \"value\": 114}, \"115\": {\"frequency\": 3, \"value\": 115}, \"116\": {\"frequency\": 6, \"value\": 116}, \"117\": {\"frequency\": 1, \"value\": 117}, \"118\": {\"frequency\": 2, \"value\": 118}, \"119\": {\"frequency\": 1, \"value\": 119}, \"120\": {\"frequency\": 4, \"value\": 120}, \"121\": {\"frequency\": 4, \"value\": 121}, \"122\": {\"frequency\": 8, \"value\": 122}, \"123\": {\"frequency\": 5, \"value\": 123}, \"124\": {\"frequency\": 2, \"value\": 124}, \"125\": {\"frequency\": 2, \"value\": 125}, \"126\": {\"frequency\": 3, \"value\": 126}, \"127\": {\"frequency\": 3, \"value\": 127}, \"128\": {\"frequency\": 8, \"value\": 128}, \"129\": {\"frequency\": 1, \"value\": 129}, \"130\": {\"frequency\": 4, \"value\": 130}, \"131\": {\"frequency\": 10, \"value\": 131}, \"132\": {\"frequency\": 1, \"value\": 132}, \"133\": {\"frequency\": 3, \"value\": 133}, \"134\": {\"frequency\": 5, \"value\": 134}, \"135\": {\"frequency\": 2, \"value\": 135}, \"136\": {\"frequency\": 2, \"value\": 136}, \"137\": {\"frequency\": 3, \"value\": 137}, \"138\": {\"frequency\": 4, \"value\": 138}, \"139\": {\"frequency\": 5, \"value\": 139}, \"140\": {\"frequency\": 4, \"value\": 140}, \"141\": {\"frequency\": 4, \"value\": 141}, \"142\": {\"frequency\": 3, \"value\": 142}, \"143\": {\"frequency\": 3, \"value\": 143}, \"145\": {\"frequency\": 3, \"value\": 145}, \"146\": {\"frequency\": 7, \"value\": 146}, \"147\": {\"frequency\": 3, \"value\": 147}, \"148\": {\"frequency\": 5, \"value\": 148}, \"149\": {\"frequency\": 1, \"value\": 149}, \"150\": {\"frequency\": 4, \"value\": 150}, \"151\": {\"frequency\": 5, \"value\": 151}, \"152\": {\"frequency\": 2, \"value\": 152}, \"153\": {\"frequency\": 4, \"value\": 153}, \"154\": {\"frequency\": 4, \"value\": 154}, \"155\": {\"frequency\": 2, \"value\": 155}, \"156\": {\"frequency\": 2, \"value\": 156}, \"157\": {\"frequency\": 4, \"value\": 157}, \"158\": {\"frequency\": 1, \"value\": 158}, \"159\": {\"frequency\": 6, \"value\": 159}, \"160\": {\"frequency\": 3, \"value\": 160}, \"161\": {\"frequency\": 4, \"value\": 161}, \"162\": {\"frequency\": 4, \"value\": 162}, \"163\": {\"frequency\": 6, \"value\": 163}, \"164\": {\"frequency\": 4, \"value\": 164}, \"165\": {\"frequency\": 1, \"value\": 165}, \"166\": {\"frequency\": 1, \"value\": 166}, \"167\": {\"frequency\": 2, \"value\": 167}, \"168\": {\"frequency\": 5, \"value\": 168}, \"169\": {\"frequency\": 2, \"value\": 169}, \"170\": {\"frequency\": 3, \"value\": 170}, \"171\": {\"frequency\": 3, \"value\": 171}, \"172\": {\"frequency\": 2, \"value\": 172}, \"173\": {\"frequency\": 2, \"value\": 173}, \"174\": {\"frequency\": 3, \"value\": 174}, \"175\": {\"frequency\": 3, \"value\": 175}, \"176\": {\"frequency\": 1, \"value\": 176}, \"177\": {\"frequency\": 2, \"value\": 177}, \"178\": {\"frequency\": 2, \"value\": 178}, \"179\": {\"frequency\": 4, \"value\": 179}, \"180\": {\"frequency\": 6, \"value\": 180}, \"181\": {\"frequency\": 4, \"value\": 181}, \"182\": {\"frequency\": 3, \"value\": 182}, \"183\": {\"frequency\": 4, \"value\": 183}, \"184\": {\"frequency\": 2, \"value\": 184}, \"185\": {\"frequency\": 4, \"value\": 185}, \"186\": {\"frequency\": 3, \"value\": 186}, \"187\": {\"frequency\": 4, \"value\": 187}, \"188\": {\"frequency\": 2, \"value\": 188}, \"189\": {\"frequency\": 3, \"value\": 189}, \"190\": {\"frequency\": 1, \"value\": 190}, \"191\": {\"frequency\": 3, \"value\": 191}, \"192\": {\"frequency\": 3, \"value\": 192}, \"193\": {\"frequency\": 4, \"value\": 193}, \"194\": {\"frequency\": 5, \"value\": 194}, \"195\": {\"frequency\": 4, \"value\": 195}, \"196\": {\"frequency\": 7, \"value\": 196}, \"197\": {\"frequency\": 4, \"value\": 197}, \"198\": {\"frequency\": 3, \"value\": 198}, \"199\": {\"frequency\": 1, \"value\": 199}, \"200\": {\"frequency\": 1, \"value\": 200}, \"201\": {\"frequency\": 1, \"value\": 201}, \"202\": {\"frequency\": 4, \"value\": 202}, \"203\": {\"frequency\": 2, \"value\": 203}, \"204\": {\"frequency\": 2, \"value\": 204}, \"205\": {\"frequency\": 2, \"value\": 205}, \"206\": {\"frequency\": 4, \"value\": 206}, \"207\": {\"frequency\": 1, \"value\": 207}, \"208\": {\"frequency\": 1, \"value\": 208}, \"209\": {\"frequency\": 1, \"value\": 209}, \"210\": {\"frequency\": 1, \"value\": 210}, \"211\": {\"frequency\": 2, \"value\": 211}, \"212\": {\"frequency\": 3, \"value\": 212}, \"213\": {\"frequency\": 4, \"value\": 213}, \"214\": {\"frequency\": 3, \"value\": 214}, \"215\": {\"frequency\": 3, \"value\": 215}, \"216\": {\"frequency\": 1, \"value\": 216}, \"217\": {\"frequency\": 3, \"value\": 217}, \"218\": {\"frequency\": 2, \"value\": 218}, \"219\": {\"frequency\": 1, \"value\": 219}, \"220\": {\"frequency\": 2, \"value\": 220}, \"221\": {\"frequency\": 3, \"value\": 221}, \"222\": {\"frequency\": 4, \"value\": 222}, \"223\": {\"frequency\": 7, \"value\": 223}, \"224\": {\"frequency\": 4, \"value\": 224}, \"226\": {\"frequency\": 5, \"value\": 226}, \"227\": {\"frequency\": 4, \"value\": 227}, \"228\": {\"frequency\": 5, \"value\": 228}, \"229\": {\"frequency\": 3, \"value\": 229}, \"230\": {\"frequency\": 5, \"value\": 230}, \"231\": {\"frequency\": 3, \"value\": 231}, \"232\": {\"frequency\": 2, \"value\": 232}, \"233\": {\"frequency\": 5, \"value\": 233}, \"234\": {\"frequency\": 5, \"value\": 234}, \"235\": {\"frequency\": 3, \"value\": 235}, \"236\": {\"frequency\": 3, \"value\": 236}, \"237\": {\"frequency\": 7, \"value\": 237}, \"238\": {\"frequency\": 1, \"value\": 238}, \"239\": {\"frequency\": 3, \"value\": 239}, \"240\": {\"frequency\": 1, \"value\": 240}, \"241\": {\"frequency\": 5, \"value\": 241}, \"242\": {\"frequency\": 1, \"value\": 242}, \"243\": {\"frequency\": 1, \"value\": 243}, \"244\": {\"frequency\": 2, \"value\": 244}, \"246\": {\"frequency\": 1, \"value\": 246}, \"247\": {\"frequency\": 5, \"value\": 247}, \"248\": {\"frequency\": 1, \"value\": 248}, \"249\": {\"frequency\": 2, \"value\": 249}, \"250\": {\"frequency\": 4, \"value\": 250}, \"252\": {\"frequency\": 2, \"value\": 252}, \"253\": {\"frequency\": 5, \"value\": 253}, \"254\": {\"frequency\": 2, \"value\": 254}, \"255\": {\"frequency\": 4, \"value\": 255}, \"256\": {\"frequency\": 1, \"value\": 256}, \"257\": {\"frequency\": 2, \"value\": 257}, \"260\": {\"frequency\": 3, \"value\": 260}, \"261\": {\"frequency\": 1, \"value\": 261}, \"262\": {\"frequency\": 3, \"value\": 262}, \"263\": {\"frequency\": 1, \"value\": 263}, \"264\": {\"frequency\": 3, \"value\": 264}, \"265\": {\"frequency\": 2, \"value\": 265}, \"266\": {\"frequency\": 4, \"value\": 266}, \"267\": {\"frequency\": 3, \"value\": 267}, \"268\": {\"frequency\": 5, \"value\": 268}, \"269\": {\"frequency\": 1, \"value\": 269}, \"270\": {\"frequency\": 3, \"value\": 270}, \"271\": {\"frequency\": 2, \"value\": 271}, \"272\": {\"frequency\": 2, \"value\": 272}, \"273\": {\"frequency\": 3, \"value\": 273}, \"274\": {\"frequency\": 1, \"value\": 274}, \"275\": {\"frequency\": 3, \"value\": 275}, \"276\": {\"frequency\": 4, \"value\": 276}, \"278\": {\"frequency\": 2, \"value\": 278}, \"279\": {\"frequency\": 4, \"value\": 279}, \"281\": {\"frequency\": 2, \"value\": 281}, \"282\": {\"frequency\": 2, \"value\": 282}, \"283\": {\"frequency\": 2, \"value\": 283}, \"284\": {\"frequency\": 2, \"value\": 284}, \"285\": {\"frequency\": 3, \"value\": 285}, \"286\": {\"frequency\": 6, \"value\": 286}, \"287\": {\"frequency\": 4, \"value\": 287}, \"288\": {\"frequency\": 3, \"value\": 288}, \"289\": {\"frequency\": 2, \"value\": 289}, \"290\": {\"frequency\": 1, \"value\": 290}, \"291\": {\"frequency\": 2, \"value\": 291}, \"292\": {\"frequency\": 5, \"value\": 292}, \"293\": {\"frequency\": 1, \"value\": 293}, \"294\": {\"frequency\": 1, \"value\": 294}, \"295\": {\"frequency\": 2, \"value\": 295}, \"296\": {\"frequency\": 8, \"value\": 296}, \"297\": {\"frequency\": 3, \"value\": 297}, \"298\": {\"frequency\": 7, \"value\": 298}, \"299\": {\"frequency\": 6, \"value\": 299}, \"300\": {\"frequency\": 7, \"value\": 300}, \"301\": {\"frequency\": 4, \"value\": 301}, \"302\": {\"frequency\": 6, \"value\": 302}, \"303\": {\"frequency\": 2, \"value\": 303}, \"304\": {\"frequency\": 3, \"value\": 304}, \"305\": {\"frequency\": 4, \"value\": 305}, \"307\": {\"frequency\": 5, \"value\": 307}, \"308\": {\"frequency\": 4, \"value\": 308}, \"310\": {\"frequency\": 1, \"value\": 310}, \"311\": {\"frequency\": 3, \"value\": 311}, \"312\": {\"frequency\": 3, \"value\": 312}, \"313\": {\"frequency\": 2, \"value\": 313}, \"314\": {\"frequency\": 1, \"value\": 314}, \"315\": {\"frequency\": 3, \"value\": 315}, \"316\": {\"frequency\": 2, \"value\": 316}, \"317\": {\"frequency\": 2, \"value\": 317}, \"318\": {\"frequency\": 2, \"value\": 318}, \"319\": {\"frequency\": 3, \"value\": 319}, \"320\": {\"frequency\": 4, \"value\": 320}, \"321\": {\"frequency\": 2, \"value\": 321}, \"322\": {\"frequency\": 3, \"value\": 322}, \"323\": {\"frequency\": 2, \"value\": 323}, \"324\": {\"frequency\": 1, \"value\": 324}, \"325\": {\"frequency\": 1, \"value\": 325}, \"326\": {\"frequency\": 1, \"value\": 326}, \"330\": {\"frequency\": 1, \"value\": 330}, \"331\": {\"frequency\": 3, \"value\": 331}, \"333\": {\"frequency\": 3, \"value\": 333}, \"334\": {\"frequency\": 4, \"value\": 334}, \"335\": {\"frequency\": 1, \"value\": 335}, \"336\": {\"frequency\": 5, \"value\": 336}, \"337\": {\"frequency\": 1, \"value\": 337}, \"338\": {\"frequency\": 2, \"value\": 338}, \"339\": {\"frequency\": 5, \"value\": 339}, \"340\": {\"frequency\": 3, \"value\": 340}, \"341\": {\"frequency\": 1, \"value\": 341}, \"342\": {\"frequency\": 3, \"value\": 342}, \"344\": {\"frequency\": 5, \"value\": 344}, \"345\": {\"frequency\": 4, \"value\": 345}, \"346\": {\"frequency\": 2, \"value\": 346}, \"348\": {\"frequency\": 2, \"value\": 348}, \"350\": {\"frequency\": 2, \"value\": 350}, \"351\": {\"frequency\": 2, \"value\": 351}, \"352\": {\"frequency\": 2, \"value\": 352}, \"353\": {\"frequency\": 1, \"value\": 353}, \"354\": {\"frequency\": 2, \"value\": 354}, \"355\": {\"frequency\": 2, \"value\": 355}, \"360\": {\"frequency\": 1, \"value\": 360}, \"361\": {\"frequency\": 4, \"value\": 361}, \"362\": {\"frequency\": 3, \"value\": 362}, \"363\": {\"frequency\": 2, \"value\": 363}, \"364\": {\"frequency\": 1, \"value\": 364}, \"365\": {\"frequency\": 1, \"value\": 365}, \"367\": {\"frequency\": 1, \"value\": 367}, \"368\": {\"frequency\": 2, \"value\": 368}, \"369\": {\"frequency\": 3, \"value\": 369}, \"370\": {\"frequency\": 2, \"value\": 370}, \"371\": {\"frequency\": 2, \"value\": 371}, \"373\": {\"frequency\": 1, \"value\": 373}, \"374\": {\"frequency\": 2, \"value\": 374}, \"375\": {\"frequency\": 1, \"value\": 375}, \"376\": {\"frequency\": 4, \"value\": 376}, \"377\": {\"frequency\": 3, \"value\": 377}, \"379\": {\"frequency\": 3, \"value\": 379}, \"385\": {\"frequency\": 1, \"value\": 385}, \"387\": {\"frequency\": 3, \"value\": 387}, \"388\": {\"frequency\": 2, \"value\": 388}, \"389\": {\"frequency\": 2, \"value\": 389}, \"390\": {\"frequency\": 3, \"value\": 390}, \"392\": {\"frequency\": 1, \"value\": 392}, \"396\": {\"frequency\": 2, \"value\": 396}, \"398\": {\"frequency\": 1, \"value\": 398}, \"399\": {\"frequency\": 1, \"value\": 399}, \"400\": {\"frequency\": 1, \"value\": 400}, \"401\": {\"frequency\": 1, \"value\": 401}, \"402\": {\"frequency\": 1, \"value\": 402}, \"404\": {\"frequency\": 1, \"value\": 404}, \"405\": {\"frequency\": 1, \"value\": 405}, \"409\": {\"frequency\": 2, \"value\": 409}, \"413\": {\"frequency\": 1, \"value\": 413}, \"414\": {\"frequency\": 1, \"value\": 414}, \"415\": {\"frequency\": 1, \"value\": 415}, \"428\": {\"frequency\": 1, \"value\": 428}, \"437\": {\"frequency\": 2, \"value\": 437}, \"438\": {\"frequency\": 2, \"value\": 438}, \"439\": {\"frequency\": 1, \"value\": 439}, \"441\": {\"frequency\": 2, \"value\": 441}, \"442\": {\"frequency\": 2, \"value\": 442}, \"445\": {\"frequency\": 1, \"value\": 445}, \"450\": {\"frequency\": 1, \"value\": 450}, \"454\": {\"frequency\": 1, \"value\": 454}, \"455\": {\"frequency\": 1, \"value\": 455}, \"458\": {\"frequency\": 1, \"value\": 458}, \"459\": {\"frequency\": 1, \"value\": 459}, \"460\": {\"frequency\": 1, \"value\": 460}, \"473\": {\"frequency\": 1, \"value\": 473}, \"478\": {\"frequency\": 1, \"value\": 478}, \"480\": {\"frequency\": 1, \"value\": 480}, \"481\": {\"frequency\": 1, \"value\": 481}, \"486\": {\"frequency\": 1, \"value\": 486}, \"487\": {\"frequency\": 1, \"value\": 487}, \"490\": {\"frequency\": 1, \"value\": 490}, \"493\": {\"frequency\": 2, \"value\": 493}, \"495\": {\"frequency\": 1, \"value\": 495}, \"498\": {\"frequency\": 1, \"value\": 498}, \"502\": {\"frequency\": 1, \"value\": 502}, \"503\": {\"frequency\": 1, \"value\": 503}, \"505\": {\"frequency\": 1, \"value\": 505}, \"506\": {\"frequency\": 1, \"value\": 506}, \"512\": {\"frequency\": 1, \"value\": 512}, \"516\": {\"frequency\": 1, \"value\": 516}, \"523\": {\"frequency\": 1, \"value\": 523}, \"525\": {\"frequency\": 1, \"value\": 525}, \"533\": {\"frequency\": 1, \"value\": 533}, \"538\": {\"frequency\": 1, \"value\": 538}, \"539\": {\"frequency\": 1, \"value\": 539}, \"543\": {\"frequency\": 1, \"value\": 543}, \"553\": {\"frequency\": 1, \"value\": 553}, \"560\": {\"frequency\": 1, \"value\": 560}, \"569\": {\"frequency\": 1, \"value\": 569}, \"570\": {\"frequency\": 1, \"value\": 570}, \"572\": {\"frequency\": 1, \"value\": 572}, \"575\": {\"frequency\": 1, \"value\": 575}, \"578\": {\"frequency\": 1, \"value\": 578}, \"583\": {\"frequency\": 1, \"value\": 583}, \"584\": {\"frequency\": 2, \"value\": 584}, \"586\": {\"frequency\": 1, \"value\": 586}, \"588\": {\"frequency\": 1, \"value\": 588}, \"590\": {\"frequency\": 3, \"value\": 590}, \"594\": {\"frequency\": 2, \"value\": 594}, \"596\": {\"frequency\": 1, \"value\": 596}, \"601\": {\"frequency\": 1, \"value\": 601}, \"602\": {\"frequency\": 1, \"value\": 602}, \"604\": {\"frequency\": 1, \"value\": 604}, \"605\": {\"frequency\": 1, \"value\": 605}, \"606\": {\"frequency\": 1, \"value\": 606}, \"608\": {\"frequency\": 2, \"value\": 608}, \"615\": {\"frequency\": 1, \"value\": 615}, \"621\": {\"frequency\": 1, \"value\": 621}, \"622\": {\"frequency\": 2, \"value\": 622}, \"624\": {\"frequency\": 1, \"value\": 624}, \"625\": {\"frequency\": 1, \"value\": 625}, \"626\": {\"frequency\": 1, \"value\": 626}, \"637\": {\"frequency\": 1, \"value\": 637}, \"639\": {\"frequency\": 1, \"value\": 639}, \"642\": {\"frequency\": 1, \"value\": 642}, \"646\": {\"frequency\": 1, \"value\": 646}, \"661\": {\"frequency\": 1, \"value\": 661}, \"683\": {\"frequency\": 1, \"value\": 683}, \"717\": {\"frequency\": 1, \"value\": 717}, \"718\": {\"frequency\": 1, \"value\": 718}, \"743\": {\"frequency\": 2, \"value\": 743}, \"751\": {\"frequency\": 2, \"value\": 751}, \"758\": {\"frequency\": 1, \"value\": 758}, \"759\": {\"frequency\": 1, \"value\": 759}, \"766\": {\"frequency\": 1, \"value\": 766}, \"771\": {\"frequency\": 1, \"value\": 771}, \"794\": {\"frequency\": 1, \"value\": 794}, \"795\": {\"frequency\": 1, \"value\": 795}, \"816\": {\"frequency\": 1, \"value\": 816}, \"906\": {\"frequency\": 3, \"value\": 906}, \"1079\": {\"frequency\": 1, \"value\": 1079}}, \"mean\": 230.91922005571035}, \"selected_variable\": {\"name\": [\"<SArray>\"], \"dtype\": \"int\", \"view_component\": \"Numeric\", \"view_file\": \"sarray\", \"descriptives\": {\"rows\": 1077}, \"type\": \"SArray\", \"view_components\": [\"Numeric\", \"Categorical\"]}, \"histogram\": {\"progress\": 1.0, \"histogram\": {\"max\": 1088.204, \"bins\": [176, 290, 248, 216, 64, 28, 32, 8, 11, 3, 0, 1], \"min\": 0.7160000000000082}, \"min\": 7, \"complete\": 1, \"max\": 1079}}, e);\n",
       "                });\n",
       "            })();\n",
       "        "
      ]
     },
     "metadata": {},
     "output_type": "display_data"
    }
   ],
   "source": [
    "data['Words_of_the_Title'].show()\n",
    "data['the_Length_of_one_Episode'].show()"
   ]
  },
  {
   "cell_type": "code",
   "execution_count": 5,
   "metadata": {
    "collapsed": true
   },
   "outputs": [],
   "source": [
    "my_features = ['Words_of_the_Title', 'the_Length_of_one_Episode','English_or_not']"
   ]
  },
  {
   "cell_type": "code",
   "execution_count": 28,
   "metadata": {
    "collapsed": false
   },
   "outputs": [
    {
     "data": {
      "text/html": [
       "<pre>Linear regression:</pre>"
      ],
      "text/plain": [
       "Linear regression:"
      ]
     },
     "metadata": {},
     "output_type": "display_data"
    },
    {
     "data": {
      "text/html": [
       "<pre>--------------------------------------------------------</pre>"
      ],
      "text/plain": [
       "--------------------------------------------------------"
      ]
     },
     "metadata": {},
     "output_type": "display_data"
    },
    {
     "data": {
      "text/html": [
       "<pre>Number of examples          : 914</pre>"
      ],
      "text/plain": [
       "Number of examples          : 914"
      ]
     },
     "metadata": {},
     "output_type": "display_data"
    },
    {
     "data": {
      "text/html": [
       "<pre>Number of features          : 3</pre>"
      ],
      "text/plain": [
       "Number of features          : 3"
      ]
     },
     "metadata": {},
     "output_type": "display_data"
    },
    {
     "data": {
      "text/html": [
       "<pre>Number of unpacked features : 3</pre>"
      ],
      "text/plain": [
       "Number of unpacked features : 3"
      ]
     },
     "metadata": {},
     "output_type": "display_data"
    },
    {
     "data": {
      "text/html": [
       "<pre>Number of coefficients    : 4</pre>"
      ],
      "text/plain": [
       "Number of coefficients    : 4"
      ]
     },
     "metadata": {},
     "output_type": "display_data"
    },
    {
     "data": {
      "text/html": [
       "<pre>Starting Newton Method</pre>"
      ],
      "text/plain": [
       "Starting Newton Method"
      ]
     },
     "metadata": {},
     "output_type": "display_data"
    },
    {
     "data": {
      "text/html": [
       "<pre>--------------------------------------------------------</pre>"
      ],
      "text/plain": [
       "--------------------------------------------------------"
      ]
     },
     "metadata": {},
     "output_type": "display_data"
    },
    {
     "data": {
      "text/html": [
       "<pre>+-----------+----------+--------------+--------------------+---------------+</pre>"
      ],
      "text/plain": [
       "+-----------+----------+--------------+--------------------+---------------+"
      ]
     },
     "metadata": {},
     "output_type": "display_data"
    },
    {
     "data": {
      "text/html": [
       "<pre>| Iteration | Passes   | Elapsed Time | Training-max_error | Training-rmse |</pre>"
      ],
      "text/plain": [
       "| Iteration | Passes   | Elapsed Time | Training-max_error | Training-rmse |"
      ]
     },
     "metadata": {},
     "output_type": "display_data"
    },
    {
     "data": {
      "text/html": [
       "<pre>+-----------+----------+--------------+--------------------+---------------+</pre>"
      ],
      "text/plain": [
       "+-----------+----------+--------------+--------------------+---------------+"
      ]
     },
     "metadata": {},
     "output_type": "display_data"
    },
    {
     "data": {
      "text/html": [
       "<pre>| 1         | 2        | 0.001362     | 2318456.565718     | 163259.855279 |</pre>"
      ],
      "text/plain": [
       "| 1         | 2        | 0.001362     | 2318456.565718     | 163259.855279 |"
      ]
     },
     "metadata": {},
     "output_type": "display_data"
    },
    {
     "data": {
      "text/html": [
       "<pre>+-----------+----------+--------------+--------------------+---------------+</pre>"
      ],
      "text/plain": [
       "+-----------+----------+--------------+--------------------+---------------+"
      ]
     },
     "metadata": {},
     "output_type": "display_data"
    },
    {
     "data": {
      "text/html": [
       "<pre>SUCCESS: Optimal solution found.</pre>"
      ],
      "text/plain": [
       "SUCCESS: Optimal solution found."
      ]
     },
     "metadata": {},
     "output_type": "display_data"
    },
    {
     "data": {
      "text/html": [
       "<pre></pre>"
      ],
      "text/plain": []
     },
     "metadata": {},
     "output_type": "display_data"
    },
    {
     "name": "stdout",
     "output_type": "stream",
     "text": [
      "Class                          : LinearRegression\n",
      "\n",
      "Schema\n",
      "------\n",
      "Number of coefficients         : 4\n",
      "Number of examples             : 914\n",
      "Number of feature columns      : 3\n",
      "Number of unpacked features    : 3\n",
      "\n",
      "Hyperparameters\n",
      "---------------\n",
      "L1 penalty                     : 0.0\n",
      "L2 penalty                     : 0.01\n",
      "\n",
      "Training Summary\n",
      "----------------\n",
      "Solver                         : newton\n",
      "Solver iterations              : 1\n",
      "Solver status                  : SUCCESS: Optimal solution found.\n",
      "Training time (sec)            : 0.0024\n",
      "\n",
      "Settings\n",
      "--------\n",
      "Residual sum of squares        : 2.43615552361e+13\n",
      "Training RMSE                  : 163259.8553\n",
      "\n",
      "Highest Positive Coefficients\n",
      "-----------------------------\n",
      "English_or_not                 : 6570.5599\n",
      "Words_of_the_Title             : 5219.5702\n",
      "\n",
      "Lowest Negative Coefficients\n",
      "----------------------------\n",
      "(intercept)                    : -3868.5246\n",
      "the_Length_of_one_Episode      : -20.3413\n",
      "\n"
     ]
    }
   ],
   "source": [
    "model = graphlab.linear_regression.create(train_data, target = 'perweek', features =my_features, \n",
    "                                                  validation_set = None,verbose=True)\n",
    "model.summary()"
   ]
  },
  {
   "cell_type": "code",
   "execution_count": 29,
   "metadata": {
    "collapsed": false
   },
   "outputs": [
    {
     "name": "stdout",
     "output_type": "stream",
     "text": [
      "+---------------------------+-------+----------------+---------------+\n",
      "|            name           | index |     value      |     stderr    |\n",
      "+---------------------------+-------+----------------+---------------+\n",
      "|        (intercept)        |  None | -3868.52458472 | 17242.4855139 |\n",
      "|     Words_of_the_Title    |  None | 5219.57024704  | 991.572491962 |\n",
      "| the_Length_of_one_Episode |  None | -20.3413496889 | 35.3505813083 |\n",
      "|       English_or_not      |  None | 6570.55992764  | 16889.3808068 |\n",
      "+---------------------------+-------+----------------+---------------+\n",
      "[4 rows x 4 columns]\n",
      "\n"
     ]
    }
   ],
   "source": [
    "weight_summary = model.get(\"coefficients\")\n",
    "print weight_summary"
   ]
  },
  {
   "cell_type": "code",
   "execution_count": 30,
   "metadata": {
    "collapsed": false
   },
   "outputs": [],
   "source": [
    "predictions = model.predict(train_data)"
   ]
  },
  {
   "cell_type": "code",
   "execution_count": 31,
   "metadata": {
    "collapsed": true
   },
   "outputs": [],
   "source": [
    "def get_residual_sum_of_squares(model, data, outcome):\n",
    "    # First get the predictions\n",
    "    predictions = model.predict(data)\n",
    "    # Then compute the residuals/errors\n",
    "    residuals= outcome-predictions\n",
    "    # Then square and add them up\n",
    "    RSS = sum(residuals**2)\n",
    "    return(RSS)    "
   ]
  },
  {
   "cell_type": "code",
   "execution_count": 85,
   "metadata": {
    "collapsed": false
   },
   "outputs": [
    {
     "name": "stdout",
     "output_type": "stream",
     "text": [
      "2.43615552361e+13\n"
     ]
    }
   ],
   "source": [
    "rss_test = get_residual_sum_of_squares(model, train_data, train_data['perweek'])\n",
    "print rss_test"
   ]
  },
  {
   "cell_type": "markdown",
   "metadata": {},
   "source": [
    "# Poly data"
   ]
  },
  {
   "cell_type": "code",
   "execution_count": 34,
   "metadata": {
    "collapsed": true
   },
   "outputs": [],
   "source": [
    "def polynomial_sframe_1(feature, degree):\n",
    "    poly_sframe = graphlab.SFrame()\n",
    "    poly_sframe['Words_of_the_Title']= feature\n",
    "    if degree > 1:\n",
    "        for power in range(2, degree+1): \n",
    "            name = 'Words_of_the_Title' + str(power)\n",
    "            poly_sframe[name]=feature.apply(lambda x: x**power)\n",
    "    return poly_sframe"
   ]
  },
  {
   "cell_type": "code",
   "execution_count": 35,
   "metadata": {
    "collapsed": true
   },
   "outputs": [],
   "source": [
    "def polynomial_sframe_2(feature, degree):\n",
    "    poly_sframe = graphlab.SFrame()\n",
    "    poly_sframe['the_Length_of_one_Episode']= feature\n",
    "    if degree > 1:\n",
    "        for power in range(2, degree+1): \n",
    "            name = 'the_Length_of_one_Episode' + str(power)\n",
    "            poly_sframe[name]=feature.apply(lambda x: x**power)\n",
    "    return poly_sframe"
   ]
  },
  {
   "cell_type": "code",
   "execution_count": 96,
   "metadata": {
    "collapsed": false
   },
   "outputs": [
    {
     "data": {
      "text/html": [
       "<div style=\"max-height:1000px;max-width:1500px;overflow:auto;\"><table frame=\"box\" rules=\"cols\">\n",
       "    <tr>\n",
       "        <th style=\"padding-left: 1em; padding-right: 1em; text-align: center\">Words_of_the_Title</th>\n",
       "        <th style=\"padding-left: 1em; padding-right: 1em; text-align: center\">Words_of_the_Title2</th>\n",
       "        <th style=\"padding-left: 1em; padding-right: 1em; text-align: center\">Words_of_the_Title3</th>\n",
       "    </tr>\n",
       "    <tr>\n",
       "        <td style=\"padding-left: 1em; padding-right: 1em; text-align: center; vertical-align: top\">15</td>\n",
       "        <td style=\"padding-left: 1em; padding-right: 1em; text-align: center; vertical-align: top\">225</td>\n",
       "        <td style=\"padding-left: 1em; padding-right: 1em; text-align: center; vertical-align: top\">3375</td>\n",
       "    </tr>\n",
       "    <tr>\n",
       "        <td style=\"padding-left: 1em; padding-right: 1em; text-align: center; vertical-align: top\">15</td>\n",
       "        <td style=\"padding-left: 1em; padding-right: 1em; text-align: center; vertical-align: top\">225</td>\n",
       "        <td style=\"padding-left: 1em; padding-right: 1em; text-align: center; vertical-align: top\">3375</td>\n",
       "    </tr>\n",
       "    <tr>\n",
       "        <td style=\"padding-left: 1em; padding-right: 1em; text-align: center; vertical-align: top\">10</td>\n",
       "        <td style=\"padding-left: 1em; padding-right: 1em; text-align: center; vertical-align: top\">100</td>\n",
       "        <td style=\"padding-left: 1em; padding-right: 1em; text-align: center; vertical-align: top\">1000</td>\n",
       "    </tr>\n",
       "    <tr>\n",
       "        <td style=\"padding-left: 1em; padding-right: 1em; text-align: center; vertical-align: top\">13</td>\n",
       "        <td style=\"padding-left: 1em; padding-right: 1em; text-align: center; vertical-align: top\">169</td>\n",
       "        <td style=\"padding-left: 1em; padding-right: 1em; text-align: center; vertical-align: top\">2197</td>\n",
       "    </tr>\n",
       "    <tr>\n",
       "        <td style=\"padding-left: 1em; padding-right: 1em; text-align: center; vertical-align: top\">15</td>\n",
       "        <td style=\"padding-left: 1em; padding-right: 1em; text-align: center; vertical-align: top\">225</td>\n",
       "        <td style=\"padding-left: 1em; padding-right: 1em; text-align: center; vertical-align: top\">3375</td>\n",
       "    </tr>\n",
       "    <tr>\n",
       "        <td style=\"padding-left: 1em; padding-right: 1em; text-align: center; vertical-align: top\">19</td>\n",
       "        <td style=\"padding-left: 1em; padding-right: 1em; text-align: center; vertical-align: top\">361</td>\n",
       "        <td style=\"padding-left: 1em; padding-right: 1em; text-align: center; vertical-align: top\">6859</td>\n",
       "    </tr>\n",
       "    <tr>\n",
       "        <td style=\"padding-left: 1em; padding-right: 1em; text-align: center; vertical-align: top\">10</td>\n",
       "        <td style=\"padding-left: 1em; padding-right: 1em; text-align: center; vertical-align: top\">100</td>\n",
       "        <td style=\"padding-left: 1em; padding-right: 1em; text-align: center; vertical-align: top\">1000</td>\n",
       "    </tr>\n",
       "    <tr>\n",
       "        <td style=\"padding-left: 1em; padding-right: 1em; text-align: center; vertical-align: top\">13</td>\n",
       "        <td style=\"padding-left: 1em; padding-right: 1em; text-align: center; vertical-align: top\">169</td>\n",
       "        <td style=\"padding-left: 1em; padding-right: 1em; text-align: center; vertical-align: top\">2197</td>\n",
       "    </tr>\n",
       "    <tr>\n",
       "        <td style=\"padding-left: 1em; padding-right: 1em; text-align: center; vertical-align: top\">16</td>\n",
       "        <td style=\"padding-left: 1em; padding-right: 1em; text-align: center; vertical-align: top\">256</td>\n",
       "        <td style=\"padding-left: 1em; padding-right: 1em; text-align: center; vertical-align: top\">4096</td>\n",
       "    </tr>\n",
       "    <tr>\n",
       "        <td style=\"padding-left: 1em; padding-right: 1em; text-align: center; vertical-align: top\">30</td>\n",
       "        <td style=\"padding-left: 1em; padding-right: 1em; text-align: center; vertical-align: top\">900</td>\n",
       "        <td style=\"padding-left: 1em; padding-right: 1em; text-align: center; vertical-align: top\">27000</td>\n",
       "    </tr>\n",
       "</table>\n",
       "[914 rows x 3 columns]<br/>Note: Only the head of the SFrame is printed.<br/>You can use print_rows(num_rows=m, num_columns=n) to print more rows and columns.\n",
       "</div>"
      ],
      "text/plain": [
       "Columns:\n",
       "\tWords_of_the_Title\tint\n",
       "\tWords_of_the_Title2\tint\n",
       "\tWords_of_the_Title3\tint\n",
       "\n",
       "Rows: 914\n",
       "\n",
       "Data:\n",
       "+--------------------+---------------------+---------------------+\n",
       "| Words_of_the_Title | Words_of_the_Title2 | Words_of_the_Title3 |\n",
       "+--------------------+---------------------+---------------------+\n",
       "|         15         |         225         |         3375        |\n",
       "|         15         |         225         |         3375        |\n",
       "|         10         |         100         |         1000        |\n",
       "|         13         |         169         |         2197        |\n",
       "|         15         |         225         |         3375        |\n",
       "|         19         |         361         |         6859        |\n",
       "|         10         |         100         |         1000        |\n",
       "|         13         |         169         |         2197        |\n",
       "|         16         |         256         |         4096        |\n",
       "|         30         |         900         |        27000        |\n",
       "+--------------------+---------------------+---------------------+\n",
       "[914 rows x 3 columns]\n",
       "Note: Only the head of the SFrame is printed.\n",
       "You can use print_rows(num_rows=m, num_columns=n) to print more rows and columns."
      ]
     },
     "execution_count": 96,
     "metadata": {},
     "output_type": "execute_result"
    }
   ],
   "source": [
    "polydata1=polynomial_sframe_1(train_data['Words_of_the_Title'],3)\n",
    "my_features1 = polydata1.column_names()\n",
    "polydata1"
   ]
  },
  {
   "cell_type": "code",
   "execution_count": 97,
   "metadata": {
    "collapsed": false
   },
   "outputs": [
    {
     "data": {
      "text/plain": [
       "['the_Length_of_one_Episode',\n",
       " 'the_Length_of_one_Episode2',\n",
       " 'the_Length_of_one_Episode3']"
      ]
     },
     "execution_count": 97,
     "metadata": {},
     "output_type": "execute_result"
    }
   ],
   "source": [
    "polydata2=polynomial_sframe_2(train_data['the_Length_of_one_Episode'],3)\n",
    "my_features2 = polydata2.column_names()\n",
    "polydata2\n",
    "my_features2"
   ]
  },
  {
   "cell_type": "code",
   "execution_count": 98,
   "metadata": {
    "collapsed": false
   },
   "outputs": [
    {
     "data": {
      "text/html": [
       "<div style=\"max-height:1000px;max-width:1500px;overflow:auto;\"><table frame=\"box\" rules=\"cols\">\n",
       "    <tr>\n",
       "        <th style=\"padding-left: 1em; padding-right: 1em; text-align: center\">Words_of_the_Title</th>\n",
       "        <th style=\"padding-left: 1em; padding-right: 1em; text-align: center\">Words_of_the_Title2</th>\n",
       "        <th style=\"padding-left: 1em; padding-right: 1em; text-align: center\">Words_of_the_Title3</th>\n",
       "    </tr>\n",
       "    <tr>\n",
       "        <td style=\"padding-left: 1em; padding-right: 1em; text-align: center; vertical-align: top\">15</td>\n",
       "        <td style=\"padding-left: 1em; padding-right: 1em; text-align: center; vertical-align: top\">225</td>\n",
       "        <td style=\"padding-left: 1em; padding-right: 1em; text-align: center; vertical-align: top\">3375</td>\n",
       "    </tr>\n",
       "    <tr>\n",
       "        <td style=\"padding-left: 1em; padding-right: 1em; text-align: center; vertical-align: top\">15</td>\n",
       "        <td style=\"padding-left: 1em; padding-right: 1em; text-align: center; vertical-align: top\">225</td>\n",
       "        <td style=\"padding-left: 1em; padding-right: 1em; text-align: center; vertical-align: top\">3375</td>\n",
       "    </tr>\n",
       "    <tr>\n",
       "        <td style=\"padding-left: 1em; padding-right: 1em; text-align: center; vertical-align: top\">10</td>\n",
       "        <td style=\"padding-left: 1em; padding-right: 1em; text-align: center; vertical-align: top\">100</td>\n",
       "        <td style=\"padding-left: 1em; padding-right: 1em; text-align: center; vertical-align: top\">1000</td>\n",
       "    </tr>\n",
       "    <tr>\n",
       "        <td style=\"padding-left: 1em; padding-right: 1em; text-align: center; vertical-align: top\">13</td>\n",
       "        <td style=\"padding-left: 1em; padding-right: 1em; text-align: center; vertical-align: top\">169</td>\n",
       "        <td style=\"padding-left: 1em; padding-right: 1em; text-align: center; vertical-align: top\">2197</td>\n",
       "    </tr>\n",
       "    <tr>\n",
       "        <td style=\"padding-left: 1em; padding-right: 1em; text-align: center; vertical-align: top\">15</td>\n",
       "        <td style=\"padding-left: 1em; padding-right: 1em; text-align: center; vertical-align: top\">225</td>\n",
       "        <td style=\"padding-left: 1em; padding-right: 1em; text-align: center; vertical-align: top\">3375</td>\n",
       "    </tr>\n",
       "    <tr>\n",
       "        <td style=\"padding-left: 1em; padding-right: 1em; text-align: center; vertical-align: top\">19</td>\n",
       "        <td style=\"padding-left: 1em; padding-right: 1em; text-align: center; vertical-align: top\">361</td>\n",
       "        <td style=\"padding-left: 1em; padding-right: 1em; text-align: center; vertical-align: top\">6859</td>\n",
       "    </tr>\n",
       "    <tr>\n",
       "        <td style=\"padding-left: 1em; padding-right: 1em; text-align: center; vertical-align: top\">10</td>\n",
       "        <td style=\"padding-left: 1em; padding-right: 1em; text-align: center; vertical-align: top\">100</td>\n",
       "        <td style=\"padding-left: 1em; padding-right: 1em; text-align: center; vertical-align: top\">1000</td>\n",
       "    </tr>\n",
       "    <tr>\n",
       "        <td style=\"padding-left: 1em; padding-right: 1em; text-align: center; vertical-align: top\">13</td>\n",
       "        <td style=\"padding-left: 1em; padding-right: 1em; text-align: center; vertical-align: top\">169</td>\n",
       "        <td style=\"padding-left: 1em; padding-right: 1em; text-align: center; vertical-align: top\">2197</td>\n",
       "    </tr>\n",
       "    <tr>\n",
       "        <td style=\"padding-left: 1em; padding-right: 1em; text-align: center; vertical-align: top\">16</td>\n",
       "        <td style=\"padding-left: 1em; padding-right: 1em; text-align: center; vertical-align: top\">256</td>\n",
       "        <td style=\"padding-left: 1em; padding-right: 1em; text-align: center; vertical-align: top\">4096</td>\n",
       "    </tr>\n",
       "    <tr>\n",
       "        <td style=\"padding-left: 1em; padding-right: 1em; text-align: center; vertical-align: top\">30</td>\n",
       "        <td style=\"padding-left: 1em; padding-right: 1em; text-align: center; vertical-align: top\">900</td>\n",
       "        <td style=\"padding-left: 1em; padding-right: 1em; text-align: center; vertical-align: top\">27000</td>\n",
       "    </tr>\n",
       "</table>\n",
       "[914 rows x 3 columns]<br/>Note: Only the head of the SFrame is printed.<br/>You can use print_rows(num_rows=m, num_columns=n) to print more rows and columns.\n",
       "</div>"
      ],
      "text/plain": [
       "Columns:\n",
       "\tWords_of_the_Title\tint\n",
       "\tWords_of_the_Title2\tint\n",
       "\tWords_of_the_Title3\tint\n",
       "\n",
       "Rows: 914\n",
       "\n",
       "Data:\n",
       "+--------------------+---------------------+---------------------+\n",
       "| Words_of_the_Title | Words_of_the_Title2 | Words_of_the_Title3 |\n",
       "+--------------------+---------------------+---------------------+\n",
       "|         15         |         225         |         3375        |\n",
       "|         15         |         225         |         3375        |\n",
       "|         10         |         100         |         1000        |\n",
       "|         13         |         169         |         2197        |\n",
       "|         15         |         225         |         3375        |\n",
       "|         19         |         361         |         6859        |\n",
       "|         10         |         100         |         1000        |\n",
       "|         13         |         169         |         2197        |\n",
       "|         16         |         256         |         4096        |\n",
       "|         30         |         900         |        27000        |\n",
       "+--------------------+---------------------+---------------------+\n",
       "[914 rows x 3 columns]\n",
       "Note: Only the head of the SFrame is printed.\n",
       "You can use print_rows(num_rows=m, num_columns=n) to print more rows and columns."
      ]
     },
     "execution_count": 98,
     "metadata": {},
     "output_type": "execute_result"
    }
   ],
   "source": [
    "polydata=polydata1\n",
    "polydata"
   ]
  },
  {
   "cell_type": "code",
   "execution_count": 99,
   "metadata": {
    "collapsed": false
   },
   "outputs": [
    {
     "data": {
      "text/plain": [
       "['Words_of_the_Title',\n",
       " 'Words_of_the_Title2',\n",
       " 'Words_of_the_Title3',\n",
       " 'the_Length_of_one_Episode',\n",
       " 'the_Length_of_one_Episode2',\n",
       " 'the_Length_of_one_Episode3',\n",
       " 'English_or_not']"
      ]
     },
     "execution_count": 99,
     "metadata": {},
     "output_type": "execute_result"
    }
   ],
   "source": [
    "polydata[my_features2]=polydata2[my_features2]\n",
    "polydata['English_or_not']=train_data['English_or_not']\n",
    "my_features3 = polydata.column_names()\n",
    "my_features3"
   ]
  },
  {
   "cell_type": "code",
   "execution_count": 100,
   "metadata": {
    "collapsed": false
   },
   "outputs": [],
   "source": [
    "polydata1['perweek'] = train_data['perweek']"
   ]
  },
  {
   "cell_type": "code",
   "execution_count": 111,
   "metadata": {
    "collapsed": false
   },
   "outputs": [
    {
     "data": {
      "text/html": [
       "<pre>Linear regression:</pre>"
      ],
      "text/plain": [
       "Linear regression:"
      ]
     },
     "metadata": {},
     "output_type": "display_data"
    },
    {
     "data": {
      "text/html": [
       "<pre>--------------------------------------------------------</pre>"
      ],
      "text/plain": [
       "--------------------------------------------------------"
      ]
     },
     "metadata": {},
     "output_type": "display_data"
    },
    {
     "data": {
      "text/html": [
       "<pre>Number of examples          : 914</pre>"
      ],
      "text/plain": [
       "Number of examples          : 914"
      ]
     },
     "metadata": {},
     "output_type": "display_data"
    },
    {
     "data": {
      "text/html": [
       "<pre>Number of features          : 7</pre>"
      ],
      "text/plain": [
       "Number of features          : 7"
      ]
     },
     "metadata": {},
     "output_type": "display_data"
    },
    {
     "data": {
      "text/html": [
       "<pre>Number of unpacked features : 7</pre>"
      ],
      "text/plain": [
       "Number of unpacked features : 7"
      ]
     },
     "metadata": {},
     "output_type": "display_data"
    },
    {
     "data": {
      "text/html": [
       "<pre>Number of coefficients    : 8</pre>"
      ],
      "text/plain": [
       "Number of coefficients    : 8"
      ]
     },
     "metadata": {},
     "output_type": "display_data"
    },
    {
     "data": {
      "text/html": [
       "<pre>Starting Newton Method</pre>"
      ],
      "text/plain": [
       "Starting Newton Method"
      ]
     },
     "metadata": {},
     "output_type": "display_data"
    },
    {
     "data": {
      "text/html": [
       "<pre>--------------------------------------------------------</pre>"
      ],
      "text/plain": [
       "--------------------------------------------------------"
      ]
     },
     "metadata": {},
     "output_type": "display_data"
    },
    {
     "data": {
      "text/html": [
       "<pre>+-----------+----------+--------------+--------------------+---------------+</pre>"
      ],
      "text/plain": [
       "+-----------+----------+--------------+--------------------+---------------+"
      ]
     },
     "metadata": {},
     "output_type": "display_data"
    },
    {
     "data": {
      "text/html": [
       "<pre>| Iteration | Passes   | Elapsed Time | Training-max_error | Training-rmse |</pre>"
      ],
      "text/plain": [
       "| Iteration | Passes   | Elapsed Time | Training-max_error | Training-rmse |"
      ]
     },
     "metadata": {},
     "output_type": "display_data"
    },
    {
     "data": {
      "text/html": [
       "<pre>+-----------+----------+--------------+--------------------+---------------+</pre>"
      ],
      "text/plain": [
       "+-----------+----------+--------------+--------------------+---------------+"
      ]
     },
     "metadata": {},
     "output_type": "display_data"
    },
    {
     "data": {
      "text/html": [
       "<pre>| 1         | 2        | 0.002753     | 2313276.411128     | 162356.794038 |</pre>"
      ],
      "text/plain": [
       "| 1         | 2        | 0.002753     | 2313276.411128     | 162356.794038 |"
      ]
     },
     "metadata": {},
     "output_type": "display_data"
    },
    {
     "data": {
      "text/html": [
       "<pre>+-----------+----------+--------------+--------------------+---------------+</pre>"
      ],
      "text/plain": [
       "+-----------+----------+--------------+--------------------+---------------+"
      ]
     },
     "metadata": {},
     "output_type": "display_data"
    },
    {
     "data": {
      "text/html": [
       "<pre>SUCCESS: Optimal solution found.</pre>"
      ],
      "text/plain": [
       "SUCCESS: Optimal solution found."
      ]
     },
     "metadata": {},
     "output_type": "display_data"
    },
    {
     "data": {
      "text/html": [
       "<pre></pre>"
      ],
      "text/plain": []
     },
     "metadata": {},
     "output_type": "display_data"
    },
    {
     "name": "stdout",
     "output_type": "stream",
     "text": [
      "Class                          : LinearRegression\n",
      "\n",
      "Schema\n",
      "------\n",
      "Number of coefficients         : 8\n",
      "Number of examples             : 914\n",
      "Number of feature columns      : 7\n",
      "Number of unpacked features    : 7\n",
      "\n",
      "Hyperparameters\n",
      "---------------\n",
      "L1 penalty                     : 0.0\n",
      "L2 penalty                     : 10.0\n",
      "\n",
      "Training Summary\n",
      "----------------\n",
      "Solver                         : newton\n",
      "Solver iterations              : 1\n",
      "Solver status                  : SUCCESS: Optimal solution found.\n",
      "Training time (sec)            : 0.0045\n",
      "\n",
      "Settings\n",
      "--------\n",
      "Residual sum of squares        : 2.40927919132e+13\n",
      "Training RMSE                  : 162356.794\n",
      "\n",
      "Highest Positive Coefficients\n",
      "-----------------------------\n",
      "English_or_not                 : 12925.763\n",
      "Words_of_the_Title             : 2241.3878\n",
      "the_Length_of_one_Episode      : 166.1603\n",
      "Words_of_the_Title2            : 156.773\n",
      "\n",
      "Lowest Negative Coefficients\n",
      "----------------------------\n",
      "(intercept)                    : -8369.1699\n",
      "Words_of_the_Title3            : -3.0288\n",
      "the_Length_of_one_Episode2     : -0.221\n",
      "the_Length_of_one_Episode3     : -0.0001\n",
      "\n"
     ]
    }
   ],
   "source": [
    "polymodel = graphlab.linear_regression.create(polydata, target = 'perweek', features =my_features3, \n",
    "                                                  validation_set = None,verbose=True,l2_penalty=1e1)\n",
    "polymodel.summary()"
   ]
  },
  {
   "cell_type": "code",
   "execution_count": 112,
   "metadata": {
    "collapsed": false
   },
   "outputs": [
    {
     "name": "stdout",
     "output_type": "stream",
     "text": [
      "+----------------------------+-------+--------------------+-------------------+\n",
      "|            name            | index |       value        |       stderr      |\n",
      "+----------------------------+-------+--------------------+-------------------+\n",
      "|        (intercept)         |  None |   -8369.16994609   |   59918.9133156   |\n",
      "|     Words_of_the_Title     |  None |   2241.38782909    |   10327.7325217   |\n",
      "|    Words_of_the_Title2     |  None |   156.773007266    |   513.976592432   |\n",
      "|    Words_of_the_Title3     |  None |   -3.02883204748   |   7.79302070168   |\n",
      "| the_Length_of_one_Episode  |  None |   166.160340075    |   224.494469401   |\n",
      "| the_Length_of_one_Episode2 |  None |  -0.221025072221   |   0.633467320239  |\n",
      "| the_Length_of_one_Episode3 |  None | -8.53028530552e-05 | 0.000491661923028 |\n",
      "|       English_or_not       |  None |   12925.7630052    |   17168.2348477   |\n",
      "+----------------------------+-------+--------------------+-------------------+\n",
      "[8 rows x 4 columns]\n",
      "\n"
     ]
    }
   ],
   "source": [
    "weight_summary = polymodel.get(\"coefficients\")\n",
    "print weight_summary"
   ]
  },
  {
   "cell_type": "code",
   "execution_count": 116,
   "metadata": {
    "collapsed": false
   },
   "outputs": [
    {
     "name": "stdout",
     "output_type": "stream",
     "text": [
      "4.69453886713e+13\n",
      "4.69453886639e+13\n",
      "4.69453146831e+13\n",
      "4.68716318589e+13\n",
      "2.5287526302e+13\n"
     ]
    }
   ],
   "source": [
    "for l2_penalty in [1e-25, 1e-10, 1e-6, 1e-3, 1e1]:\n",
    "    polymodel = graphlab.linear_regression.create(polydata, target = 'perweek', features =my_features3, \n",
    "                                                  validation_set = None,verbose=False,l2_penalty=l2_penalty)\n",
    "    rss_test = get_residual_sum_of_squares(polymodel, train_data, train_data['perweek'])\n",
    "    print rss_test"
   ]
  },
  {
   "cell_type": "code",
   "execution_count": null,
   "metadata": {
    "collapsed": true
   },
   "outputs": [],
   "source": []
  },
  {
   "cell_type": "code",
   "execution_count": null,
   "metadata": {
    "collapsed": true
   },
   "outputs": [],
   "source": []
  }
 ],
 "metadata": {
  "kernelspec": {
   "display_name": "Python 2",
   "language": "python",
   "name": "python2"
  },
  "language_info": {
   "codemirror_mode": {
    "name": "ipython",
    "version": 2
   },
   "file_extension": ".py",
   "mimetype": "text/x-python",
   "name": "python",
   "nbconvert_exporter": "python",
   "pygments_lexer": "ipython2",
   "version": "2.7.11"
  }
 },
 "nbformat": 4,
 "nbformat_minor": 0
}
