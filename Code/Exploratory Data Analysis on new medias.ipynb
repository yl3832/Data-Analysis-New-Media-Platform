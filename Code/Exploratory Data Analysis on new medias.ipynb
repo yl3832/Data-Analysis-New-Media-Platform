{
 "cells": [
  {
   "cell_type": "code",
   "execution_count": 3,
   "metadata": {
    "collapsed": true
   },
   "outputs": [],
   "source": [
    "import graphlab"
   ]
  },
  {
   "cell_type": "code",
   "execution_count": 4,
   "metadata": {
    "collapsed": true
   },
   "outputs": [],
   "source": [
    "from graphlab import SFrame"
   ]
  },
  {
   "cell_type": "code",
   "execution_count": 19,
   "metadata": {
    "collapsed": false
   },
   "outputs": [
    {
     "data": {
      "text/html": [
       "<pre>Finished parsing file /Volumes/SILVA/shiyuehehuA-Tencent.csv</pre>"
      ],
      "text/plain": [
       "Finished parsing file /Volumes/SILVA/shiyuehehuA-Tencent.csv"
      ]
     },
     "metadata": {},
     "output_type": "display_data"
    },
    {
     "data": {
      "text/html": [
       "<pre>Parsing completed. Parsed 58 lines in 0.007244 secs.</pre>"
      ],
      "text/plain": [
       "Parsing completed. Parsed 58 lines in 0.007244 secs."
      ]
     },
     "metadata": {},
     "output_type": "display_data"
    },
    {
     "name": "stdout",
     "output_type": "stream",
     "text": [
      "------------------------------------------------------\n",
      "Inferred types from first 100 line(s) of file as \n",
      "column_type_hints=[int,str,int,int,int,int,str,str,int,int,str,int,int,str,str]\n",
      "If parsing fails due to incorrect types, you can correct\n",
      "the inferred type list above and pass it to read_csv in\n",
      "the column_type_hints argument\n",
      "------------------------------------------------------\n"
     ]
    },
    {
     "data": {
      "text/html": [
       "<pre>Finished parsing file /Volumes/SILVA/shiyuehehuA-Tencent.csv</pre>"
      ],
      "text/plain": [
       "Finished parsing file /Volumes/SILVA/shiyuehehuA-Tencent.csv"
      ]
     },
     "metadata": {},
     "output_type": "display_data"
    },
    {
     "data": {
      "text/html": [
       "<pre>Parsing completed. Parsed 58 lines in 0.007832 secs.</pre>"
      ],
      "text/plain": [
       "Parsing completed. Parsed 58 lines in 0.007832 secs."
      ]
     },
     "metadata": {},
     "output_type": "display_data"
    }
   ],
   "source": [
    "shiyuehehua=SFrame(data='/Volumes/SILVA/shiyuehehuA-Tencent.csv')"
   ]
  },
  {
   "cell_type": "code",
   "execution_count": 21,
   "metadata": {
    "collapsed": false
   },
   "outputs": [
    {
     "data": {
      "text/html": [
       "<div style=\"max-height:1000px;max-width:1500px;overflow:auto;\"><table frame=\"box\" rules=\"cols\">\n",
       "    <tr>\n",
       "        <th style=\"padding-left: 1em; padding-right: 1em; text-align: center\">Id</th>\n",
       "        <th style=\"padding-left: 1em; padding-right: 1em; text-align: center\">Title</th>\n",
       "        <th style=\"padding-left: 1em; padding-right: 1em; text-align: center\">Words_of_the_Title</th>\n",
       "        <th style=\"padding-left: 1em; padding-right: 1em; text-align: center\">English_or_not</th>\n",
       "        <th style=\"padding-left: 1em; padding-right: 1em; text-align: center\">�˳�</th>\n",
       "        <th style=\"padding-left: 1em; padding-right: 1em; text-align: center\">person</th>\n",
       "        <th style=\"padding-left: 1em; padding-right: 1em; text-align: center\">Sentence_Structure_of_the<br>_Title ...</th>\n",
       "        <th style=\"padding-left: 1em; padding-right: 1em; text-align: center\">ʱ��</th>\n",
       "    </tr>\n",
       "    <tr>\n",
       "        <td style=\"padding-left: 1em; padding-right: 1em; text-align: center; vertical-align: top\">1</td>\n",
       "        <td style=\"padding-left: 1em; padding-right: 1em; text-align: center; vertical-align: top\">�ô���ķ����̱�����·<br>�ɱ�ˤ��Σ���� - ...</td>\n",
       "        <td style=\"padding-left: 1em; padding-right: 1em; text-align: center; vertical-align: top\">34</td>\n",
       "        <td style=\"padding-left: 1em; padding-right: 1em; text-align: center; vertical-align: top\">0</td>\n",
       "        <td style=\"padding-left: 1em; padding-right: 1em; text-align: center; vertical-align: top\">0</td>\n",
       "        <td style=\"padding-left: 1em; padding-right: 1em; text-align: center; vertical-align: top\">0</td>\n",
       "        <td style=\"padding-left: 1em; padding-right: 1em; text-align: center; vertical-align: top\"></td>\n",
       "        <td style=\"padding-left: 1em; padding-right: 1em; text-align: center; vertical-align: top\">2:36</td>\n",
       "    </tr>\n",
       "    <tr>\n",
       "        <td style=\"padding-left: 1em; padding-right: 1em; text-align: center; vertical-align: top\">2</td>\n",
       "        <td style=\"padding-left: 1em; padding-right: 1em; text-align: center; vertical-align: top\">��������ֵ���츳���ְֻ��<br>������� - ʮ�ºǻ� - ...</td>\n",
       "        <td style=\"padding-left: 1em; padding-right: 1em; text-align: center; vertical-align: top\">30</td>\n",
       "        <td style=\"padding-left: 1em; padding-right: 1em; text-align: center; vertical-align: top\">0</td>\n",
       "        <td style=\"padding-left: 1em; padding-right: 1em; text-align: center; vertical-align: top\">0</td>\n",
       "        <td style=\"padding-left: 1em; padding-right: 1em; text-align: center; vertical-align: top\">0</td>\n",
       "        <td style=\"padding-left: 1em; padding-right: 1em; text-align: center; vertical-align: top\"></td>\n",
       "        <td style=\"padding-left: 1em; padding-right: 1em; text-align: center; vertical-align: top\">2:57</td>\n",
       "    </tr>\n",
       "    <tr>\n",
       "        <td style=\"padding-left: 1em; padding-right: 1em; text-align: center; vertical-align: top\">3</td>\n",
       "        <td style=\"padding-left: 1em; padding-right: 1em; text-align: center; vertical-align: top\">С��ƿ��ѧ�ʣ� - ʮ�ºǻ�<br>- ��Ѷ��Ƶ ...</td>\n",
       "        <td style=\"padding-left: 1em; padding-right: 1em; text-align: center; vertical-align: top\">21</td>\n",
       "        <td style=\"padding-left: 1em; padding-right: 1em; text-align: center; vertical-align: top\">0</td>\n",
       "        <td style=\"padding-left: 1em; padding-right: 1em; text-align: center; vertical-align: top\">0</td>\n",
       "        <td style=\"padding-left: 1em; padding-right: 1em; text-align: center; vertical-align: top\">0</td>\n",
       "        <td style=\"padding-left: 1em; padding-right: 1em; text-align: center; vertical-align: top\"></td>\n",
       "        <td style=\"padding-left: 1em; padding-right: 1em; text-align: center; vertical-align: top\">3:14</td>\n",
       "    </tr>\n",
       "    <tr>\n",
       "        <td style=\"padding-left: 1em; padding-right: 1em; text-align: center; vertical-align: top\">4</td>\n",
       "        <td style=\"padding-left: 1em; padding-right: 1em; text-align: center; vertical-align: top\">��ؽ�������������Ѿۻ��<br>б������� - ʮ�ºǻ� - ...</td>\n",
       "        <td style=\"padding-left: 1em; padding-right: 1em; text-align: center; vertical-align: top\">31</td>\n",
       "        <td style=\"padding-left: 1em; padding-right: 1em; text-align: center; vertical-align: top\">0</td>\n",
       "        <td style=\"padding-left: 1em; padding-right: 1em; text-align: center; vertical-align: top\">0</td>\n",
       "        <td style=\"padding-left: 1em; padding-right: 1em; text-align: center; vertical-align: top\">0</td>\n",
       "        <td style=\"padding-left: 1em; padding-right: 1em; text-align: center; vertical-align: top\"></td>\n",
       "        <td style=\"padding-left: 1em; padding-right: 1em; text-align: center; vertical-align: top\">4:36</td>\n",
       "    </tr>\n",
       "    <tr>\n",
       "        <td style=\"padding-left: 1em; padding-right: 1em; text-align: center; vertical-align: top\">5</td>\n",
       "        <td style=\"padding-left: 1em; padding-right: 1em; text-align: center; vertical-align: top\">����ѡ�̷ۣ�����������<br>��������̷ۣ� - ʮ�ºǻ� ...</td>\n",
       "        <td style=\"padding-left: 1em; padding-right: 1em; text-align: center; vertical-align: top\">33</td>\n",
       "        <td style=\"padding-left: 1em; padding-right: 1em; text-align: center; vertical-align: top\">0</td>\n",
       "        <td style=\"padding-left: 1em; padding-right: 1em; text-align: center; vertical-align: top\">12</td>\n",
       "        <td style=\"padding-left: 1em; padding-right: 1em; text-align: center; vertical-align: top\">2</td>\n",
       "        <td style=\"padding-left: 1em; padding-right: 1em; text-align: center; vertical-align: top\"></td>\n",
       "        <td style=\"padding-left: 1em; padding-right: 1em; text-align: center; vertical-align: top\">2:39</td>\n",
       "    </tr>\n",
       "    <tr>\n",
       "        <td style=\"padding-left: 1em; padding-right: 1em; text-align: center; vertical-align: top\">6</td>\n",
       "        <td style=\"padding-left: 1em; padding-right: 1em; text-align: center; vertical-align: top\">���ϱ���������ȫ��������<br>�λ���� - ʮ�ºǻ� - ...</td>\n",
       "        <td style=\"padding-left: 1em; padding-right: 1em; text-align: center; vertical-align: top\">31</td>\n",
       "        <td style=\"padding-left: 1em; padding-right: 1em; text-align: center; vertical-align: top\">0</td>\n",
       "        <td style=\"padding-left: 1em; padding-right: 1em; text-align: center; vertical-align: top\">10</td>\n",
       "        <td style=\"padding-left: 1em; padding-right: 1em; text-align: center; vertical-align: top\">2</td>\n",
       "        <td style=\"padding-left: 1em; padding-right: 1em; text-align: center; vertical-align: top\"></td>\n",
       "        <td style=\"padding-left: 1em; padding-right: 1em; text-align: center; vertical-align: top\">3:23</td>\n",
       "    </tr>\n",
       "    <tr>\n",
       "        <td style=\"padding-left: 1em; padding-right: 1em; text-align: center; vertical-align: top\">7</td>\n",
       "        <td style=\"padding-left: 1em; padding-right: 1em; text-align: center; vertical-align: top\">���������������ص�10����<br>- ʮ�ºǻ� - ��Ѷ��Ƶ ...</td>\n",
       "        <td style=\"padding-left: 1em; padding-right: 1em; text-align: center; vertical-align: top\">27</td>\n",
       "        <td style=\"padding-left: 1em; padding-right: 1em; text-align: center; vertical-align: top\">0</td>\n",
       "        <td style=\"padding-left: 1em; padding-right: 1em; text-align: center; vertical-align: top\">0</td>\n",
       "        <td style=\"padding-left: 1em; padding-right: 1em; text-align: center; vertical-align: top\">0</td>\n",
       "        <td style=\"padding-left: 1em; padding-right: 1em; text-align: center; vertical-align: top\"></td>\n",
       "        <td style=\"padding-left: 1em; padding-right: 1em; text-align: center; vertical-align: top\">3:34</td>\n",
       "    </tr>\n",
       "    <tr>\n",
       "        <td style=\"padding-left: 1em; padding-right: 1em; text-align: center; vertical-align: top\">8</td>\n",
       "        <td style=\"padding-left: 1em; padding-right: 1em; text-align: center; vertical-align: top\">�����̰����ɱ��� -<br>ʮ�ºǻ� - ��Ѷ��Ƶ ...</td>\n",
       "        <td style=\"padding-left: 1em; padding-right: 1em; text-align: center; vertical-align: top\">22</td>\n",
       "        <td style=\"padding-left: 1em; padding-right: 1em; text-align: center; vertical-align: top\">0</td>\n",
       "        <td style=\"padding-left: 1em; padding-right: 1em; text-align: center; vertical-align: top\">0</td>\n",
       "        <td style=\"padding-left: 1em; padding-right: 1em; text-align: center; vertical-align: top\">0</td>\n",
       "        <td style=\"padding-left: 1em; padding-right: 1em; text-align: center; vertical-align: top\"></td>\n",
       "        <td style=\"padding-left: 1em; padding-right: 1em; text-align: center; vertical-align: top\">4:45</td>\n",
       "    </tr>\n",
       "    <tr>\n",
       "        <td style=\"padding-left: 1em; padding-right: 1em; text-align: center; vertical-align: top\">9</td>\n",
       "        <td style=\"padding-left: 1em; padding-right: 1em; text-align: center; vertical-align: top\">�������֮���ף� -<br>ʮ�ºǻ� - ��Ѷ��Ƶ ...</td>\n",
       "        <td style=\"padding-left: 1em; padding-right: 1em; text-align: center; vertical-align: top\">22</td>\n",
       "        <td style=\"padding-left: 1em; padding-right: 1em; text-align: center; vertical-align: top\">0</td>\n",
       "        <td style=\"padding-left: 1em; padding-right: 1em; text-align: center; vertical-align: top\">0</td>\n",
       "        <td style=\"padding-left: 1em; padding-right: 1em; text-align: center; vertical-align: top\">0</td>\n",
       "        <td style=\"padding-left: 1em; padding-right: 1em; text-align: center; vertical-align: top\"></td>\n",
       "        <td style=\"padding-left: 1em; padding-right: 1em; text-align: center; vertical-align: top\">3:54</td>\n",
       "    </tr>\n",
       "    <tr>\n",
       "        <td style=\"padding-left: 1em; padding-right: 1em; text-align: center; vertical-align: top\">10</td>\n",
       "        <td style=\"padding-left: 1em; padding-right: 1em; text-align: center; vertical-align: top\">�ﶬ������������Ƥ�� -<br>ʮ�ºǻ� - ��Ѷ��Ƶ ...</td>\n",
       "        <td style=\"padding-left: 1em; padding-right: 1em; text-align: center; vertical-align: top\">24</td>\n",
       "        <td style=\"padding-left: 1em; padding-right: 1em; text-align: center; vertical-align: top\">0</td>\n",
       "        <td style=\"padding-left: 1em; padding-right: 1em; text-align: center; vertical-align: top\">0</td>\n",
       "        <td style=\"padding-left: 1em; padding-right: 1em; text-align: center; vertical-align: top\">0</td>\n",
       "        <td style=\"padding-left: 1em; padding-right: 1em; text-align: center; vertical-align: top\"></td>\n",
       "        <td style=\"padding-left: 1em; padding-right: 1em; text-align: center; vertical-align: top\">3:13</td>\n",
       "    </tr>\n",
       "</table>\n",
       "<table frame=\"box\" rules=\"cols\">\n",
       "    <tr>\n",
       "        <th style=\"padding-left: 1em; padding-right: 1em; text-align: center\">X9</th>\n",
       "        <th style=\"padding-left: 1em; padding-right: 1em; text-align: center\">the_Length_of_one_Episode</th>\n",
       "        <th style=\"padding-left: 1em; padding-right: 1em; text-align: center\">Release_Date</th>\n",
       "        <th style=\"padding-left: 1em; padding-right: 1em; text-align: center\">Release_Week</th>\n",
       "        <th style=\"padding-left: 1em; padding-right: 1em; text-align: center\">the_Playback_Amount_of_on<br>e_Episode ...</th>\n",
       "    </tr>\n",
       "    <tr>\n",
       "        <td style=\"padding-left: 1em; padding-right: 1em; text-align: center; vertical-align: top\">9360</td>\n",
       "        <td style=\"padding-left: 1em; padding-right: 1em; text-align: center; vertical-align: top\">156</td>\n",
       "        <td style=\"padding-left: 1em; padding-right: 1em; text-align: center; vertical-align: top\">2017/2/17</td>\n",
       "        <td style=\"padding-left: 1em; padding-right: 1em; text-align: center; vertical-align: top\">5</td>\n",
       "        <td style=\"padding-left: 1em; padding-right: 1em; text-align: center; vertical-align: top\">15000</td>\n",
       "    </tr>\n",
       "    <tr>\n",
       "        <td style=\"padding-left: 1em; padding-right: 1em; text-align: center; vertical-align: top\">10620</td>\n",
       "        <td style=\"padding-left: 1em; padding-right: 1em; text-align: center; vertical-align: top\">177</td>\n",
       "        <td style=\"padding-left: 1em; padding-right: 1em; text-align: center; vertical-align: top\">2017/2/8</td>\n",
       "        <td style=\"padding-left: 1em; padding-right: 1em; text-align: center; vertical-align: top\">3</td>\n",
       "        <td style=\"padding-left: 1em; padding-right: 1em; text-align: center; vertical-align: top\">62000</td>\n",
       "    </tr>\n",
       "    <tr>\n",
       "        <td style=\"padding-left: 1em; padding-right: 1em; text-align: center; vertical-align: top\">11640</td>\n",
       "        <td style=\"padding-left: 1em; padding-right: 1em; text-align: center; vertical-align: top\">194</td>\n",
       "        <td style=\"padding-left: 1em; padding-right: 1em; text-align: center; vertical-align: top\">2017/2/3</td>\n",
       "        <td style=\"padding-left: 1em; padding-right: 1em; text-align: center; vertical-align: top\">5</td>\n",
       "        <td style=\"padding-left: 1em; padding-right: 1em; text-align: center; vertical-align: top\">7166</td>\n",
       "    </tr>\n",
       "    <tr>\n",
       "        <td style=\"padding-left: 1em; padding-right: 1em; text-align: center; vertical-align: top\">16560</td>\n",
       "        <td style=\"padding-left: 1em; padding-right: 1em; text-align: center; vertical-align: top\">276</td>\n",
       "        <td style=\"padding-left: 1em; padding-right: 1em; text-align: center; vertical-align: top\">2017/1/24</td>\n",
       "        <td style=\"padding-left: 1em; padding-right: 1em; text-align: center; vertical-align: top\">2</td>\n",
       "        <td style=\"padding-left: 1em; padding-right: 1em; text-align: center; vertical-align: top\">92000</td>\n",
       "    </tr>\n",
       "    <tr>\n",
       "        <td style=\"padding-left: 1em; padding-right: 1em; text-align: center; vertical-align: top\">9540</td>\n",
       "        <td style=\"padding-left: 1em; padding-right: 1em; text-align: center; vertical-align: top\">159</td>\n",
       "        <td style=\"padding-left: 1em; padding-right: 1em; text-align: center; vertical-align: top\">2017/1/24</td>\n",
       "        <td style=\"padding-left: 1em; padding-right: 1em; text-align: center; vertical-align: top\">2</td>\n",
       "        <td style=\"padding-left: 1em; padding-right: 1em; text-align: center; vertical-align: top\">44000</td>\n",
       "    </tr>\n",
       "    <tr>\n",
       "        <td style=\"padding-left: 1em; padding-right: 1em; text-align: center; vertical-align: top\">12180</td>\n",
       "        <td style=\"padding-left: 1em; padding-right: 1em; text-align: center; vertical-align: top\">203</td>\n",
       "        <td style=\"padding-left: 1em; padding-right: 1em; text-align: center; vertical-align: top\">2017/1/18</td>\n",
       "        <td style=\"padding-left: 1em; padding-right: 1em; text-align: center; vertical-align: top\">3</td>\n",
       "        <td style=\"padding-left: 1em; padding-right: 1em; text-align: center; vertical-align: top\">79000</td>\n",
       "    </tr>\n",
       "    <tr>\n",
       "        <td style=\"padding-left: 1em; padding-right: 1em; text-align: center; vertical-align: top\">12840</td>\n",
       "        <td style=\"padding-left: 1em; padding-right: 1em; text-align: center; vertical-align: top\">214</td>\n",
       "        <td style=\"padding-left: 1em; padding-right: 1em; text-align: center; vertical-align: top\">2016/12/14</td>\n",
       "        <td style=\"padding-left: 1em; padding-right: 1em; text-align: center; vertical-align: top\">3</td>\n",
       "        <td style=\"padding-left: 1em; padding-right: 1em; text-align: center; vertical-align: top\">1463000</td>\n",
       "    </tr>\n",
       "    <tr>\n",
       "        <td style=\"padding-left: 1em; padding-right: 1em; text-align: center; vertical-align: top\">17100</td>\n",
       "        <td style=\"padding-left: 1em; padding-right: 1em; text-align: center; vertical-align: top\">285</td>\n",
       "        <td style=\"padding-left: 1em; padding-right: 1em; text-align: center; vertical-align: top\">2016/11/29</td>\n",
       "        <td style=\"padding-left: 1em; padding-right: 1em; text-align: center; vertical-align: top\">2</td>\n",
       "        <td style=\"padding-left: 1em; padding-right: 1em; text-align: center; vertical-align: top\">42000</td>\n",
       "    </tr>\n",
       "    <tr>\n",
       "        <td style=\"padding-left: 1em; padding-right: 1em; text-align: center; vertical-align: top\">14040</td>\n",
       "        <td style=\"padding-left: 1em; padding-right: 1em; text-align: center; vertical-align: top\">234</td>\n",
       "        <td style=\"padding-left: 1em; padding-right: 1em; text-align: center; vertical-align: top\">2016/11/22</td>\n",
       "        <td style=\"padding-left: 1em; padding-right: 1em; text-align: center; vertical-align: top\">2</td>\n",
       "        <td style=\"padding-left: 1em; padding-right: 1em; text-align: center; vertical-align: top\">68000</td>\n",
       "    </tr>\n",
       "    <tr>\n",
       "        <td style=\"padding-left: 1em; padding-right: 1em; text-align: center; vertical-align: top\">11580</td>\n",
       "        <td style=\"padding-left: 1em; padding-right: 1em; text-align: center; vertical-align: top\">193</td>\n",
       "        <td style=\"padding-left: 1em; padding-right: 1em; text-align: center; vertical-align: top\">2016/11/1</td>\n",
       "        <td style=\"padding-left: 1em; padding-right: 1em; text-align: center; vertical-align: top\">2</td>\n",
       "        <td style=\"padding-left: 1em; padding-right: 1em; text-align: center; vertical-align: top\">910000</td>\n",
       "    </tr>\n",
       "</table>\n",
       "<table frame=\"box\" rules=\"cols\">\n",
       "    <tr>\n",
       "        <th style=\"padding-left: 1em; padding-right: 1em; text-align: center\">PageUrl</th>\n",
       "        <th style=\"padding-left: 1em; padding-right: 1em; text-align: center\">Relative</th>\n",
       "    </tr>\n",
       "    <tr>\n",
       "        <td style=\"padding-left: 1em; padding-right: 1em; text-align: center; vertical-align: top\">https://v.qq.com/x/cover/<br>jwgd1hl37k70q01/t0376 ...</td>\n",
       "        <td style=\"padding-left: 1em; padding-right: 1em; text-align: center; vertical-align: top\">1494 1036 40 926 958 60<br>5519 5565 5566 1142 55 ...</td>\n",
       "    </tr>\n",
       "    <tr>\n",
       "        <td style=\"padding-left: 1em; padding-right: 1em; text-align: center; vertical-align: top\">https://v.qq.com/x/cover/<br>jwgd1hl37k70q01/s0373 ...</td>\n",
       "        <td style=\"padding-left: 1em; padding-right: 1em; text-align: center; vertical-align: top\">60 40 5569 4755 381 5114<br>993 980 966 1295 269  ...</td>\n",
       "    </tr>\n",
       "    <tr>\n",
       "        <td style=\"padding-left: 1em; padding-right: 1em; text-align: center; vertical-align: top\">https://v.qq.com/x/cover/<br>jwgd1hl37k70q01/b0371 ...</td>\n",
       "        <td style=\"padding-left: 1em; padding-right: 1em; text-align: center; vertical-align: top\">123 3216 55 5570 5567<br>1520 5568 569 ...</td>\n",
       "    </tr>\n",
       "    <tr>\n",
       "        <td style=\"padding-left: 1em; padding-right: 1em; text-align: center; vertical-align: top\">https://v.qq.com/x/cover/<br>jwgd1hl37k70q01/c0369 ...</td>\n",
       "        <td style=\"padding-left: 1em; padding-right: 1em; text-align: center; vertical-align: top\">5571 5572 119 2623 5573<br>5574 1114 212 60 5567 ...</td>\n",
       "    </tr>\n",
       "    <tr>\n",
       "        <td style=\"padding-left: 1em; padding-right: 1em; text-align: center; vertical-align: top\">https://v.qq.com/x/cover/<br>jwgd1hl37k70q01/r0369 ...</td>\n",
       "        <td style=\"padding-left: 1em; padding-right: 1em; text-align: center; vertical-align: top\">153 5575 378 4729 3270<br>2584 129 2055 5576 378 ...</td>\n",
       "    </tr>\n",
       "    <tr>\n",
       "        <td style=\"padding-left: 1em; padding-right: 1em; text-align: center; vertical-align: top\">https://v.qq.com/x/cover/<br>jwgd1hl37k70q01/r0367 ...</td>\n",
       "        <td style=\"padding-left: 1em; padding-right: 1em; text-align: center; vertical-align: top\">5577 60 402 1543 45 4517<br>3474 47 5567 1520 5568 ...</td>\n",
       "    </tr>\n",
       "    <tr>\n",
       "        <td style=\"padding-left: 1em; padding-right: 1em; text-align: center; vertical-align: top\">https://v.qq.com/x/cover/<br>jwgd1hl37k70q01/a0355 ...</td>\n",
       "        <td style=\"padding-left: 1em; padding-right: 1em; text-align: center; vertical-align: top\">60 1041 463 338 5578 40<br>3912 5567 1520 5568 569 ...</td>\n",
       "    </tr>\n",
       "    <tr>\n",
       "        <td style=\"padding-left: 1em; padding-right: 1em; text-align: center; vertical-align: top\">https://v.qq.com/x/cover/<br>jwgd1hl37k70q01/w0350 ...</td>\n",
       "        <td style=\"padding-left: 1em; padding-right: 1em; text-align: center; vertical-align: top\">877 988 989 1080 5579<br>5567 1520 5568 569 ...</td>\n",
       "    </tr>\n",
       "    <tr>\n",
       "        <td style=\"padding-left: 1em; padding-right: 1em; text-align: center; vertical-align: top\">https://v.qq.com/x/cover/<br>jwgd1hl37k70q01/s0348 ...</td>\n",
       "        <td style=\"padding-left: 1em; padding-right: 1em; text-align: center; vertical-align: top\">1258 1259 1414 5580 5567<br>1520 5568 569 ...</td>\n",
       "    </tr>\n",
       "    <tr>\n",
       "        <td style=\"padding-left: 1em; padding-right: 1em; text-align: center; vertical-align: top\">https://v.qq.com/x/cover/<br>jwgd1hl37k70q01/e0342 ...</td>\n",
       "        <td style=\"padding-left: 1em; padding-right: 1em; text-align: center; vertical-align: top\">5581 212 60 40 178 5567<br>1520 5568 569 ...</td>\n",
       "    </tr>\n",
       "</table>\n",
       "[58 rows x 15 columns]<br/>Note: Only the head of the SFrame is printed.<br/>You can use print_rows(num_rows=m, num_columns=n) to print more rows and columns.\n",
       "</div>"
      ],
      "text/plain": [
       "Columns:\n",
       "\tId\tint\n",
       "\tTitle\tstr\n",
       "\tWords_of_the_Title\tint\n",
       "\tEnglish_or_not\tint\n",
       "\t�˳�\tint\n",
       "\tperson\tint\n",
       "\tSentence_Structure_of_the_Title\tstr\n",
       "\tʱ��\tstr\n",
       "\tX9\tint\n",
       "\tthe_Length_of_one_Episode\tint\n",
       "\tRelease_Date\tstr\n",
       "\tRelease_Week\tint\n",
       "\tthe_Playback_Amount_of_one_Episode\tint\n",
       "\tPageUrl\tstr\n",
       "\tRelative\tstr\n",
       "\n",
       "Rows: 58\n",
       "\n",
       "Data:\n",
       "+----+-------------------------------+--------------------+----------------+-----+\n",
       "| Id |             Title             | Words_of_the_Title | English_or_not | �˳� |\n",
       "+----+-------------------------------+--------------------+----------------+-----+\n",
       "| 1  |  �ô���ķ����̱�����· �ɱ�ˤ��Σ�... |         34         |       0        |  0  |\n",
       "| 2  |  ��������ֵ���츳���ְֻ��������...  |         30         |       0        |  0  |\n",
       "| 3  | С��ƿ��ѧ�ʣ� - ʮ�ºǻ� - ��Ѷ��... |         21         |       0        |  0  |\n",
       "| 4  | ��ؽ�������������Ѿۻ��б�����... |         31         |       0        |  0  |\n",
       "| 5  |  ����ѡ�̷ۣ����������ѡ������...  |         33         |       0        |  12 |\n",
       "| 6  | ���ϱ���������ȫ���������λ��... |         31         |       0        |  10 |\n",
       "| 7  | ���������������ص�10���� - ... |         27         |       0        |  0  |\n",
       "| 8  |  �����̰����ɱ��� - ʮ�ºǻ� - �... |         22         |       0        |  0  |\n",
       "| 9  |  �������֮���ף� - ʮ�ºǻ� - ��... |         22         |       0        |  0  |\n",
       "| 10 | �ﶬ������������Ƥ�� - ʮ�ºǻ� ... |         24         |       0        |  0  |\n",
       "+----+-------------------------------+--------------------+----------------+-----+\n",
       "+--------+-------------------------------+------+-------+---------------------------+\n",
       "| person | Sentence_Structure_of_the_... | ʱ��  |   X9  | the_Length_of_one_Episode |\n",
       "+--------+-------------------------------+------+-------+---------------------------+\n",
       "|   0    |                               | 2:36 |  9360 |            156            |\n",
       "|   0    |                               | 2:57 | 10620 |            177            |\n",
       "|   0    |                               | 3:14 | 11640 |            194            |\n",
       "|   0    |                               | 4:36 | 16560 |            276            |\n",
       "|   2    |                               | 2:39 |  9540 |            159            |\n",
       "|   2    |                               | 3:23 | 12180 |            203            |\n",
       "|   0    |                               | 3:34 | 12840 |            214            |\n",
       "|   0    |                               | 4:45 | 17100 |            285            |\n",
       "|   0    |                               | 3:54 | 14040 |            234            |\n",
       "|   0    |                               | 3:13 | 11580 |            193            |\n",
       "+--------+-------------------------------+------+-------+---------------------------+\n",
       "+--------------+--------------+-------------------------------+\n",
       "| Release_Date | Release_Week | the_Playback_Amount_of_one... |\n",
       "+--------------+--------------+-------------------------------+\n",
       "|  2017/2/17   |      5       |             15000             |\n",
       "|   2017/2/8   |      3       |             62000             |\n",
       "|   2017/2/3   |      5       |              7166             |\n",
       "|  2017/1/24   |      2       |             92000             |\n",
       "|  2017/1/24   |      2       |             44000             |\n",
       "|  2017/1/18   |      3       |             79000             |\n",
       "|  2016/12/14  |      3       |            1463000            |\n",
       "|  2016/11/29  |      2       |             42000             |\n",
       "|  2016/11/22  |      2       |             68000             |\n",
       "|  2016/11/1   |      2       |             910000            |\n",
       "+--------------+--------------+-------------------------------+\n",
       "+-------------------------------+-------------------------------+\n",
       "|            PageUrl            |            Relative           |\n",
       "+-------------------------------+-------------------------------+\n",
       "| https://v.qq.com/x/cover/j... | 1494 1036 40 926 958 60 55... |\n",
       "| https://v.qq.com/x/cover/j... | 60 40 5569 4755 381 5114 9... |\n",
       "| https://v.qq.com/x/cover/j... | 123 3216 55 5570 5567 1520... |\n",
       "| https://v.qq.com/x/cover/j... | 5571 5572 119 2623 5573 55... |\n",
       "| https://v.qq.com/x/cover/j... | 153 5575 378 4729 3270 258... |\n",
       "| https://v.qq.com/x/cover/j... | 5577 60 402 1543 45 4517 3... |\n",
       "| https://v.qq.com/x/cover/j... | 60 1041 463 338 5578 40 39... |\n",
       "| https://v.qq.com/x/cover/j... | 877 988 989 1080 5579 5567... |\n",
       "| https://v.qq.com/x/cover/j... | 1258 1259 1414 5580 5567 1... |\n",
       "| https://v.qq.com/x/cover/j... | 5581 212 60 40 178 5567 15... |\n",
       "+-------------------------------+-------------------------------+\n",
       "[58 rows x 15 columns]\n",
       "Note: Only the head of the SFrame is printed.\n",
       "You can use print_rows(num_rows=m, num_columns=n) to print more rows and columns."
      ]
     },
     "execution_count": 21,
     "metadata": {},
     "output_type": "execute_result"
    }
   ],
   "source": [
    "shiyuehehua"
   ]
  },
  {
   "cell_type": "code",
   "execution_count": 22,
   "metadata": {
    "collapsed": true
   },
   "outputs": [],
   "source": [
    "shiyuehehua['playbackperweek']=shiyuehehua['the_Playback_Amount_of_one_Episode']/shiyuehehua['Release_Week']"
   ]
  },
  {
   "cell_type": "code",
   "execution_count": 23,
   "metadata": {
    "collapsed": false
   },
   "outputs": [],
   "source": [
    "shiyuehehua['word_count'] = graphlab.text_analytics.count_words(shiyuehehua['Title'])"
   ]
  },
  {
   "cell_type": "code",
   "execution_count": 30,
   "metadata": {
    "collapsed": false
   },
   "outputs": [
    {
     "data": {
      "text/html": [
       "<div style=\"max-height:1000px;max-width:1500px;overflow:auto;\"><table frame=\"box\" rules=\"cols\">\n",
       "    <tr>\n",
       "        <th style=\"padding-left: 1em; padding-right: 1em; text-align: center\">Id</th>\n",
       "        <th style=\"padding-left: 1em; padding-right: 1em; text-align: center\">Title</th>\n",
       "        <th style=\"padding-left: 1em; padding-right: 1em; text-align: center\">Words_of_the_Title</th>\n",
       "        <th style=\"padding-left: 1em; padding-right: 1em; text-align: center\">English_or_not</th>\n",
       "        <th style=\"padding-left: 1em; padding-right: 1em; text-align: center\">�˳�</th>\n",
       "        <th style=\"padding-left: 1em; padding-right: 1em; text-align: center\">person</th>\n",
       "        <th style=\"padding-left: 1em; padding-right: 1em; text-align: center\">Sentence_Structure_of_the<br>_Title ...</th>\n",
       "        <th style=\"padding-left: 1em; padding-right: 1em; text-align: center\">ʱ��</th>\n",
       "    </tr>\n",
       "    <tr>\n",
       "        <td style=\"padding-left: 1em; padding-right: 1em; text-align: center; vertical-align: top\">1</td>\n",
       "        <td style=\"padding-left: 1em; padding-right: 1em; text-align: center; vertical-align: top\">�ô���ķ����̱�����·<br>�ɱ�ˤ��Σ���� - ...</td>\n",
       "        <td style=\"padding-left: 1em; padding-right: 1em; text-align: center; vertical-align: top\">34</td>\n",
       "        <td style=\"padding-left: 1em; padding-right: 1em; text-align: center; vertical-align: top\">0</td>\n",
       "        <td style=\"padding-left: 1em; padding-right: 1em; text-align: center; vertical-align: top\">0</td>\n",
       "        <td style=\"padding-left: 1em; padding-right: 1em; text-align: center; vertical-align: top\">0</td>\n",
       "        <td style=\"padding-left: 1em; padding-right: 1em; text-align: center; vertical-align: top\"></td>\n",
       "        <td style=\"padding-left: 1em; padding-right: 1em; text-align: center; vertical-align: top\">2:36</td>\n",
       "    </tr>\n",
       "    <tr>\n",
       "        <td style=\"padding-left: 1em; padding-right: 1em; text-align: center; vertical-align: top\">2</td>\n",
       "        <td style=\"padding-left: 1em; padding-right: 1em; text-align: center; vertical-align: top\">��������ֵ���츳���ְֻ��<br>������� - ʮ�ºǻ� - ...</td>\n",
       "        <td style=\"padding-left: 1em; padding-right: 1em; text-align: center; vertical-align: top\">30</td>\n",
       "        <td style=\"padding-left: 1em; padding-right: 1em; text-align: center; vertical-align: top\">0</td>\n",
       "        <td style=\"padding-left: 1em; padding-right: 1em; text-align: center; vertical-align: top\">0</td>\n",
       "        <td style=\"padding-left: 1em; padding-right: 1em; text-align: center; vertical-align: top\">0</td>\n",
       "        <td style=\"padding-left: 1em; padding-right: 1em; text-align: center; vertical-align: top\"></td>\n",
       "        <td style=\"padding-left: 1em; padding-right: 1em; text-align: center; vertical-align: top\">2:57</td>\n",
       "    </tr>\n",
       "    <tr>\n",
       "        <td style=\"padding-left: 1em; padding-right: 1em; text-align: center; vertical-align: top\">3</td>\n",
       "        <td style=\"padding-left: 1em; padding-right: 1em; text-align: center; vertical-align: top\">С��ƿ��ѧ�ʣ� - ʮ�ºǻ�<br>- ��Ѷ��Ƶ ...</td>\n",
       "        <td style=\"padding-left: 1em; padding-right: 1em; text-align: center; vertical-align: top\">21</td>\n",
       "        <td style=\"padding-left: 1em; padding-right: 1em; text-align: center; vertical-align: top\">0</td>\n",
       "        <td style=\"padding-left: 1em; padding-right: 1em; text-align: center; vertical-align: top\">0</td>\n",
       "        <td style=\"padding-left: 1em; padding-right: 1em; text-align: center; vertical-align: top\">0</td>\n",
       "        <td style=\"padding-left: 1em; padding-right: 1em; text-align: center; vertical-align: top\"></td>\n",
       "        <td style=\"padding-left: 1em; padding-right: 1em; text-align: center; vertical-align: top\">3:14</td>\n",
       "    </tr>\n",
       "    <tr>\n",
       "        <td style=\"padding-left: 1em; padding-right: 1em; text-align: center; vertical-align: top\">4</td>\n",
       "        <td style=\"padding-left: 1em; padding-right: 1em; text-align: center; vertical-align: top\">��ؽ�������������Ѿۻ��<br>б������� - ʮ�ºǻ� - ...</td>\n",
       "        <td style=\"padding-left: 1em; padding-right: 1em; text-align: center; vertical-align: top\">31</td>\n",
       "        <td style=\"padding-left: 1em; padding-right: 1em; text-align: center; vertical-align: top\">0</td>\n",
       "        <td style=\"padding-left: 1em; padding-right: 1em; text-align: center; vertical-align: top\">0</td>\n",
       "        <td style=\"padding-left: 1em; padding-right: 1em; text-align: center; vertical-align: top\">0</td>\n",
       "        <td style=\"padding-left: 1em; padding-right: 1em; text-align: center; vertical-align: top\"></td>\n",
       "        <td style=\"padding-left: 1em; padding-right: 1em; text-align: center; vertical-align: top\">4:36</td>\n",
       "    </tr>\n",
       "    <tr>\n",
       "        <td style=\"padding-left: 1em; padding-right: 1em; text-align: center; vertical-align: top\">5</td>\n",
       "        <td style=\"padding-left: 1em; padding-right: 1em; text-align: center; vertical-align: top\">����ѡ�̷ۣ�����������<br>��������̷ۣ� - ʮ�ºǻ� ...</td>\n",
       "        <td style=\"padding-left: 1em; padding-right: 1em; text-align: center; vertical-align: top\">33</td>\n",
       "        <td style=\"padding-left: 1em; padding-right: 1em; text-align: center; vertical-align: top\">0</td>\n",
       "        <td style=\"padding-left: 1em; padding-right: 1em; text-align: center; vertical-align: top\">12</td>\n",
       "        <td style=\"padding-left: 1em; padding-right: 1em; text-align: center; vertical-align: top\">2</td>\n",
       "        <td style=\"padding-left: 1em; padding-right: 1em; text-align: center; vertical-align: top\"></td>\n",
       "        <td style=\"padding-left: 1em; padding-right: 1em; text-align: center; vertical-align: top\">2:39</td>\n",
       "    </tr>\n",
       "    <tr>\n",
       "        <td style=\"padding-left: 1em; padding-right: 1em; text-align: center; vertical-align: top\">6</td>\n",
       "        <td style=\"padding-left: 1em; padding-right: 1em; text-align: center; vertical-align: top\">���ϱ���������ȫ��������<br>�λ���� - ʮ�ºǻ� - ...</td>\n",
       "        <td style=\"padding-left: 1em; padding-right: 1em; text-align: center; vertical-align: top\">31</td>\n",
       "        <td style=\"padding-left: 1em; padding-right: 1em; text-align: center; vertical-align: top\">0</td>\n",
       "        <td style=\"padding-left: 1em; padding-right: 1em; text-align: center; vertical-align: top\">10</td>\n",
       "        <td style=\"padding-left: 1em; padding-right: 1em; text-align: center; vertical-align: top\">2</td>\n",
       "        <td style=\"padding-left: 1em; padding-right: 1em; text-align: center; vertical-align: top\"></td>\n",
       "        <td style=\"padding-left: 1em; padding-right: 1em; text-align: center; vertical-align: top\">3:23</td>\n",
       "    </tr>\n",
       "    <tr>\n",
       "        <td style=\"padding-left: 1em; padding-right: 1em; text-align: center; vertical-align: top\">7</td>\n",
       "        <td style=\"padding-left: 1em; padding-right: 1em; text-align: center; vertical-align: top\">���������������ص�10����<br>- ʮ�ºǻ� - ��Ѷ��Ƶ ...</td>\n",
       "        <td style=\"padding-left: 1em; padding-right: 1em; text-align: center; vertical-align: top\">27</td>\n",
       "        <td style=\"padding-left: 1em; padding-right: 1em; text-align: center; vertical-align: top\">0</td>\n",
       "        <td style=\"padding-left: 1em; padding-right: 1em; text-align: center; vertical-align: top\">0</td>\n",
       "        <td style=\"padding-left: 1em; padding-right: 1em; text-align: center; vertical-align: top\">0</td>\n",
       "        <td style=\"padding-left: 1em; padding-right: 1em; text-align: center; vertical-align: top\"></td>\n",
       "        <td style=\"padding-left: 1em; padding-right: 1em; text-align: center; vertical-align: top\">3:34</td>\n",
       "    </tr>\n",
       "    <tr>\n",
       "        <td style=\"padding-left: 1em; padding-right: 1em; text-align: center; vertical-align: top\">8</td>\n",
       "        <td style=\"padding-left: 1em; padding-right: 1em; text-align: center; vertical-align: top\">�����̰����ɱ��� -<br>ʮ�ºǻ� - ��Ѷ��Ƶ ...</td>\n",
       "        <td style=\"padding-left: 1em; padding-right: 1em; text-align: center; vertical-align: top\">22</td>\n",
       "        <td style=\"padding-left: 1em; padding-right: 1em; text-align: center; vertical-align: top\">0</td>\n",
       "        <td style=\"padding-left: 1em; padding-right: 1em; text-align: center; vertical-align: top\">0</td>\n",
       "        <td style=\"padding-left: 1em; padding-right: 1em; text-align: center; vertical-align: top\">0</td>\n",
       "        <td style=\"padding-left: 1em; padding-right: 1em; text-align: center; vertical-align: top\"></td>\n",
       "        <td style=\"padding-left: 1em; padding-right: 1em; text-align: center; vertical-align: top\">4:45</td>\n",
       "    </tr>\n",
       "    <tr>\n",
       "        <td style=\"padding-left: 1em; padding-right: 1em; text-align: center; vertical-align: top\">9</td>\n",
       "        <td style=\"padding-left: 1em; padding-right: 1em; text-align: center; vertical-align: top\">�������֮���ף� -<br>ʮ�ºǻ� - ��Ѷ��Ƶ ...</td>\n",
       "        <td style=\"padding-left: 1em; padding-right: 1em; text-align: center; vertical-align: top\">22</td>\n",
       "        <td style=\"padding-left: 1em; padding-right: 1em; text-align: center; vertical-align: top\">0</td>\n",
       "        <td style=\"padding-left: 1em; padding-right: 1em; text-align: center; vertical-align: top\">0</td>\n",
       "        <td style=\"padding-left: 1em; padding-right: 1em; text-align: center; vertical-align: top\">0</td>\n",
       "        <td style=\"padding-left: 1em; padding-right: 1em; text-align: center; vertical-align: top\"></td>\n",
       "        <td style=\"padding-left: 1em; padding-right: 1em; text-align: center; vertical-align: top\">3:54</td>\n",
       "    </tr>\n",
       "    <tr>\n",
       "        <td style=\"padding-left: 1em; padding-right: 1em; text-align: center; vertical-align: top\">10</td>\n",
       "        <td style=\"padding-left: 1em; padding-right: 1em; text-align: center; vertical-align: top\">�ﶬ������������Ƥ�� -<br>ʮ�ºǻ� - ��Ѷ��Ƶ ...</td>\n",
       "        <td style=\"padding-left: 1em; padding-right: 1em; text-align: center; vertical-align: top\">24</td>\n",
       "        <td style=\"padding-left: 1em; padding-right: 1em; text-align: center; vertical-align: top\">0</td>\n",
       "        <td style=\"padding-left: 1em; padding-right: 1em; text-align: center; vertical-align: top\">0</td>\n",
       "        <td style=\"padding-left: 1em; padding-right: 1em; text-align: center; vertical-align: top\">0</td>\n",
       "        <td style=\"padding-left: 1em; padding-right: 1em; text-align: center; vertical-align: top\"></td>\n",
       "        <td style=\"padding-left: 1em; padding-right: 1em; text-align: center; vertical-align: top\">3:13</td>\n",
       "    </tr>\n",
       "</table>\n",
       "<table frame=\"box\" rules=\"cols\">\n",
       "    <tr>\n",
       "        <th style=\"padding-left: 1em; padding-right: 1em; text-align: center\">X9</th>\n",
       "        <th style=\"padding-left: 1em; padding-right: 1em; text-align: center\">the_Length_of_one_Episode</th>\n",
       "        <th style=\"padding-left: 1em; padding-right: 1em; text-align: center\">Release_Date</th>\n",
       "        <th style=\"padding-left: 1em; padding-right: 1em; text-align: center\">Release_Week</th>\n",
       "        <th style=\"padding-left: 1em; padding-right: 1em; text-align: center\">the_Playback_Amount_of_on<br>e_Episode ...</th>\n",
       "    </tr>\n",
       "    <tr>\n",
       "        <td style=\"padding-left: 1em; padding-right: 1em; text-align: center; vertical-align: top\">9360</td>\n",
       "        <td style=\"padding-left: 1em; padding-right: 1em; text-align: center; vertical-align: top\">156</td>\n",
       "        <td style=\"padding-left: 1em; padding-right: 1em; text-align: center; vertical-align: top\">2017/2/17</td>\n",
       "        <td style=\"padding-left: 1em; padding-right: 1em; text-align: center; vertical-align: top\">5</td>\n",
       "        <td style=\"padding-left: 1em; padding-right: 1em; text-align: center; vertical-align: top\">15000</td>\n",
       "    </tr>\n",
       "    <tr>\n",
       "        <td style=\"padding-left: 1em; padding-right: 1em; text-align: center; vertical-align: top\">10620</td>\n",
       "        <td style=\"padding-left: 1em; padding-right: 1em; text-align: center; vertical-align: top\">177</td>\n",
       "        <td style=\"padding-left: 1em; padding-right: 1em; text-align: center; vertical-align: top\">2017/2/8</td>\n",
       "        <td style=\"padding-left: 1em; padding-right: 1em; text-align: center; vertical-align: top\">3</td>\n",
       "        <td style=\"padding-left: 1em; padding-right: 1em; text-align: center; vertical-align: top\">62000</td>\n",
       "    </tr>\n",
       "    <tr>\n",
       "        <td style=\"padding-left: 1em; padding-right: 1em; text-align: center; vertical-align: top\">11640</td>\n",
       "        <td style=\"padding-left: 1em; padding-right: 1em; text-align: center; vertical-align: top\">194</td>\n",
       "        <td style=\"padding-left: 1em; padding-right: 1em; text-align: center; vertical-align: top\">2017/2/3</td>\n",
       "        <td style=\"padding-left: 1em; padding-right: 1em; text-align: center; vertical-align: top\">5</td>\n",
       "        <td style=\"padding-left: 1em; padding-right: 1em; text-align: center; vertical-align: top\">7166</td>\n",
       "    </tr>\n",
       "    <tr>\n",
       "        <td style=\"padding-left: 1em; padding-right: 1em; text-align: center; vertical-align: top\">16560</td>\n",
       "        <td style=\"padding-left: 1em; padding-right: 1em; text-align: center; vertical-align: top\">276</td>\n",
       "        <td style=\"padding-left: 1em; padding-right: 1em; text-align: center; vertical-align: top\">2017/1/24</td>\n",
       "        <td style=\"padding-left: 1em; padding-right: 1em; text-align: center; vertical-align: top\">2</td>\n",
       "        <td style=\"padding-left: 1em; padding-right: 1em; text-align: center; vertical-align: top\">92000</td>\n",
       "    </tr>\n",
       "    <tr>\n",
       "        <td style=\"padding-left: 1em; padding-right: 1em; text-align: center; vertical-align: top\">9540</td>\n",
       "        <td style=\"padding-left: 1em; padding-right: 1em; text-align: center; vertical-align: top\">159</td>\n",
       "        <td style=\"padding-left: 1em; padding-right: 1em; text-align: center; vertical-align: top\">2017/1/24</td>\n",
       "        <td style=\"padding-left: 1em; padding-right: 1em; text-align: center; vertical-align: top\">2</td>\n",
       "        <td style=\"padding-left: 1em; padding-right: 1em; text-align: center; vertical-align: top\">44000</td>\n",
       "    </tr>\n",
       "    <tr>\n",
       "        <td style=\"padding-left: 1em; padding-right: 1em; text-align: center; vertical-align: top\">12180</td>\n",
       "        <td style=\"padding-left: 1em; padding-right: 1em; text-align: center; vertical-align: top\">203</td>\n",
       "        <td style=\"padding-left: 1em; padding-right: 1em; text-align: center; vertical-align: top\">2017/1/18</td>\n",
       "        <td style=\"padding-left: 1em; padding-right: 1em; text-align: center; vertical-align: top\">3</td>\n",
       "        <td style=\"padding-left: 1em; padding-right: 1em; text-align: center; vertical-align: top\">79000</td>\n",
       "    </tr>\n",
       "    <tr>\n",
       "        <td style=\"padding-left: 1em; padding-right: 1em; text-align: center; vertical-align: top\">12840</td>\n",
       "        <td style=\"padding-left: 1em; padding-right: 1em; text-align: center; vertical-align: top\">214</td>\n",
       "        <td style=\"padding-left: 1em; padding-right: 1em; text-align: center; vertical-align: top\">2016/12/14</td>\n",
       "        <td style=\"padding-left: 1em; padding-right: 1em; text-align: center; vertical-align: top\">3</td>\n",
       "        <td style=\"padding-left: 1em; padding-right: 1em; text-align: center; vertical-align: top\">1463000</td>\n",
       "    </tr>\n",
       "    <tr>\n",
       "        <td style=\"padding-left: 1em; padding-right: 1em; text-align: center; vertical-align: top\">17100</td>\n",
       "        <td style=\"padding-left: 1em; padding-right: 1em; text-align: center; vertical-align: top\">285</td>\n",
       "        <td style=\"padding-left: 1em; padding-right: 1em; text-align: center; vertical-align: top\">2016/11/29</td>\n",
       "        <td style=\"padding-left: 1em; padding-right: 1em; text-align: center; vertical-align: top\">2</td>\n",
       "        <td style=\"padding-left: 1em; padding-right: 1em; text-align: center; vertical-align: top\">42000</td>\n",
       "    </tr>\n",
       "    <tr>\n",
       "        <td style=\"padding-left: 1em; padding-right: 1em; text-align: center; vertical-align: top\">14040</td>\n",
       "        <td style=\"padding-left: 1em; padding-right: 1em; text-align: center; vertical-align: top\">234</td>\n",
       "        <td style=\"padding-left: 1em; padding-right: 1em; text-align: center; vertical-align: top\">2016/11/22</td>\n",
       "        <td style=\"padding-left: 1em; padding-right: 1em; text-align: center; vertical-align: top\">2</td>\n",
       "        <td style=\"padding-left: 1em; padding-right: 1em; text-align: center; vertical-align: top\">68000</td>\n",
       "    </tr>\n",
       "    <tr>\n",
       "        <td style=\"padding-left: 1em; padding-right: 1em; text-align: center; vertical-align: top\">11580</td>\n",
       "        <td style=\"padding-left: 1em; padding-right: 1em; text-align: center; vertical-align: top\">193</td>\n",
       "        <td style=\"padding-left: 1em; padding-right: 1em; text-align: center; vertical-align: top\">2016/11/1</td>\n",
       "        <td style=\"padding-left: 1em; padding-right: 1em; text-align: center; vertical-align: top\">2</td>\n",
       "        <td style=\"padding-left: 1em; padding-right: 1em; text-align: center; vertical-align: top\">910000</td>\n",
       "    </tr>\n",
       "</table>\n",
       "<table frame=\"box\" rules=\"cols\">\n",
       "    <tr>\n",
       "        <th style=\"padding-left: 1em; padding-right: 1em; text-align: center\">PageUrl</th>\n",
       "        <th style=\"padding-left: 1em; padding-right: 1em; text-align: center\">Relative</th>\n",
       "        <th style=\"padding-left: 1em; padding-right: 1em; text-align: center\">playbackperweek</th>\n",
       "        <th style=\"padding-left: 1em; padding-right: 1em; text-align: center\">word_count</th>\n",
       "    </tr>\n",
       "    <tr>\n",
       "        <td style=\"padding-left: 1em; padding-right: 1em; text-align: center; vertical-align: top\">https://v.qq.com/x/cover/<br>jwgd1hl37k70q01/t0376 ...</td>\n",
       "        <td style=\"padding-left: 1em; padding-right: 1em; text-align: center; vertical-align: top\">1494 1036 40 926 958 60<br>5519 5565 5566 1142 55 ...</td>\n",
       "        <td style=\"padding-left: 1em; padding-right: 1em; text-align: center; vertical-align: top\">3000.0</td>\n",
       "        <td style=\"padding-left: 1em; padding-right: 1em; text-align: center; vertical-align: top\">{'\\xd3\\xc3\\xb4\\xed\\xce\\xf<br>3\\xb5\\xc4\\xb7\\xbd\\xb7 ...</td>\n",
       "    </tr>\n",
       "    <tr>\n",
       "        <td style=\"padding-left: 1em; padding-right: 1em; text-align: center; vertical-align: top\">https://v.qq.com/x/cover/<br>jwgd1hl37k70q01/s0373 ...</td>\n",
       "        <td style=\"padding-left: 1em; padding-right: 1em; text-align: center; vertical-align: top\">60 40 5569 4755 381 5114<br>993 980 966 1295 269  ...</td>\n",
       "        <td style=\"padding-left: 1em; padding-right: 1em; text-align: center; vertical-align: top\">20666.6666667</td>\n",
       "        <td style=\"padding-left: 1em; padding-right: 1em; text-align: center; vertical-align: top\">{'\\xcc\\xda\\xd1\\xb6\\xca\\xd<br>3\\xc6\\xb5': 1, '-': 2 ...</td>\n",
       "    </tr>\n",
       "    <tr>\n",
       "        <td style=\"padding-left: 1em; padding-right: 1em; text-align: center; vertical-align: top\">https://v.qq.com/x/cover/<br>jwgd1hl37k70q01/b0371 ...</td>\n",
       "        <td style=\"padding-left: 1em; padding-right: 1em; text-align: center; vertical-align: top\">123 3216 55 5570 5567<br>1520 5568 569 ...</td>\n",
       "        <td style=\"padding-left: 1em; padding-right: 1em; text-align: center; vertical-align: top\">1433.2</td>\n",
       "        <td style=\"padding-left: 1em; padding-right: 1em; text-align: center; vertical-align: top\">{'\\xcc\\xda\\xd1\\xb6\\xca\\xd<br>3\\xc6\\xb5': 1, '-': 2 ...</td>\n",
       "    </tr>\n",
       "    <tr>\n",
       "        <td style=\"padding-left: 1em; padding-right: 1em; text-align: center; vertical-align: top\">https://v.qq.com/x/cover/<br>jwgd1hl37k70q01/c0369 ...</td>\n",
       "        <td style=\"padding-left: 1em; padding-right: 1em; text-align: center; vertical-align: top\">5571 5572 119 2623 5573<br>5574 1114 212 60 5567 ...</td>\n",
       "        <td style=\"padding-left: 1em; padding-right: 1em; text-align: center; vertical-align: top\">46000.0</td>\n",
       "        <td style=\"padding-left: 1em; padding-right: 1em; text-align: center; vertical-align: top\">{'\\xc4\\xea\\xb9\\xd8\\xbd\\xa<br>b\\xbd\\xfc\\xa3\\xac\\xc8 ...</td>\n",
       "    </tr>\n",
       "    <tr>\n",
       "        <td style=\"padding-left: 1em; padding-right: 1em; text-align: center; vertical-align: top\">https://v.qq.com/x/cover/<br>jwgd1hl37k70q01/r0369 ...</td>\n",
       "        <td style=\"padding-left: 1em; padding-right: 1em; text-align: center; vertical-align: top\">153 5575 378 4729 3270<br>2584 129 2055 5576 378 ...</td>\n",
       "        <td style=\"padding-left: 1em; padding-right: 1em; text-align: center; vertical-align: top\">22000.0</td>\n",
       "        <td style=\"padding-left: 1em; padding-right: 1em; text-align: center; vertical-align: top\">{'\\xcc\\xda\\xd1\\xb6\\xca\\xd<br>3\\xc6\\xb5': 1, '\\xb2\\ ...</td>\n",
       "    </tr>\n",
       "    <tr>\n",
       "        <td style=\"padding-left: 1em; padding-right: 1em; text-align: center; vertical-align: top\">https://v.qq.com/x/cover/<br>jwgd1hl37k70q01/r0367 ...</td>\n",
       "        <td style=\"padding-left: 1em; padding-right: 1em; text-align: center; vertical-align: top\">5577 60 402 1543 45 4517<br>3474 47 5567 1520 5568 ...</td>\n",
       "        <td style=\"padding-left: 1em; padding-right: 1em; text-align: center; vertical-align: top\">26333.3333333</td>\n",
       "        <td style=\"padding-left: 1em; padding-right: 1em; text-align: center; vertical-align: top\">{'\\xcc\\xda\\xd1\\xb6\\xca\\xd<br>3\\xc6\\xb5': 1, '\\xb1\\ ...</td>\n",
       "    </tr>\n",
       "    <tr>\n",
       "        <td style=\"padding-left: 1em; padding-right: 1em; text-align: center; vertical-align: top\">https://v.qq.com/x/cover/<br>jwgd1hl37k70q01/a0355 ...</td>\n",
       "        <td style=\"padding-left: 1em; padding-right: 1em; text-align: center; vertical-align: top\">60 1041 463 338 5578 40<br>3912 5567 1520 5568 569 ...</td>\n",
       "        <td style=\"padding-left: 1em; padding-right: 1em; text-align: center; vertical-align: top\">487666.666667</td>\n",
       "        <td style=\"padding-left: 1em; padding-right: 1em; text-align: center; vertical-align: top\">{'\\xcc\\xda\\xd1\\xb6\\xca\\xd<br>3\\xc6\\xb5': 1, '-': 2 ...</td>\n",
       "    </tr>\n",
       "    <tr>\n",
       "        <td style=\"padding-left: 1em; padding-right: 1em; text-align: center; vertical-align: top\">https://v.qq.com/x/cover/<br>jwgd1hl37k70q01/w0350 ...</td>\n",
       "        <td style=\"padding-left: 1em; padding-right: 1em; text-align: center; vertical-align: top\">877 988 989 1080 5579<br>5567 1520 5568 569 ...</td>\n",
       "        <td style=\"padding-left: 1em; padding-right: 1em; text-align: center; vertical-align: top\">21000.0</td>\n",
       "        <td style=\"padding-left: 1em; padding-right: 1em; text-align: center; vertical-align: top\">{'\\xb3\\xac\\xbc\\xb6\\xc4\\xc<br>c\\xb0\\xd6\\xd1\\xf8\\xb3 ...</td>\n",
       "    </tr>\n",
       "    <tr>\n",
       "        <td style=\"padding-left: 1em; padding-right: 1em; text-align: center; vertical-align: top\">https://v.qq.com/x/cover/<br>jwgd1hl37k70q01/s0348 ...</td>\n",
       "        <td style=\"padding-left: 1em; padding-right: 1em; text-align: center; vertical-align: top\">1258 1259 1414 5580 5567<br>1520 5568 569 ...</td>\n",
       "        <td style=\"padding-left: 1em; padding-right: 1em; text-align: center; vertical-align: top\">34000.0</td>\n",
       "        <td style=\"padding-left: 1em; padding-right: 1em; text-align: center; vertical-align: top\">{'\\xcc\\xda\\xd1\\xb6\\xca\\xd<br>3\\xc6\\xb5': 1, '-': 2 ...</td>\n",
       "    </tr>\n",
       "    <tr>\n",
       "        <td style=\"padding-left: 1em; padding-right: 1em; text-align: center; vertical-align: top\">https://v.qq.com/x/cover/<br>jwgd1hl37k70q01/e0342 ...</td>\n",
       "        <td style=\"padding-left: 1em; padding-right: 1em; text-align: center; vertical-align: top\">5581 212 60 40 178 5567<br>1520 5568 569 ...</td>\n",
       "        <td style=\"padding-left: 1em; padding-right: 1em; text-align: center; vertical-align: top\">455000.0</td>\n",
       "        <td style=\"padding-left: 1em; padding-right: 1em; text-align: center; vertical-align: top\">{'\\xcc\\xda\\xd1\\xb6\\xca\\xd<br>3\\xc6\\xb5': 1, '\\xc7\\ ...</td>\n",
       "    </tr>\n",
       "</table>\n",
       "[58 rows x 17 columns]<br/>Note: Only the head of the SFrame is printed.<br/>You can use print_rows(num_rows=m, num_columns=n) to print more rows and columns.\n",
       "</div>"
      ],
      "text/plain": [
       "Columns:\n",
       "\tId\tint\n",
       "\tTitle\tstr\n",
       "\tWords_of_the_Title\tint\n",
       "\tEnglish_or_not\tint\n",
       "\t�˳�\tint\n",
       "\tperson\tint\n",
       "\tSentence_Structure_of_the_Title\tstr\n",
       "\tʱ��\tstr\n",
       "\tX9\tint\n",
       "\tthe_Length_of_one_Episode\tint\n",
       "\tRelease_Date\tstr\n",
       "\tRelease_Week\tint\n",
       "\tthe_Playback_Amount_of_one_Episode\tint\n",
       "\tPageUrl\tstr\n",
       "\tRelative\tstr\n",
       "\tplaybackperweek\tfloat\n",
       "\tword_count\tdict\n",
       "\n",
       "Rows: 58\n",
       "\n",
       "Data:\n",
       "+----+-------------------------------+--------------------+----------------+-----+\n",
       "| Id |             Title             | Words_of_the_Title | English_or_not | �˳� |\n",
       "+----+-------------------------------+--------------------+----------------+-----+\n",
       "| 1  |  �ô���ķ����̱�����· �ɱ�ˤ��Σ�... |         34         |       0        |  0  |\n",
       "| 2  |  ��������ֵ���츳���ְֻ��������...  |         30         |       0        |  0  |\n",
       "| 3  | С��ƿ��ѧ�ʣ� - ʮ�ºǻ� - ��Ѷ��... |         21         |       0        |  0  |\n",
       "| 4  | ��ؽ�������������Ѿۻ��б�����... |         31         |       0        |  0  |\n",
       "| 5  |  ����ѡ�̷ۣ����������ѡ������...  |         33         |       0        |  12 |\n",
       "| 6  | ���ϱ���������ȫ���������λ��... |         31         |       0        |  10 |\n",
       "| 7  | ���������������ص�10���� - ... |         27         |       0        |  0  |\n",
       "| 8  |  �����̰����ɱ��� - ʮ�ºǻ� - �... |         22         |       0        |  0  |\n",
       "| 9  |  �������֮���ף� - ʮ�ºǻ� - ��... |         22         |       0        |  0  |\n",
       "| 10 | �ﶬ������������Ƥ�� - ʮ�ºǻ� ... |         24         |       0        |  0  |\n",
       "+----+-------------------------------+--------------------+----------------+-----+\n",
       "+--------+-------------------------------+------+-------+---------------------------+\n",
       "| person | Sentence_Structure_of_the_... | ʱ��  |   X9  | the_Length_of_one_Episode |\n",
       "+--------+-------------------------------+------+-------+---------------------------+\n",
       "|   0    |                               | 2:36 |  9360 |            156            |\n",
       "|   0    |                               | 2:57 | 10620 |            177            |\n",
       "|   0    |                               | 3:14 | 11640 |            194            |\n",
       "|   0    |                               | 4:36 | 16560 |            276            |\n",
       "|   2    |                               | 2:39 |  9540 |            159            |\n",
       "|   2    |                               | 3:23 | 12180 |            203            |\n",
       "|   0    |                               | 3:34 | 12840 |            214            |\n",
       "|   0    |                               | 4:45 | 17100 |            285            |\n",
       "|   0    |                               | 3:54 | 14040 |            234            |\n",
       "|   0    |                               | 3:13 | 11580 |            193            |\n",
       "+--------+-------------------------------+------+-------+---------------------------+\n",
       "+--------------+--------------+-------------------------------+\n",
       "| Release_Date | Release_Week | the_Playback_Amount_of_one... |\n",
       "+--------------+--------------+-------------------------------+\n",
       "|  2017/2/17   |      5       |             15000             |\n",
       "|   2017/2/8   |      3       |             62000             |\n",
       "|   2017/2/3   |      5       |              7166             |\n",
       "|  2017/1/24   |      2       |             92000             |\n",
       "|  2017/1/24   |      2       |             44000             |\n",
       "|  2017/1/18   |      3       |             79000             |\n",
       "|  2016/12/14  |      3       |            1463000            |\n",
       "|  2016/11/29  |      2       |             42000             |\n",
       "|  2016/11/22  |      2       |             68000             |\n",
       "|  2016/11/1   |      2       |             910000            |\n",
       "+--------------+--------------+-------------------------------+\n",
       "+-------------------------------+-------------------------------+-----------------+\n",
       "|            PageUrl            |            Relative           | playbackperweek |\n",
       "+-------------------------------+-------------------------------+-----------------+\n",
       "| https://v.qq.com/x/cover/j... | 1494 1036 40 926 958 60 55... |      3000.0     |\n",
       "| https://v.qq.com/x/cover/j... | 60 40 5569 4755 381 5114 9... |  20666.6666667  |\n",
       "| https://v.qq.com/x/cover/j... | 123 3216 55 5570 5567 1520... |      1433.2     |\n",
       "| https://v.qq.com/x/cover/j... | 5571 5572 119 2623 5573 55... |     46000.0     |\n",
       "| https://v.qq.com/x/cover/j... | 153 5575 378 4729 3270 258... |     22000.0     |\n",
       "| https://v.qq.com/x/cover/j... | 5577 60 402 1543 45 4517 3... |  26333.3333333  |\n",
       "| https://v.qq.com/x/cover/j... | 60 1041 463 338 5578 40 39... |  487666.666667  |\n",
       "| https://v.qq.com/x/cover/j... | 877 988 989 1080 5579 5567... |     21000.0     |\n",
       "| https://v.qq.com/x/cover/j... | 1258 1259 1414 5580 5567 1... |     34000.0     |\n",
       "| https://v.qq.com/x/cover/j... | 5581 212 60 40 178 5567 15... |     455000.0    |\n",
       "+-------------------------------+-------------------------------+-----------------+\n",
       "+-------------------------------+\n",
       "|           word_count          |\n",
       "+-------------------------------+\n",
       "| {'\\xd3\\xc3\\xb4\\xed\\xce\\xf3... |\n",
       "| {'\\xcc\\xda\\xd1\\xb6\\xca\\xd3... |\n",
       "| {'\\xcc\\xda\\xd1\\xb6\\xca\\xd3... |\n",
       "| {'\\xc4\\xea\\xb9\\xd8\\xbd\\xab... |\n",
       "| {'\\xcc\\xda\\xd1\\xb6\\xca\\xd3... |\n",
       "| {'\\xcc\\xda\\xd1\\xb6\\xca\\xd3... |\n",
       "| {'\\xcc\\xda\\xd1\\xb6\\xca\\xd3... |\n",
       "| {'\\xb3\\xac\\xbc\\xb6\\xc4\\xcc... |\n",
       "| {'\\xcc\\xda\\xd1\\xb6\\xca\\xd3... |\n",
       "| {'\\xcc\\xda\\xd1\\xb6\\xca\\xd3... |\n",
       "+-------------------------------+\n",
       "[58 rows x 17 columns]\n",
       "Note: Only the head of the SFrame is printed.\n",
       "You can use print_rows(num_rows=m, num_columns=n) to print more rows and columns."
      ]
     },
     "execution_count": 30,
     "metadata": {},
     "output_type": "execute_result"
    }
   ],
   "source": [
    "shiyuehehua"
   ]
  },
  {
   "cell_type": "code",
   "execution_count": 25,
   "metadata": {
    "collapsed": false
   },
   "outputs": [
    {
     "data": {
      "text/html": [
       "<pre>Finished parsing file /Volumes/SILVA/shiyuehehuB-Tencent.csv</pre>"
      ],
      "text/plain": [
       "Finished parsing file /Volumes/SILVA/shiyuehehuB-Tencent.csv"
      ]
     },
     "metadata": {},
     "output_type": "display_data"
    },
    {
     "data": {
      "text/html": [
       "<pre>Parsing completed. Parsed 100 lines in 0.007917 secs.</pre>"
      ],
      "text/plain": [
       "Parsing completed. Parsed 100 lines in 0.007917 secs."
      ]
     },
     "metadata": {},
     "output_type": "display_data"
    },
    {
     "name": "stdout",
     "output_type": "stream",
     "text": [
      "------------------------------------------------------\n",
      "Inferred types from first 100 line(s) of file as \n",
      "column_type_hints=[int,str,int,int,int,int,int,int,str,str]\n",
      "If parsing fails due to incorrect types, you can correct\n",
      "the inferred type list above and pass it to read_csv in\n",
      "the column_type_hints argument\n",
      "------------------------------------------------------\n"
     ]
    },
    {
     "data": {
      "text/html": [
       "<pre>Finished parsing file /Volumes/SILVA/shiyuehehuB-Tencent.csv</pre>"
      ],
      "text/plain": [
       "Finished parsing file /Volumes/SILVA/shiyuehehuB-Tencent.csv"
      ]
     },
     "metadata": {},
     "output_type": "display_data"
    },
    {
     "data": {
      "text/html": [
       "<pre>Parsing completed. Parsed 248 lines in 0.007946 secs.</pre>"
      ],
      "text/plain": [
       "Parsing completed. Parsed 248 lines in 0.007946 secs."
      ]
     },
     "metadata": {},
     "output_type": "display_data"
    }
   ],
   "source": [
    "shiyuehehub=SFrame(data='/Volumes/SILVA/shiyuehehuB-Tencent.csv')"
   ]
  },
  {
   "cell_type": "code",
   "execution_count": 31,
   "metadata": {
    "collapsed": false
   },
   "outputs": [
    {
     "data": {
      "text/html": [
       "<div style=\"max-height:1000px;max-width:1500px;overflow:auto;\"><table frame=\"box\" rules=\"cols\">\n",
       "    <tr>\n",
       "        <th style=\"padding-left: 1em; padding-right: 1em; text-align: center\">Id</th>\n",
       "        <th style=\"padding-left: 1em; padding-right: 1em; text-align: center\">Title</th>\n",
       "        <th style=\"padding-left: 1em; padding-right: 1em; text-align: center\">Words_of_the_Title</th>\n",
       "        <th style=\"padding-left: 1em; padding-right: 1em; text-align: center\">English_or_not</th>\n",
       "        <th style=\"padding-left: 1em; padding-right: 1em; text-align: center\">person</th>\n",
       "        <th style=\"padding-left: 1em; padding-right: 1em; text-align: center\">the_Length_of_one_Episode</th>\n",
       "        <th style=\"padding-left: 1em; padding-right: 1em; text-align: center\">the_Playback_Amount_of_on<br>e_Episode ...</th>\n",
       "    </tr>\n",
       "    <tr>\n",
       "        <td style=\"padding-left: 1em; padding-right: 1em; text-align: center; vertical-align: top\">1</td>\n",
       "        <td style=\"padding-left: 1em; padding-right: 1em; text-align: center; vertical-align: top\">̥��������׼���������� -<br>ʮ�ºǻ� - ��Ѷ��Ƶ ...</td>\n",
       "        <td style=\"padding-left: 1em; padding-right: 1em; text-align: center; vertical-align: top\">25</td>\n",
       "        <td style=\"padding-left: 1em; padding-right: 1em; text-align: center; vertical-align: top\">0</td>\n",
       "        <td style=\"padding-left: 1em; padding-right: 1em; text-align: center; vertical-align: top\">0</td>\n",
       "        <td style=\"padding-left: 1em; padding-right: 1em; text-align: center; vertical-align: top\">195</td>\n",
       "        <td style=\"padding-left: 1em; padding-right: 1em; text-align: center; vertical-align: top\">2020</td>\n",
       "    </tr>\n",
       "    <tr>\n",
       "        <td style=\"padding-left: 1em; padding-right: 1em; text-align: center; vertical-align: top\">2</td>\n",
       "        <td style=\"padding-left: 1em; padding-right: 1em; text-align: center; vertical-align: top\">Ϊʲô���к����롰���ݺ��<br>ݡ� - ʮ�ºǻ� - ��Ѷ��Ƶ ...</td>\n",
       "        <td style=\"padding-left: 1em; padding-right: 1em; text-align: center; vertical-align: top\">28</td>\n",
       "        <td style=\"padding-left: 1em; padding-right: 1em; text-align: center; vertical-align: top\">0</td>\n",
       "        <td style=\"padding-left: 1em; padding-right: 1em; text-align: center; vertical-align: top\">0</td>\n",
       "        <td style=\"padding-left: 1em; padding-right: 1em; text-align: center; vertical-align: top\">182</td>\n",
       "        <td style=\"padding-left: 1em; padding-right: 1em; text-align: center; vertical-align: top\">54000</td>\n",
       "    </tr>\n",
       "    <tr>\n",
       "        <td style=\"padding-left: 1em; padding-right: 1em; text-align: center; vertical-align: top\">3</td>\n",
       "        <td style=\"padding-left: 1em; padding-right: 1em; text-align: center; vertical-align: top\">���к�����Щ�����������Լ<br>� - ʮ�ºǻ� - ��Ѷ��Ƶ ...</td>\n",
       "        <td style=\"padding-left: 1em; padding-right: 1em; text-align: center; vertical-align: top\">27</td>\n",
       "        <td style=\"padding-left: 1em; padding-right: 1em; text-align: center; vertical-align: top\">0</td>\n",
       "        <td style=\"padding-left: 1em; padding-right: 1em; text-align: center; vertical-align: top\">0</td>\n",
       "        <td style=\"padding-left: 1em; padding-right: 1em; text-align: center; vertical-align: top\">203</td>\n",
       "        <td style=\"padding-left: 1em; padding-right: 1em; text-align: center; vertical-align: top\">720000</td>\n",
       "    </tr>\n",
       "    <tr>\n",
       "        <td style=\"padding-left: 1em; padding-right: 1em; text-align: center; vertical-align: top\">4</td>\n",
       "        <td style=\"padding-left: 1em; padding-right: 1em; text-align: center; vertical-align: top\">100�������˵ķ��侭�� -<br>ʮ�ºǻ� - ��Ѷ��Ƶ ...</td>\n",
       "        <td style=\"padding-left: 1em; padding-right: 1em; text-align: center; vertical-align: top\">26</td>\n",
       "        <td style=\"padding-left: 1em; padding-right: 1em; text-align: center; vertical-align: top\">0</td>\n",
       "        <td style=\"padding-left: 1em; padding-right: 1em; text-align: center; vertical-align: top\">0</td>\n",
       "        <td style=\"padding-left: 1em; padding-right: 1em; text-align: center; vertical-align: top\">276</td>\n",
       "        <td style=\"padding-left: 1em; padding-right: 1em; text-align: center; vertical-align: top\">873000</td>\n",
       "    </tr>\n",
       "    <tr>\n",
       "        <td style=\"padding-left: 1em; padding-right: 1em; text-align: center; vertical-align: top\">5</td>\n",
       "        <td style=\"padding-left: 1em; padding-right: 1em; text-align: center; vertical-align: top\">������������ʱ�� -<br>ʮ�ºǻ� - ��Ѷ��Ƶ ...</td>\n",
       "        <td style=\"padding-left: 1em; padding-right: 1em; text-align: center; vertical-align: top\">23</td>\n",
       "        <td style=\"padding-left: 1em; padding-right: 1em; text-align: center; vertical-align: top\">0</td>\n",
       "        <td style=\"padding-left: 1em; padding-right: 1em; text-align: center; vertical-align: top\">0</td>\n",
       "        <td style=\"padding-left: 1em; padding-right: 1em; text-align: center; vertical-align: top\">194</td>\n",
       "        <td style=\"padding-left: 1em; padding-right: 1em; text-align: center; vertical-align: top\">832000</td>\n",
       "    </tr>\n",
       "    <tr>\n",
       "        <td style=\"padding-left: 1em; padding-right: 1em; text-align: center; vertical-align: top\">6</td>\n",
       "        <td style=\"padding-left: 1em; padding-right: 1em; text-align: center; vertical-align: top\">Ů�����������ΰٲ� -<br>ʮ�ºǻ� - ��Ѷ��Ƶ ...</td>\n",
       "        <td style=\"padding-left: 1em; padding-right: 1em; text-align: center; vertical-align: top\">23</td>\n",
       "        <td style=\"padding-left: 1em; padding-right: 1em; text-align: center; vertical-align: top\">0</td>\n",
       "        <td style=\"padding-left: 1em; padding-right: 1em; text-align: center; vertical-align: top\">0</td>\n",
       "        <td style=\"padding-left: 1em; padding-right: 1em; text-align: center; vertical-align: top\">214</td>\n",
       "        <td style=\"padding-left: 1em; padding-right: 1em; text-align: center; vertical-align: top\">692000</td>\n",
       "    </tr>\n",
       "    <tr>\n",
       "        <td style=\"padding-left: 1em; padding-right: 1em; text-align: center; vertical-align: top\">7</td>\n",
       "        <td style=\"padding-left: 1em; padding-right: 1em; text-align: center; vertical-align: top\">���о�������ȡ��<br>�̵��Ƶ�81�� - ʮ�ºǻ� ...</td>\n",
       "        <td style=\"padding-left: 1em; padding-right: 1em; text-align: center; vertical-align: top\">31</td>\n",
       "        <td style=\"padding-left: 1em; padding-right: 1em; text-align: center; vertical-align: top\">0</td>\n",
       "        <td style=\"padding-left: 1em; padding-right: 1em; text-align: center; vertical-align: top\">0</td>\n",
       "        <td style=\"padding-left: 1em; padding-right: 1em; text-align: center; vertical-align: top\">233</td>\n",
       "        <td style=\"padding-left: 1em; padding-right: 1em; text-align: center; vertical-align: top\">971000</td>\n",
       "    </tr>\n",
       "    <tr>\n",
       "        <td style=\"padding-left: 1em; padding-right: 1em; text-align: center; vertical-align: top\">8</td>\n",
       "        <td style=\"padding-left: 1em; padding-right: 1em; text-align: center; vertical-align: top\">���к��Ӱ�����������<br>- ʮ�ºǻ� - ��Ѷ��Ƶ ...</td>\n",
       "        <td style=\"padding-left: 1em; padding-right: 1em; text-align: center; vertical-align: top\">26</td>\n",
       "        <td style=\"padding-left: 1em; padding-right: 1em; text-align: center; vertical-align: top\">0</td>\n",
       "        <td style=\"padding-left: 1em; padding-right: 1em; text-align: center; vertical-align: top\">0</td>\n",
       "        <td style=\"padding-left: 1em; padding-right: 1em; text-align: center; vertical-align: top\">229</td>\n",
       "        <td style=\"padding-left: 1em; padding-right: 1em; text-align: center; vertical-align: top\">611000</td>\n",
       "    </tr>\n",
       "    <tr>\n",
       "        <td style=\"padding-left: 1em; padding-right: 1em; text-align: center; vertical-align: top\">9</td>\n",
       "        <td style=\"padding-left: 1em; padding-right: 1em; text-align: center; vertical-align: top\">���ڵ��׸�����Щ��飿 -<br>ʮ�ºǻ� - ��Ѷ��Ƶ ...</td>\n",
       "        <td style=\"padding-left: 1em; padding-right: 1em; text-align: center; vertical-align: top\">25</td>\n",
       "        <td style=\"padding-left: 1em; padding-right: 1em; text-align: center; vertical-align: top\">0</td>\n",
       "        <td style=\"padding-left: 1em; padding-right: 1em; text-align: center; vertical-align: top\">0</td>\n",
       "        <td style=\"padding-left: 1em; padding-right: 1em; text-align: center; vertical-align: top\">296</td>\n",
       "        <td style=\"padding-left: 1em; padding-right: 1em; text-align: center; vertical-align: top\">483000</td>\n",
       "    </tr>\n",
       "    <tr>\n",
       "        <td style=\"padding-left: 1em; padding-right: 1em; text-align: center; vertical-align: top\">10</td>\n",
       "        <td style=\"padding-left: 1em; padding-right: 1em; text-align: center; vertical-align: top\">���������Ѫ����Ҫ��Ҫ��<br>� - ʮ�ºǻ� - ��Ѷ��Ƶ ...</td>\n",
       "        <td style=\"padding-left: 1em; padding-right: 1em; text-align: center; vertical-align: top\">27</td>\n",
       "        <td style=\"padding-left: 1em; padding-right: 1em; text-align: center; vertical-align: top\">0</td>\n",
       "        <td style=\"padding-left: 1em; padding-right: 1em; text-align: center; vertical-align: top\">0</td>\n",
       "        <td style=\"padding-left: 1em; padding-right: 1em; text-align: center; vertical-align: top\">206</td>\n",
       "        <td style=\"padding-left: 1em; padding-right: 1em; text-align: center; vertical-align: top\">214000</td>\n",
       "    </tr>\n",
       "</table>\n",
       "<table frame=\"box\" rules=\"cols\">\n",
       "    <tr>\n",
       "        <th style=\"padding-left: 1em; padding-right: 1em; text-align: center\">Release_Week</th>\n",
       "        <th style=\"padding-left: 1em; padding-right: 1em; text-align: center\">PageUrl</th>\n",
       "        <th style=\"padding-left: 1em; padding-right: 1em; text-align: center\">Relative</th>\n",
       "        <th style=\"padding-left: 1em; padding-right: 1em; text-align: center\">playbackperweek</th>\n",
       "    </tr>\n",
       "    <tr>\n",
       "        <td style=\"padding-left: 1em; padding-right: 1em; text-align: center; vertical-align: top\">5</td>\n",
       "        <td style=\"padding-left: 1em; padding-right: 1em; text-align: center; vertical-align: top\">https://v.qq.com/x/cover/<br>d2x46xrtl0rrrst/l0380 ...</td>\n",
       "        <td style=\"padding-left: 1em; padding-right: 1em; text-align: center; vertical-align: top\">1971 60 230 5071 1031<br>1572 5567 1520 5568 569 ...</td>\n",
       "        <td style=\"padding-left: 1em; padding-right: 1em; text-align: center; vertical-align: top\">404.0</td>\n",
       "    </tr>\n",
       "    <tr>\n",
       "        <td style=\"padding-left: 1em; padding-right: 1em; text-align: center; vertical-align: top\">3</td>\n",
       "        <td style=\"padding-left: 1em; padding-right: 1em; text-align: center; vertical-align: top\">https://v.qq.com/x/cover/<br>d2x46xrtl0rrrst/w0380 ...</td>\n",
       "        <td style=\"padding-left: 1em; padding-right: 1em; text-align: center; vertical-align: top\">954 462 463 5627 5628<br>5629 5628 5629 5567 1520 ...</td>\n",
       "        <td style=\"padding-left: 1em; padding-right: 1em; text-align: center; vertical-align: top\">18000.0</td>\n",
       "    </tr>\n",
       "    <tr>\n",
       "        <td style=\"padding-left: 1em; padding-right: 1em; text-align: center; vertical-align: top\">3</td>\n",
       "        <td style=\"padding-left: 1em; padding-right: 1em; text-align: center; vertical-align: top\">https://v.qq.com/x/cover/<br>d2x46xrtl0rrrst/w0377 ...</td>\n",
       "        <td style=\"padding-left: 1em; padding-right: 1em; text-align: center; vertical-align: top\">462 463 218 389 2223 407<br>5630 788 5567 1520 5568 ...</td>\n",
       "        <td style=\"padding-left: 1em; padding-right: 1em; text-align: center; vertical-align: top\">240000.0</td>\n",
       "    </tr>\n",
       "    <tr>\n",
       "        <td style=\"padding-left: 1em; padding-right: 1em; text-align: center; vertical-align: top\">3</td>\n",
       "        <td style=\"padding-left: 1em; padding-right: 1em; text-align: center; vertical-align: top\">https://v.qq.com/x/cover/<br>d2x46xrtl0rrrst/j0375 ...</td>\n",
       "        <td style=\"padding-left: 1em; padding-right: 1em; text-align: center; vertical-align: top\">5631 3977 40 3492 5632<br>5567 1520 5568 569 ...</td>\n",
       "        <td style=\"padding-left: 1em; padding-right: 1em; text-align: center; vertical-align: top\">291000.0</td>\n",
       "    </tr>\n",
       "    <tr>\n",
       "        <td style=\"padding-left: 1em; padding-right: 1em; text-align: center; vertical-align: top\">3</td>\n",
       "        <td style=\"padding-left: 1em; padding-right: 1em; text-align: center; vertical-align: top\">https://v.qq.com/x/cover/<br>d2x46xrtl0rrrst/z0364 ...</td>\n",
       "        <td style=\"padding-left: 1em; padding-right: 1em; text-align: center; vertical-align: top\">899 5633 2270 381 701<br>5567 1520 5568 569 ...</td>\n",
       "        <td style=\"padding-left: 1em; padding-right: 1em; text-align: center; vertical-align: top\">277333.333333</td>\n",
       "    </tr>\n",
       "    <tr>\n",
       "        <td style=\"padding-left: 1em; padding-right: 1em; text-align: center; vertical-align: top\">5</td>\n",
       "        <td style=\"padding-left: 1em; padding-right: 1em; text-align: center; vertical-align: top\">https://v.qq.com/x/cover/<br>d2x46xrtl0rrrst/i0363 ...</td>\n",
       "        <td style=\"padding-left: 1em; padding-right: 1em; text-align: center; vertical-align: top\">1366 5427 407 1354 775<br>5567 1520 5568 569 ...</td>\n",
       "        <td style=\"padding-left: 1em; padding-right: 1em; text-align: center; vertical-align: top\">138400.0</td>\n",
       "    </tr>\n",
       "    <tr>\n",
       "        <td style=\"padding-left: 1em; padding-right: 1em; text-align: center; vertical-align: top\">5</td>\n",
       "        <td style=\"padding-left: 1em; padding-right: 1em; text-align: center; vertical-align: top\">https://v.qq.com/x/cover/<br>d2x46xrtl0rrrst/k0361 ...</td>\n",
       "        <td style=\"padding-left: 1em; padding-right: 1em; text-align: center; vertical-align: top\">462 5634 5635 5636 4923<br>3745 1154 40 5637 1386 ...</td>\n",
       "        <td style=\"padding-left: 1em; padding-right: 1em; text-align: center; vertical-align: top\">194200.0</td>\n",
       "    </tr>\n",
       "    <tr>\n",
       "        <td style=\"padding-left: 1em; padding-right: 1em; text-align: center; vertical-align: top\">3</td>\n",
       "        <td style=\"padding-left: 1em; padding-right: 1em; text-align: center; vertical-align: top\">https://v.qq.com/x/cover/<br>d2x46xrtl0rrrst/e0360 ...</td>\n",
       "        <td style=\"padding-left: 1em; padding-right: 1em; text-align: center; vertical-align: top\">5638 5386 5411 158 5639<br>58 5567 1520 5568 569 ...</td>\n",
       "        <td style=\"padding-left: 1em; padding-right: 1em; text-align: center; vertical-align: top\">203666.666667</td>\n",
       "    </tr>\n",
       "    <tr>\n",
       "        <td style=\"padding-left: 1em; padding-right: 1em; text-align: center; vertical-align: top\">2</td>\n",
       "        <td style=\"padding-left: 1em; padding-right: 1em; text-align: center; vertical-align: top\">https://v.qq.com/x/cover/<br>d2x46xrtl0rrrst/e0359 ...</td>\n",
       "        <td style=\"padding-left: 1em; padding-right: 1em; text-align: center; vertical-align: top\">386 1666 1029 389 1473<br>5567 1520 5568 569 ...</td>\n",
       "        <td style=\"padding-left: 1em; padding-right: 1em; text-align: center; vertical-align: top\">241500.0</td>\n",
       "    </tr>\n",
       "    <tr>\n",
       "        <td style=\"padding-left: 1em; padding-right: 1em; text-align: center; vertical-align: top\">3</td>\n",
       "        <td style=\"padding-left: 1em; padding-right: 1em; text-align: center; vertical-align: top\">https://v.qq.com/x/cover/<br>d2x46xrtl0rrrst/m0357 ...</td>\n",
       "        <td style=\"padding-left: 1em; padding-right: 1em; text-align: center; vertical-align: top\">60 40 5640 1666 536 5641<br>5567 1520 5568 569 ...</td>\n",
       "        <td style=\"padding-left: 1em; padding-right: 1em; text-align: center; vertical-align: top\">71333.3333333</td>\n",
       "    </tr>\n",
       "</table>\n",
       "[248 rows x 11 columns]<br/>Note: Only the head of the SFrame is printed.<br/>You can use print_rows(num_rows=m, num_columns=n) to print more rows and columns.\n",
       "</div>"
      ],
      "text/plain": [
       "Columns:\n",
       "\tId\tint\n",
       "\tTitle\tstr\n",
       "\tWords_of_the_Title\tint\n",
       "\tEnglish_or_not\tint\n",
       "\tperson\tint\n",
       "\tthe_Length_of_one_Episode\tint\n",
       "\tthe_Playback_Amount_of_one_Episode\tint\n",
       "\tRelease_Week\tint\n",
       "\tPageUrl\tstr\n",
       "\tRelative\tstr\n",
       "\tplaybackperweek\tfloat\n",
       "\n",
       "Rows: 248\n",
       "\n",
       "Data:\n",
       "+----+--------------------------------+--------------------+----------------+--------+\n",
       "| Id |             Title              | Words_of_the_Title | English_or_not | person |\n",
       "+----+--------------------------------+--------------------+----------------+--------+\n",
       "| 1  |  ̥��������׼���������� - ʮ�º...  |         25         |       0        |   0    |\n",
       "| 2  | Ϊʲô���к����롰���ݺ��ݡ� - ʮ�º... |         28         |       0        |   0    |\n",
       "| 3  | ���к�����Щ�����������Լ� - ...  |         27         |       0        |   0    |\n",
       "| 4  | 100�������˵ķ��侭�� - ʮ�ºǻ� ... |         26         |       0        |   0    |\n",
       "| 5  | ������������ʱ�� - ʮ�ºǻ� - ...  |         23         |       0        |   0    |\n",
       "| 6  | Ů�����������ΰٲ� - ʮ�ºǻ� - ...  |         23         |       0        |   0    |\n",
       "| 7  |  ���о�������ȡ�� �̵��Ƶ�81�� ...  |         31         |       0        |   0    |\n",
       "| 8  | ���к��Ӱ����������� - ʮ�ºǻ�...  |         26         |       0        |   0    |\n",
       "| 9  | ���ڵ��׸�����Щ��飿 - ʮ�ºǻ� -... |         25         |       0        |   0    |\n",
       "| 10 | ���������Ѫ����Ҫ��Ҫ�棿 - ʮ�º... |         27         |       0        |   0    |\n",
       "+----+--------------------------------+--------------------+----------------+--------+\n",
       "+---------------------------+-------------------------------+--------------+\n",
       "| the_Length_of_one_Episode | the_Playback_Amount_of_one... | Release_Week |\n",
       "+---------------------------+-------------------------------+--------------+\n",
       "|            195            |              2020             |      5       |\n",
       "|            182            |             54000             |      3       |\n",
       "|            203            |             720000            |      3       |\n",
       "|            276            |             873000            |      3       |\n",
       "|            194            |             832000            |      3       |\n",
       "|            214            |             692000            |      5       |\n",
       "|            233            |             971000            |      5       |\n",
       "|            229            |             611000            |      3       |\n",
       "|            296            |             483000            |      2       |\n",
       "|            206            |             214000            |      3       |\n",
       "+---------------------------+-------------------------------+--------------+\n",
       "+-------------------------------+-------------------------------+-----------------+\n",
       "|            PageUrl            |            Relative           | playbackperweek |\n",
       "+-------------------------------+-------------------------------+-----------------+\n",
       "| https://v.qq.com/x/cover/d... | 1971 60 230 5071 1031 1572... |      404.0      |\n",
       "| https://v.qq.com/x/cover/d... | 954 462 463 5627 5628 5629... |     18000.0     |\n",
       "| https://v.qq.com/x/cover/d... | 462 463 218 389 2223 407 5... |     240000.0    |\n",
       "| https://v.qq.com/x/cover/d... | 5631 3977 40 3492 5632 556... |     291000.0    |\n",
       "| https://v.qq.com/x/cover/d... | 899 5633 2270 381 701 5567... |  277333.333333  |\n",
       "| https://v.qq.com/x/cover/d... | 1366 5427 407 1354 775 556... |     138400.0    |\n",
       "| https://v.qq.com/x/cover/d... | 462 5634 5635 5636 4923 37... |     194200.0    |\n",
       "| https://v.qq.com/x/cover/d... | 5638 5386 5411 158 5639 58... |  203666.666667  |\n",
       "| https://v.qq.com/x/cover/d... | 386 1666 1029 389 1473 556... |     241500.0    |\n",
       "| https://v.qq.com/x/cover/d... | 60 40 5640 1666 536 5641 5... |  71333.3333333  |\n",
       "+-------------------------------+-------------------------------+-----------------+\n",
       "[248 rows x 11 columns]\n",
       "Note: Only the head of the SFrame is printed.\n",
       "You can use print_rows(num_rows=m, num_columns=n) to print more rows and columns."
      ]
     },
     "execution_count": 31,
     "metadata": {},
     "output_type": "execute_result"
    }
   ],
   "source": [
    "shiyuehehub"
   ]
  },
  {
   "cell_type": "code",
   "execution_count": 32,
   "metadata": {
    "collapsed": true
   },
   "outputs": [],
   "source": [
    "shiyuehehub['playbackperweek']=shiyuehehub['the_Playback_Amount_of_one_Episode']/shiyuehehub['Release_Week']"
   ]
  },
  {
   "cell_type": "markdown",
   "metadata": {},
   "source": [
    "*Simple Data Visualization "
   ]
  },
  {
   "cell_type": "code",
   "execution_count": 33,
   "metadata": {
    "collapsed": true
   },
   "outputs": [],
   "source": [
    "graphlab.canvas.set_target('ipynb')"
   ]
  },
  {
   "cell_type": "code",
   "execution_count": 34,
   "metadata": {
    "collapsed": false
   },
   "outputs": [
    {
     "data": {
      "application/javascript": [
       "$(\"head\").append($(\"<link/>\").attr({\n",
       "  rel:  \"stylesheet\",\n",
       "  type: \"text/css\",\n",
       "  href: \"//cdnjs.cloudflare.com/ajax/libs/font-awesome/4.1.0/css/font-awesome.min.css\"\n",
       "}));\n",
       "$(\"head\").append($(\"<link/>\").attr({\n",
       "  rel:  \"stylesheet\",\n",
       "  type: \"text/css\",\n",
       "  href: \"https://static.turi.com/products/graphlab-create/2.1/canvas/css/canvas.css\"\n",
       "}));\n",
       "\n",
       "            (function(){\n",
       "\n",
       "                var e = null;\n",
       "                if (typeof element == 'undefined') {\n",
       "                    var scripts = document.getElementsByTagName('script');\n",
       "                    var thisScriptTag = scripts[scripts.length-1];\n",
       "                    var parentDiv = thisScriptTag.parentNode;\n",
       "                    e = document.createElement('div');\n",
       "                    parentDiv.appendChild(e);\n",
       "                } else {\n",
       "                    e = element[0];\n",
       "                }\n",
       "\n",
       "                if (typeof requirejs !== 'undefined') {\n",
       "                    // disable load timeout; ipython_app.js is large and can take a while to load.\n",
       "                    requirejs.config({waitSeconds: 0});\n",
       "                }\n",
       "\n",
       "                require(['https://static.turi.com/products/graphlab-create/2.1/canvas/js/ipython_app.js'], function(IPythonApp){\n",
       "                    var app = new IPythonApp();\n",
       "                    app.attachView('sarray','Numeric', {\"ipython\": true, \"sketch\": {\"std\": 118190.09218435355, \"complete\": true, \"min\": 1433.2, \"max\": 487666.6666666667, \"quantile\": [1433.2, 1433.2, 3000.0, 3000.0, 10250.0, 10250.0, 10333.333333333334, 10600.0, 10600.0, 11000.0, 11000.0, 12400.0, 12400.0, 14571.42857142857, 16000.0, 16000.0, 18666.666666666668, 18666.666666666668, 20666.666666666668, 21000.0, 21000.0, 22000.0, 22000.0, 25200.0, 25200.0, 26000.0, 26333.333333333332, 26333.333333333332, 34000.0, 34000.0, 35200.0, 35200.0, 38666.666666666664, 39500.0, 39500.0, 44000.0, 44000.0, 46000.0, 46000.0, 46000.0, 47800.0, 47800.0, 48000.0, 48000.0, 49333.333333333336, 53000.0, 53000.0, 65000.0, 65000.0, 67000.0, 82000.0, 82000.0, 84000.0, 84000.0, 87500.0, 87500.0, 90000.0, 92600.0, 92600.0, 94000.0, 94000.0, 101000.0, 101000.0, 109000.0, 111500.0, 111500.0, 115000.0, 115000.0, 122000.0, 129000.0, 129000.0, 135000.0, 135000.0, 146000.0, 146000.0, 147000.0, 158000.0, 158000.0, 162000.0, 162000.0, 192400.0, 192400.0, 205000.0, 208000.0, 208000.0, 237000.0, 237000.0, 238000.0, 279000.0, 279000.0, 290333.3333333333, 290333.3333333333, 294333.3333333333, 294333.3333333333, 327000.0, 455000.0, 455000.0, 485500.0, 485500.0, 487666.6666666667, 487666.6666666667], \"median\": 82000.0, \"numeric\": true, \"num_unique\": 57, \"num_undefined\": 0, \"var\": 13968897890.545988, \"progress\": 1.0, \"size\": 58, \"frequent_items\": {\"35200.0\": {\"frequency\": 1, \"value\": 35200.0}, \"16000.0\": {\"frequency\": 1, \"value\": 16000.0}, \"21000.0\": {\"frequency\": 1, \"value\": 21000.0}, \"10250.0\": {\"frequency\": 1, \"value\": 10250.0}, \"111500.0\": {\"frequency\": 1, \"value\": 111500.0}, \"192400.0\": {\"frequency\": 1, \"value\": 192400.0}, \"279000.0\": {\"frequency\": 1, \"value\": 279000.0}, \"49333.333333333336\": {\"frequency\": 1, \"value\": 49333.333333333336}, \"94000.0\": {\"frequency\": 1, \"value\": 94000.0}, \"84000.0\": {\"frequency\": 1, \"value\": 84000.0}, \"238000.0\": {\"frequency\": 1, \"value\": 238000.0}, \"44000.0\": {\"frequency\": 1, \"value\": 44000.0}, \"20666.666666666668\": {\"frequency\": 1, \"value\": 20666.666666666668}, \"162000.0\": {\"frequency\": 1, \"value\": 162000.0}, \"101000.0\": {\"frequency\": 1, \"value\": 101000.0}, \"46000.0\": {\"frequency\": 2, \"value\": 46000.0}, \"53000.0\": {\"frequency\": 1, \"value\": 53000.0}, \"1433.2\": {\"frequency\": 1, \"value\": 1433.2}, \"147000.0\": {\"frequency\": 1, \"value\": 147000.0}, \"25200.0\": {\"frequency\": 1, \"value\": 25200.0}, \"22000.0\": {\"frequency\": 1, \"value\": 22000.0}, \"327000.0\": {\"frequency\": 1, \"value\": 327000.0}, \"115000.0\": {\"frequency\": 1, \"value\": 115000.0}, \"90000.0\": {\"frequency\": 1, \"value\": 90000.0}, \"109000.0\": {\"frequency\": 1, \"value\": 109000.0}, \"87500.0\": {\"frequency\": 1, \"value\": 87500.0}, \"122000.0\": {\"frequency\": 1, \"value\": 122000.0}, \"39500.0\": {\"frequency\": 1, \"value\": 39500.0}, \"294333.3333333333\": {\"frequency\": 1, \"value\": 294333.3333333333}, \"146000.0\": {\"frequency\": 1, \"value\": 146000.0}, \"67000.0\": {\"frequency\": 1, \"value\": 67000.0}, \"487666.6666666667\": {\"frequency\": 1, \"value\": 487666.6666666667}, \"26333.333333333332\": {\"frequency\": 1, \"value\": 26333.333333333332}, \"135000.0\": {\"frequency\": 1, \"value\": 135000.0}, \"82000.0\": {\"frequency\": 1, \"value\": 82000.0}, \"34000.0\": {\"frequency\": 1, \"value\": 34000.0}, \"455000.0\": {\"frequency\": 1, \"value\": 455000.0}, \"26000.0\": {\"frequency\": 1, \"value\": 26000.0}, \"48000.0\": {\"frequency\": 1, \"value\": 48000.0}, \"92600.0\": {\"frequency\": 1, \"value\": 92600.0}, \"237000.0\": {\"frequency\": 1, \"value\": 237000.0}, \"65000.0\": {\"frequency\": 1, \"value\": 65000.0}, \"485500.0\": {\"frequency\": 1, \"value\": 485500.0}, \"208000.0\": {\"frequency\": 1, \"value\": 208000.0}, \"47800.0\": {\"frequency\": 1, \"value\": 47800.0}, \"14571.42857142857\": {\"frequency\": 1, \"value\": 14571.42857142857}, \"158000.0\": {\"frequency\": 1, \"value\": 158000.0}, \"12400.0\": {\"frequency\": 1, \"value\": 12400.0}, \"10600.0\": {\"frequency\": 1, \"value\": 10600.0}, \"3000.0\": {\"frequency\": 1, \"value\": 3000.0}, \"129000.0\": {\"frequency\": 1, \"value\": 129000.0}, \"290333.3333333333\": {\"frequency\": 1, \"value\": 290333.3333333333}, \"18666.666666666668\": {\"frequency\": 1, \"value\": 18666.666666666668}, \"11000.0\": {\"frequency\": 1, \"value\": 11000.0}, \"205000.0\": {\"frequency\": 1, \"value\": 205000.0}, \"10333.333333333334\": {\"frequency\": 1, \"value\": 10333.333333333334}, \"38666.666666666664\": {\"frequency\": 1, \"value\": 38666.666666666664}}, \"mean\": 112548.06830870282}, \"selected_variable\": {\"name\": [\"<SArray>\"], \"dtype\": \"float\", \"view_component\": \"Numeric\", \"view_file\": \"sarray\", \"descriptives\": {\"rows\": 58}, \"type\": \"SArray\", \"view_components\": [\"Numeric\", \"Categorical\"]}, \"histogram\": {\"progress\": 1.0, \"histogram\": {\"max\": 488974.66666666674, \"bins\": [20, 9, 11, 6, 1, 4, 1, 2, 1, 0, 0, 3], \"min\": 526.6666666667443}, \"min\": 1433.2, \"complete\": 1, \"max\": 487666.6666666667}}, e);\n",
       "                });\n",
       "            })();\n",
       "        "
      ]
     },
     "metadata": {},
     "output_type": "display_data"
    },
    {
     "data": {
      "application/javascript": [
       "$(\"head\").append($(\"<link/>\").attr({\n",
       "  rel:  \"stylesheet\",\n",
       "  type: \"text/css\",\n",
       "  href: \"//cdnjs.cloudflare.com/ajax/libs/font-awesome/4.1.0/css/font-awesome.min.css\"\n",
       "}));\n",
       "$(\"head\").append($(\"<link/>\").attr({\n",
       "  rel:  \"stylesheet\",\n",
       "  type: \"text/css\",\n",
       "  href: \"https://static.turi.com/products/graphlab-create/2.1/canvas/css/canvas.css\"\n",
       "}));\n",
       "\n",
       "            (function(){\n",
       "\n",
       "                var e = null;\n",
       "                if (typeof element == 'undefined') {\n",
       "                    var scripts = document.getElementsByTagName('script');\n",
       "                    var thisScriptTag = scripts[scripts.length-1];\n",
       "                    var parentDiv = thisScriptTag.parentNode;\n",
       "                    e = document.createElement('div');\n",
       "                    parentDiv.appendChild(e);\n",
       "                } else {\n",
       "                    e = element[0];\n",
       "                }\n",
       "\n",
       "                if (typeof requirejs !== 'undefined') {\n",
       "                    // disable load timeout; ipython_app.js is large and can take a while to load.\n",
       "                    requirejs.config({waitSeconds: 0});\n",
       "                }\n",
       "\n",
       "                require(['https://static.turi.com/products/graphlab-create/2.1/canvas/js/ipython_app.js'], function(IPythonApp){\n",
       "                    var app = new IPythonApp();\n",
       "                    app.attachView('sarray','Numeric', {\"ipython\": true, \"sketch\": {\"std\": 178324.7399409631, \"complete\": true, \"min\": 404.0, \"max\": 1151000.0, \"quantile\": [404.0, 13400.0, 14400.0, 19750.0, 20000.0, 20600.0, 22142.85714285714, 24000.0, 24571.428571428572, 25833.333333333332, 26333.333333333332, 28666.666666666668, 30800.0, 33000.0, 34333.333333333336, 37333.333333333336, 39000.0, 41250.0, 43000.0, 46200.0, 48000.0, 51000.0, 51200.0, 52333.333333333336, 53400.0, 58800.0, 60666.666666666664, 61000.0, 64000.0, 66500.0, 71000.0, 73000.0, 76000.0, 78000.0, 80000.0, 80666.66666666667, 83000.0, 84333.33333333333, 87000.0, 89000.0, 90600.0, 94333.33333333333, 97000.0, 97000.0, 101000.0, 103500.0, 107000.0, 108000.0, 110000.0, 116000.0, 123000.0, 124500.0, 129000.0, 133000.0, 134000.0, 138400.0, 144000.0, 147000.0, 148000.0, 154000.0, 155500.0, 158000.0, 168000.0, 173000.0, 179000.0, 181000.0, 189200.0, 194000.0, 195000.0, 198000.0, 202000.0, 207000.0, 210800.0, 225000.0, 234000.0, 241500.0, 247000.0, 261000.0, 273000.0, 274000.0, 285000.0, 291000.0, 306000.0, 309000.0, 315000.0, 331000.0, 345333.3333333333, 360666.6666666667, 377000.0, 395000.0, 436000.0, 449000.0, 459000.0, 473500.0, 502000.0, 504000.0, 554000.0, 577000.0, 676000.0, 904000.0, 1151000.0], \"median\": 123000.0, \"numeric\": true, \"num_unique\": 224, \"num_undefined\": 0, \"var\": 31799712875.01212, \"progress\": 1.0, \"size\": 248, \"frequent_items\": {\"64000.0\": {\"frequency\": 1, \"value\": 64000.0}, \"192000.0\": {\"frequency\": 1, \"value\": 192000.0}, \"85000.0\": {\"frequency\": 1, \"value\": 85000.0}, \"44333.333333333336\": {\"frequency\": 1, \"value\": 44333.333333333336}, \"52750.0\": {\"frequency\": 1, \"value\": 52750.0}, \"234000.0\": {\"frequency\": 2, \"value\": 234000.0}, \"295000.0\": {\"frequency\": 1, \"value\": 295000.0}, \"26000.0\": {\"frequency\": 1, \"value\": 26000.0}, \"110000.0\": {\"frequency\": 1, \"value\": 110000.0}, \"1151000.0\": {\"frequency\": 1, \"value\": 1151000.0}, \"214600.0\": {\"frequency\": 1, \"value\": 214600.0}, \"52000.0\": {\"frequency\": 1, \"value\": 52000.0}, \"84000.0\": {\"frequency\": 1, \"value\": 84000.0}, \"14000.0\": {\"frequency\": 1, \"value\": 14000.0}, \"62500.0\": {\"frequency\": 1, \"value\": 62500.0}, \"107000.0\": {\"frequency\": 1, \"value\": 107000.0}, \"79400.0\": {\"frequency\": 1, \"value\": 79400.0}, \"19500.0\": {\"frequency\": 1, \"value\": 19500.0}, \"134000.0\": {\"frequency\": 2, \"value\": 134000.0}, \"277333.3333333333\": {\"frequency\": 1, \"value\": 277333.3333333333}, \"341000.0\": {\"frequency\": 1, \"value\": 341000.0}, \"109666.66666666667\": {\"frequency\": 1, \"value\": 109666.66666666667}, \"40500.0\": {\"frequency\": 1, \"value\": 40500.0}, \"147000.0\": {\"frequency\": 2, \"value\": 147000.0}, \"61500.0\": {\"frequency\": 1, \"value\": 61500.0}, \"14400.0\": {\"frequency\": 1, \"value\": 14400.0}, \"90600.0\": {\"frequency\": 1, \"value\": 90600.0}, \"51200.0\": {\"frequency\": 1, \"value\": 51200.0}, \"61000.0\": {\"frequency\": 1, \"value\": 61000.0}, \"101000.0\": {\"frequency\": 1, \"value\": 101000.0}, \"103500.0\": {\"frequency\": 1, \"value\": 103500.0}, \"146000.0\": {\"frequency\": 1, \"value\": 146000.0}, \"323000.0\": {\"frequency\": 1, \"value\": 323000.0}, \"124500.0\": {\"frequency\": 1, \"value\": 124500.0}, \"39000.0\": {\"frequency\": 1, \"value\": 39000.0}, \"465500.0\": {\"frequency\": 1, \"value\": 465500.0}, \"124000.0\": {\"frequency\": 1, \"value\": 124000.0}, \"189200.0\": {\"frequency\": 1, \"value\": 189200.0}, \"145000.0\": {\"frequency\": 1, \"value\": 145000.0}, \"11000.0\": {\"frequency\": 1, \"value\": 11000.0}, \"358000.0\": {\"frequency\": 1, \"value\": 358000.0}, \"273000.0\": {\"frequency\": 1, \"value\": 273000.0}, \"80500.0\": {\"frequency\": 1, \"value\": 80500.0}, \"315000.0\": {\"frequency\": 1, \"value\": 315000.0}, \"101500.0\": {\"frequency\": 1, \"value\": 101500.0}, \"144000.0\": {\"frequency\": 1, \"value\": 144000.0}, \"37000.0\": {\"frequency\": 1, \"value\": 37000.0}, \"79500.0\": {\"frequency\": 1, \"value\": 79500.0}, \"32400.0\": {\"frequency\": 1, \"value\": 32400.0}, \"89000.0\": {\"frequency\": 1, \"value\": 89000.0}, \"194200.0\": {\"frequency\": 1, \"value\": 194200.0}, \"66500.0\": {\"frequency\": 1, \"value\": 66500.0}, \"25833.333333333332\": {\"frequency\": 1, \"value\": 25833.333333333332}, \"138400.0\": {\"frequency\": 1, \"value\": 138400.0}, \"210800.0\": {\"frequency\": 1, \"value\": 210800.0}, \"377000.0\": {\"frequency\": 1, \"value\": 377000.0}, \"360666.6666666667\": {\"frequency\": 1, \"value\": 360666.6666666667}, \"345333.3333333333\": {\"frequency\": 1, \"value\": 345333.3333333333}, \"78000.0\": {\"frequency\": 1, \"value\": 78000.0}, \"196000.0\": {\"frequency\": 2, \"value\": 196000.0}, \"25166.666666666668\": {\"frequency\": 1, \"value\": 25166.666666666668}, \"448000.0\": {\"frequency\": 1, \"value\": 448000.0}, \"83000.0\": {\"frequency\": 1, \"value\": 83000.0}, \"291000.0\": {\"frequency\": 1, \"value\": 291000.0}, \"504000.0\": {\"frequency\": 1, \"value\": 504000.0}, \"20000.0\": {\"frequency\": 1, \"value\": 20000.0}, \"193000.0\": {\"frequency\": 1, \"value\": 193000.0}, \"141000.0\": {\"frequency\": 1, \"value\": 141000.0}, \"168000.0\": {\"frequency\": 1, \"value\": 168000.0}, \"39666.666666666664\": {\"frequency\": 1, \"value\": 39666.666666666664}, \"290000.0\": {\"frequency\": 1, \"value\": 290000.0}, \"20600.0\": {\"frequency\": 2, \"value\": 20600.0}, \"904000.0\": {\"frequency\": 1, \"value\": 904000.0}, \"52333.333333333336\": {\"frequency\": 1, \"value\": 52333.333333333336}, \"503000.0\": {\"frequency\": 1, \"value\": 503000.0}, \"154285.7142857143\": {\"frequency\": 1, \"value\": 154285.7142857143}, \"76000.0\": {\"frequency\": 2, \"value\": 76000.0}, \"34000.0\": {\"frequency\": 1, \"value\": 34000.0}, \"48000.0\": {\"frequency\": 3, \"value\": 48000.0}, \"92600.0\": {\"frequency\": 1, \"value\": 92600.0}, \"118500.0\": {\"frequency\": 1, \"value\": 118500.0}, \"225000.0\": {\"frequency\": 1, \"value\": 225000.0}, \"187000.0\": {\"frequency\": 1, \"value\": 187000.0}, \"306000.0\": {\"frequency\": 1, \"value\": 306000.0}, \"502000.0\": {\"frequency\": 1, \"value\": 502000.0}, \"73000.0\": {\"frequency\": 2, \"value\": 73000.0}, \"80666.66666666667\": {\"frequency\": 1, \"value\": 80666.66666666667}, \"21750.0\": {\"frequency\": 1, \"value\": 21750.0}, \"395000.0\": {\"frequency\": 1, \"value\": 395000.0}, \"172500.0\": {\"frequency\": 1, \"value\": 172500.0}, \"436000.0\": {\"frequency\": 1, \"value\": 436000.0}, \"96000.0\": {\"frequency\": 1, \"value\": 96000.0}, \"80000.0\": {\"frequency\": 1, \"value\": 80000.0}, \"114000.0\": {\"frequency\": 1, \"value\": 114000.0}, \"309000.0\": {\"frequency\": 1, \"value\": 309000.0}, \"41333.333333333336\": {\"frequency\": 1, \"value\": 41333.333333333336}, \"97000.0\": {\"frequency\": 4, \"value\": 97000.0}, \"181000.0\": {\"frequency\": 1, \"value\": 181000.0}, \"202000.0\": {\"frequency\": 1, \"value\": 202000.0}, \"55000.0\": {\"frequency\": 1, \"value\": 55000.0}, \"517000.0\": {\"frequency\": 1, \"value\": 517000.0}, \"365666.6666666667\": {\"frequency\": 1, \"value\": 365666.6666666667}, \"769000.0\": {\"frequency\": 1, \"value\": 769000.0}, \"671000.0\": {\"frequency\": 1, \"value\": 671000.0}, \"123000.0\": {\"frequency\": 1, \"value\": 123000.0}, \"207000.0\": {\"frequency\": 1, \"value\": 207000.0}, \"375000.0\": {\"frequency\": 1, \"value\": 375000.0}, \"500000.0\": {\"frequency\": 1, \"value\": 500000.0}, \"41250.0\": {\"frequency\": 1, \"value\": 41250.0}, \"65000.0\": {\"frequency\": 1, \"value\": 65000.0}, \"19750.0\": {\"frequency\": 2, \"value\": 19750.0}, \"201000.0\": {\"frequency\": 1, \"value\": 201000.0}, \"51500.0\": {\"frequency\": 1, \"value\": 51500.0}, \"158000.0\": {\"frequency\": 2, \"value\": 158000.0}, \"30600.0\": {\"frequency\": 1, \"value\": 30600.0}, \"179000.0\": {\"frequency\": 1, \"value\": 179000.0}, \"104500.0\": {\"frequency\": 1, \"value\": 104500.0}, \"33000.0\": {\"frequency\": 1, \"value\": 33000.0}, \"136000.0\": {\"frequency\": 1, \"value\": 136000.0}, \"37600.0\": {\"frequency\": 1, \"value\": 37600.0}, \"274000.0\": {\"frequency\": 2, \"value\": 274000.0}, \"340000.0\": {\"frequency\": 1, \"value\": 340000.0}, \"157000.0\": {\"frequency\": 1, \"value\": 157000.0}, \"1125000.0\": {\"frequency\": 1, \"value\": 1125000.0}, \"311000.0\": {\"frequency\": 1, \"value\": 311000.0}, \"386000.0\": {\"frequency\": 1, \"value\": 386000.0}, \"203666.66666666666\": {\"frequency\": 1, \"value\": 203666.66666666666}, \"50000.0\": {\"frequency\": 1, \"value\": 50000.0}, \"51000.0\": {\"frequency\": 2, \"value\": 51000.0}, \"94333.33333333333\": {\"frequency\": 1, \"value\": 94333.33333333333}, \"285000.0\": {\"frequency\": 1, \"value\": 285000.0}, \"71000.0\": {\"frequency\": 1, \"value\": 71000.0}, \"82000.0\": {\"frequency\": 1, \"value\": 82000.0}, \"456000.0\": {\"frequency\": 2, \"value\": 456000.0}, \"241500.0\": {\"frequency\": 1, \"value\": 241500.0}, \"107600.0\": {\"frequency\": 1, \"value\": 107600.0}, \"308000.0\": {\"frequency\": 1, \"value\": 308000.0}, \"154000.0\": {\"frequency\": 2, \"value\": 154000.0}, \"195000.0\": {\"frequency\": 1, \"value\": 195000.0}, \"615000.0\": {\"frequency\": 1, \"value\": 615000.0}, \"209000.0\": {\"frequency\": 1, \"value\": 209000.0}, \"155500.0\": {\"frequency\": 1, \"value\": 155500.0}, \"22142.85714285714\": {\"frequency\": 1, \"value\": 22142.85714285714}, \"84333.33333333333\": {\"frequency\": 1, \"value\": 84333.33333333333}, \"198000.0\": {\"frequency\": 1, \"value\": 198000.0}, \"129000.0\": {\"frequency\": 1, \"value\": 129000.0}, \"560500.0\": {\"frequency\": 1, \"value\": 560500.0}, \"528000.0\": {\"frequency\": 1, \"value\": 528000.0}, \"163000.0\": {\"frequency\": 1, \"value\": 163000.0}, \"247000.0\": {\"frequency\": 1, \"value\": 247000.0}, \"331000.0\": {\"frequency\": 1, \"value\": 331000.0}, \"240000.0\": {\"frequency\": 1, \"value\": 240000.0}, \"296000.0\": {\"frequency\": 1, \"value\": 296000.0}, \"26500.0\": {\"frequency\": 1, \"value\": 26500.0}, \"26333.333333333332\": {\"frequency\": 1, \"value\": 26333.333333333332}, \"554000.0\": {\"frequency\": 1, \"value\": 554000.0}, \"105000.0\": {\"frequency\": 1, \"value\": 105000.0}, \"133000.0\": {\"frequency\": 1, \"value\": 133000.0}, \"412333.3333333333\": {\"frequency\": 1, \"value\": 412333.3333333333}, \"244000.0\": {\"frequency\": 1, \"value\": 244000.0}, \"474000.0\": {\"frequency\": 1, \"value\": 474000.0}, \"53400.0\": {\"frequency\": 1, \"value\": 53400.0}, \"404.0\": {\"frequency\": 1, \"value\": 404.0}, \"149000.0\": {\"frequency\": 1, \"value\": 149000.0}, \"213400.0\": {\"frequency\": 1, \"value\": 213400.0}, \"473500.0\": {\"frequency\": 1, \"value\": 473500.0}, \"132000.0\": {\"frequency\": 2, \"value\": 132000.0}, \"54000.0\": {\"frequency\": 1, \"value\": 54000.0}, \"577000.0\": {\"frequency\": 1, \"value\": 577000.0}, \"409000.0\": {\"frequency\": 1, \"value\": 409000.0}, \"28333.333333333332\": {\"frequency\": 1, \"value\": 28333.333333333332}, \"20400.0\": {\"frequency\": 1, \"value\": 20400.0}, \"125000.0\": {\"frequency\": 1, \"value\": 125000.0}, \"67400.0\": {\"frequency\": 1, \"value\": 67400.0}, \"28666.666666666668\": {\"frequency\": 1, \"value\": 28666.666666666668}, \"37333.333333333336\": {\"frequency\": 1, \"value\": 37333.333333333336}, \"24571.428571428572\": {\"frequency\": 1, \"value\": 24571.428571428572}, \"259000.0\": {\"frequency\": 1, \"value\": 259000.0}, \"46200.0\": {\"frequency\": 1, \"value\": 46200.0}, \"180000.0\": {\"frequency\": 2, \"value\": 180000.0}, \"24000.0\": {\"frequency\": 1, \"value\": 24000.0}, \"676000.0\": {\"frequency\": 1, \"value\": 676000.0}, \"177000.0\": {\"frequency\": 1, \"value\": 177000.0}, \"67000.0\": {\"frequency\": 1, \"value\": 67000.0}, \"25666.666666666668\": {\"frequency\": 1, \"value\": 25666.666666666668}, \"235000.0\": {\"frequency\": 1, \"value\": 235000.0}, \"32800.0\": {\"frequency\": 1, \"value\": 32800.0}, \"173000.0\": {\"frequency\": 2, \"value\": 173000.0}, \"135500.0\": {\"frequency\": 1, \"value\": 135500.0}, \"87500.0\": {\"frequency\": 1, \"value\": 87500.0}, \"60666.666666666664\": {\"frequency\": 2, \"value\": 60666.666666666664}, \"194000.0\": {\"frequency\": 1, \"value\": 194000.0}, \"459000.0\": {\"frequency\": 1, \"value\": 459000.0}, \"261000.0\": {\"frequency\": 1, \"value\": 261000.0}, \"58800.0\": {\"frequency\": 1, \"value\": 58800.0}, \"108500.0\": {\"frequency\": 1, \"value\": 108500.0}, \"97750.0\": {\"frequency\": 1, \"value\": 97750.0}, \"148000.0\": {\"frequency\": 1, \"value\": 148000.0}, \"87000.0\": {\"frequency\": 1, \"value\": 87000.0}, \"24400.0\": {\"frequency\": 1, \"value\": 24400.0}, \"95666.66666666667\": {\"frequency\": 1, \"value\": 95666.66666666667}, \"35000.0\": {\"frequency\": 1, \"value\": 35000.0}, \"119000.0\": {\"frequency\": 1, \"value\": 119000.0}, \"203000.0\": {\"frequency\": 1, \"value\": 203000.0}, \"108000.0\": {\"frequency\": 1, \"value\": 108000.0}, \"18000.0\": {\"frequency\": 1, \"value\": 18000.0}, \"90000.0\": {\"frequency\": 2, \"value\": 90000.0}, \"22500.0\": {\"frequency\": 1, \"value\": 22500.0}, \"13400.0\": {\"frequency\": 1, \"value\": 13400.0}, \"30800.0\": {\"frequency\": 1, \"value\": 30800.0}, \"449000.0\": {\"frequency\": 1, \"value\": 449000.0}, \"313000.0\": {\"frequency\": 1, \"value\": 313000.0}, \"43500.0\": {\"frequency\": 1, \"value\": 43500.0}, \"73333.33333333333\": {\"frequency\": 1, \"value\": 73333.33333333333}, \"116000.0\": {\"frequency\": 1, \"value\": 116000.0}, \"86000.0\": {\"frequency\": 1, \"value\": 86000.0}, \"281000.0\": {\"frequency\": 1, \"value\": 281000.0}, \"59666.666666666664\": {\"frequency\": 1, \"value\": 59666.666666666664}, \"34333.333333333336\": {\"frequency\": 1, \"value\": 34333.333333333336}, \"43000.0\": {\"frequency\": 1, \"value\": 43000.0}, \"81333.33333333333\": {\"frequency\": 1, \"value\": 81333.33333333333}, \"22666.666666666668\": {\"frequency\": 1, \"value\": 22666.666666666668}, \"263000.0\": {\"frequency\": 2, \"value\": 263000.0}, \"71333.33333333333\": {\"frequency\": 1, \"value\": 71333.33333333333}}, \"mean\": 179287.78494623656}, \"selected_variable\": {\"name\": [\"<SArray>\"], \"dtype\": \"float\", \"view_component\": \"Numeric\", \"view_file\": \"sarray\", \"descriptives\": {\"rows\": 248}, \"type\": \"SArray\", \"view_components\": [\"Numeric\", \"Categorical\"]}, \"histogram\": {\"progress\": 1.0, \"histogram\": {\"max\": 1171382.608, \"bins\": [87, 74, 36, 22, 13, 8, 3, 2, 0, 1, 0, 2], \"min\": -17825.45600000024}, \"min\": 404.0, \"complete\": 1, \"max\": 1151000.0}}, e);\n",
       "                });\n",
       "            })();\n",
       "        "
      ]
     },
     "metadata": {},
     "output_type": "display_data"
    },
    {
     "data": {
      "application/javascript": [
       "$(\"head\").append($(\"<link/>\").attr({\n",
       "  rel:  \"stylesheet\",\n",
       "  type: \"text/css\",\n",
       "  href: \"//cdnjs.cloudflare.com/ajax/libs/font-awesome/4.1.0/css/font-awesome.min.css\"\n",
       "}));\n",
       "$(\"head\").append($(\"<link/>\").attr({\n",
       "  rel:  \"stylesheet\",\n",
       "  type: \"text/css\",\n",
       "  href: \"https://static.turi.com/products/graphlab-create/2.1/canvas/css/canvas.css\"\n",
       "}));\n",
       "\n",
       "            (function(){\n",
       "\n",
       "                var e = null;\n",
       "                if (typeof element == 'undefined') {\n",
       "                    var scripts = document.getElementsByTagName('script');\n",
       "                    var thisScriptTag = scripts[scripts.length-1];\n",
       "                    var parentDiv = thisScriptTag.parentNode;\n",
       "                    e = document.createElement('div');\n",
       "                    parentDiv.appendChild(e);\n",
       "                } else {\n",
       "                    e = element[0];\n",
       "                }\n",
       "\n",
       "                if (typeof requirejs !== 'undefined') {\n",
       "                    // disable load timeout; ipython_app.js is large and can take a while to load.\n",
       "                    requirejs.config({waitSeconds: 0});\n",
       "                }\n",
       "\n",
       "                require(['https://static.turi.com/products/graphlab-create/2.1/canvas/js/ipython_app.js'], function(IPythonApp){\n",
       "                    var app = new IPythonApp();\n",
       "                    app.attachView('sarray','Numeric', {\"ipython\": true, \"sketch\": {\"std\": 51.058431589554885, \"complete\": true, \"min\": 125.0, \"max\": 379.0, \"quantile\": [125.0, 125.0, 149.0, 149.0, 151.0, 151.0, 156.0, 159.0, 159.0, 165.0, 165.0, 169.0, 169.0, 170.0, 172.0, 172.0, 177.0, 177.0, 181.0, 186.0, 186.0, 193.0, 193.0, 194.0, 194.0, 194.0, 198.0, 198.0, 199.0, 199.0, 201.0, 201.0, 203.0, 203.0, 203.0, 203.0, 203.0, 204.0, 208.0, 208.0, 209.0, 209.0, 211.0, 211.0, 212.0, 213.0, 213.0, 214.0, 214.0, 216.0, 218.0, 218.0, 219.0, 219.0, 220.0, 220.0, 223.0, 229.0, 229.0, 232.0, 232.0, 233.0, 233.0, 234.0, 234.0, 234.0, 236.0, 236.0, 237.0, 237.0, 237.0, 243.0, 243.0, 246.0, 246.0, 249.0, 261.0, 261.0, 265.0, 265.0, 276.0, 276.0, 285.0, 285.0, 285.0, 287.0, 287.0, 292.0, 292.0, 292.0, 296.0, 296.0, 312.0, 312.0, 315.0, 321.0, 321.0, 340.0, 340.0, 379.0, 379.0], \"median\": 218.0, \"numeric\": true, \"num_unique\": 51, \"num_undefined\": 0, \"var\": 2606.9634363852565, \"progress\": 1.0, \"size\": 58, \"frequent_items\": {\"261\": {\"frequency\": 1, \"value\": 261}, \"321\": {\"frequency\": 1, \"value\": 321}, \"265\": {\"frequency\": 1, \"value\": 265}, \"276\": {\"frequency\": 1, \"value\": 276}, \"149\": {\"frequency\": 1, \"value\": 149}, \"151\": {\"frequency\": 1, \"value\": 151}, \"156\": {\"frequency\": 1, \"value\": 156}, \"285\": {\"frequency\": 2, \"value\": 285}, \"287\": {\"frequency\": 1, \"value\": 287}, \"292\": {\"frequency\": 2, \"value\": 292}, \"165\": {\"frequency\": 1, \"value\": 165}, \"296\": {\"frequency\": 1, \"value\": 296}, \"169\": {\"frequency\": 1, \"value\": 169}, \"170\": {\"frequency\": 1, \"value\": 170}, \"172\": {\"frequency\": 1, \"value\": 172}, \"177\": {\"frequency\": 1, \"value\": 177}, \"181\": {\"frequency\": 1, \"value\": 181}, \"312\": {\"frequency\": 1, \"value\": 312}, \"186\": {\"frequency\": 1, \"value\": 186}, \"315\": {\"frequency\": 1, \"value\": 315}, \"193\": {\"frequency\": 1, \"value\": 193}, \"194\": {\"frequency\": 2, \"value\": 194}, \"198\": {\"frequency\": 1, \"value\": 198}, \"199\": {\"frequency\": 1, \"value\": 199}, \"201\": {\"frequency\": 1, \"value\": 201}, \"203\": {\"frequency\": 3, \"value\": 203}, \"204\": {\"frequency\": 1, \"value\": 204}, \"208\": {\"frequency\": 1, \"value\": 208}, \"209\": {\"frequency\": 1, \"value\": 209}, \"211\": {\"frequency\": 1, \"value\": 211}, \"340\": {\"frequency\": 1, \"value\": 340}, \"213\": {\"frequency\": 1, \"value\": 213}, \"214\": {\"frequency\": 1, \"value\": 214}, \"216\": {\"frequency\": 1, \"value\": 216}, \"218\": {\"frequency\": 1, \"value\": 218}, \"219\": {\"frequency\": 1, \"value\": 219}, \"220\": {\"frequency\": 1, \"value\": 220}, \"159\": {\"frequency\": 1, \"value\": 159}, \"223\": {\"frequency\": 1, \"value\": 223}, \"212\": {\"frequency\": 1, \"value\": 212}, \"229\": {\"frequency\": 1, \"value\": 229}, \"232\": {\"frequency\": 1, \"value\": 232}, \"233\": {\"frequency\": 1, \"value\": 233}, \"234\": {\"frequency\": 2, \"value\": 234}, \"236\": {\"frequency\": 1, \"value\": 236}, \"237\": {\"frequency\": 2, \"value\": 237}, \"243\": {\"frequency\": 1, \"value\": 243}, \"246\": {\"frequency\": 1, \"value\": 246}, \"249\": {\"frequency\": 1, \"value\": 249}, \"379\": {\"frequency\": 1, \"value\": 379}, \"125\": {\"frequency\": 1, \"value\": 125}}, \"mean\": 226.3965517241379}, \"selected_variable\": {\"name\": [\"<SArray>\"], \"dtype\": \"int\", \"view_component\": \"Numeric\", \"view_file\": \"sarray\", \"descriptives\": {\"rows\": 58}, \"type\": \"SArray\", \"view_components\": [\"Numeric\", \"Categorical\"]}, \"histogram\": {\"progress\": 1.0, \"histogram\": {\"max\": 381.53999999999996, \"bins\": [1, 5, 6, 12, 10, 10, 2, 6, 3, 1, 1, 1], \"min\": 123.49200000000002}, \"min\": 125, \"complete\": 1, \"max\": 379}}, e);\n",
       "                });\n",
       "            })();\n",
       "        "
      ]
     },
     "metadata": {},
     "output_type": "display_data"
    },
    {
     "data": {
      "application/javascript": [
       "$(\"head\").append($(\"<link/>\").attr({\n",
       "  rel:  \"stylesheet\",\n",
       "  type: \"text/css\",\n",
       "  href: \"//cdnjs.cloudflare.com/ajax/libs/font-awesome/4.1.0/css/font-awesome.min.css\"\n",
       "}));\n",
       "$(\"head\").append($(\"<link/>\").attr({\n",
       "  rel:  \"stylesheet\",\n",
       "  type: \"text/css\",\n",
       "  href: \"https://static.turi.com/products/graphlab-create/2.1/canvas/css/canvas.css\"\n",
       "}));\n",
       "\n",
       "            (function(){\n",
       "\n",
       "                var e = null;\n",
       "                if (typeof element == 'undefined') {\n",
       "                    var scripts = document.getElementsByTagName('script');\n",
       "                    var thisScriptTag = scripts[scripts.length-1];\n",
       "                    var parentDiv = thisScriptTag.parentNode;\n",
       "                    e = document.createElement('div');\n",
       "                    parentDiv.appendChild(e);\n",
       "                } else {\n",
       "                    e = element[0];\n",
       "                }\n",
       "\n",
       "                if (typeof requirejs !== 'undefined') {\n",
       "                    // disable load timeout; ipython_app.js is large and can take a while to load.\n",
       "                    requirejs.config({waitSeconds: 0});\n",
       "                }\n",
       "\n",
       "                require(['https://static.turi.com/products/graphlab-create/2.1/canvas/js/ipython_app.js'], function(IPythonApp){\n",
       "                    var app = new IPythonApp();\n",
       "                    app.attachView('sarray','Numeric', {\"ipython\": true, \"sketch\": {\"std\": 49.75450659104788, \"complete\": true, \"min\": 93.0, \"max\": 347.0, \"quantile\": [93.0, 100.0, 109.0, 116.0, 127.0, 133.0, 141.0, 150.0, 153.0, 160.0, 161.0, 166.0, 168.0, 170.0, 172.0, 175.0, 175.0, 179.0, 181.0, 182.0, 182.0, 184.0, 184.0, 186.0, 187.0, 187.0, 187.0, 188.0, 190.0, 191.0, 192.0, 194.0, 194.0, 195.0, 196.0, 197.0, 198.0, 200.0, 203.0, 204.0, 205.0, 206.0, 208.0, 209.0, 212.0, 214.0, 215.0, 217.0, 219.0, 219.0, 220.0, 221.0, 221.0, 224.0, 224.0, 226.0, 227.0, 229.0, 230.0, 232.0, 232.0, 233.0, 234.0, 236.0, 238.0, 239.0, 241.0, 244.0, 245.0, 247.0, 247.0, 249.0, 249.0, 253.0, 255.0, 255.0, 257.0, 258.0, 260.0, 262.0, 266.0, 267.0, 270.0, 271.0, 272.0, 273.0, 276.0, 276.0, 278.0, 280.0, 284.0, 289.0, 291.0, 293.0, 299.0, 304.0, 311.0, 315.0, 330.0, 333.0, 347.0], \"median\": 220.0, \"numeric\": true, \"num_unique\": 142, \"num_undefined\": 0, \"var\": 2475.5109261186267, \"progress\": 1.0, \"size\": 248, \"frequent_items\": {\"93\": {\"frequency\": 1, \"value\": 93}, \"96\": {\"frequency\": 1, \"value\": 96}, \"100\": {\"frequency\": 2, \"value\": 100}, \"109\": {\"frequency\": 1, \"value\": 109}, \"111\": {\"frequency\": 1, \"value\": 111}, \"115\": {\"frequency\": 1, \"value\": 115}, \"116\": {\"frequency\": 1, \"value\": 116}, \"124\": {\"frequency\": 1, \"value\": 124}, \"127\": {\"frequency\": 1, \"value\": 127}, \"130\": {\"frequency\": 1, \"value\": 130}, \"131\": {\"frequency\": 1, \"value\": 131}, \"133\": {\"frequency\": 1, \"value\": 133}, \"141\": {\"frequency\": 2, \"value\": 141}, \"145\": {\"frequency\": 1, \"value\": 145}, \"146\": {\"frequency\": 1, \"value\": 146}, \"150\": {\"frequency\": 1, \"value\": 150}, \"151\": {\"frequency\": 1, \"value\": 151}, \"153\": {\"frequency\": 1, \"value\": 153}, \"157\": {\"frequency\": 1, \"value\": 157}, \"160\": {\"frequency\": 2, \"value\": 160}, \"161\": {\"frequency\": 3, \"value\": 161}, \"163\": {\"frequency\": 1, \"value\": 163}, \"166\": {\"frequency\": 1, \"value\": 166}, \"168\": {\"frequency\": 2, \"value\": 168}, \"169\": {\"frequency\": 1, \"value\": 169}, \"170\": {\"frequency\": 2, \"value\": 170}, \"171\": {\"frequency\": 1, \"value\": 171}, \"172\": {\"frequency\": 1, \"value\": 172}, \"173\": {\"frequency\": 2, \"value\": 173}, \"175\": {\"frequency\": 3, \"value\": 175}, \"176\": {\"frequency\": 1, \"value\": 176}, \"177\": {\"frequency\": 1, \"value\": 177}, \"179\": {\"frequency\": 2, \"value\": 179}, \"181\": {\"frequency\": 2, \"value\": 181}, \"182\": {\"frequency\": 4, \"value\": 182}, \"183\": {\"frequency\": 1, \"value\": 183}, \"184\": {\"frequency\": 4, \"value\": 184}, \"185\": {\"frequency\": 2, \"value\": 185}, \"186\": {\"frequency\": 2, \"value\": 186}, \"187\": {\"frequency\": 6, \"value\": 187}, \"188\": {\"frequency\": 2, \"value\": 188}, \"189\": {\"frequency\": 1, \"value\": 189}, \"190\": {\"frequency\": 2, \"value\": 190}, \"191\": {\"frequency\": 3, \"value\": 191}, \"192\": {\"frequency\": 3, \"value\": 192}, \"194\": {\"frequency\": 4, \"value\": 194}, \"195\": {\"frequency\": 2, \"value\": 195}, \"196\": {\"frequency\": 4, \"value\": 196}, \"197\": {\"frequency\": 2, \"value\": 197}, \"198\": {\"frequency\": 2, \"value\": 198}, \"199\": {\"frequency\": 1, \"value\": 199}, \"200\": {\"frequency\": 2, \"value\": 200}, \"202\": {\"frequency\": 1, \"value\": 202}, \"203\": {\"frequency\": 2, \"value\": 203}, \"204\": {\"frequency\": 2, \"value\": 204}, \"205\": {\"frequency\": 2, \"value\": 205}, \"206\": {\"frequency\": 3, \"value\": 206}, \"207\": {\"frequency\": 1, \"value\": 207}, \"208\": {\"frequency\": 2, \"value\": 208}, \"209\": {\"frequency\": 1, \"value\": 209}, \"210\": {\"frequency\": 1, \"value\": 210}, \"211\": {\"frequency\": 1, \"value\": 211}, \"212\": {\"frequency\": 1, \"value\": 212}, \"213\": {\"frequency\": 1, \"value\": 213}, \"214\": {\"frequency\": 3, \"value\": 214}, \"215\": {\"frequency\": 1, \"value\": 215}, \"216\": {\"frequency\": 1, \"value\": 216}, \"217\": {\"frequency\": 1, \"value\": 217}, \"218\": {\"frequency\": 2, \"value\": 218}, \"219\": {\"frequency\": 3, \"value\": 219}, \"220\": {\"frequency\": 3, \"value\": 220}, \"221\": {\"frequency\": 4, \"value\": 221}, \"222\": {\"frequency\": 1, \"value\": 222}, \"223\": {\"frequency\": 1, \"value\": 223}, \"224\": {\"frequency\": 3, \"value\": 224}, \"225\": {\"frequency\": 2, \"value\": 225}, \"226\": {\"frequency\": 1, \"value\": 226}, \"227\": {\"frequency\": 4, \"value\": 227}, \"229\": {\"frequency\": 2, \"value\": 229}, \"230\": {\"frequency\": 1, \"value\": 230}, \"232\": {\"frequency\": 6, \"value\": 232}, \"233\": {\"frequency\": 3, \"value\": 233}, \"234\": {\"frequency\": 2, \"value\": 234}, \"235\": {\"frequency\": 1, \"value\": 235}, \"236\": {\"frequency\": 2, \"value\": 236}, \"238\": {\"frequency\": 3, \"value\": 238}, \"239\": {\"frequency\": 1, \"value\": 239}, \"240\": {\"frequency\": 1, \"value\": 240}, \"241\": {\"frequency\": 1, \"value\": 241}, \"243\": {\"frequency\": 1, \"value\": 243}, \"244\": {\"frequency\": 3, \"value\": 244}, \"245\": {\"frequency\": 2, \"value\": 245}, \"246\": {\"frequency\": 1, \"value\": 246}, \"247\": {\"frequency\": 3, \"value\": 247}, \"248\": {\"frequency\": 1, \"value\": 248}, \"249\": {\"frequency\": 4, \"value\": 249}, \"251\": {\"frequency\": 2, \"value\": 251}, \"253\": {\"frequency\": 2, \"value\": 253}, \"255\": {\"frequency\": 4, \"value\": 255}, \"257\": {\"frequency\": 2, \"value\": 257}, \"258\": {\"frequency\": 3, \"value\": 258}, \"259\": {\"frequency\": 1, \"value\": 259}, \"260\": {\"frequency\": 1, \"value\": 260}, \"261\": {\"frequency\": 1, \"value\": 261}, \"262\": {\"frequency\": 1, \"value\": 262}, \"263\": {\"frequency\": 1, \"value\": 263}, \"264\": {\"frequency\": 1, \"value\": 264}, \"266\": {\"frequency\": 1, \"value\": 266}, \"267\": {\"frequency\": 2, \"value\": 267}, \"268\": {\"frequency\": 1, \"value\": 268}, \"269\": {\"frequency\": 1, \"value\": 269}, \"270\": {\"frequency\": 2, \"value\": 270}, \"271\": {\"frequency\": 3, \"value\": 271}, \"272\": {\"frequency\": 2, \"value\": 272}, \"273\": {\"frequency\": 2, \"value\": 273}, \"276\": {\"frequency\": 4, \"value\": 276}, \"277\": {\"frequency\": 1, \"value\": 277}, \"278\": {\"frequency\": 3, \"value\": 278}, \"280\": {\"frequency\": 2, \"value\": 280}, \"282\": {\"frequency\": 1, \"value\": 282}, \"284\": {\"frequency\": 1, \"value\": 284}, \"285\": {\"frequency\": 1, \"value\": 285}, \"289\": {\"frequency\": 1, \"value\": 289}, \"290\": {\"frequency\": 1, \"value\": 290}, \"291\": {\"frequency\": 2, \"value\": 291}, \"292\": {\"frequency\": 1, \"value\": 292}, \"293\": {\"frequency\": 1, \"value\": 293}, \"296\": {\"frequency\": 1, \"value\": 296}, \"299\": {\"frequency\": 2, \"value\": 299}, \"302\": {\"frequency\": 1, \"value\": 302}, \"304\": {\"frequency\": 1, \"value\": 304}, \"305\": {\"frequency\": 1, \"value\": 305}, \"307\": {\"frequency\": 1, \"value\": 307}, \"311\": {\"frequency\": 1, \"value\": 311}, \"313\": {\"frequency\": 1, \"value\": 313}, \"315\": {\"frequency\": 1, \"value\": 315}, \"317\": {\"frequency\": 1, \"value\": 317}, \"330\": {\"frequency\": 2, \"value\": 330}, \"332\": {\"frequency\": 1, \"value\": 332}, \"333\": {\"frequency\": 1, \"value\": 333}, \"344\": {\"frequency\": 1, \"value\": 344}, \"347\": {\"frequency\": 1, \"value\": 347}}, \"mean\": 220.6935483870968}, \"selected_variable\": {\"name\": [\"<SArray>\"], \"dtype\": \"int\", \"view_component\": \"Numeric\", \"view_file\": \"sarray\", \"descriptives\": {\"rows\": 248}, \"type\": \"SArray\", \"view_components\": [\"Numeric\", \"Categorical\"]}, \"histogram\": {\"progress\": 1.0, \"histogram\": {\"max\": 347.412, \"bins\": [6, 7, 7, 22, 48, 35, 39, 32, 27, 13, 6, 6], \"min\": 92.82000000000001}, \"min\": 93, \"complete\": 1, \"max\": 347}}, e);\n",
       "                });\n",
       "            })();\n",
       "        "
      ]
     },
     "metadata": {},
     "output_type": "display_data"
    },
    {
     "data": {
      "application/javascript": [
       "$(\"head\").append($(\"<link/>\").attr({\n",
       "  rel:  \"stylesheet\",\n",
       "  type: \"text/css\",\n",
       "  href: \"//cdnjs.cloudflare.com/ajax/libs/font-awesome/4.1.0/css/font-awesome.min.css\"\n",
       "}));\n",
       "$(\"head\").append($(\"<link/>\").attr({\n",
       "  rel:  \"stylesheet\",\n",
       "  type: \"text/css\",\n",
       "  href: \"https://static.turi.com/products/graphlab-create/2.1/canvas/css/canvas.css\"\n",
       "}));\n",
       "\n",
       "            (function(){\n",
       "\n",
       "                var e = null;\n",
       "                if (typeof element == 'undefined') {\n",
       "                    var scripts = document.getElementsByTagName('script');\n",
       "                    var thisScriptTag = scripts[scripts.length-1];\n",
       "                    var parentDiv = thisScriptTag.parentNode;\n",
       "                    e = document.createElement('div');\n",
       "                    parentDiv.appendChild(e);\n",
       "                } else {\n",
       "                    e = element[0];\n",
       "                }\n",
       "\n",
       "                if (typeof requirejs !== 'undefined') {\n",
       "                    // disable load timeout; ipython_app.js is large and can take a while to load.\n",
       "                    requirejs.config({waitSeconds: 0});\n",
       "                }\n",
       "\n",
       "                require(['https://static.turi.com/products/graphlab-create/2.1/canvas/js/ipython_app.js'], function(IPythonApp){\n",
       "                    var app = new IPythonApp();\n",
       "                    app.attachView('sarray','Numeric', {\"ipython\": true, \"sketch\": {\"std\": 3.463243378220703, \"complete\": true, \"min\": 21.0, \"max\": 36.0, \"quantile\": [21.0, 21.0, 21.0, 21.0, 21.0, 21.0, 22.0, 22.0, 22.0, 22.0, 22.0, 22.0, 22.0, 23.0, 23.0, 23.0, 23.0, 23.0, 23.0, 23.0, 23.0, 24.0, 24.0, 24.0, 24.0, 24.0, 24.0, 24.0, 24.0, 24.0, 24.0, 24.0, 25.0, 25.0, 25.0, 25.0, 25.0, 25.0, 25.0, 25.0, 25.0, 25.0, 26.0, 26.0, 26.0, 26.0, 26.0, 26.0, 26.0, 26.0, 26.0, 26.0, 26.0, 26.0, 27.0, 27.0, 27.0, 27.0, 27.0, 27.0, 27.0, 27.0, 27.0, 27.0, 28.0, 28.0, 28.0, 28.0, 29.0, 29.0, 29.0, 29.0, 29.0, 29.0, 29.0, 29.0, 30.0, 30.0, 30.0, 30.0, 30.0, 30.0, 30.0, 30.0, 30.0, 30.0, 30.0, 31.0, 31.0, 31.0, 31.0, 31.0, 31.0, 31.0, 32.0, 33.0, 33.0, 34.0, 34.0, 36.0, 36.0], \"median\": 26.0, \"numeric\": true, \"num_unique\": 15, \"num_undefined\": 0, \"var\": 11.994054696789547, \"progress\": 1.0, \"size\": 58, \"frequent_items\": {\"32\": {\"frequency\": 1, \"value\": 32}, \"33\": {\"frequency\": 1, \"value\": 33}, \"34\": {\"frequency\": 1, \"value\": 34}, \"36\": {\"frequency\": 1, \"value\": 36}, \"21\": {\"frequency\": 3, \"value\": 21}, \"22\": {\"frequency\": 4, \"value\": 22}, \"23\": {\"frequency\": 5, \"value\": 23}, \"24\": {\"frequency\": 6, \"value\": 24}, \"25\": {\"frequency\": 6, \"value\": 25}, \"26\": {\"frequency\": 7, \"value\": 26}, \"27\": {\"frequency\": 6, \"value\": 27}, \"28\": {\"frequency\": 2, \"value\": 28}, \"29\": {\"frequency\": 5, \"value\": 29}, \"30\": {\"frequency\": 6, \"value\": 30}, \"31\": {\"frequency\": 4, \"value\": 31}}, \"mean\": 26.620689655172416}, \"selected_variable\": {\"name\": [\"<SArray>\"], \"dtype\": \"int\", \"view_component\": \"Numeric\", \"view_file\": \"sarray\", \"descriptives\": {\"rows\": 58}, \"type\": \"SArray\", \"view_components\": [\"Numeric\", \"Categorical\"]}, \"histogram\": {\"progress\": 1.0, \"histogram\": {\"max\": 36.192, \"bins\": [7, 5, 6, 6, 13, 2, 5, 10, 1, 1, 1, 1], \"min\": 20.832}, \"min\": 21, \"complete\": 1, \"max\": 36}}, e);\n",
       "                });\n",
       "            })();\n",
       "        "
      ]
     },
     "metadata": {},
     "output_type": "display_data"
    },
    {
     "data": {
      "application/javascript": [
       "$(\"head\").append($(\"<link/>\").attr({\n",
       "  rel:  \"stylesheet\",\n",
       "  type: \"text/css\",\n",
       "  href: \"//cdnjs.cloudflare.com/ajax/libs/font-awesome/4.1.0/css/font-awesome.min.css\"\n",
       "}));\n",
       "$(\"head\").append($(\"<link/>\").attr({\n",
       "  rel:  \"stylesheet\",\n",
       "  type: \"text/css\",\n",
       "  href: \"https://static.turi.com/products/graphlab-create/2.1/canvas/css/canvas.css\"\n",
       "}));\n",
       "\n",
       "            (function(){\n",
       "\n",
       "                var e = null;\n",
       "                if (typeof element == 'undefined') {\n",
       "                    var scripts = document.getElementsByTagName('script');\n",
       "                    var thisScriptTag = scripts[scripts.length-1];\n",
       "                    var parentDiv = thisScriptTag.parentNode;\n",
       "                    e = document.createElement('div');\n",
       "                    parentDiv.appendChild(e);\n",
       "                } else {\n",
       "                    e = element[0];\n",
       "                }\n",
       "\n",
       "                if (typeof requirejs !== 'undefined') {\n",
       "                    // disable load timeout; ipython_app.js is large and can take a while to load.\n",
       "                    requirejs.config({waitSeconds: 0});\n",
       "                }\n",
       "\n",
       "                require(['https://static.turi.com/products/graphlab-create/2.1/canvas/js/ipython_app.js'], function(IPythonApp){\n",
       "                    var app = new IPythonApp();\n",
       "                    app.attachView('sarray','Numeric', {\"ipython\": true, \"sketch\": {\"std\": 4.003833279661076, \"complete\": true, \"min\": 21.0, \"max\": 40.0, \"quantile\": [21.0, 21.0, 21.0, 22.0, 22.0, 22.0, 22.0, 23.0, 23.0, 23.0, 23.0, 23.0, 23.0, 24.0, 24.0, 24.0, 24.0, 24.0, 24.0, 24.0, 24.0, 25.0, 25.0, 25.0, 25.0, 25.0, 25.0, 25.0, 26.0, 26.0, 26.0, 26.0, 26.0, 27.0, 27.0, 27.0, 27.0, 27.0, 27.0, 27.0, 28.0, 28.0, 28.0, 28.0, 28.0, 28.0, 29.0, 29.0, 29.0, 29.0, 29.0, 29.0, 29.0, 29.0, 29.0, 30.0, 30.0, 30.0, 30.0, 30.0, 30.0, 30.0, 30.0, 30.0, 31.0, 31.0, 31.0, 31.0, 31.0, 31.0, 31.0, 31.0, 31.0, 31.0, 31.0, 32.0, 32.0, 32.0, 32.0, 32.0, 33.0, 33.0, 33.0, 33.0, 33.0, 33.0, 33.0, 34.0, 34.0, 34.0, 34.0, 34.0, 34.0, 34.0, 35.0, 35.0, 35.0, 35.0, 35.0, 36.0, 40.0], \"median\": 29.0, \"numeric\": true, \"num_unique\": 17, \"num_undefined\": 0, \"var\": 16.030680931321566, \"progress\": 1.0, \"size\": 248, \"frequent_items\": {\"32\": {\"frequency\": 12, \"value\": 32}, \"33\": {\"frequency\": 16, \"value\": 33}, \"34\": {\"frequency\": 19, \"value\": 34}, \"35\": {\"frequency\": 11, \"value\": 35}, \"36\": {\"frequency\": 3, \"value\": 36}, \"40\": {\"frequency\": 1, \"value\": 40}, \"21\": {\"frequency\": 5, \"value\": 21}, \"22\": {\"frequency\": 11, \"value\": 22}, \"23\": {\"frequency\": 16, \"value\": 23}, \"24\": {\"frequency\": 18, \"value\": 24}, \"25\": {\"frequency\": 18, \"value\": 25}, \"26\": {\"frequency\": 12, \"value\": 26}, \"27\": {\"frequency\": 18, \"value\": 27}, \"28\": {\"frequency\": 16, \"value\": 28}, \"29\": {\"frequency\": 22, \"value\": 29}, \"30\": {\"frequency\": 21, \"value\": 30}, \"31\": {\"frequency\": 29, \"value\": 31}}, \"mean\": 28.633064516129032}, \"selected_variable\": {\"name\": [\"<SArray>\"], \"dtype\": \"int\", \"view_component\": \"Numeric\", \"view_file\": \"sarray\", \"descriptives\": {\"rows\": 248}, \"type\": \"SArray\", \"view_components\": [\"Numeric\", \"Categorical\"]}, \"histogram\": {\"progress\": 1.0, \"histogram\": {\"max\": 40.324, \"bins\": [16, 34, 18, 30, 16, 43, 41, 16, 30, 3, 0, 1], \"min\": 20.740000000000002}, \"min\": 21, \"complete\": 1, \"max\": 40}}, e);\n",
       "                });\n",
       "            })();\n",
       "        "
      ]
     },
     "metadata": {},
     "output_type": "display_data"
    }
   ],
   "source": [
    "shiyuehehua['playbackperweek'].show()\n",
    "shiyuehehub['playbackperweek'].show()\n",
    "shiyuehehua['the_Length_of_one_Episode'].show()\n",
    "shiyuehehub['the_Length_of_one_Episode'].show()\n",
    "shiyuehehua['Words_of_the_Title'].show()\n",
    "shiyuehehub['Words_of_the_Title'].show()"
   ]
  },
  {
   "cell_type": "markdown",
   "metadata": {},
   "source": [
    "# 1.Variable(Feature)= the_Length_of_one_Episode"
   ]
  },
  {
   "cell_type": "code",
   "execution_count": null,
   "metadata": {
    "collapsed": false
   },
   "outputs": [],
   "source": []
  },
  {
   "cell_type": "markdown",
   "metadata": {},
   "source": [
    "# 1).simple linear regression models"
   ]
  },
  {
   "cell_type": "markdown",
   "metadata": {},
   "source": [
    "In this part, we fit simple linear regression models by the first dataset (Tencent 'Shi Yue He Hu B')in order to explore the relationship between the dependent variables(playback per week) and independent variable(exp:Words_of_the_Title,the_Length_of_one_Episode). And test the erros in the second dataset (Tencent 'Shi Yue He Hu A')."
   ]
  },
  {
   "cell_type": "code",
   "execution_count": 35,
   "metadata": {
    "collapsed": false
   },
   "outputs": [],
   "source": [
    "slrm_1=graphlab.linear_regression.create(shiyuehehub,target='playbackperweek',features=['the_Length_of_one_Episode'],validation_set=shiyuehehub,verbose=False)"
   ]
  },
  {
   "cell_type": "code",
   "execution_count": 36,
   "metadata": {
    "collapsed": false
   },
   "outputs": [
    {
     "data": {
      "text/plain": [
       "<bound method LinearRegression.summary of Class                          : LinearRegression\n",
       "\n",
       "Schema\n",
       "------\n",
       "Number of coefficients         : 2\n",
       "Number of examples             : 248\n",
       "Number of feature columns      : 1\n",
       "Number of unpacked features    : 1\n",
       "\n",
       "Hyperparameters\n",
       "---------------\n",
       "L1 penalty                     : 0.0\n",
       "L2 penalty                     : 0.01\n",
       "\n",
       "Training Summary\n",
       "----------------\n",
       "Solver                         : newton\n",
       "Solver iterations              : 1\n",
       "Solver status                  : SUCCESS: Optimal solution found.\n",
       "Training time (sec)            : 1.0793\n",
       "\n",
       "Settings\n",
       "--------\n",
       "Residual sum of squares        : 7.85498975406e+12\n",
       "Training RMSE                  : 177970.0699\n",
       "\n",
       "Highest Positive Coefficients\n",
       "-----------------------------\n",
       "(intercept)                    : 129466.7915\n",
       "the_Length_of_one_Episode      : 225.7474\n",
       "\n",
       "Lowest Negative Coefficients\n",
       "----------------------------\n",
       "No Negative Coefficients       : \n",
       ">"
      ]
     },
     "execution_count": 36,
     "metadata": {},
     "output_type": "execute_result"
    }
   ],
   "source": [
    "slrm_1.summary"
   ]
  },
  {
   "cell_type": "code",
   "execution_count": 37,
   "metadata": {
    "collapsed": true
   },
   "outputs": [],
   "source": [
    "import matplotlib.pyplot as plt\n",
    "%matplotlib inline"
   ]
  },
  {
   "cell_type": "code",
   "execution_count": 38,
   "metadata": {
    "collapsed": false
   },
   "outputs": [
    {
     "data": {
      "text/plain": [
       "[<matplotlib.lines.Line2D at 0x122dc11d0>,\n",
       " <matplotlib.lines.Line2D at 0x122dc1290>]"
      ]
     },
     "execution_count": 38,
     "metadata": {},
     "output_type": "execute_result"
    },
    {
     "data": {
      "image/png": "[encoded data removed]",
      "text/plain": [
       "<matplotlib.figure.Figure at 0x122c65fd0>"
      ]
     },
     "metadata": {},
     "output_type": "display_data"
    }
   ],
   "source": [
    "plt.plot(shiyuehehub['the_Length_of_one_Episode'],shiyuehehub['playbackperweek'],'.',\n",
    "        shiyuehehub['the_Length_of_one_Episode'], slrm_1.predict(shiyuehehub),'-')"
   ]
  },
  {
   "cell_type": "markdown",
   "metadata": {},
   "source": [
    "# 2) Higher degree model"
   ]
  },
  {
   "cell_type": "code",
   "execution_count": 39,
   "metadata": {
    "collapsed": true
   },
   "outputs": [],
   "source": [
    "def polynomial_sframe(feature, degree):\n",
    "    poly_sframe = graphlab.SFrame()\n",
    "    poly_sframe['power_1']= feature\n",
    "    if degree > 1:\n",
    "        for power in range(2, degree+1): \n",
    "            name = 'power_' + str(power)\n",
    "            poly_sframe[name]=feature.apply(lambda x: x**power)\n",
    "    return poly_sframe"
   ]
  },
  {
   "cell_type": "code",
   "execution_count": 40,
   "metadata": {
    "collapsed": false
   },
   "outputs": [
    {
     "data": {
      "text/html": [
       "<pre>Less than 4 successfully started. Using only 1 workers.</pre>"
      ],
      "text/plain": [
       "Less than 4 successfully started. Using only 1 workers."
      ]
     },
     "metadata": {},
     "output_type": "display_data"
    },
    {
     "data": {
      "text/html": [
       "<pre>All operations will proceed as normal, but lambda operations will not be able to use all available cores.</pre>"
      ],
      "text/plain": [
       "All operations will proceed as normal, but lambda operations will not be able to use all available cores."
      ]
     },
     "metadata": {},
     "output_type": "display_data"
    },
    {
     "data": {
      "text/html": [
       "<pre>(The location of the log file is printed at the start of the GraphLab server).</pre>"
      ],
      "text/plain": [
       "(The location of the log file is printed at the start of the GraphLab server)."
      ]
     },
     "metadata": {},
     "output_type": "display_data"
    }
   ],
   "source": [
    "polydata1=polynomial_sframe(shiyuehehub['the_Length_of_one_Episode'],3)\n",
    "my_features1 = polydata1.column_names()\n",
    "polydata1['playbackperweek'] = shiyuehehub['playbackperweek']"
   ]
  },
  {
   "cell_type": "code",
   "execution_count": 41,
   "metadata": {
    "collapsed": false
   },
   "outputs": [],
   "source": [
    "polymodel3=graphlab.linear_regression.create(polydata1,target='playbackperweek',features=my_features1,verbose=False)"
   ]
  },
  {
   "cell_type": "code",
   "execution_count": null,
   "metadata": {
    "collapsed": false
   },
   "outputs": [],
   "source": []
  },
  {
   "cell_type": "code",
   "execution_count": 42,
   "metadata": {
    "collapsed": false
   },
   "outputs": [
    {
     "data": {
      "text/plain": [
       "<bound method LinearRegression.summary of Class                          : LinearRegression\n",
       "\n",
       "Schema\n",
       "------\n",
       "Number of coefficients         : 4\n",
       "Number of examples             : 235\n",
       "Number of feature columns      : 3\n",
       "Number of unpacked features    : 3\n",
       "\n",
       "Hyperparameters\n",
       "---------------\n",
       "L1 penalty                     : 0.0\n",
       "L2 penalty                     : 0.01\n",
       "\n",
       "Training Summary\n",
       "----------------\n",
       "Solver                         : newton\n",
       "Solver iterations              : 1\n",
       "Solver status                  : SUCCESS: Optimal solution found.\n",
       "Training time (sec)            : 0.0013\n",
       "\n",
       "Settings\n",
       "--------\n",
       "Residual sum of squares        : 7.31134484751e+12\n",
       "Training RMSE                  : 176386.2402\n",
       "\n",
       "Highest Positive Coefficients\n",
       "-----------------------------\n",
       "(intercept)                    : 360855.2479\n",
       "power_2                        : 2.8478\n",
       "power_3                        : 0.0044\n",
       "\n",
       "Lowest Negative Coefficients\n",
       "----------------------------\n",
       "power_1                        : -1739.5895\n",
       ">"
      ]
     },
     "execution_count": 42,
     "metadata": {},
     "output_type": "execute_result"
    },
    {
     "data": {
      "image/png": "[encoded data removed]",
      "text/plain": [
       "<matplotlib.figure.Figure at 0x124fd5210>"
      ]
     },
     "metadata": {},
     "output_type": "display_data"
    }
   ],
   "source": [
    "plt.plot(polydata1['power_1'],polydata1['playbackperweek'],'.',\n",
    "        polydata1['power_1'], polymodel3.predict(polydata1),'+')\n",
    "polymodel3.summary"
   ]
  },
  {
   "cell_type": "markdown",
   "metadata": {},
   "source": [
    "# 3) Split the database by amount of playback and focus on two parts of the data"
   ]
  },
  {
   "cell_type": "code",
   "execution_count": 46,
   "metadata": {
    "collapsed": false
   },
   "outputs": [
    {
     "data": {
      "text/html": [
       "<pre>Finished parsing file /Volumes/SILVA/shiyuehehuB_low-Tencent.csv</pre>"
      ],
      "text/plain": [
       "Finished parsing file /Volumes/SILVA/shiyuehehuB_low-Tencent.csv"
      ]
     },
     "metadata": {},
     "output_type": "display_data"
    },
    {
     "data": {
      "text/html": [
       "<pre>Parsing completed. Parsed 100 lines in 0.616842 secs.</pre>"
      ],
      "text/plain": [
       "Parsing completed. Parsed 100 lines in 0.616842 secs."
      ]
     },
     "metadata": {},
     "output_type": "display_data"
    },
    {
     "name": "stdout",
     "output_type": "stream",
     "text": [
      "------------------------------------------------------\n",
      "Inferred types from first 100 line(s) of file as \n",
      "column_type_hints=[int,str,int,int,int,int,int,int,str,str]\n",
      "If parsing fails due to incorrect types, you can correct\n",
      "the inferred type list above and pass it to read_csv in\n",
      "the column_type_hints argument\n",
      "------------------------------------------------------\n"
     ]
    },
    {
     "data": {
      "text/html": [
       "<pre>Finished parsing file /Volumes/SILVA/shiyuehehuB_low-Tencent.csv</pre>"
      ],
      "text/plain": [
       "Finished parsing file /Volumes/SILVA/shiyuehehuB_low-Tencent.csv"
      ]
     },
     "metadata": {},
     "output_type": "display_data"
    },
    {
     "data": {
      "text/html": [
       "<pre>Parsing completed. Parsed 215 lines in 0.007963 secs.</pre>"
      ],
      "text/plain": [
       "Parsing completed. Parsed 215 lines in 0.007963 secs."
      ]
     },
     "metadata": {},
     "output_type": "display_data"
    }
   ],
   "source": [
    "shiyuehehub_low=SFrame(data='/Volumes/SILVA/shiyuehehuB_low-Tencent.csv')\n",
    "shiyuehehub_low['playbackperweek']=shiyuehehub_low['the_Playback_Amount_of_one_Episode']/shiyuehehub_low['Release_Week']"
   ]
  },
  {
   "cell_type": "code",
   "execution_count": 47,
   "metadata": {
    "collapsed": false
   },
   "outputs": [
    {
     "data": {
      "text/html": [
       "<pre>Finished parsing file /Volumes/SILVA/shiyuehehuB_high-Tencent.csv</pre>"
      ],
      "text/plain": [
       "Finished parsing file /Volumes/SILVA/shiyuehehuB_high-Tencent.csv"
      ]
     },
     "metadata": {},
     "output_type": "display_data"
    },
    {
     "data": {
      "text/html": [
       "<pre>Parsing completed. Parsed 33 lines in 0.007417 secs.</pre>"
      ],
      "text/plain": [
       "Parsing completed. Parsed 33 lines in 0.007417 secs."
      ]
     },
     "metadata": {},
     "output_type": "display_data"
    },
    {
     "name": "stdout",
     "output_type": "stream",
     "text": [
      "------------------------------------------------------\n",
      "Inferred types from first 100 line(s) of file as \n",
      "column_type_hints=[int,str,int,int,int,int,int,int,str,str]\n",
      "If parsing fails due to incorrect types, you can correct\n",
      "the inferred type list above and pass it to read_csv in\n",
      "the column_type_hints argument\n",
      "------------------------------------------------------\n"
     ]
    },
    {
     "data": {
      "text/html": [
       "<pre>Finished parsing file /Volumes/SILVA/shiyuehehuB_high-Tencent.csv</pre>"
      ],
      "text/plain": [
       "Finished parsing file /Volumes/SILVA/shiyuehehuB_high-Tencent.csv"
      ]
     },
     "metadata": {},
     "output_type": "display_data"
    },
    {
     "data": {
      "text/html": [
       "<pre>Parsing completed. Parsed 33 lines in 0.007623 secs.</pre>"
      ],
      "text/plain": [
       "Parsing completed. Parsed 33 lines in 0.007623 secs."
      ]
     },
     "metadata": {},
     "output_type": "display_data"
    }
   ],
   "source": [
    "shiyuehehub_high=SFrame(data='/Volumes/SILVA/shiyuehehuB_high-Tencent.csv')\n",
    "shiyuehehub_high['playbackperweek']=shiyuehehub_high['the_Playback_Amount_of_one_Episode']/shiyuehehub_high['Release_Week']"
   ]
  },
  {
   "cell_type": "code",
   "execution_count": 55,
   "metadata": {
    "collapsed": false
   },
   "outputs": [
    {
     "data": {
      "text/plain": [
       "[<matplotlib.lines.Line2D at 0x126ca6810>]"
      ]
     },
     "execution_count": 55,
     "metadata": {},
     "output_type": "execute_result"
    },
    {
     "data": {
      "image/png": "[encoded data removed]",
      "text/plain": [
       "<matplotlib.figure.Figure at 0x125999410>"
      ]
     },
     "metadata": {},
     "output_type": "display_data"
    }
   ],
   "source": [
    "plt.plot(shiyuehehub_high['the_Length_of_one_Episode'],shiyuehehub_high['the_Playback_Amount_of_one_Episode'],'.')\n",
    "plt.plot(shiyuehehub_low['the_Length_of_one_Episode'],shiyuehehub_low['the_Playback_Amount_of_one_Episode'],'.')"
   ]
  },
  {
   "cell_type": "code",
   "execution_count": 56,
   "metadata": {
    "collapsed": false
   },
   "outputs": [
    {
     "data": {
      "application/javascript": [
       "$(\"head\").append($(\"<link/>\").attr({\n",
       "  rel:  \"stylesheet\",\n",
       "  type: \"text/css\",\n",
       "  href: \"//cdnjs.cloudflare.com/ajax/libs/font-awesome/4.1.0/css/font-awesome.min.css\"\n",
       "}));\n",
       "$(\"head\").append($(\"<link/>\").attr({\n",
       "  rel:  \"stylesheet\",\n",
       "  type: \"text/css\",\n",
       "  href: \"https://static.turi.com/products/graphlab-create/2.1/canvas/css/canvas.css\"\n",
       "}));\n",
       "\n",
       "            (function(){\n",
       "\n",
       "                var e = null;\n",
       "                if (typeof element == 'undefined') {\n",
       "                    var scripts = document.getElementsByTagName('script');\n",
       "                    var thisScriptTag = scripts[scripts.length-1];\n",
       "                    var parentDiv = thisScriptTag.parentNode;\n",
       "                    e = document.createElement('div');\n",
       "                    parentDiv.appendChild(e);\n",
       "                } else {\n",
       "                    e = element[0];\n",
       "                }\n",
       "\n",
       "                if (typeof requirejs !== 'undefined') {\n",
       "                    // disable load timeout; ipython_app.js is large and can take a while to load.\n",
       "                    requirejs.config({waitSeconds: 0});\n",
       "                }\n",
       "\n",
       "                require(['https://static.turi.com/products/graphlab-create/2.1/canvas/js/ipython_app.js'], function(IPythonApp){\n",
       "                    var app = new IPythonApp();\n",
       "                    app.attachView('sarray','Numeric', {\"ipython\": true, \"sketch\": {\"std\": 44.58223589700002, \"complete\": true, \"min\": 93.0, \"max\": 244.0, \"quantile\": [93.0, 93.0, 93.0, 93.0, 96.0, 96.0, 96.0, 100.0, 100.0, 100.0, 100.0, 100.0, 100.0, 109.0, 109.0, 109.0, 111.0, 111.0, 111.0, 115.0, 115.0, 115.0, 116.0, 116.0, 116.0, 124.0, 124.0, 124.0, 127.0, 127.0, 127.0, 133.0, 133.0, 133.0, 141.0, 141.0, 141.0, 141.0, 141.0, 141.0, 145.0, 145.0, 145.0, 146.0, 146.0, 146.0, 150.0, 150.0, 150.0, 161.0, 161.0, 161.0, 168.0, 168.0, 168.0, 175.0, 175.0, 175.0, 175.0, 175.0, 175.0, 175.0, 175.0, 175.0, 177.0, 177.0, 177.0, 182.0, 182.0, 182.0, 187.0, 187.0, 187.0, 187.0, 187.0, 187.0, 188.0, 188.0, 188.0, 208.0, 208.0, 208.0, 211.0, 211.0, 211.0, 227.0, 227.0, 227.0, 229.0, 229.0, 229.0, 236.0, 236.0, 236.0, 236.0, 236.0, 236.0, 244.0, 244.0, 244.0, 244.0], \"median\": 161.0, \"numeric\": true, \"num_unique\": 27, \"num_undefined\": 0, \"var\": 1987.575757575757, \"progress\": 1.0, \"size\": 33, \"frequent_items\": {\"133\": {\"frequency\": 1, \"value\": 133}, \"141\": {\"frequency\": 2, \"value\": 141}, \"145\": {\"frequency\": 1, \"value\": 145}, \"146\": {\"frequency\": 1, \"value\": 146}, \"150\": {\"frequency\": 1, \"value\": 150}, \"161\": {\"frequency\": 1, \"value\": 161}, \"168\": {\"frequency\": 1, \"value\": 168}, \"175\": {\"frequency\": 3, \"value\": 175}, \"177\": {\"frequency\": 1, \"value\": 177}, \"182\": {\"frequency\": 1, \"value\": 182}, \"116\": {\"frequency\": 1, \"value\": 116}, \"187\": {\"frequency\": 2, \"value\": 187}, \"188\": {\"frequency\": 1, \"value\": 188}, \"208\": {\"frequency\": 1, \"value\": 208}, \"211\": {\"frequency\": 1, \"value\": 211}, \"93\": {\"frequency\": 1, \"value\": 93}, \"96\": {\"frequency\": 1, \"value\": 96}, \"227\": {\"frequency\": 1, \"value\": 227}, \"100\": {\"frequency\": 2, \"value\": 100}, \"229\": {\"frequency\": 1, \"value\": 229}, \"236\": {\"frequency\": 2, \"value\": 236}, \"109\": {\"frequency\": 1, \"value\": 109}, \"111\": {\"frequency\": 1, \"value\": 111}, \"115\": {\"frequency\": 1, \"value\": 115}, \"244\": {\"frequency\": 1, \"value\": 244}, \"124\": {\"frequency\": 1, \"value\": 124}, \"127\": {\"frequency\": 1, \"value\": 127}}, \"mean\": 161.0}, \"selected_variable\": {\"name\": [\"<SArray>\"], \"dtype\": \"int\", \"view_component\": \"Numeric\", \"view_file\": \"sarray\", \"descriptives\": {\"rows\": 33}, \"type\": \"SArray\", \"view_components\": [\"Numeric\", \"Categorical\"]}, \"histogram\": {\"progress\": 1.0, \"histogram\": {\"max\": 245.356, \"bins\": [4, 4, 2, 3, 3, 2, 4, 4, 0, 2, 2, 3], \"min\": 91.94800000000001}, \"min\": 93, \"complete\": 1, \"max\": 244}}, e);\n",
       "                });\n",
       "            })();\n",
       "        "
      ]
     },
     "metadata": {},
     "output_type": "display_data"
    },
    {
     "data": {
      "application/javascript": [
       "$(\"head\").append($(\"<link/>\").attr({\n",
       "  rel:  \"stylesheet\",\n",
       "  type: \"text/css\",\n",
       "  href: \"//cdnjs.cloudflare.com/ajax/libs/font-awesome/4.1.0/css/font-awesome.min.css\"\n",
       "}));\n",
       "$(\"head\").append($(\"<link/>\").attr({\n",
       "  rel:  \"stylesheet\",\n",
       "  type: \"text/css\",\n",
       "  href: \"https://static.turi.com/products/graphlab-create/2.1/canvas/css/canvas.css\"\n",
       "}));\n",
       "\n",
       "            (function(){\n",
       "\n",
       "                var e = null;\n",
       "                if (typeof element == 'undefined') {\n",
       "                    var scripts = document.getElementsByTagName('script');\n",
       "                    var thisScriptTag = scripts[scripts.length-1];\n",
       "                    var parentDiv = thisScriptTag.parentNode;\n",
       "                    e = document.createElement('div');\n",
       "                    parentDiv.appendChild(e);\n",
       "                } else {\n",
       "                    e = element[0];\n",
       "                }\n",
       "\n",
       "                if (typeof requirejs !== 'undefined') {\n",
       "                    // disable load timeout; ipython_app.js is large and can take a while to load.\n",
       "                    requirejs.config({waitSeconds: 0});\n",
       "                }\n",
       "\n",
       "                require(['https://static.turi.com/products/graphlab-create/2.1/canvas/js/ipython_app.js'], function(IPythonApp){\n",
       "                    var app = new IPythonApp();\n",
       "                    app.attachView('sarray','Numeric', {\"ipython\": true, \"sketch\": {\"std\": 43.81241887402811, \"complete\": true, \"min\": 130.0, \"max\": 347.0, \"quantile\": [130.0, 151.0, 157.0, 160.0, 161.0, 166.0, 169.0, 171.0, 173.0, 176.0, 179.0, 181.0, 182.0, 183.0, 184.0, 185.0, 186.0, 187.0, 187.0, 188.0, 190.0, 191.0, 192.0, 192.0, 194.0, 194.0, 195.0, 196.0, 197.0, 198.0, 199.0, 200.0, 203.0, 204.0, 205.0, 206.0, 207.0, 209.0, 212.0, 214.0, 215.0, 217.0, 218.0, 219.0, 220.0, 220.0, 221.0, 222.0, 224.0, 224.0, 225.0, 227.0, 227.0, 230.0, 232.0, 232.0, 233.0, 233.0, 234.0, 238.0, 239.0, 241.0, 244.0, 245.0, 246.0, 247.0, 248.0, 249.0, 251.0, 253.0, 255.0, 255.0, 257.0, 258.0, 259.0, 261.0, 263.0, 266.0, 267.0, 269.0, 271.0, 271.0, 272.0, 273.0, 276.0, 276.0, 278.0, 280.0, 282.0, 285.0, 290.0, 291.0, 293.0, 299.0, 304.0, 307.0, 313.0, 317.0, 330.0, 333.0, 347.0], \"median\": 225.0, \"numeric\": true, \"num_unique\": 124, \"num_undefined\": 0, \"var\": 1919.5280475932948, \"progress\": 1.0, \"size\": 215, \"frequent_items\": {\"130\": {\"frequency\": 1, \"value\": 130}, \"131\": {\"frequency\": 1, \"value\": 131}, \"151\": {\"frequency\": 1, \"value\": 151}, \"153\": {\"frequency\": 1, \"value\": 153}, \"157\": {\"frequency\": 1, \"value\": 157}, \"160\": {\"frequency\": 2, \"value\": 160}, \"161\": {\"frequency\": 2, \"value\": 161}, \"163\": {\"frequency\": 1, \"value\": 163}, \"166\": {\"frequency\": 1, \"value\": 166}, \"168\": {\"frequency\": 1, \"value\": 168}, \"169\": {\"frequency\": 1, \"value\": 169}, \"170\": {\"frequency\": 2, \"value\": 170}, \"171\": {\"frequency\": 1, \"value\": 171}, \"172\": {\"frequency\": 1, \"value\": 172}, \"173\": {\"frequency\": 2, \"value\": 173}, \"176\": {\"frequency\": 1, \"value\": 176}, \"179\": {\"frequency\": 2, \"value\": 179}, \"181\": {\"frequency\": 2, \"value\": 181}, \"182\": {\"frequency\": 3, \"value\": 182}, \"183\": {\"frequency\": 1, \"value\": 183}, \"184\": {\"frequency\": 4, \"value\": 184}, \"185\": {\"frequency\": 2, \"value\": 185}, \"186\": {\"frequency\": 2, \"value\": 186}, \"187\": {\"frequency\": 4, \"value\": 187}, \"188\": {\"frequency\": 1, \"value\": 188}, \"189\": {\"frequency\": 1, \"value\": 189}, \"190\": {\"frequency\": 2, \"value\": 190}, \"191\": {\"frequency\": 3, \"value\": 191}, \"192\": {\"frequency\": 3, \"value\": 192}, \"194\": {\"frequency\": 4, \"value\": 194}, \"195\": {\"frequency\": 2, \"value\": 195}, \"196\": {\"frequency\": 4, \"value\": 196}, \"197\": {\"frequency\": 2, \"value\": 197}, \"198\": {\"frequency\": 2, \"value\": 198}, \"199\": {\"frequency\": 1, \"value\": 199}, \"200\": {\"frequency\": 2, \"value\": 200}, \"202\": {\"frequency\": 1, \"value\": 202}, \"203\": {\"frequency\": 2, \"value\": 203}, \"204\": {\"frequency\": 2, \"value\": 204}, \"205\": {\"frequency\": 2, \"value\": 205}, \"206\": {\"frequency\": 3, \"value\": 206}, \"207\": {\"frequency\": 1, \"value\": 207}, \"208\": {\"frequency\": 1, \"value\": 208}, \"209\": {\"frequency\": 1, \"value\": 209}, \"210\": {\"frequency\": 1, \"value\": 210}, \"212\": {\"frequency\": 1, \"value\": 212}, \"213\": {\"frequency\": 1, \"value\": 213}, \"214\": {\"frequency\": 3, \"value\": 214}, \"215\": {\"frequency\": 1, \"value\": 215}, \"216\": {\"frequency\": 1, \"value\": 216}, \"217\": {\"frequency\": 1, \"value\": 217}, \"218\": {\"frequency\": 2, \"value\": 218}, \"219\": {\"frequency\": 3, \"value\": 219}, \"220\": {\"frequency\": 3, \"value\": 220}, \"221\": {\"frequency\": 4, \"value\": 221}, \"222\": {\"frequency\": 1, \"value\": 222}, \"223\": {\"frequency\": 1, \"value\": 223}, \"224\": {\"frequency\": 3, \"value\": 224}, \"225\": {\"frequency\": 2, \"value\": 225}, \"226\": {\"frequency\": 1, \"value\": 226}, \"227\": {\"frequency\": 3, \"value\": 227}, \"229\": {\"frequency\": 1, \"value\": 229}, \"230\": {\"frequency\": 1, \"value\": 230}, \"232\": {\"frequency\": 6, \"value\": 232}, \"233\": {\"frequency\": 3, \"value\": 233}, \"234\": {\"frequency\": 2, \"value\": 234}, \"235\": {\"frequency\": 1, \"value\": 235}, \"238\": {\"frequency\": 3, \"value\": 238}, \"239\": {\"frequency\": 1, \"value\": 239}, \"240\": {\"frequency\": 1, \"value\": 240}, \"241\": {\"frequency\": 1, \"value\": 241}, \"243\": {\"frequency\": 1, \"value\": 243}, \"244\": {\"frequency\": 2, \"value\": 244}, \"245\": {\"frequency\": 2, \"value\": 245}, \"246\": {\"frequency\": 1, \"value\": 246}, \"247\": {\"frequency\": 3, \"value\": 247}, \"248\": {\"frequency\": 1, \"value\": 248}, \"249\": {\"frequency\": 4, \"value\": 249}, \"251\": {\"frequency\": 2, \"value\": 251}, \"253\": {\"frequency\": 2, \"value\": 253}, \"255\": {\"frequency\": 4, \"value\": 255}, \"257\": {\"frequency\": 2, \"value\": 257}, \"258\": {\"frequency\": 3, \"value\": 258}, \"259\": {\"frequency\": 1, \"value\": 259}, \"260\": {\"frequency\": 1, \"value\": 260}, \"261\": {\"frequency\": 1, \"value\": 261}, \"262\": {\"frequency\": 1, \"value\": 262}, \"263\": {\"frequency\": 1, \"value\": 263}, \"264\": {\"frequency\": 1, \"value\": 264}, \"266\": {\"frequency\": 1, \"value\": 266}, \"267\": {\"frequency\": 2, \"value\": 267}, \"268\": {\"frequency\": 1, \"value\": 268}, \"269\": {\"frequency\": 1, \"value\": 269}, \"270\": {\"frequency\": 2, \"value\": 270}, \"271\": {\"frequency\": 3, \"value\": 271}, \"272\": {\"frequency\": 2, \"value\": 272}, \"273\": {\"frequency\": 2, \"value\": 273}, \"276\": {\"frequency\": 4, \"value\": 276}, \"277\": {\"frequency\": 1, \"value\": 277}, \"278\": {\"frequency\": 3, \"value\": 278}, \"280\": {\"frequency\": 2, \"value\": 280}, \"282\": {\"frequency\": 1, \"value\": 282}, \"284\": {\"frequency\": 1, \"value\": 284}, \"285\": {\"frequency\": 1, \"value\": 285}, \"289\": {\"frequency\": 1, \"value\": 289}, \"290\": {\"frequency\": 1, \"value\": 290}, \"291\": {\"frequency\": 2, \"value\": 291}, \"292\": {\"frequency\": 1, \"value\": 292}, \"293\": {\"frequency\": 1, \"value\": 293}, \"296\": {\"frequency\": 1, \"value\": 296}, \"299\": {\"frequency\": 2, \"value\": 299}, \"302\": {\"frequency\": 1, \"value\": 302}, \"304\": {\"frequency\": 1, \"value\": 304}, \"305\": {\"frequency\": 1, \"value\": 305}, \"307\": {\"frequency\": 1, \"value\": 307}, \"311\": {\"frequency\": 1, \"value\": 311}, \"313\": {\"frequency\": 1, \"value\": 313}, \"315\": {\"frequency\": 1, \"value\": 315}, \"317\": {\"frequency\": 1, \"value\": 317}, \"330\": {\"frequency\": 2, \"value\": 330}, \"332\": {\"frequency\": 1, \"value\": 332}, \"333\": {\"frequency\": 1, \"value\": 333}, \"344\": {\"frequency\": 1, \"value\": 344}, \"347\": {\"frequency\": 1, \"value\": 347}}, \"mean\": 229.8558139534884}, \"selected_variable\": {\"name\": [\"<SArray>\"], \"dtype\": \"int\", \"view_component\": \"Numeric\", \"view_file\": \"sarray\", \"descriptives\": {\"rows\": 215}, \"type\": \"SArray\", \"view_components\": [\"Numeric\", \"Categorical\"]}, \"histogram\": {\"progress\": 1.0, \"histogram\": {\"max\": 348.66, \"bins\": [2, 8, 18, 40, 29, 32, 27, 23, 19, 8, 5, 4], \"min\": 129.012}, \"min\": 130, \"complete\": 1, \"max\": 347}}, e);\n",
       "                });\n",
       "            })();\n",
       "        "
      ]
     },
     "metadata": {},
     "output_type": "display_data"
    }
   ],
   "source": [
    "shiyuehehub_high['the_Length_of_one_Episode'].show()\n",
    "shiyuehehub_low['the_Length_of_one_Episode'].show()"
   ]
  },
  {
   "cell_type": "code",
   "execution_count": 48,
   "metadata": {
    "collapsed": false
   },
   "outputs": [],
   "source": [
    "mhigh=graphlab.linear_regression.create(shiyuehehub_high,target='playbackperweek',features=['the_Length_of_one_Episode'],validation_set=shiyuehehub_high,verbose=False)\n",
    "mlow=graphlab.linear_regression.create(shiyuehehub_low,target='playbackperweek',features=['the_Length_of_one_Episode'],validation_set=shiyuehehub_low,verbose=False)"
   ]
  },
  {
   "cell_type": "code",
   "execution_count": 49,
   "metadata": {
    "collapsed": false
   },
   "outputs": [
    {
     "data": {
      "text/plain": [
       "<bound method LinearRegression.summary of Class                          : LinearRegression\n",
       "\n",
       "Schema\n",
       "------\n",
       "Number of coefficients         : 2\n",
       "Number of examples             : 33\n",
       "Number of feature columns      : 1\n",
       "Number of unpacked features    : 1\n",
       "\n",
       "Hyperparameters\n",
       "---------------\n",
       "L1 penalty                     : 0.0\n",
       "L2 penalty                     : 0.01\n",
       "\n",
       "Training Summary\n",
       "----------------\n",
       "Solver                         : newton\n",
       "Solver iterations              : 1\n",
       "Solver status                  : SUCCESS: Optimal solution found.\n",
       "Training time (sec)            : 0.0014\n",
       "\n",
       "Settings\n",
       "--------\n",
       "Residual sum of squares        : 2.97092795228e+12\n",
       "Training RMSE                  : 300046.8626\n",
       "\n",
       "Highest Positive Coefficients\n",
       "-----------------------------\n",
       "(intercept)                    : 451498.5989\n",
       "the_Length_of_one_Episode      : 856.4946\n",
       "\n",
       "Lowest Negative Coefficients\n",
       "----------------------------\n",
       "No Negative Coefficients       : \n",
       ">"
      ]
     },
     "execution_count": 49,
     "metadata": {},
     "output_type": "execute_result"
    },
    {
     "data": {
      "image/png": "[encoded data removed]",
      "text/plain": [
       "<matplotlib.figure.Figure at 0x11ac78c10>"
      ]
     },
     "metadata": {},
     "output_type": "display_data"
    }
   ],
   "source": [
    "plt.plot(shiyuehehub_high['the_Length_of_one_Episode'],shiyuehehub_high['playbackperweek'],'.',\n",
    "        shiyuehehub_high['the_Length_of_one_Episode'], mhigh.predict(shiyuehehub_high),'-',)\n",
    "mhigh.summary"
   ]
  },
  {
   "cell_type": "code",
   "execution_count": 50,
   "metadata": {
    "collapsed": false
   },
   "outputs": [
    {
     "data": {
      "text/html": [
       "<div style=\"max-height:1000px;max-width:1500px;overflow:auto;\"><table frame=\"box\" rules=\"cols\">\n",
       "    <tr>\n",
       "        <th style=\"padding-left: 1em; padding-right: 1em; text-align: center\">name</th>\n",
       "        <th style=\"padding-left: 1em; padding-right: 1em; text-align: center\">index</th>\n",
       "        <th style=\"padding-left: 1em; padding-right: 1em; text-align: center\">value</th>\n",
       "        <th style=\"padding-left: 1em; padding-right: 1em; text-align: center\">stderr</th>\n",
       "    </tr>\n",
       "    <tr>\n",
       "        <td style=\"padding-left: 1em; padding-right: 1em; text-align: center; vertical-align: top\">(intercept)</td>\n",
       "        <td style=\"padding-left: 1em; padding-right: 1em; text-align: center; vertical-align: top\">None</td>\n",
       "        <td style=\"padding-left: 1em; padding-right: 1em; text-align: center; vertical-align: top\">451498.598904</td>\n",
       "        <td style=\"padding-left: 1em; padding-right: 1em; text-align: center; vertical-align: top\">201936.690564</td>\n",
       "    </tr>\n",
       "    <tr>\n",
       "        <td style=\"padding-left: 1em; padding-right: 1em; text-align: center; vertical-align: top\">the_Length_of_one_Episode</td>\n",
       "        <td style=\"padding-left: 1em; padding-right: 1em; text-align: center; vertical-align: top\">None</td>\n",
       "        <td style=\"padding-left: 1em; padding-right: 1em; text-align: center; vertical-align: top\">856.494590624</td>\n",
       "        <td style=\"padding-left: 1em; padding-right: 1em; text-align: center; vertical-align: top\">1208.77758368</td>\n",
       "    </tr>\n",
       "</table>\n",
       "[2 rows x 4 columns]<br/>\n",
       "</div>"
      ],
      "text/plain": [
       "Columns:\n",
       "\tname\tstr\n",
       "\tindex\tstr\n",
       "\tvalue\tfloat\n",
       "\tstderr\tfloat\n",
       "\n",
       "Rows: 2\n",
       "\n",
       "Data:\n",
       "+---------------------------+-------+---------------+---------------+\n",
       "|            name           | index |     value     |     stderr    |\n",
       "+---------------------------+-------+---------------+---------------+\n",
       "|        (intercept)        |  None | 451498.598904 | 201936.690564 |\n",
       "| the_Length_of_one_Episode |  None | 856.494590624 | 1208.77758368 |\n",
       "+---------------------------+-------+---------------+---------------+\n",
       "[2 rows x 4 columns]"
      ]
     },
     "execution_count": 50,
     "metadata": {},
     "output_type": "execute_result"
    }
   ],
   "source": [
    "mhigh.get(\"coefficients\")"
   ]
  },
  {
   "cell_type": "markdown",
   "metadata": {},
   "source": [
    "* For higher amount of review (playback),longer time indicates higher reviews\n",
    "for one more second of each episode, the playback amounts increase by 856.494590624 with a standard deviation of 1208.77758368.\n",
    "However, 856 is relatively low compared to 200000."
   ]
  },
  {
   "cell_type": "code",
   "execution_count": 51,
   "metadata": {
    "collapsed": false
   },
   "outputs": [
    {
     "data": {
      "text/plain": [
       "<bound method LinearRegression.summary of Class                          : LinearRegression\n",
       "\n",
       "Schema\n",
       "------\n",
       "Number of coefficients         : 2\n",
       "Number of examples             : 215\n",
       "Number of feature columns      : 1\n",
       "Number of unpacked features    : 1\n",
       "\n",
       "Hyperparameters\n",
       "---------------\n",
       "L1 penalty                     : 0.0\n",
       "L2 penalty                     : 0.01\n",
       "\n",
       "Training Summary\n",
       "----------------\n",
       "Solver                         : newton\n",
       "Solver iterations              : 1\n",
       "Solver status                  : SUCCESS: Optimal solution found.\n",
       "Training time (sec)            : 0.0008\n",
       "\n",
       "Settings\n",
       "--------\n",
       "Residual sum of squares        : 3.67653271317e+12\n",
       "Training RMSE                  : 130767.5501\n",
       "\n",
       "Highest Positive Coefficients\n",
       "-----------------------------\n",
       "the_Length_of_one_Episode      : 1761.7688\n",
       "\n",
       "Lowest Negative Coefficients\n",
       "----------------------------\n",
       "(intercept)                    : -246315.2587\n",
       ">"
      ]
     },
     "execution_count": 51,
     "metadata": {},
     "output_type": "execute_result"
    },
    {
     "data": {
      "image/png": "[encoded data removed]",
      "text/plain": [
       "<matplotlib.figure.Figure at 0x1249e9790>"
      ]
     },
     "metadata": {},
     "output_type": "display_data"
    }
   ],
   "source": [
    "plt.plot(shiyuehehub_low['the_Length_of_one_Episode'],shiyuehehub_low['playbackperweek'],'.',\n",
    "        shiyuehehub_low['the_Length_of_one_Episode'], mlow.predict(shiyuehehub_low),'-')\n",
    "mlow.summary"
   ]
  },
  {
   "cell_type": "code",
   "execution_count": 73,
   "metadata": {
    "collapsed": false
   },
   "outputs": [
    {
     "data": {
      "text/plain": [
       "[<matplotlib.lines.Line2D at 0x103d6a650>,\n",
       " <matplotlib.lines.Line2D at 0x103d6a450>,\n",
       " <matplotlib.lines.Line2D at 0x11d1df050>]"
      ]
     },
     "execution_count": 73,
     "metadata": {},
     "output_type": "execute_result"
    },
    {
     "data": {
      "image/png": "[encoded data removed]",
      "text/plain": [
       "<matplotlib.figure.Figure at 0x12a7cd410>"
      ]
     },
     "metadata": {},
     "output_type": "display_data"
    }
   ],
   "source": [
    "plt.plot(shiyuehehub_high['the_Length_of_one_Episode'],shiyuehehub_high['playbackperweek'],'.')\n",
    "plt.plot(shiyuehehub_low['the_Length_of_one_Episode'],shiyuehehub_low['playbackperweek'],'.',\n",
    "shiyuehehub_high['the_Length_of_one_Episode'], mhigh.predict(shiyuehehub_high),'-',\n",
    "shiyuehehub_low['the_Length_of_one_Episode'], mlow.predict(shiyuehehub_low),'-',)"
   ]
  },
  {
   "cell_type": "code",
   "execution_count": 52,
   "metadata": {
    "collapsed": false
   },
   "outputs": [
    {
     "data": {
      "text/html": [
       "<div style=\"max-height:1000px;max-width:1500px;overflow:auto;\"><table frame=\"box\" rules=\"cols\">\n",
       "    <tr>\n",
       "        <th style=\"padding-left: 1em; padding-right: 1em; text-align: center\">name</th>\n",
       "        <th style=\"padding-left: 1em; padding-right: 1em; text-align: center\">index</th>\n",
       "        <th style=\"padding-left: 1em; padding-right: 1em; text-align: center\">value</th>\n",
       "        <th style=\"padding-left: 1em; padding-right: 1em; text-align: center\">stderr</th>\n",
       "    </tr>\n",
       "    <tr>\n",
       "        <td style=\"padding-left: 1em; padding-right: 1em; text-align: center; vertical-align: top\">(intercept)</td>\n",
       "        <td style=\"padding-left: 1em; padding-right: 1em; text-align: center; vertical-align: top\">None</td>\n",
       "        <td style=\"padding-left: 1em; padding-right: 1em; text-align: center; vertical-align: top\">-246315.258719</td>\n",
       "        <td style=\"padding-left: 1em; padding-right: 1em; text-align: center; vertical-align: top\">47853.9509173</td>\n",
       "    </tr>\n",
       "    <tr>\n",
       "        <td style=\"padding-left: 1em; padding-right: 1em; text-align: center; vertical-align: top\">the_Length_of_one_Episode</td>\n",
       "        <td style=\"padding-left: 1em; padding-right: 1em; text-align: center; vertical-align: top\">None</td>\n",
       "        <td style=\"padding-left: 1em; padding-right: 1em; text-align: center; vertical-align: top\">1761.76877904</td>\n",
       "        <td style=\"padding-left: 1em; padding-right: 1em; text-align: center; vertical-align: top\">204.509249273</td>\n",
       "    </tr>\n",
       "</table>\n",
       "[2 rows x 4 columns]<br/>\n",
       "</div>"
      ],
      "text/plain": [
       "Columns:\n",
       "\tname\tstr\n",
       "\tindex\tstr\n",
       "\tvalue\tfloat\n",
       "\tstderr\tfloat\n",
       "\n",
       "Rows: 2\n",
       "\n",
       "Data:\n",
       "+---------------------------+-------+----------------+---------------+\n",
       "|            name           | index |     value      |     stderr    |\n",
       "+---------------------------+-------+----------------+---------------+\n",
       "|        (intercept)        |  None | -246315.258719 | 47853.9509173 |\n",
       "| the_Length_of_one_Episode |  None | 1761.76877904  | 204.509249273 |\n",
       "+---------------------------+-------+----------------+---------------+\n",
       "[2 rows x 4 columns]"
      ]
     },
     "execution_count": 52,
     "metadata": {},
     "output_type": "execute_result"
    }
   ],
   "source": [
    " mlow.get(\"coefficients\")"
   ]
  },
  {
   "cell_type": "markdown",
   "metadata": {},
   "source": [
    "* For lower amount of review (playback),longer time sucifficiently indicates higher reviews\n",
    "for one more second of each episode, the playback amount increase by 1761.76877904 with a standard deviation of 204.509249273.\n",
    "It means that we are 95% sure that if we increase the time of the episode by 1 second, the amount of playback will increase by a number in (1557.259529767,1966.278028313). The mean of the number is 1761.76877904"
   ]
  },
  {
   "cell_type": "markdown",
   "metadata": {},
   "source": [
    "#Training RMSE: 130767.5501 (low-model)\n",
    "#Training RMSE: 300046.8626 (high-model)\n",
    "#Training RMSE: 290542.0965 (simple model)\n",
    "#Training RMSE: 177970.0699 (poly_model,degree=3)\n",
    "\n",
    "Relatively smaller errors happens in \"low-model\"."
   ]
  },
  {
   "cell_type": "markdown",
   "metadata": {},
   "source": [
    "# 1.Variable(Feature)= Words_of_the_Title"
   ]
  },
  {
   "cell_type": "code",
   "execution_count": 64,
   "metadata": {
    "collapsed": false
   },
   "outputs": [],
   "source": [
    "slrm_2=graphlab.linear_regression.create(shiyuehehub,target='playbackperweek',features=['Words_of_the_Title'],validation_set=shiyuehehub,verbose=False)"
   ]
  },
  {
   "cell_type": "code",
   "execution_count": 66,
   "metadata": {
    "collapsed": false
   },
   "outputs": [
    {
     "data": {
      "text/plain": [
       "[<matplotlib.lines.Line2D at 0x125fbdd90>,\n",
       " <matplotlib.lines.Line2D at 0x125fbdf50>]"
      ]
     },
     "execution_count": 66,
     "metadata": {},
     "output_type": "execute_result"
    },
    {
     "data": {
      "image/png": "[encoded data removed]",
      "text/plain": [
       "<matplotlib.figure.Figure at 0x126ea05d0>"
      ]
     },
     "metadata": {},
     "output_type": "display_data"
    }
   ],
   "source": [
    "plt.plot(shiyuehehub_high['Words_of_the_Title'],shiyuehehub_high['the_Playback_Amount_of_one_Episode'],'.')\n",
    "plt.plot(shiyuehehub_low['Words_of_the_Title'],shiyuehehub_low['the_Playback_Amount_of_one_Episode'],'.',\n",
    "shiyuehehub['Words_of_the_Title'], slrm_2.predict(shiyuehehub),'-')"
   ]
  },
  {
   "cell_type": "code",
   "execution_count": 58,
   "metadata": {
    "collapsed": true
   },
   "outputs": [],
   "source": [
    "mhigh_2=graphlab.linear_regression.create(shiyuehehub_high,target='playbackperweek',features=['Words_of_the_Title'],validation_set=shiyuehehub_high,verbose=False)\n",
    "mlow_2=graphlab.linear_regression.create(shiyuehehub_low,target='playbackperweek',features=['Words_of_the_Title'],validation_set=shiyuehehub_low,verbose=False)"
   ]
  },
  {
   "cell_type": "code",
   "execution_count": 59,
   "metadata": {
    "collapsed": false
   },
   "outputs": [
    {
     "data": {
      "text/plain": [
       "<bound method LinearRegression.summary of Class                          : LinearRegression\n",
       "\n",
       "Schema\n",
       "------\n",
       "Number of coefficients         : 2\n",
       "Number of examples             : 33\n",
       "Number of feature columns      : 1\n",
       "Number of unpacked features    : 1\n",
       "\n",
       "Hyperparameters\n",
       "---------------\n",
       "L1 penalty                     : 0.0\n",
       "L2 penalty                     : 0.01\n",
       "\n",
       "Training Summary\n",
       "----------------\n",
       "Solver                         : newton\n",
       "Solver iterations              : 1\n",
       "Solver status                  : SUCCESS: Optimal solution found.\n",
       "Training time (sec)            : 0.0008\n",
       "\n",
       "Settings\n",
       "--------\n",
       "Residual sum of squares        : 3.01589626784e+12\n",
       "Training RMSE                  : 302309.1067\n",
       "\n",
       "Highest Positive Coefficients\n",
       "-----------------------------\n",
       "(intercept)                    : 727766.8153\n",
       "\n",
       "Lowest Negative Coefficients\n",
       "----------------------------\n",
       "Words_of_the_Title             : -5787.4466\n",
       ">"
      ]
     },
     "execution_count": 59,
     "metadata": {},
     "output_type": "execute_result"
    },
    {
     "data": {
      "image/png": "[encoded data removed]",
      "text/plain": [
       "<matplotlib.figure.Figure at 0x11d1b3210>"
      ]
     },
     "metadata": {},
     "output_type": "display_data"
    }
   ],
   "source": [
    "plt.plot(shiyuehehub_high['Words_of_the_Title'],shiyuehehub_high['playbackperweek'],'.',\n",
    "        shiyuehehub_high['Words_of_the_Title'], mhigh_2.predict(shiyuehehub_high),'-',)\n",
    "mhigh_2.summary"
   ]
  },
  {
   "cell_type": "code",
   "execution_count": 68,
   "metadata": {
    "collapsed": false
   },
   "outputs": [
    {
     "data": {
      "text/plain": [
       "<bound method LinearRegression.summary of Class                          : LinearRegression\n",
       "\n",
       "Schema\n",
       "------\n",
       "Number of coefficients         : 2\n",
       "Number of examples             : 215\n",
       "Number of feature columns      : 1\n",
       "Number of unpacked features    : 1\n",
       "\n",
       "Hyperparameters\n",
       "---------------\n",
       "L1 penalty                     : 0.0\n",
       "L2 penalty                     : 0.01\n",
       "\n",
       "Training Summary\n",
       "----------------\n",
       "Solver                         : newton\n",
       "Solver iterations              : 1\n",
       "Solver status                  : SUCCESS: Optimal solution found.\n",
       "Training time (sec)            : 0.001\n",
       "\n",
       "Settings\n",
       "--------\n",
       "Residual sum of squares        : 4.63768390668e+12\n",
       "Training RMSE                  : 146869.4074\n",
       "\n",
       "Highest Positive Coefficients\n",
       "-----------------------------\n",
       "(intercept)                    : 460900.8401\n",
       "\n",
       "Lowest Negative Coefficients\n",
       "----------------------------\n",
       "Words_of_the_Title             : -10295.724\n",
       ">"
      ]
     },
     "execution_count": 68,
     "metadata": {},
     "output_type": "execute_result"
    },
    {
     "data": {
      "image/png": "[encoded data removed]",
      "text/plain": [
       "<matplotlib.figure.Figure at 0x1278dc510>"
      ]
     },
     "metadata": {},
     "output_type": "display_data"
    }
   ],
   "source": [
    "plt.plot(shiyuehehub_low['Words_of_the_Title'],shiyuehehub_low['playbackperweek'],'.',\n",
    "        shiyuehehub_low['Words_of_the_Title'], mlow_2.predict(shiyuehehub_low),'-')\n",
    "mlow_2.summary"
   ]
  },
  {
   "cell_type": "code",
   "execution_count": 72,
   "metadata": {
    "collapsed": false
   },
   "outputs": [
    {
     "data": {
      "text/plain": [
       "[<matplotlib.lines.Line2D at 0x12a6316d0>,\n",
       " <matplotlib.lines.Line2D at 0x12a6312d0>,\n",
       " <matplotlib.lines.Line2D at 0x12a42ef50>]"
      ]
     },
     "execution_count": 72,
     "metadata": {},
     "output_type": "execute_result"
    },
    {
     "data": {
      "image/png": "[encoded data removed]",
      "text/plain": [
       "<matplotlib.figure.Figure at 0x12a631d50>"
      ]
     },
     "metadata": {},
     "output_type": "display_data"
    }
   ],
   "source": [
    "plt.plot(shiyuehehub_high['Words_of_the_Title'],shiyuehehub_high['playbackperweek'],'.')\n",
    "plt.plot(shiyuehehub_low['Words_of_the_Title'],shiyuehehub_low['playbackperweek'],'.',\n",
    "shiyuehehub_high['Words_of_the_Title'], mhigh_2.predict(shiyuehehub_high),'-',\n",
    "shiyuehehub_low['Words_of_the_Title'], mlow_2.predict(shiyuehehub_low),'-',)"
   ]
  },
  {
   "cell_type": "code",
   "execution_count": 80,
   "metadata": {
    "collapsed": false
   },
   "outputs": [
    {
     "data": {
      "text/plain": [
       "dtype: int\n",
       "Rows: 248\n",
       "[0, 0, 0, 0, 0, 0, 0, 0, 0, 0, 0, 0, 0, 0, 0, 0, 0, 0, 0, 0, 0, 0, 0, 0, 0, 0, 0, 0, 0, 0, 0, 0, 0, 0, 0, 0, 0, 0, 0, 0, 0, 0, 0, 0, 0, 0, 0, 0, 0, 0, 0, 0, 0, 0, 0, 0, 0, 0, 0, 0, 0, 0, 0, 0, 0, 0, 0, 0, 0, 0, 0, 0, 0, 0, 0, 0, 0, 0, 0, 0, 0, 0, 0, 0, 0, 0, 0, 0, 0, 0, 0, 0, 0, 0, 0, 0, 0, 0, 0, 0, ... ]"
      ]
     },
     "execution_count": 80,
     "metadata": {},
     "output_type": "execute_result"
    }
   ],
   "source": [
    "shiyuehehub['English_or_not']"
   ]
  },
  {
   "cell_type": "code",
   "execution_count": null,
   "metadata": {
    "collapsed": true
   },
   "outputs": [],
   "source": []
  },
  {
   "cell_type": "code",
   "execution_count": null,
   "metadata": {
    "collapsed": true
   },
   "outputs": [],
   "source": []
  },
  {
   "cell_type": "code",
   "execution_count": null,
   "metadata": {
    "collapsed": true
   },
   "outputs": [],
   "source": []
  },
  {
   "cell_type": "markdown",
   "metadata": {},
   "source": [
    "# San You Qin Zi"
   ]
  },
  {
   "cell_type": "code",
   "execution_count": 187,
   "metadata": {
    "collapsed": false
   },
   "outputs": [
    {
     "data": {
      "text/html": [
       "<pre>Finished parsing file /Volumes/SILVA/sanyouqinzi-Tencent2.csv</pre>"
      ],
      "text/plain": [
       "Finished parsing file /Volumes/SILVA/sanyouqinzi-Tencent2.csv"
      ]
     },
     "metadata": {},
     "output_type": "display_data"
    },
    {
     "data": {
      "text/html": [
       "<pre>Parsing completed. Parsed 100 lines in 0.028585 secs.</pre>"
      ],
      "text/plain": [
       "Parsing completed. Parsed 100 lines in 0.028585 secs."
      ]
     },
     "metadata": {},
     "output_type": "display_data"
    },
    {
     "name": "stdout",
     "output_type": "stream",
     "text": [
      "------------------------------------------------------\n",
      "Inferred types from first 100 line(s) of file as \n",
      "column_type_hints=[int,str,int,int,int,str,int,int,str,str,int,int,int,int,int,int,int,int,int,int,int,str,str,str,str,str,str]\n",
      "If parsing fails due to incorrect types, you can correct\n",
      "the inferred type list above and pass it to read_csv in\n",
      "the column_type_hints argument\n",
      "------------------------------------------------------\n"
     ]
    },
    {
     "data": {
      "text/html": [
       "<pre>Finished parsing file /Volumes/SILVA/sanyouqinzi-Tencent2.csv</pre>"
      ],
      "text/plain": [
       "Finished parsing file /Volumes/SILVA/sanyouqinzi-Tencent2.csv"
      ]
     },
     "metadata": {},
     "output_type": "display_data"
    },
    {
     "data": {
      "text/html": [
       "<pre>Parsing completed. Parsed 120 lines in 0.008372 secs.</pre>"
      ],
      "text/plain": [
       "Parsing completed. Parsed 120 lines in 0.008372 secs."
      ]
     },
     "metadata": {},
     "output_type": "display_data"
    }
   ],
   "source": [
    "sanyouqinzi=SFrame(data='/Volumes/SILVA/sanyouqinzi-Tencent2.csv')"
   ]
  },
  {
   "cell_type": "code",
   "execution_count": 188,
   "metadata": {
    "collapsed": false
   },
   "outputs": [
    {
     "data": {
      "text/html": [
       "<div style=\"max-height:1000px;max-width:1500px;overflow:auto;\"><table frame=\"box\" rules=\"cols\">\n",
       "    <tr>\n",
       "        <th style=\"padding-left: 1em; padding-right: 1em; text-align: center\">id</th>\n",
       "        <th style=\"padding-left: 1em; padding-right: 1em; text-align: center\">Title</th>\n",
       "        <th style=\"padding-left: 1em; padding-right: 1em; text-align: center\">Words_of_the_Title</th>\n",
       "        <th style=\"padding-left: 1em; padding-right: 1em; text-align: center\">English_or_not</th>\n",
       "        <th style=\"padding-left: 1em; padding-right: 1em; text-align: center\">the_Length_of_one_Episode</th>\n",
       "        <th style=\"padding-left: 1em; padding-right: 1em; text-align: center\">Release_Date</th>\n",
       "        <th style=\"padding-left: 1em; padding-right: 1em; text-align: center\">Release_Week</th>\n",
       "    </tr>\n",
       "    <tr>\n",
       "        <td style=\"padding-left: 1em; padding-right: 1em; text-align: center; vertical-align: top\">66</td>\n",
       "        <td style=\"padding-left: 1em; padding-right: 1em; text-align: center; vertical-align: top\">�����������Σ�ǰ�����׸��<br>�����ƣ� ...</td>\n",
       "        <td style=\"padding-left: 1em; padding-right: 1em; text-align: center; vertical-align: top\">17</td>\n",
       "        <td style=\"padding-left: 1em; padding-right: 1em; text-align: center; vertical-align: top\">0</td>\n",
       "        <td style=\"padding-left: 1em; padding-right: 1em; text-align: center; vertical-align: top\">159</td>\n",
       "        <td style=\"padding-left: 1em; padding-right: 1em; text-align: center; vertical-align: top\">2016/11/11</td>\n",
       "        <td style=\"padding-left: 1em; padding-right: 1em; text-align: center; vertical-align: top\">5</td>\n",
       "    </tr>\n",
       "    <tr>\n",
       "        <td style=\"padding-left: 1em; padding-right: 1em; text-align: center; vertical-align: top\">67</td>\n",
       "        <td style=\"padding-left: 1em; padding-right: 1em; text-align: center; vertical-align: top\">��ʦ���ȡ�üҳ������Σ�</td>\n",
       "        <td style=\"padding-left: 1em; padding-right: 1em; text-align: center; vertical-align: top\">12</td>\n",
       "        <td style=\"padding-left: 1em; padding-right: 1em; text-align: center; vertical-align: top\">0</td>\n",
       "        <td style=\"padding-left: 1em; padding-right: 1em; text-align: center; vertical-align: top\">439</td>\n",
       "        <td style=\"padding-left: 1em; padding-right: 1em; text-align: center; vertical-align: top\">2016/11/11</td>\n",
       "        <td style=\"padding-left: 1em; padding-right: 1em; text-align: center; vertical-align: top\">5</td>\n",
       "    </tr>\n",
       "    <tr>\n",
       "        <td style=\"padding-left: 1em; padding-right: 1em; text-align: center; vertical-align: top\">68</td>\n",
       "        <td style=\"padding-left: 1em; padding-right: 1em; text-align: center; vertical-align: top\">��Ϊ�׶�԰��ʦҪ�߱���Щ�<br>����� ...</td>\n",
       "        <td style=\"padding-left: 1em; padding-right: 1em; text-align: center; vertical-align: top\">15</td>\n",
       "        <td style=\"padding-left: 1em; padding-right: 1em; text-align: center; vertical-align: top\">0</td>\n",
       "        <td style=\"padding-left: 1em; padding-right: 1em; text-align: center; vertical-align: top\">216</td>\n",
       "        <td style=\"padding-left: 1em; padding-right: 1em; text-align: center; vertical-align: top\">2016/11/11</td>\n",
       "        <td style=\"padding-left: 1em; padding-right: 1em; text-align: center; vertical-align: top\">5</td>\n",
       "    </tr>\n",
       "    <tr>\n",
       "        <td style=\"padding-left: 1em; padding-right: 1em; text-align: center; vertical-align: top\">69</td>\n",
       "        <td style=\"padding-left: 1em; padding-right: 1em; text-align: center; vertical-align: top\">�������׶�԰ȱ����ȫ�����<br>��죿 ...</td>\n",
       "        <td style=\"padding-left: 1em; padding-right: 1em; text-align: center; vertical-align: top\">15</td>\n",
       "        <td style=\"padding-left: 1em; padding-right: 1em; text-align: center; vertical-align: top\">0</td>\n",
       "        <td style=\"padding-left: 1em; padding-right: 1em; text-align: center; vertical-align: top\">294</td>\n",
       "        <td style=\"padding-left: 1em; padding-right: 1em; text-align: center; vertical-align: top\">2016/11/11</td>\n",
       "        <td style=\"padding-left: 1em; padding-right: 1em; text-align: center; vertical-align: top\">5</td>\n",
       "    </tr>\n",
       "    <tr>\n",
       "        <td style=\"padding-left: 1em; padding-right: 1em; text-align: center; vertical-align: top\">70</td>\n",
       "        <td style=\"padding-left: 1em; padding-right: 1em; text-align: center; vertical-align: top\">�������仯�û��ǲ��ã�</td>\n",
       "        <td style=\"padding-left: 1em; padding-right: 1em; text-align: center; vertical-align: top\">11</td>\n",
       "        <td style=\"padding-left: 1em; padding-right: 1em; text-align: center; vertical-align: top\">0</td>\n",
       "        <td style=\"padding-left: 1em; padding-right: 1em; text-align: center; vertical-align: top\">175</td>\n",
       "        <td style=\"padding-left: 1em; padding-right: 1em; text-align: center; vertical-align: top\">2016/11/11</td>\n",
       "        <td style=\"padding-left: 1em; padding-right: 1em; text-align: center; vertical-align: top\">5</td>\n",
       "    </tr>\n",
       "    <tr>\n",
       "        <td style=\"padding-left: 1em; padding-right: 1em; text-align: center; vertical-align: top\">71</td>\n",
       "        <td style=\"padding-left: 1em; padding-right: 1em; text-align: center; vertical-align: top\">���ӵ�С��������ǰ˵�����<br>��죿 ...</td>\n",
       "        <td style=\"padding-left: 1em; padding-right: 1em; text-align: center; vertical-align: top\">15</td>\n",
       "        <td style=\"padding-left: 1em; padding-right: 1em; text-align: center; vertical-align: top\">0</td>\n",
       "        <td style=\"padding-left: 1em; padding-right: 1em; text-align: center; vertical-align: top\">116</td>\n",
       "        <td style=\"padding-left: 1em; padding-right: 1em; text-align: center; vertical-align: top\">2016/11/11</td>\n",
       "        <td style=\"padding-left: 1em; padding-right: 1em; text-align: center; vertical-align: top\">5</td>\n",
       "    </tr>\n",
       "    <tr>\n",
       "        <td style=\"padding-left: 1em; padding-right: 1em; text-align: center; vertical-align: top\">72</td>\n",
       "        <td style=\"padding-left: 1em; padding-right: 1em; text-align: center; vertical-align: top\">�ҳ�����������ӽ����ѣ�</td>\n",
       "        <td style=\"padding-left: 1em; padding-right: 1em; text-align: center; vertical-align: top\">12</td>\n",
       "        <td style=\"padding-left: 1em; padding-right: 1em; text-align: center; vertical-align: top\">0</td>\n",
       "        <td style=\"padding-left: 1em; padding-right: 1em; text-align: center; vertical-align: top\">121</td>\n",
       "        <td style=\"padding-left: 1em; padding-right: 1em; text-align: center; vertical-align: top\">2016/11/9</td>\n",
       "        <td style=\"padding-left: 1em; padding-right: 1em; text-align: center; vertical-align: top\">3</td>\n",
       "    </tr>\n",
       "    <tr>\n",
       "        <td style=\"padding-left: 1em; padding-right: 1em; text-align: center; vertical-align: top\">73</td>\n",
       "        <td style=\"padding-left: 1em; padding-right: 1em; text-align: center; vertical-align: top\">����̫����ʲôΣ��������<br>�ʳ�� ...</td>\n",
       "        <td style=\"padding-left: 1em; padding-right: 1em; text-align: center; vertical-align: top\">15</td>\n",
       "        <td style=\"padding-left: 1em; padding-right: 1em; text-align: center; vertical-align: top\">0</td>\n",
       "        <td style=\"padding-left: 1em; padding-right: 1em; text-align: center; vertical-align: top\">119</td>\n",
       "        <td style=\"padding-left: 1em; padding-right: 1em; text-align: center; vertical-align: top\">2016/11/8</td>\n",
       "        <td style=\"padding-left: 1em; padding-right: 1em; text-align: center; vertical-align: top\">2</td>\n",
       "    </tr>\n",
       "    <tr>\n",
       "        <td style=\"padding-left: 1em; padding-right: 1em; text-align: center; vertical-align: top\">74</td>\n",
       "        <td style=\"padding-left: 1em; padding-right: 1em; text-align: center; vertical-align: top\">������ô��ˮ�����棿�����<br>ܴ���ˮ�� ...</td>\n",
       "        <td style=\"padding-left: 1em; padding-right: 1em; text-align: center; vertical-align: top\">18</td>\n",
       "        <td style=\"padding-left: 1em; padding-right: 1em; text-align: center; vertical-align: top\">0</td>\n",
       "        <td style=\"padding-left: 1em; padding-right: 1em; text-align: center; vertical-align: top\">157</td>\n",
       "        <td style=\"padding-left: 1em; padding-right: 1em; text-align: center; vertical-align: top\">2016/11/8</td>\n",
       "        <td style=\"padding-left: 1em; padding-right: 1em; text-align: center; vertical-align: top\">2</td>\n",
       "    </tr>\n",
       "    <tr>\n",
       "        <td style=\"padding-left: 1em; padding-right: 1em; text-align: center; vertical-align: top\">75</td>\n",
       "        <td style=\"padding-left: 1em; padding-right: 1em; text-align: center; vertical-align: top\">�������������߶�ͯ�����<br>��� ...</td>\n",
       "        <td style=\"padding-left: 1em; padding-right: 1em; text-align: center; vertical-align: top\">15</td>\n",
       "        <td style=\"padding-left: 1em; padding-right: 1em; text-align: center; vertical-align: top\">0</td>\n",
       "        <td style=\"padding-left: 1em; padding-right: 1em; text-align: center; vertical-align: top\">177</td>\n",
       "        <td style=\"padding-left: 1em; padding-right: 1em; text-align: center; vertical-align: top\">2016/11/8</td>\n",
       "        <td style=\"padding-left: 1em; padding-right: 1em; text-align: center; vertical-align: top\">2</td>\n",
       "    </tr>\n",
       "</table>\n",
       "<table frame=\"box\" rules=\"cols\">\n",
       "    <tr>\n",
       "        <th style=\"padding-left: 1em; padding-right: 1em; text-align: center\">the_Playback_Amount_of_on<br>e_Episode ...</th>\n",
       "        <th style=\"padding-left: 1em; padding-right: 1em; text-align: center\">the_Link</th>\n",
       "        <th style=\"padding-left: 1em; padding-right: 1em; text-align: center\">Relative</th>\n",
       "        <th style=\"padding-left: 1em; padding-right: 1em; text-align: center\">R1</th>\n",
       "        <th style=\"padding-left: 1em; padding-right: 1em; text-align: center\">R2</th>\n",
       "        <th style=\"padding-left: 1em; padding-right: 1em; text-align: center\">R3</th>\n",
       "        <th style=\"padding-left: 1em; padding-right: 1em; text-align: center\">R4</th>\n",
       "        <th style=\"padding-left: 1em; padding-right: 1em; text-align: center\">R5</th>\n",
       "    </tr>\n",
       "    <tr>\n",
       "        <td style=\"padding-left: 1em; padding-right: 1em; text-align: center; vertical-align: top\">3008</td>\n",
       "        <td style=\"padding-left: 1em; padding-right: 1em; text-align: center; vertical-align: top\">http://v.qq.com/page/c/e/<br>1/c0345e14ye1.html ...</td>\n",
       "        <td style=\"padding-left: 1em; padding-right: 1em; text-align: center; vertical-align: top\">1482,5192,637,5193,290,29<br>1,2577, ...</td>\n",
       "        <td style=\"padding-left: 1em; padding-right: 1em; text-align: center; vertical-align: top\">1482</td>\n",
       "        <td style=\"padding-left: 1em; padding-right: 1em; text-align: center; vertical-align: top\">5192</td>\n",
       "        <td style=\"padding-left: 1em; padding-right: 1em; text-align: center; vertical-align: top\">637</td>\n",
       "        <td style=\"padding-left: 1em; padding-right: 1em; text-align: center; vertical-align: top\">5193</td>\n",
       "        <td style=\"padding-left: 1em; padding-right: 1em; text-align: center; vertical-align: top\">290</td>\n",
       "    </tr>\n",
       "    <tr>\n",
       "        <td style=\"padding-left: 1em; padding-right: 1em; text-align: center; vertical-align: top\">3031</td>\n",
       "        <td style=\"padding-left: 1em; padding-right: 1em; text-align: center; vertical-align: top\">http://v.qq.com/page/k/v/<br>3/k03450mx2v3.html ...</td>\n",
       "        <td style=\"padding-left: 1em; padding-right: 1em; text-align: center; vertical-align: top\">5197,291,2802,232,40,5106<br>, ...</td>\n",
       "        <td style=\"padding-left: 1em; padding-right: 1em; text-align: center; vertical-align: top\">5197</td>\n",
       "        <td style=\"padding-left: 1em; padding-right: 1em; text-align: center; vertical-align: top\">291</td>\n",
       "        <td style=\"padding-left: 1em; padding-right: 1em; text-align: center; vertical-align: top\">2802</td>\n",
       "        <td style=\"padding-left: 1em; padding-right: 1em; text-align: center; vertical-align: top\">232</td>\n",
       "        <td style=\"padding-left: 1em; padding-right: 1em; text-align: center; vertical-align: top\">40</td>\n",
       "    </tr>\n",
       "    <tr>\n",
       "        <td style=\"padding-left: 1em; padding-right: 1em; text-align: center; vertical-align: top\">3053</td>\n",
       "        <td style=\"padding-left: 1em; padding-right: 1em; text-align: center; vertical-align: top\">http://v.qq.com/page/c/u/<br>9/c0345r7fqu9.html ...</td>\n",
       "        <td style=\"padding-left: 1em; padding-right: 1em; text-align: center; vertical-align: top\">3101,839,3630,1357,5195,3<br>89,5196, ...</td>\n",
       "        <td style=\"padding-left: 1em; padding-right: 1em; text-align: center; vertical-align: top\">3101</td>\n",
       "        <td style=\"padding-left: 1em; padding-right: 1em; text-align: center; vertical-align: top\">839</td>\n",
       "        <td style=\"padding-left: 1em; padding-right: 1em; text-align: center; vertical-align: top\">3630</td>\n",
       "        <td style=\"padding-left: 1em; padding-right: 1em; text-align: center; vertical-align: top\">1357</td>\n",
       "        <td style=\"padding-left: 1em; padding-right: 1em; text-align: center; vertical-align: top\">5195</td>\n",
       "    </tr>\n",
       "    <tr>\n",
       "        <td style=\"padding-left: 1em; padding-right: 1em; text-align: center; vertical-align: top\">3242</td>\n",
       "        <td style=\"padding-left: 1em; padding-right: 1em; text-align: center; vertical-align: top\">http://v.qq.com/page/j/t/<br>r/j03459xnutr.html ...</td>\n",
       "        <td style=\"padding-left: 1em; padding-right: 1em; text-align: center; vertical-align: top\">60,36,839,2314,997,283,</td>\n",
       "        <td style=\"padding-left: 1em; padding-right: 1em; text-align: center; vertical-align: top\">60</td>\n",
       "        <td style=\"padding-left: 1em; padding-right: 1em; text-align: center; vertical-align: top\">36</td>\n",
       "        <td style=\"padding-left: 1em; padding-right: 1em; text-align: center; vertical-align: top\">839</td>\n",
       "        <td style=\"padding-left: 1em; padding-right: 1em; text-align: center; vertical-align: top\">2314</td>\n",
       "        <td style=\"padding-left: 1em; padding-right: 1em; text-align: center; vertical-align: top\">997</td>\n",
       "    </tr>\n",
       "    <tr>\n",
       "        <td style=\"padding-left: 1em; padding-right: 1em; text-align: center; vertical-align: top\">3351</td>\n",
       "        <td style=\"padding-left: 1em; padding-right: 1em; text-align: center; vertical-align: top\">http://v.qq.com/page/e/e/<br>4/e0345v5ame4.html ...</td>\n",
       "        <td style=\"padding-left: 1em; padding-right: 1em; text-align: center; vertical-align: top\">1259,5200,179,966,1352,</td>\n",
       "        <td style=\"padding-left: 1em; padding-right: 1em; text-align: center; vertical-align: top\">1259</td>\n",
       "        <td style=\"padding-left: 1em; padding-right: 1em; text-align: center; vertical-align: top\">5200</td>\n",
       "        <td style=\"padding-left: 1em; padding-right: 1em; text-align: center; vertical-align: top\">179</td>\n",
       "        <td style=\"padding-left: 1em; padding-right: 1em; text-align: center; vertical-align: top\">966</td>\n",
       "        <td style=\"padding-left: 1em; padding-right: 1em; text-align: center; vertical-align: top\">1352</td>\n",
       "    </tr>\n",
       "    <tr>\n",
       "        <td style=\"padding-left: 1em; padding-right: 1em; text-align: center; vertical-align: top\">3394</td>\n",
       "        <td style=\"padding-left: 1em; padding-right: 1em; text-align: center; vertical-align: top\">http://v.qq.com/page/s/7/<br>p/s0345yw387p.html ...</td>\n",
       "        <td style=\"padding-left: 1em; padding-right: 1em; text-align: center; vertical-align: top\">159,1506,153,5198,5199,10<br>54,283, ...</td>\n",
       "        <td style=\"padding-left: 1em; padding-right: 1em; text-align: center; vertical-align: top\">159</td>\n",
       "        <td style=\"padding-left: 1em; padding-right: 1em; text-align: center; vertical-align: top\">1506</td>\n",
       "        <td style=\"padding-left: 1em; padding-right: 1em; text-align: center; vertical-align: top\">153</td>\n",
       "        <td style=\"padding-left: 1em; padding-right: 1em; text-align: center; vertical-align: top\">5198</td>\n",
       "        <td style=\"padding-left: 1em; padding-right: 1em; text-align: center; vertical-align: top\">5199</td>\n",
       "    </tr>\n",
       "    <tr>\n",
       "        <td style=\"padding-left: 1em; padding-right: 1em; text-align: center; vertical-align: top\">3405</td>\n",
       "        <td style=\"padding-left: 1em; padding-right: 1em; text-align: center; vertical-align: top\">http://v.qq.com/page/y/k/<br>b/y0344t578kb.html ...</td>\n",
       "        <td style=\"padding-left: 1em; padding-right: 1em; text-align: center; vertical-align: top\">232,291,1133,159,5194,</td>\n",
       "        <td style=\"padding-left: 1em; padding-right: 1em; text-align: center; vertical-align: top\">232</td>\n",
       "        <td style=\"padding-left: 1em; padding-right: 1em; text-align: center; vertical-align: top\">291</td>\n",
       "        <td style=\"padding-left: 1em; padding-right: 1em; text-align: center; vertical-align: top\">1133</td>\n",
       "        <td style=\"padding-left: 1em; padding-right: 1em; text-align: center; vertical-align: top\">159</td>\n",
       "        <td style=\"padding-left: 1em; padding-right: 1em; text-align: center; vertical-align: top\">5194</td>\n",
       "    </tr>\n",
       "    <tr>\n",
       "        <td style=\"padding-left: 1em; padding-right: 1em; text-align: center; vertical-align: top\">3643</td>\n",
       "        <td style=\"padding-left: 1em; padding-right: 1em; text-align: center; vertical-align: top\">http://v.qq.com/page/x/8/<br>e/x03441p188e.html ...</td>\n",
       "        <td style=\"padding-left: 1em; padding-right: 1em; text-align: center; vertical-align: top\">159,5371,99,28,1142,291,5<br>04, ...</td>\n",
       "        <td style=\"padding-left: 1em; padding-right: 1em; text-align: center; vertical-align: top\">159</td>\n",
       "        <td style=\"padding-left: 1em; padding-right: 1em; text-align: center; vertical-align: top\">5371</td>\n",
       "        <td style=\"padding-left: 1em; padding-right: 1em; text-align: center; vertical-align: top\">99</td>\n",
       "        <td style=\"padding-left: 1em; padding-right: 1em; text-align: center; vertical-align: top\">28</td>\n",
       "        <td style=\"padding-left: 1em; padding-right: 1em; text-align: center; vertical-align: top\">1142</td>\n",
       "    </tr>\n",
       "    <tr>\n",
       "        <td style=\"padding-left: 1em; padding-right: 1em; text-align: center; vertical-align: top\">3653</td>\n",
       "        <td style=\"padding-left: 1em; padding-right: 1em; text-align: center; vertical-align: top\">http://v.qq.com/page/o/s/<br>h/o0344rb0fsh.html ...</td>\n",
       "        <td style=\"padding-left: 1em; padding-right: 1em; text-align: center; vertical-align: top\">159,128,3278,521,5227,413<br>4,407,5228,532,58, ...</td>\n",
       "        <td style=\"padding-left: 1em; padding-right: 1em; text-align: center; vertical-align: top\">159</td>\n",
       "        <td style=\"padding-left: 1em; padding-right: 1em; text-align: center; vertical-align: top\">128</td>\n",
       "        <td style=\"padding-left: 1em; padding-right: 1em; text-align: center; vertical-align: top\">3278</td>\n",
       "        <td style=\"padding-left: 1em; padding-right: 1em; text-align: center; vertical-align: top\">521</td>\n",
       "        <td style=\"padding-left: 1em; padding-right: 1em; text-align: center; vertical-align: top\">5227</td>\n",
       "    </tr>\n",
       "    <tr>\n",
       "        <td style=\"padding-left: 1em; padding-right: 1em; text-align: center; vertical-align: top\">3667</td>\n",
       "        <td style=\"padding-left: 1em; padding-right: 1em; text-align: center; vertical-align: top\">http://v.qq.com/page/b/1/<br>9/b0344f5jm19.html ...</td>\n",
       "        <td style=\"padding-left: 1em; padding-right: 1em; text-align: center; vertical-align: top\">527,391,407,1182,540,2578<br>,58, ...</td>\n",
       "        <td style=\"padding-left: 1em; padding-right: 1em; text-align: center; vertical-align: top\">527</td>\n",
       "        <td style=\"padding-left: 1em; padding-right: 1em; text-align: center; vertical-align: top\">391</td>\n",
       "        <td style=\"padding-left: 1em; padding-right: 1em; text-align: center; vertical-align: top\">407</td>\n",
       "        <td style=\"padding-left: 1em; padding-right: 1em; text-align: center; vertical-align: top\">1182</td>\n",
       "        <td style=\"padding-left: 1em; padding-right: 1em; text-align: center; vertical-align: top\">540</td>\n",
       "    </tr>\n",
       "</table>\n",
       "<table frame=\"box\" rules=\"cols\">\n",
       "    <tr>\n",
       "        <th style=\"padding-left: 1em; padding-right: 1em; text-align: center\">R6</th>\n",
       "        <th style=\"padding-left: 1em; padding-right: 1em; text-align: center\">R7</th>\n",
       "        <th style=\"padding-left: 1em; padding-right: 1em; text-align: center\">R8</th>\n",
       "        <th style=\"padding-left: 1em; padding-right: 1em; text-align: center\">R9</th>\n",
       "        <th style=\"padding-left: 1em; padding-right: 1em; text-align: center\">R10</th>\n",
       "        <th style=\"padding-left: 1em; padding-right: 1em; text-align: center\">R11</th>\n",
       "        <th style=\"padding-left: 1em; padding-right: 1em; text-align: center\">R12</th>\n",
       "        <th style=\"padding-left: 1em; padding-right: 1em; text-align: center\">R13</th>\n",
       "        <th style=\"padding-left: 1em; padding-right: 1em; text-align: center\">R14</th>\n",
       "        <th style=\"padding-left: 1em; padding-right: 1em; text-align: center\">R15</th>\n",
       "        <th style=\"padding-left: 1em; padding-right: 1em; text-align: center\">R16</th>\n",
       "        <th style=\"padding-left: 1em; padding-right: 1em; text-align: center\">R17</th>\n",
       "    </tr>\n",
       "    <tr>\n",
       "        <td style=\"padding-left: 1em; padding-right: 1em; text-align: center; vertical-align: top\">291</td>\n",
       "        <td style=\"padding-left: 1em; padding-right: 1em; text-align: center; vertical-align: top\">2577</td>\n",
       "        <td style=\"padding-left: 1em; padding-right: 1em; text-align: center; vertical-align: top\">None</td>\n",
       "        <td style=\"padding-left: 1em; padding-right: 1em; text-align: center; vertical-align: top\">None</td>\n",
       "        <td style=\"padding-left: 1em; padding-right: 1em; text-align: center; vertical-align: top\">None</td>\n",
       "        <td style=\"padding-left: 1em; padding-right: 1em; text-align: center; vertical-align: top\">None</td>\n",
       "        <td style=\"padding-left: 1em; padding-right: 1em; text-align: center; vertical-align: top\"></td>\n",
       "        <td style=\"padding-left: 1em; padding-right: 1em; text-align: center; vertical-align: top\"></td>\n",
       "        <td style=\"padding-left: 1em; padding-right: 1em; text-align: center; vertical-align: top\"></td>\n",
       "        <td style=\"padding-left: 1em; padding-right: 1em; text-align: center; vertical-align: top\"></td>\n",
       "        <td style=\"padding-left: 1em; padding-right: 1em; text-align: center; vertical-align: top\"></td>\n",
       "        <td style=\"padding-left: 1em; padding-right: 1em; text-align: center; vertical-align: top\"></td>\n",
       "    </tr>\n",
       "    <tr>\n",
       "        <td style=\"padding-left: 1em; padding-right: 1em; text-align: center; vertical-align: top\">5106</td>\n",
       "        <td style=\"padding-left: 1em; padding-right: 1em; text-align: center; vertical-align: top\">None</td>\n",
       "        <td style=\"padding-left: 1em; padding-right: 1em; text-align: center; vertical-align: top\">None</td>\n",
       "        <td style=\"padding-left: 1em; padding-right: 1em; text-align: center; vertical-align: top\">None</td>\n",
       "        <td style=\"padding-left: 1em; padding-right: 1em; text-align: center; vertical-align: top\">None</td>\n",
       "        <td style=\"padding-left: 1em; padding-right: 1em; text-align: center; vertical-align: top\">None</td>\n",
       "        <td style=\"padding-left: 1em; padding-right: 1em; text-align: center; vertical-align: top\"></td>\n",
       "        <td style=\"padding-left: 1em; padding-right: 1em; text-align: center; vertical-align: top\"></td>\n",
       "        <td style=\"padding-left: 1em; padding-right: 1em; text-align: center; vertical-align: top\"></td>\n",
       "        <td style=\"padding-left: 1em; padding-right: 1em; text-align: center; vertical-align: top\"></td>\n",
       "        <td style=\"padding-left: 1em; padding-right: 1em; text-align: center; vertical-align: top\"></td>\n",
       "        <td style=\"padding-left: 1em; padding-right: 1em; text-align: center; vertical-align: top\"></td>\n",
       "    </tr>\n",
       "    <tr>\n",
       "        <td style=\"padding-left: 1em; padding-right: 1em; text-align: center; vertical-align: top\">389</td>\n",
       "        <td style=\"padding-left: 1em; padding-right: 1em; text-align: center; vertical-align: top\">5196</td>\n",
       "        <td style=\"padding-left: 1em; padding-right: 1em; text-align: center; vertical-align: top\">None</td>\n",
       "        <td style=\"padding-left: 1em; padding-right: 1em; text-align: center; vertical-align: top\">None</td>\n",
       "        <td style=\"padding-left: 1em; padding-right: 1em; text-align: center; vertical-align: top\">None</td>\n",
       "        <td style=\"padding-left: 1em; padding-right: 1em; text-align: center; vertical-align: top\">None</td>\n",
       "        <td style=\"padding-left: 1em; padding-right: 1em; text-align: center; vertical-align: top\"></td>\n",
       "        <td style=\"padding-left: 1em; padding-right: 1em; text-align: center; vertical-align: top\"></td>\n",
       "        <td style=\"padding-left: 1em; padding-right: 1em; text-align: center; vertical-align: top\"></td>\n",
       "        <td style=\"padding-left: 1em; padding-right: 1em; text-align: center; vertical-align: top\"></td>\n",
       "        <td style=\"padding-left: 1em; padding-right: 1em; text-align: center; vertical-align: top\"></td>\n",
       "        <td style=\"padding-left: 1em; padding-right: 1em; text-align: center; vertical-align: top\"></td>\n",
       "    </tr>\n",
       "    <tr>\n",
       "        <td style=\"padding-left: 1em; padding-right: 1em; text-align: center; vertical-align: top\">283</td>\n",
       "        <td style=\"padding-left: 1em; padding-right: 1em; text-align: center; vertical-align: top\">None</td>\n",
       "        <td style=\"padding-left: 1em; padding-right: 1em; text-align: center; vertical-align: top\">None</td>\n",
       "        <td style=\"padding-left: 1em; padding-right: 1em; text-align: center; vertical-align: top\">None</td>\n",
       "        <td style=\"padding-left: 1em; padding-right: 1em; text-align: center; vertical-align: top\">None</td>\n",
       "        <td style=\"padding-left: 1em; padding-right: 1em; text-align: center; vertical-align: top\">None</td>\n",
       "        <td style=\"padding-left: 1em; padding-right: 1em; text-align: center; vertical-align: top\"></td>\n",
       "        <td style=\"padding-left: 1em; padding-right: 1em; text-align: center; vertical-align: top\"></td>\n",
       "        <td style=\"padding-left: 1em; padding-right: 1em; text-align: center; vertical-align: top\"></td>\n",
       "        <td style=\"padding-left: 1em; padding-right: 1em; text-align: center; vertical-align: top\"></td>\n",
       "        <td style=\"padding-left: 1em; padding-right: 1em; text-align: center; vertical-align: top\"></td>\n",
       "        <td style=\"padding-left: 1em; padding-right: 1em; text-align: center; vertical-align: top\"></td>\n",
       "    </tr>\n",
       "    <tr>\n",
       "        <td style=\"padding-left: 1em; padding-right: 1em; text-align: center; vertical-align: top\">None</td>\n",
       "        <td style=\"padding-left: 1em; padding-right: 1em; text-align: center; vertical-align: top\">None</td>\n",
       "        <td style=\"padding-left: 1em; padding-right: 1em; text-align: center; vertical-align: top\">None</td>\n",
       "        <td style=\"padding-left: 1em; padding-right: 1em; text-align: center; vertical-align: top\">None</td>\n",
       "        <td style=\"padding-left: 1em; padding-right: 1em; text-align: center; vertical-align: top\">None</td>\n",
       "        <td style=\"padding-left: 1em; padding-right: 1em; text-align: center; vertical-align: top\">None</td>\n",
       "        <td style=\"padding-left: 1em; padding-right: 1em; text-align: center; vertical-align: top\"></td>\n",
       "        <td style=\"padding-left: 1em; padding-right: 1em; text-align: center; vertical-align: top\"></td>\n",
       "        <td style=\"padding-left: 1em; padding-right: 1em; text-align: center; vertical-align: top\"></td>\n",
       "        <td style=\"padding-left: 1em; padding-right: 1em; text-align: center; vertical-align: top\"></td>\n",
       "        <td style=\"padding-left: 1em; padding-right: 1em; text-align: center; vertical-align: top\"></td>\n",
       "        <td style=\"padding-left: 1em; padding-right: 1em; text-align: center; vertical-align: top\"></td>\n",
       "    </tr>\n",
       "    <tr>\n",
       "        <td style=\"padding-left: 1em; padding-right: 1em; text-align: center; vertical-align: top\">1054</td>\n",
       "        <td style=\"padding-left: 1em; padding-right: 1em; text-align: center; vertical-align: top\">283</td>\n",
       "        <td style=\"padding-left: 1em; padding-right: 1em; text-align: center; vertical-align: top\">None</td>\n",
       "        <td style=\"padding-left: 1em; padding-right: 1em; text-align: center; vertical-align: top\">None</td>\n",
       "        <td style=\"padding-left: 1em; padding-right: 1em; text-align: center; vertical-align: top\">None</td>\n",
       "        <td style=\"padding-left: 1em; padding-right: 1em; text-align: center; vertical-align: top\">None</td>\n",
       "        <td style=\"padding-left: 1em; padding-right: 1em; text-align: center; vertical-align: top\"></td>\n",
       "        <td style=\"padding-left: 1em; padding-right: 1em; text-align: center; vertical-align: top\"></td>\n",
       "        <td style=\"padding-left: 1em; padding-right: 1em; text-align: center; vertical-align: top\"></td>\n",
       "        <td style=\"padding-left: 1em; padding-right: 1em; text-align: center; vertical-align: top\"></td>\n",
       "        <td style=\"padding-left: 1em; padding-right: 1em; text-align: center; vertical-align: top\"></td>\n",
       "        <td style=\"padding-left: 1em; padding-right: 1em; text-align: center; vertical-align: top\"></td>\n",
       "    </tr>\n",
       "    <tr>\n",
       "        <td style=\"padding-left: 1em; padding-right: 1em; text-align: center; vertical-align: top\">None</td>\n",
       "        <td style=\"padding-left: 1em; padding-right: 1em; text-align: center; vertical-align: top\">None</td>\n",
       "        <td style=\"padding-left: 1em; padding-right: 1em; text-align: center; vertical-align: top\">None</td>\n",
       "        <td style=\"padding-left: 1em; padding-right: 1em; text-align: center; vertical-align: top\">None</td>\n",
       "        <td style=\"padding-left: 1em; padding-right: 1em; text-align: center; vertical-align: top\">None</td>\n",
       "        <td style=\"padding-left: 1em; padding-right: 1em; text-align: center; vertical-align: top\">None</td>\n",
       "        <td style=\"padding-left: 1em; padding-right: 1em; text-align: center; vertical-align: top\"></td>\n",
       "        <td style=\"padding-left: 1em; padding-right: 1em; text-align: center; vertical-align: top\"></td>\n",
       "        <td style=\"padding-left: 1em; padding-right: 1em; text-align: center; vertical-align: top\"></td>\n",
       "        <td style=\"padding-left: 1em; padding-right: 1em; text-align: center; vertical-align: top\"></td>\n",
       "        <td style=\"padding-left: 1em; padding-right: 1em; text-align: center; vertical-align: top\"></td>\n",
       "        <td style=\"padding-left: 1em; padding-right: 1em; text-align: center; vertical-align: top\"></td>\n",
       "    </tr>\n",
       "    <tr>\n",
       "        <td style=\"padding-left: 1em; padding-right: 1em; text-align: center; vertical-align: top\">291</td>\n",
       "        <td style=\"padding-left: 1em; padding-right: 1em; text-align: center; vertical-align: top\">504</td>\n",
       "        <td style=\"padding-left: 1em; padding-right: 1em; text-align: center; vertical-align: top\">None</td>\n",
       "        <td style=\"padding-left: 1em; padding-right: 1em; text-align: center; vertical-align: top\">None</td>\n",
       "        <td style=\"padding-left: 1em; padding-right: 1em; text-align: center; vertical-align: top\">None</td>\n",
       "        <td style=\"padding-left: 1em; padding-right: 1em; text-align: center; vertical-align: top\">None</td>\n",
       "        <td style=\"padding-left: 1em; padding-right: 1em; text-align: center; vertical-align: top\"></td>\n",
       "        <td style=\"padding-left: 1em; padding-right: 1em; text-align: center; vertical-align: top\"></td>\n",
       "        <td style=\"padding-left: 1em; padding-right: 1em; text-align: center; vertical-align: top\"></td>\n",
       "        <td style=\"padding-left: 1em; padding-right: 1em; text-align: center; vertical-align: top\"></td>\n",
       "        <td style=\"padding-left: 1em; padding-right: 1em; text-align: center; vertical-align: top\"></td>\n",
       "        <td style=\"padding-left: 1em; padding-right: 1em; text-align: center; vertical-align: top\"></td>\n",
       "    </tr>\n",
       "    <tr>\n",
       "        <td style=\"padding-left: 1em; padding-right: 1em; text-align: center; vertical-align: top\">4134</td>\n",
       "        <td style=\"padding-left: 1em; padding-right: 1em; text-align: center; vertical-align: top\">407</td>\n",
       "        <td style=\"padding-left: 1em; padding-right: 1em; text-align: center; vertical-align: top\">5228</td>\n",
       "        <td style=\"padding-left: 1em; padding-right: 1em; text-align: center; vertical-align: top\">532</td>\n",
       "        <td style=\"padding-left: 1em; padding-right: 1em; text-align: center; vertical-align: top\">58</td>\n",
       "        <td style=\"padding-left: 1em; padding-right: 1em; text-align: center; vertical-align: top\">None</td>\n",
       "        <td style=\"padding-left: 1em; padding-right: 1em; text-align: center; vertical-align: top\"></td>\n",
       "        <td style=\"padding-left: 1em; padding-right: 1em; text-align: center; vertical-align: top\"></td>\n",
       "        <td style=\"padding-left: 1em; padding-right: 1em; text-align: center; vertical-align: top\"></td>\n",
       "        <td style=\"padding-left: 1em; padding-right: 1em; text-align: center; vertical-align: top\"></td>\n",
       "        <td style=\"padding-left: 1em; padding-right: 1em; text-align: center; vertical-align: top\"></td>\n",
       "        <td style=\"padding-left: 1em; padding-right: 1em; text-align: center; vertical-align: top\"></td>\n",
       "    </tr>\n",
       "    <tr>\n",
       "        <td style=\"padding-left: 1em; padding-right: 1em; text-align: center; vertical-align: top\">2578</td>\n",
       "        <td style=\"padding-left: 1em; padding-right: 1em; text-align: center; vertical-align: top\">58</td>\n",
       "        <td style=\"padding-left: 1em; padding-right: 1em; text-align: center; vertical-align: top\">None</td>\n",
       "        <td style=\"padding-left: 1em; padding-right: 1em; text-align: center; vertical-align: top\">None</td>\n",
       "        <td style=\"padding-left: 1em; padding-right: 1em; text-align: center; vertical-align: top\">None</td>\n",
       "        <td style=\"padding-left: 1em; padding-right: 1em; text-align: center; vertical-align: top\">None</td>\n",
       "        <td style=\"padding-left: 1em; padding-right: 1em; text-align: center; vertical-align: top\"></td>\n",
       "        <td style=\"padding-left: 1em; padding-right: 1em; text-align: center; vertical-align: top\"></td>\n",
       "        <td style=\"padding-left: 1em; padding-right: 1em; text-align: center; vertical-align: top\"></td>\n",
       "        <td style=\"padding-left: 1em; padding-right: 1em; text-align: center; vertical-align: top\"></td>\n",
       "        <td style=\"padding-left: 1em; padding-right: 1em; text-align: center; vertical-align: top\"></td>\n",
       "        <td style=\"padding-left: 1em; padding-right: 1em; text-align: center; vertical-align: top\"></td>\n",
       "    </tr>\n",
       "</table>\n",
       "[120 rows x 27 columns]<br/>Note: Only the head of the SFrame is printed.<br/>You can use print_rows(num_rows=m, num_columns=n) to print more rows and columns.\n",
       "</div>"
      ],
      "text/plain": [
       "Columns:\n",
       "\tid\tint\n",
       "\tTitle\tstr\n",
       "\tWords_of_the_Title\tint\n",
       "\tEnglish_or_not\tint\n",
       "\tthe_Length_of_one_Episode\tint\n",
       "\tRelease_Date\tstr\n",
       "\tRelease_Week\tint\n",
       "\tthe_Playback_Amount_of_one_Episode\tint\n",
       "\tthe_Link\tstr\n",
       "\tRelative\tstr\n",
       "\tR1\tint\n",
       "\tR2\tint\n",
       "\tR3\tint\n",
       "\tR4\tint\n",
       "\tR5\tint\n",
       "\tR6\tint\n",
       "\tR7\tint\n",
       "\tR8\tint\n",
       "\tR9\tint\n",
       "\tR10\tint\n",
       "\tR11\tint\n",
       "\tR12\tstr\n",
       "\tR13\tstr\n",
       "\tR14\tstr\n",
       "\tR15\tstr\n",
       "\tR16\tstr\n",
       "\tR17\tstr\n",
       "\n",
       "Rows: 120\n",
       "\n",
       "Data:\n",
       "+----+-------------------------------+--------------------+----------------+---------------------------+\n",
       "| id |             Title             | Words_of_the_Title | English_or_not | the_Length_of_one_Episode |\n",
       "+----+-------------------------------+--------------------+----------------+---------------------------+\n",
       "| 66 | �����������Σ�ǰ�����׸������... |         17         |       0        |            159            |\n",
       "| 67 |       ��ʦ���ȡ�üҳ������Σ�      |         12         |       0        |            439            |\n",
       "| 68 |     ��Ϊ�׶�԰��ʦҪ�߱���Щ������    |         15         |       0        |            216            |\n",
       "| 69 |    �������׶�԰ȱ����ȫ����ô�죿   |         15         |       0        |            294            |\n",
       "| 70 |       �������仯�û��ǲ��ã�      |         11         |       0        |            175            |\n",
       "| 71 |    ���ӵ�С��������ǰ˵����ô�죿   |         15         |       0        |            116            |\n",
       "| 72 |      �ҳ�����������ӽ����ѣ�     |         12         |       0        |            121            |\n",
       "| 73 |    ����̫����ʲôΣ���������ʳ��    |         15         |       0        |            119            |\n",
       "| 74 | ������ô��ˮ�����棿�����ܴ���ˮ... |         18         |       0        |            157            |\n",
       "| 75 |    �������������߶�ͯ��������    |         15         |       0        |            177            |\n",
       "+----+-------------------------------+--------------------+----------------+---------------------------+\n",
       "+--------------+--------------+-------------------------------+\n",
       "| Release_Date | Release_Week | the_Playback_Amount_of_one... |\n",
       "+--------------+--------------+-------------------------------+\n",
       "|  2016/11/11  |      5       |              3008             |\n",
       "|  2016/11/11  |      5       |              3031             |\n",
       "|  2016/11/11  |      5       |              3053             |\n",
       "|  2016/11/11  |      5       |              3242             |\n",
       "|  2016/11/11  |      5       |              3351             |\n",
       "|  2016/11/11  |      5       |              3394             |\n",
       "|  2016/11/9   |      3       |              3405             |\n",
       "|  2016/11/8   |      2       |              3643             |\n",
       "|  2016/11/8   |      2       |              3653             |\n",
       "|  2016/11/8   |      2       |              3667             |\n",
       "+--------------+--------------+-------------------------------+\n",
       "+-------------------------------+-------------------------------+------+------+\n",
       "|            the_Link           |            Relative           |  R1  |  R2  |\n",
       "+-------------------------------+-------------------------------+------+------+\n",
       "| http://v.qq.com/page/c/e/1... | 1482,5192,637,5193,290,291... | 1482 | 5192 |\n",
       "| http://v.qq.com/page/k/v/3... |   5197,291,2802,232,40,5106,  | 5197 | 291  |\n",
       "| http://v.qq.com/page/c/u/9... | 3101,839,3630,1357,5195,38... | 3101 | 839  |\n",
       "| http://v.qq.com/page/j/t/r... |    60,36,839,2314,997,283,    |  60  |  36  |\n",
       "| http://v.qq.com/page/e/e/4... |    1259,5200,179,966,1352,    | 1259 | 5200 |\n",
       "| http://v.qq.com/page/s/7/p... | 159,1506,153,5198,5199,105... | 159  | 1506 |\n",
       "| http://v.qq.com/page/y/k/b... |     232,291,1133,159,5194,    | 232  | 291  |\n",
       "| http://v.qq.com/page/x/8/e... |  159,5371,99,28,1142,291,504, | 159  | 5371 |\n",
       "| http://v.qq.com/page/o/s/h... | 159,128,3278,521,5227,4134... | 159  | 128  |\n",
       "| http://v.qq.com/page/b/1/9... | 527,391,407,1182,540,2578,58, | 527  | 391  |\n",
       "+-------------------------------+-------------------------------+------+------+\n",
       "+------+------+------+------+------+------+------+------+-----+\n",
       "|  R3  |  R4  |  R5  |  R6  |  R7  |  R8  |  R9  | R10  | ... |\n",
       "+------+------+------+------+------+------+------+------+-----+\n",
       "| 637  | 5193 | 290  | 291  | 2577 | None | None | None | ... |\n",
       "| 2802 | 232  |  40  | 5106 | None | None | None | None | ... |\n",
       "| 3630 | 1357 | 5195 | 389  | 5196 | None | None | None | ... |\n",
       "| 839  | 2314 | 997  | 283  | None | None | None | None | ... |\n",
       "| 179  | 966  | 1352 | None | None | None | None | None | ... |\n",
       "| 153  | 5198 | 5199 | 1054 | 283  | None | None | None | ... |\n",
       "| 1133 | 159  | 5194 | None | None | None | None | None | ... |\n",
       "|  99  |  28  | 1142 | 291  | 504  | None | None | None | ... |\n",
       "| 3278 | 521  | 5227 | 4134 | 407  | 5228 | 532  |  58  | ... |\n",
       "| 407  | 1182 | 540  | 2578 |  58  | None | None | None | ... |\n",
       "+------+------+------+------+------+------+------+------+-----+\n",
       "[120 rows x 27 columns]\n",
       "Note: Only the head of the SFrame is printed.\n",
       "You can use print_rows(num_rows=m, num_columns=n) to print more rows and columns."
      ]
     },
     "execution_count": 188,
     "metadata": {},
     "output_type": "execute_result"
    }
   ],
   "source": [
    "sanyouqinzi"
   ]
  },
  {
   "cell_type": "code",
   "execution_count": 191,
   "metadata": {
    "collapsed": false
   },
   "outputs": [
    {
     "data": {
      "text/html": [
       "<pre>Linear regression:</pre>"
      ],
      "text/plain": [
       "Linear regression:"
      ]
     },
     "metadata": {},
     "output_type": "display_data"
    },
    {
     "data": {
      "text/html": [
       "<pre>--------------------------------------------------------</pre>"
      ],
      "text/plain": [
       "--------------------------------------------------------"
      ]
     },
     "metadata": {},
     "output_type": "display_data"
    },
    {
     "data": {
      "text/html": [
       "<pre>Number of examples          : 120</pre>"
      ],
      "text/plain": [
       "Number of examples          : 120"
      ]
     },
     "metadata": {},
     "output_type": "display_data"
    },
    {
     "data": {
      "text/html": [
       "<pre>Number of features          : 1</pre>"
      ],
      "text/plain": [
       "Number of features          : 1"
      ]
     },
     "metadata": {},
     "output_type": "display_data"
    },
    {
     "data": {
      "text/html": [
       "<pre>Number of unpacked features : 1</pre>"
      ],
      "text/plain": [
       "Number of unpacked features : 1"
      ]
     },
     "metadata": {},
     "output_type": "display_data"
    },
    {
     "data": {
      "text/html": [
       "<pre>Number of coefficients    : 2</pre>"
      ],
      "text/plain": [
       "Number of coefficients    : 2"
      ]
     },
     "metadata": {},
     "output_type": "display_data"
    },
    {
     "data": {
      "text/html": [
       "<pre>Starting Newton Method</pre>"
      ],
      "text/plain": [
       "Starting Newton Method"
      ]
     },
     "metadata": {},
     "output_type": "display_data"
    },
    {
     "data": {
      "text/html": [
       "<pre>--------------------------------------------------------</pre>"
      ],
      "text/plain": [
       "--------------------------------------------------------"
      ]
     },
     "metadata": {},
     "output_type": "display_data"
    },
    {
     "data": {
      "text/html": [
       "<pre>+-----------+----------+--------------+--------------------+----------------------+---------------+-----------------+</pre>"
      ],
      "text/plain": [
       "+-----------+----------+--------------+--------------------+----------------------+---------------+-----------------+"
      ]
     },
     "metadata": {},
     "output_type": "display_data"
    },
    {
     "data": {
      "text/html": [
       "<pre>| Iteration | Passes   | Elapsed Time | Training-max_error | Validation-max_error | Training-rmse | Validation-rmse |</pre>"
      ],
      "text/plain": [
       "| Iteration | Passes   | Elapsed Time | Training-max_error | Validation-max_error | Training-rmse | Validation-rmse |"
      ]
     },
     "metadata": {},
     "output_type": "display_data"
    },
    {
     "data": {
      "text/html": [
       "<pre>+-----------+----------+--------------+--------------------+----------------------+---------------+-----------------+</pre>"
      ],
      "text/plain": [
       "+-----------+----------+--------------+--------------------+----------------------+---------------+-----------------+"
      ]
     },
     "metadata": {},
     "output_type": "display_data"
    },
    {
     "data": {
      "text/html": [
       "<pre>| 1         | 2        | 0.000412     | 72414.928015       | 72414.928015         | 18225.057533  | 18225.057533    |</pre>"
      ],
      "text/plain": [
       "| 1         | 2        | 0.000412     | 72414.928015       | 72414.928015         | 18225.057533  | 18225.057533    |"
      ]
     },
     "metadata": {},
     "output_type": "display_data"
    },
    {
     "data": {
      "text/html": [
       "<pre>+-----------+----------+--------------+--------------------+----------------------+---------------+-----------------+</pre>"
      ],
      "text/plain": [
       "+-----------+----------+--------------+--------------------+----------------------+---------------+-----------------+"
      ]
     },
     "metadata": {},
     "output_type": "display_data"
    },
    {
     "data": {
      "text/html": [
       "<pre>SUCCESS: Optimal solution found.</pre>"
      ],
      "text/plain": [
       "SUCCESS: Optimal solution found."
      ]
     },
     "metadata": {},
     "output_type": "display_data"
    },
    {
     "data": {
      "text/html": [
       "<pre></pre>"
      ],
      "text/plain": []
     },
     "metadata": {},
     "output_type": "display_data"
    },
    {
     "data": {
      "text/plain": [
       "<bound method LinearRegression.summary of Class                          : LinearRegression\n",
       "\n",
       "Schema\n",
       "------\n",
       "Number of coefficients         : 2\n",
       "Number of examples             : 120\n",
       "Number of feature columns      : 1\n",
       "Number of unpacked features    : 1\n",
       "\n",
       "Hyperparameters\n",
       "---------------\n",
       "L1 penalty                     : 0.0\n",
       "L2 penalty                     : 0.01\n",
       "\n",
       "Training Summary\n",
       "----------------\n",
       "Solver                         : newton\n",
       "Solver iterations              : 1\n",
       "Solver status                  : SUCCESS: Optimal solution found.\n",
       "Training time (sec)            : 0.001\n",
       "\n",
       "Settings\n",
       "--------\n",
       "Residual sum of squares        : 39858326649.4\n",
       "Training RMSE                  : 18225.0575\n",
       "\n",
       "Highest Positive Coefficients\n",
       "-----------------------------\n",
       "(intercept)                    : 20996.9902\n",
       "\n",
       "Lowest Negative Coefficients\n",
       "----------------------------\n",
       "the_Length_of_one_Episode      : -8.4043\n",
       ">"
      ]
     },
     "execution_count": 191,
     "metadata": {},
     "output_type": "execute_result"
    }
   ],
   "source": [
    "slrm_2=graphlab.linear_regression.create(sanyouqinzi,target='the_Playback_Amount_of_one_Episode',features=['the_Length_of_one_Episode'],validation_set=sanyouqinzi,verbose=True)\n",
    "slrm_2.summary"
   ]
  },
  {
   "cell_type": "code",
   "execution_count": 192,
   "metadata": {
    "collapsed": false
   },
   "outputs": [
    {
     "data": {
      "text/plain": [
       "[<matplotlib.lines.Line2D at 0x137a44d90>,\n",
       " <matplotlib.lines.Line2D at 0x137a44e50>]"
      ]
     },
     "execution_count": 192,
     "metadata": {},
     "output_type": "execute_result"
    },
    {
     "data": {
      "image/png": "[encoded data removed]",
      "text/plain": [
       "<matplotlib.figure.Figure at 0x1324b4950>"
      ]
     },
     "metadata": {},
     "output_type": "display_data"
    }
   ],
   "source": [
    "plt.plot(sanyouqinzi['the_Length_of_one_Episode'],sanyouqinzi['the_Playback_Amount_of_one_Episode'],'.',\n",
    "        sanyouqinzi['the_Length_of_one_Episode'], slrm_2.predict(sanyouqinzi),'-')"
   ]
  },
  {
   "cell_type": "markdown",
   "metadata": {},
   "source": []
  },
  {
   "cell_type": "code",
   "execution_count": 211,
   "metadata": {
    "collapsed": false
   },
   "outputs": [],
   "source": [
    "polydata3=polynomial_sframe(sanyouqinzi['the_Length_of_one_Episode'],4)\n",
    "my_features3 = polydata3.column_names()"
   ]
  },
  {
   "cell_type": "code",
   "execution_count": 212,
   "metadata": {
    "collapsed": true
   },
   "outputs": [],
   "source": [
    "polydata3['the_Playback_Amount_of_one_Episode'] = sanyouqinzi['the_Playback_Amount_of_one_Episode']"
   ]
  },
  {
   "cell_type": "code",
   "execution_count": 213,
   "metadata": {
    "collapsed": false
   },
   "outputs": [
    {
     "name": "stdout",
     "output_type": "stream",
     "text": [
      "PROGRESS: Creating a validation set from 5 percent of training data. This may take a while.\n",
      "          You can set ``validation_set=None`` to disable validation tracking.\n",
      "\n"
     ]
    },
    {
     "data": {
      "text/html": [
       "<pre>Linear regression:</pre>"
      ],
      "text/plain": [
       "Linear regression:"
      ]
     },
     "metadata": {},
     "output_type": "display_data"
    },
    {
     "data": {
      "text/html": [
       "<pre>--------------------------------------------------------</pre>"
      ],
      "text/plain": [
       "--------------------------------------------------------"
      ]
     },
     "metadata": {},
     "output_type": "display_data"
    },
    {
     "data": {
      "text/html": [
       "<pre>Number of examples          : 116</pre>"
      ],
      "text/plain": [
       "Number of examples          : 116"
      ]
     },
     "metadata": {},
     "output_type": "display_data"
    },
    {
     "data": {
      "text/html": [
       "<pre>Number of features          : 4</pre>"
      ],
      "text/plain": [
       "Number of features          : 4"
      ]
     },
     "metadata": {},
     "output_type": "display_data"
    },
    {
     "data": {
      "text/html": [
       "<pre>Number of unpacked features : 4</pre>"
      ],
      "text/plain": [
       "Number of unpacked features : 4"
      ]
     },
     "metadata": {},
     "output_type": "display_data"
    },
    {
     "data": {
      "text/html": [
       "<pre>Number of coefficients    : 5</pre>"
      ],
      "text/plain": [
       "Number of coefficients    : 5"
      ]
     },
     "metadata": {},
     "output_type": "display_data"
    },
    {
     "data": {
      "text/html": [
       "<pre>Starting Newton Method</pre>"
      ],
      "text/plain": [
       "Starting Newton Method"
      ]
     },
     "metadata": {},
     "output_type": "display_data"
    },
    {
     "data": {
      "text/html": [
       "<pre>--------------------------------------------------------</pre>"
      ],
      "text/plain": [
       "--------------------------------------------------------"
      ]
     },
     "metadata": {},
     "output_type": "display_data"
    },
    {
     "data": {
      "text/html": [
       "<pre>+-----------+----------+--------------+--------------------+----------------------+---------------+-----------------+</pre>"
      ],
      "text/plain": [
       "+-----------+----------+--------------+--------------------+----------------------+---------------+-----------------+"
      ]
     },
     "metadata": {},
     "output_type": "display_data"
    },
    {
     "data": {
      "text/html": [
       "<pre>| Iteration | Passes   | Elapsed Time | Training-max_error | Validation-max_error | Training-rmse | Validation-rmse |</pre>"
      ],
      "text/plain": [
       "| Iteration | Passes   | Elapsed Time | Training-max_error | Validation-max_error | Training-rmse | Validation-rmse |"
      ]
     },
     "metadata": {},
     "output_type": "display_data"
    },
    {
     "data": {
      "text/html": [
       "<pre>+-----------+----------+--------------+--------------------+----------------------+---------------+-----------------+</pre>"
      ],
      "text/plain": [
       "+-----------+----------+--------------+--------------------+----------------------+---------------+-----------------+"
      ]
     },
     "metadata": {},
     "output_type": "display_data"
    },
    {
     "data": {
      "text/html": [
       "<pre>| 1         | 2        | 0.000713     | 72828.608846       | 26729.369732         | 18301.060712  | 14286.599555    |</pre>"
      ],
      "text/plain": [
       "| 1         | 2        | 0.000713     | 72828.608846       | 26729.369732         | 18301.060712  | 14286.599555    |"
      ]
     },
     "metadata": {},
     "output_type": "display_data"
    },
    {
     "data": {
      "text/html": [
       "<pre>+-----------+----------+--------------+--------------------+----------------------+---------------+-----------------+</pre>"
      ],
      "text/plain": [
       "+-----------+----------+--------------+--------------------+----------------------+---------------+-----------------+"
      ]
     },
     "metadata": {},
     "output_type": "display_data"
    },
    {
     "data": {
      "text/html": [
       "<pre>SUCCESS: Optimal solution found.</pre>"
      ],
      "text/plain": [
       "SUCCESS: Optimal solution found."
      ]
     },
     "metadata": {},
     "output_type": "display_data"
    },
    {
     "data": {
      "text/html": [
       "<pre></pre>"
      ],
      "text/plain": []
     },
     "metadata": {},
     "output_type": "display_data"
    },
    {
     "data": {
      "text/plain": [
       "<bound method LinearRegression.summary of Class                          : LinearRegression\n",
       "\n",
       "Schema\n",
       "------\n",
       "Number of coefficients         : 5\n",
       "Number of examples             : 116\n",
       "Number of feature columns      : 4\n",
       "Number of unpacked features    : 4\n",
       "\n",
       "Hyperparameters\n",
       "---------------\n",
       "L1 penalty                     : 0.0\n",
       "L2 penalty                     : 0.01\n",
       "\n",
       "Training Summary\n",
       "----------------\n",
       "Solver                         : newton\n",
       "Solver iterations              : 1\n",
       "Solver status                  : SUCCESS: Optimal solution found.\n",
       "Training time (sec)            : 0.0013\n",
       "\n",
       "Settings\n",
       "--------\n",
       "Residual sum of squares        : 38851743488.7\n",
       "Training RMSE                  : 18301.0607\n",
       "\n",
       "Highest Positive Coefficients\n",
       "-----------------------------\n",
       "(intercept)                    : 25598.4756\n",
       "power_2                        : 0.0305\n",
       "power_3                        : 0.0001\n",
       "\n",
       "Lowest Negative Coefficients\n",
       "----------------------------\n",
       "power_1                        : -45.1329\n",
       "power_4                        : -0.0\n",
       ">"
      ]
     },
     "execution_count": 213,
     "metadata": {},
     "output_type": "execute_result"
    }
   ],
   "source": [
    "polymodel2=graphlab.linear_regression.create(polydata3,target='the_Playback_Amount_of_one_Episode',features=my_features3,verbose=True)\n",
    "polymodel2.summary"
   ]
  },
  {
   "cell_type": "code",
   "execution_count": 217,
   "metadata": {
    "collapsed": false
   },
   "outputs": [
    {
     "data": {
      "text/plain": [
       "[<matplotlib.lines.Line2D at 0x13b65f490>,\n",
       " <matplotlib.lines.Line2D at 0x13b65f550>]"
      ]
     },
     "execution_count": 217,
     "metadata": {},
     "output_type": "execute_result"
    },
    {
     "data": {
      "image/png": "[encoded data removed]",
      "text/plain": [
       "<matplotlib.figure.Figure at 0x13b473550>"
      ]
     },
     "metadata": {},
     "output_type": "display_data"
    }
   ],
   "source": [
    "plt.plot(polydata3['power_1'],sanyouqinzi['the_Playback_Amount_of_one_Episode'],'.',\n",
    "        polydata3['power_1'], polymodel2.predict(polydata3),'+')"
   ]
  },
  {
   "cell_type": "code",
   "execution_count": 81,
   "metadata": {
    "collapsed": false
   },
   "outputs": [
    {
     "data": {
      "text/html": [
       "<div style=\"max-height:1000px;max-width:1500px;overflow:auto;\"><table frame=\"box\" rules=\"cols\">\n",
       "    <tr>\n",
       "        <th style=\"padding-left: 1em; padding-right: 1em; text-align: center\">Id</th>\n",
       "        <th style=\"padding-left: 1em; padding-right: 1em; text-align: center\">Title</th>\n",
       "        <th style=\"padding-left: 1em; padding-right: 1em; text-align: center\">Words_of_the_Title</th>\n",
       "        <th style=\"padding-left: 1em; padding-right: 1em; text-align: center\">English_or_not</th>\n",
       "        <th style=\"padding-left: 1em; padding-right: 1em; text-align: center\">person</th>\n",
       "        <th style=\"padding-left: 1em; padding-right: 1em; text-align: center\">the_Length_of_one_Episode</th>\n",
       "        <th style=\"padding-left: 1em; padding-right: 1em; text-align: center\">the_Playback_Amount_of_on<br>e_Episode ...</th>\n",
       "    </tr>\n",
       "    <tr>\n",
       "        <td style=\"padding-left: 1em; padding-right: 1em; text-align: center; vertical-align: top\">1</td>\n",
       "        <td style=\"padding-left: 1em; padding-right: 1em; text-align: center; vertical-align: top\">̥��������׼���������� -<br>ʮ�ºǻ� - ��Ѷ��Ƶ ...</td>\n",
       "        <td style=\"padding-left: 1em; padding-right: 1em; text-align: center; vertical-align: top\">25</td>\n",
       "        <td style=\"padding-left: 1em; padding-right: 1em; text-align: center; vertical-align: top\">0</td>\n",
       "        <td style=\"padding-left: 1em; padding-right: 1em; text-align: center; vertical-align: top\">0</td>\n",
       "        <td style=\"padding-left: 1em; padding-right: 1em; text-align: center; vertical-align: top\">195</td>\n",
       "        <td style=\"padding-left: 1em; padding-right: 1em; text-align: center; vertical-align: top\">2020</td>\n",
       "    </tr>\n",
       "    <tr>\n",
       "        <td style=\"padding-left: 1em; padding-right: 1em; text-align: center; vertical-align: top\">2</td>\n",
       "        <td style=\"padding-left: 1em; padding-right: 1em; text-align: center; vertical-align: top\">Ϊʲô���к����롰���ݺ��<br>ݡ� - ʮ�ºǻ� - ��Ѷ��Ƶ ...</td>\n",
       "        <td style=\"padding-left: 1em; padding-right: 1em; text-align: center; vertical-align: top\">28</td>\n",
       "        <td style=\"padding-left: 1em; padding-right: 1em; text-align: center; vertical-align: top\">0</td>\n",
       "        <td style=\"padding-left: 1em; padding-right: 1em; text-align: center; vertical-align: top\">0</td>\n",
       "        <td style=\"padding-left: 1em; padding-right: 1em; text-align: center; vertical-align: top\">182</td>\n",
       "        <td style=\"padding-left: 1em; padding-right: 1em; text-align: center; vertical-align: top\">54000</td>\n",
       "    </tr>\n",
       "    <tr>\n",
       "        <td style=\"padding-left: 1em; padding-right: 1em; text-align: center; vertical-align: top\">3</td>\n",
       "        <td style=\"padding-left: 1em; padding-right: 1em; text-align: center; vertical-align: top\">���к�����Щ�����������Լ<br>� - ʮ�ºǻ� - ��Ѷ��Ƶ ...</td>\n",
       "        <td style=\"padding-left: 1em; padding-right: 1em; text-align: center; vertical-align: top\">27</td>\n",
       "        <td style=\"padding-left: 1em; padding-right: 1em; text-align: center; vertical-align: top\">0</td>\n",
       "        <td style=\"padding-left: 1em; padding-right: 1em; text-align: center; vertical-align: top\">0</td>\n",
       "        <td style=\"padding-left: 1em; padding-right: 1em; text-align: center; vertical-align: top\">203</td>\n",
       "        <td style=\"padding-left: 1em; padding-right: 1em; text-align: center; vertical-align: top\">720000</td>\n",
       "    </tr>\n",
       "    <tr>\n",
       "        <td style=\"padding-left: 1em; padding-right: 1em; text-align: center; vertical-align: top\">4</td>\n",
       "        <td style=\"padding-left: 1em; padding-right: 1em; text-align: center; vertical-align: top\">100�������˵ķ��侭�� -<br>ʮ�ºǻ� - ��Ѷ��Ƶ ...</td>\n",
       "        <td style=\"padding-left: 1em; padding-right: 1em; text-align: center; vertical-align: top\">26</td>\n",
       "        <td style=\"padding-left: 1em; padding-right: 1em; text-align: center; vertical-align: top\">0</td>\n",
       "        <td style=\"padding-left: 1em; padding-right: 1em; text-align: center; vertical-align: top\">0</td>\n",
       "        <td style=\"padding-left: 1em; padding-right: 1em; text-align: center; vertical-align: top\">276</td>\n",
       "        <td style=\"padding-left: 1em; padding-right: 1em; text-align: center; vertical-align: top\">873000</td>\n",
       "    </tr>\n",
       "    <tr>\n",
       "        <td style=\"padding-left: 1em; padding-right: 1em; text-align: center; vertical-align: top\">5</td>\n",
       "        <td style=\"padding-left: 1em; padding-right: 1em; text-align: center; vertical-align: top\">������������ʱ�� -<br>ʮ�ºǻ� - ��Ѷ��Ƶ ...</td>\n",
       "        <td style=\"padding-left: 1em; padding-right: 1em; text-align: center; vertical-align: top\">23</td>\n",
       "        <td style=\"padding-left: 1em; padding-right: 1em; text-align: center; vertical-align: top\">0</td>\n",
       "        <td style=\"padding-left: 1em; padding-right: 1em; text-align: center; vertical-align: top\">0</td>\n",
       "        <td style=\"padding-left: 1em; padding-right: 1em; text-align: center; vertical-align: top\">194</td>\n",
       "        <td style=\"padding-left: 1em; padding-right: 1em; text-align: center; vertical-align: top\">832000</td>\n",
       "    </tr>\n",
       "    <tr>\n",
       "        <td style=\"padding-left: 1em; padding-right: 1em; text-align: center; vertical-align: top\">6</td>\n",
       "        <td style=\"padding-left: 1em; padding-right: 1em; text-align: center; vertical-align: top\">Ů�����������ΰٲ� -<br>ʮ�ºǻ� - ��Ѷ��Ƶ ...</td>\n",
       "        <td style=\"padding-left: 1em; padding-right: 1em; text-align: center; vertical-align: top\">23</td>\n",
       "        <td style=\"padding-left: 1em; padding-right: 1em; text-align: center; vertical-align: top\">0</td>\n",
       "        <td style=\"padding-left: 1em; padding-right: 1em; text-align: center; vertical-align: top\">0</td>\n",
       "        <td style=\"padding-left: 1em; padding-right: 1em; text-align: center; vertical-align: top\">214</td>\n",
       "        <td style=\"padding-left: 1em; padding-right: 1em; text-align: center; vertical-align: top\">692000</td>\n",
       "    </tr>\n",
       "    <tr>\n",
       "        <td style=\"padding-left: 1em; padding-right: 1em; text-align: center; vertical-align: top\">7</td>\n",
       "        <td style=\"padding-left: 1em; padding-right: 1em; text-align: center; vertical-align: top\">���о�������ȡ��<br>�̵��Ƶ�81�� - ʮ�ºǻ� ...</td>\n",
       "        <td style=\"padding-left: 1em; padding-right: 1em; text-align: center; vertical-align: top\">31</td>\n",
       "        <td style=\"padding-left: 1em; padding-right: 1em; text-align: center; vertical-align: top\">0</td>\n",
       "        <td style=\"padding-left: 1em; padding-right: 1em; text-align: center; vertical-align: top\">0</td>\n",
       "        <td style=\"padding-left: 1em; padding-right: 1em; text-align: center; vertical-align: top\">233</td>\n",
       "        <td style=\"padding-left: 1em; padding-right: 1em; text-align: center; vertical-align: top\">971000</td>\n",
       "    </tr>\n",
       "    <tr>\n",
       "        <td style=\"padding-left: 1em; padding-right: 1em; text-align: center; vertical-align: top\">8</td>\n",
       "        <td style=\"padding-left: 1em; padding-right: 1em; text-align: center; vertical-align: top\">���к��Ӱ�����������<br>- ʮ�ºǻ� - ��Ѷ��Ƶ ...</td>\n",
       "        <td style=\"padding-left: 1em; padding-right: 1em; text-align: center; vertical-align: top\">26</td>\n",
       "        <td style=\"padding-left: 1em; padding-right: 1em; text-align: center; vertical-align: top\">0</td>\n",
       "        <td style=\"padding-left: 1em; padding-right: 1em; text-align: center; vertical-align: top\">0</td>\n",
       "        <td style=\"padding-left: 1em; padding-right: 1em; text-align: center; vertical-align: top\">229</td>\n",
       "        <td style=\"padding-left: 1em; padding-right: 1em; text-align: center; vertical-align: top\">611000</td>\n",
       "    </tr>\n",
       "    <tr>\n",
       "        <td style=\"padding-left: 1em; padding-right: 1em; text-align: center; vertical-align: top\">9</td>\n",
       "        <td style=\"padding-left: 1em; padding-right: 1em; text-align: center; vertical-align: top\">���ڵ��׸�����Щ��飿 -<br>ʮ�ºǻ� - ��Ѷ��Ƶ ...</td>\n",
       "        <td style=\"padding-left: 1em; padding-right: 1em; text-align: center; vertical-align: top\">25</td>\n",
       "        <td style=\"padding-left: 1em; padding-right: 1em; text-align: center; vertical-align: top\">0</td>\n",
       "        <td style=\"padding-left: 1em; padding-right: 1em; text-align: center; vertical-align: top\">0</td>\n",
       "        <td style=\"padding-left: 1em; padding-right: 1em; text-align: center; vertical-align: top\">296</td>\n",
       "        <td style=\"padding-left: 1em; padding-right: 1em; text-align: center; vertical-align: top\">483000</td>\n",
       "    </tr>\n",
       "    <tr>\n",
       "        <td style=\"padding-left: 1em; padding-right: 1em; text-align: center; vertical-align: top\">10</td>\n",
       "        <td style=\"padding-left: 1em; padding-right: 1em; text-align: center; vertical-align: top\">���������Ѫ����Ҫ��Ҫ��<br>� - ʮ�ºǻ� - ��Ѷ��Ƶ ...</td>\n",
       "        <td style=\"padding-left: 1em; padding-right: 1em; text-align: center; vertical-align: top\">27</td>\n",
       "        <td style=\"padding-left: 1em; padding-right: 1em; text-align: center; vertical-align: top\">0</td>\n",
       "        <td style=\"padding-left: 1em; padding-right: 1em; text-align: center; vertical-align: top\">0</td>\n",
       "        <td style=\"padding-left: 1em; padding-right: 1em; text-align: center; vertical-align: top\">206</td>\n",
       "        <td style=\"padding-left: 1em; padding-right: 1em; text-align: center; vertical-align: top\">214000</td>\n",
       "    </tr>\n",
       "</table>\n",
       "<table frame=\"box\" rules=\"cols\">\n",
       "    <tr>\n",
       "        <th style=\"padding-left: 1em; padding-right: 1em; text-align: center\">Release_Week</th>\n",
       "        <th style=\"padding-left: 1em; padding-right: 1em; text-align: center\">PageUrl</th>\n",
       "        <th style=\"padding-left: 1em; padding-right: 1em; text-align: center\">Relative</th>\n",
       "        <th style=\"padding-left: 1em; padding-right: 1em; text-align: center\">playbackperweek</th>\n",
       "    </tr>\n",
       "    <tr>\n",
       "        <td style=\"padding-left: 1em; padding-right: 1em; text-align: center; vertical-align: top\">5</td>\n",
       "        <td style=\"padding-left: 1em; padding-right: 1em; text-align: center; vertical-align: top\">https://v.qq.com/x/cover/<br>d2x46xrtl0rrrst/l0380 ...</td>\n",
       "        <td style=\"padding-left: 1em; padding-right: 1em; text-align: center; vertical-align: top\">1971 60 230 5071 1031<br>1572 5567 1520 5568 569 ...</td>\n",
       "        <td style=\"padding-left: 1em; padding-right: 1em; text-align: center; vertical-align: top\">404.0</td>\n",
       "    </tr>\n",
       "    <tr>\n",
       "        <td style=\"padding-left: 1em; padding-right: 1em; text-align: center; vertical-align: top\">3</td>\n",
       "        <td style=\"padding-left: 1em; padding-right: 1em; text-align: center; vertical-align: top\">https://v.qq.com/x/cover/<br>d2x46xrtl0rrrst/w0380 ...</td>\n",
       "        <td style=\"padding-left: 1em; padding-right: 1em; text-align: center; vertical-align: top\">954 462 463 5627 5628<br>5629 5628 5629 5567 1520 ...</td>\n",
       "        <td style=\"padding-left: 1em; padding-right: 1em; text-align: center; vertical-align: top\">18000.0</td>\n",
       "    </tr>\n",
       "    <tr>\n",
       "        <td style=\"padding-left: 1em; padding-right: 1em; text-align: center; vertical-align: top\">3</td>\n",
       "        <td style=\"padding-left: 1em; padding-right: 1em; text-align: center; vertical-align: top\">https://v.qq.com/x/cover/<br>d2x46xrtl0rrrst/w0377 ...</td>\n",
       "        <td style=\"padding-left: 1em; padding-right: 1em; text-align: center; vertical-align: top\">462 463 218 389 2223 407<br>5630 788 5567 1520 5568 ...</td>\n",
       "        <td style=\"padding-left: 1em; padding-right: 1em; text-align: center; vertical-align: top\">240000.0</td>\n",
       "    </tr>\n",
       "    <tr>\n",
       "        <td style=\"padding-left: 1em; padding-right: 1em; text-align: center; vertical-align: top\">3</td>\n",
       "        <td style=\"padding-left: 1em; padding-right: 1em; text-align: center; vertical-align: top\">https://v.qq.com/x/cover/<br>d2x46xrtl0rrrst/j0375 ...</td>\n",
       "        <td style=\"padding-left: 1em; padding-right: 1em; text-align: center; vertical-align: top\">5631 3977 40 3492 5632<br>5567 1520 5568 569 ...</td>\n",
       "        <td style=\"padding-left: 1em; padding-right: 1em; text-align: center; vertical-align: top\">291000.0</td>\n",
       "    </tr>\n",
       "    <tr>\n",
       "        <td style=\"padding-left: 1em; padding-right: 1em; text-align: center; vertical-align: top\">3</td>\n",
       "        <td style=\"padding-left: 1em; padding-right: 1em; text-align: center; vertical-align: top\">https://v.qq.com/x/cover/<br>d2x46xrtl0rrrst/z0364 ...</td>\n",
       "        <td style=\"padding-left: 1em; padding-right: 1em; text-align: center; vertical-align: top\">899 5633 2270 381 701<br>5567 1520 5568 569 ...</td>\n",
       "        <td style=\"padding-left: 1em; padding-right: 1em; text-align: center; vertical-align: top\">277333.333333</td>\n",
       "    </tr>\n",
       "    <tr>\n",
       "        <td style=\"padding-left: 1em; padding-right: 1em; text-align: center; vertical-align: top\">5</td>\n",
       "        <td style=\"padding-left: 1em; padding-right: 1em; text-align: center; vertical-align: top\">https://v.qq.com/x/cover/<br>d2x46xrtl0rrrst/i0363 ...</td>\n",
       "        <td style=\"padding-left: 1em; padding-right: 1em; text-align: center; vertical-align: top\">1366 5427 407 1354 775<br>5567 1520 5568 569 ...</td>\n",
       "        <td style=\"padding-left: 1em; padding-right: 1em; text-align: center; vertical-align: top\">138400.0</td>\n",
       "    </tr>\n",
       "    <tr>\n",
       "        <td style=\"padding-left: 1em; padding-right: 1em; text-align: center; vertical-align: top\">5</td>\n",
       "        <td style=\"padding-left: 1em; padding-right: 1em; text-align: center; vertical-align: top\">https://v.qq.com/x/cover/<br>d2x46xrtl0rrrst/k0361 ...</td>\n",
       "        <td style=\"padding-left: 1em; padding-right: 1em; text-align: center; vertical-align: top\">462 5634 5635 5636 4923<br>3745 1154 40 5637 1386 ...</td>\n",
       "        <td style=\"padding-left: 1em; padding-right: 1em; text-align: center; vertical-align: top\">194200.0</td>\n",
       "    </tr>\n",
       "    <tr>\n",
       "        <td style=\"padding-left: 1em; padding-right: 1em; text-align: center; vertical-align: top\">3</td>\n",
       "        <td style=\"padding-left: 1em; padding-right: 1em; text-align: center; vertical-align: top\">https://v.qq.com/x/cover/<br>d2x46xrtl0rrrst/e0360 ...</td>\n",
       "        <td style=\"padding-left: 1em; padding-right: 1em; text-align: center; vertical-align: top\">5638 5386 5411 158 5639<br>58 5567 1520 5568 569 ...</td>\n",
       "        <td style=\"padding-left: 1em; padding-right: 1em; text-align: center; vertical-align: top\">203666.666667</td>\n",
       "    </tr>\n",
       "    <tr>\n",
       "        <td style=\"padding-left: 1em; padding-right: 1em; text-align: center; vertical-align: top\">2</td>\n",
       "        <td style=\"padding-left: 1em; padding-right: 1em; text-align: center; vertical-align: top\">https://v.qq.com/x/cover/<br>d2x46xrtl0rrrst/e0359 ...</td>\n",
       "        <td style=\"padding-left: 1em; padding-right: 1em; text-align: center; vertical-align: top\">386 1666 1029 389 1473<br>5567 1520 5568 569 ...</td>\n",
       "        <td style=\"padding-left: 1em; padding-right: 1em; text-align: center; vertical-align: top\">241500.0</td>\n",
       "    </tr>\n",
       "    <tr>\n",
       "        <td style=\"padding-left: 1em; padding-right: 1em; text-align: center; vertical-align: top\">3</td>\n",
       "        <td style=\"padding-left: 1em; padding-right: 1em; text-align: center; vertical-align: top\">https://v.qq.com/x/cover/<br>d2x46xrtl0rrrst/m0357 ...</td>\n",
       "        <td style=\"padding-left: 1em; padding-right: 1em; text-align: center; vertical-align: top\">60 40 5640 1666 536 5641<br>5567 1520 5568 569 ...</td>\n",
       "        <td style=\"padding-left: 1em; padding-right: 1em; text-align: center; vertical-align: top\">71333.3333333</td>\n",
       "    </tr>\n",
       "</table>\n",
       "[248 rows x 11 columns]<br/>Note: Only the head of the SFrame is printed.<br/>You can use print_rows(num_rows=m, num_columns=n) to print more rows and columns.\n",
       "</div>"
      ],
      "text/plain": [
       "Columns:\n",
       "\tId\tint\n",
       "\tTitle\tstr\n",
       "\tWords_of_the_Title\tint\n",
       "\tEnglish_or_not\tint\n",
       "\tperson\tint\n",
       "\tthe_Length_of_one_Episode\tint\n",
       "\tthe_Playback_Amount_of_one_Episode\tint\n",
       "\tRelease_Week\tint\n",
       "\tPageUrl\tstr\n",
       "\tRelative\tstr\n",
       "\tplaybackperweek\tfloat\n",
       "\n",
       "Rows: 248\n",
       "\n",
       "Data:\n",
       "+----+--------------------------------+--------------------+----------------+--------+\n",
       "| Id |             Title              | Words_of_the_Title | English_or_not | person |\n",
       "+----+--------------------------------+--------------------+----------------+--------+\n",
       "| 1  |  ̥��������׼���������� - ʮ�º...  |         25         |       0        |   0    |\n",
       "| 2  | Ϊʲô���к����롰���ݺ��ݡ� - ʮ�º... |         28         |       0        |   0    |\n",
       "| 3  | ���к�����Щ�����������Լ� - ...  |         27         |       0        |   0    |\n",
       "| 4  | 100�������˵ķ��侭�� - ʮ�ºǻ� ... |         26         |       0        |   0    |\n",
       "| 5  | ������������ʱ�� - ʮ�ºǻ� - ...  |         23         |       0        |   0    |\n",
       "| 6  | Ů�����������ΰٲ� - ʮ�ºǻ� - ...  |         23         |       0        |   0    |\n",
       "| 7  |  ���о�������ȡ�� �̵��Ƶ�81�� ...  |         31         |       0        |   0    |\n",
       "| 8  | ���к��Ӱ����������� - ʮ�ºǻ�...  |         26         |       0        |   0    |\n",
       "| 9  | ���ڵ��׸�����Щ��飿 - ʮ�ºǻ� -... |         25         |       0        |   0    |\n",
       "| 10 | ���������Ѫ����Ҫ��Ҫ�棿 - ʮ�º... |         27         |       0        |   0    |\n",
       "+----+--------------------------------+--------------------+----------------+--------+\n",
       "+---------------------------+-------------------------------+--------------+\n",
       "| the_Length_of_one_Episode | the_Playback_Amount_of_one... | Release_Week |\n",
       "+---------------------------+-------------------------------+--------------+\n",
       "|            195            |              2020             |      5       |\n",
       "|            182            |             54000             |      3       |\n",
       "|            203            |             720000            |      3       |\n",
       "|            276            |             873000            |      3       |\n",
       "|            194            |             832000            |      3       |\n",
       "|            214            |             692000            |      5       |\n",
       "|            233            |             971000            |      5       |\n",
       "|            229            |             611000            |      3       |\n",
       "|            296            |             483000            |      2       |\n",
       "|            206            |             214000            |      3       |\n",
       "+---------------------------+-------------------------------+--------------+\n",
       "+-------------------------------+-------------------------------+-----------------+\n",
       "|            PageUrl            |            Relative           | playbackperweek |\n",
       "+-------------------------------+-------------------------------+-----------------+\n",
       "| https://v.qq.com/x/cover/d... | 1971 60 230 5071 1031 1572... |      404.0      |\n",
       "| https://v.qq.com/x/cover/d... | 954 462 463 5627 5628 5629... |     18000.0     |\n",
       "| https://v.qq.com/x/cover/d... | 462 463 218 389 2223 407 5... |     240000.0    |\n",
       "| https://v.qq.com/x/cover/d... | 5631 3977 40 3492 5632 556... |     291000.0    |\n",
       "| https://v.qq.com/x/cover/d... | 899 5633 2270 381 701 5567... |  277333.333333  |\n",
       "| https://v.qq.com/x/cover/d... | 1366 5427 407 1354 775 556... |     138400.0    |\n",
       "| https://v.qq.com/x/cover/d... | 462 5634 5635 5636 4923 37... |     194200.0    |\n",
       "| https://v.qq.com/x/cover/d... | 5638 5386 5411 158 5639 58... |  203666.666667  |\n",
       "| https://v.qq.com/x/cover/d... | 386 1666 1029 389 1473 556... |     241500.0    |\n",
       "| https://v.qq.com/x/cover/d... | 60 40 5640 1666 536 5641 5... |  71333.3333333  |\n",
       "+-------------------------------+-------------------------------+-----------------+\n",
       "[248 rows x 11 columns]\n",
       "Note: Only the head of the SFrame is printed.\n",
       "You can use print_rows(num_rows=m, num_columns=n) to print more rows and columns."
      ]
     },
     "execution_count": 81,
     "metadata": {},
     "output_type": "execute_result"
    }
   ],
   "source": [
    "shiyuehehub"
   ]
  },
  {
   "cell_type": "code",
   "execution_count": 82,
   "metadata": {
    "collapsed": true
   },
   "outputs": [],
   "source": [
    "my_features = ['Words_of_the_Title', 'the_Length_of_one_Episode']"
   ]
  },
  {
   "cell_type": "code",
   "execution_count": 87,
   "metadata": {
    "collapsed": false
   },
   "outputs": [
    {
     "data": {
      "text/html": [
       "<pre>Linear regression:</pre>"
      ],
      "text/plain": [
       "Linear regression:"
      ]
     },
     "metadata": {},
     "output_type": "display_data"
    },
    {
     "data": {
      "text/html": [
       "<pre>--------------------------------------------------------</pre>"
      ],
      "text/plain": [
       "--------------------------------------------------------"
      ]
     },
     "metadata": {},
     "output_type": "display_data"
    },
    {
     "data": {
      "text/html": [
       "<pre>Number of examples          : 248</pre>"
      ],
      "text/plain": [
       "Number of examples          : 248"
      ]
     },
     "metadata": {},
     "output_type": "display_data"
    },
    {
     "data": {
      "text/html": [
       "<pre>Number of features          : 2</pre>"
      ],
      "text/plain": [
       "Number of features          : 2"
      ]
     },
     "metadata": {},
     "output_type": "display_data"
    },
    {
     "data": {
      "text/html": [
       "<pre>Number of unpacked features : 2</pre>"
      ],
      "text/plain": [
       "Number of unpacked features : 2"
      ]
     },
     "metadata": {},
     "output_type": "display_data"
    },
    {
     "data": {
      "text/html": [
       "<pre>Number of coefficients    : 3</pre>"
      ],
      "text/plain": [
       "Number of coefficients    : 3"
      ]
     },
     "metadata": {},
     "output_type": "display_data"
    },
    {
     "data": {
      "text/html": [
       "<pre>Starting Newton Method</pre>"
      ],
      "text/plain": [
       "Starting Newton Method"
      ]
     },
     "metadata": {},
     "output_type": "display_data"
    },
    {
     "data": {
      "text/html": [
       "<pre>--------------------------------------------------------</pre>"
      ],
      "text/plain": [
       "--------------------------------------------------------"
      ]
     },
     "metadata": {},
     "output_type": "display_data"
    },
    {
     "data": {
      "text/html": [
       "<pre>+-----------+----------+--------------+--------------------+----------------------+---------------+-----------------+</pre>"
      ],
      "text/plain": [
       "+-----------+----------+--------------+--------------------+----------------------+---------------+-----------------+"
      ]
     },
     "metadata": {},
     "output_type": "display_data"
    },
    {
     "data": {
      "text/html": [
       "<pre>| Iteration | Passes   | Elapsed Time | Training-max_error | Validation-max_error | Training-rmse | Validation-rmse |</pre>"
      ],
      "text/plain": [
       "| Iteration | Passes   | Elapsed Time | Training-max_error | Validation-max_error | Training-rmse | Validation-rmse |"
      ]
     },
     "metadata": {},
     "output_type": "display_data"
    },
    {
     "data": {
      "text/html": [
       "<pre>+-----------+----------+--------------+--------------------+----------------------+---------------+-----------------+</pre>"
      ],
      "text/plain": [
       "+-----------+----------+--------------+--------------------+----------------------+---------------+-----------------+"
      ]
     },
     "metadata": {},
     "output_type": "display_data"
    },
    {
     "data": {
      "text/html": [
       "<pre>| 1         | 2        | 0.001174     | 1000999.587655     | 1000999.587655       | 176682.811535 | 176682.811535   |</pre>"
      ],
      "text/plain": [
       "| 1         | 2        | 0.001174     | 1000999.587655     | 1000999.587655       | 176682.811535 | 176682.811535   |"
      ]
     },
     "metadata": {},
     "output_type": "display_data"
    },
    {
     "data": {
      "text/html": [
       "<pre>+-----------+----------+--------------+--------------------+----------------------+---------------+-----------------+</pre>"
      ],
      "text/plain": [
       "+-----------+----------+--------------+--------------------+----------------------+---------------+-----------------+"
      ]
     },
     "metadata": {},
     "output_type": "display_data"
    },
    {
     "data": {
      "text/html": [
       "<pre>SUCCESS: Optimal solution found.</pre>"
      ],
      "text/plain": [
       "SUCCESS: Optimal solution found."
      ]
     },
     "metadata": {},
     "output_type": "display_data"
    },
    {
     "data": {
      "text/html": [
       "<pre></pre>"
      ],
      "text/plain": []
     },
     "metadata": {},
     "output_type": "display_data"
    },
    {
     "name": "stdout",
     "output_type": "stream",
     "text": [
      "Class                          : LinearRegression\n",
      "\n",
      "Schema\n",
      "------\n",
      "Number of coefficients         : 3\n",
      "Number of examples             : 248\n",
      "Number of feature columns      : 2\n",
      "Number of unpacked features    : 2\n",
      "\n",
      "Hyperparameters\n",
      "---------------\n",
      "L1 penalty                     : 0.0\n",
      "L2 penalty                     : 0.01\n",
      "\n",
      "Training Summary\n",
      "----------------\n",
      "Solver                         : newton\n",
      "Solver iterations              : 1\n",
      "Solver status                  : SUCCESS: Optimal solution found.\n",
      "Training time (sec)            : 0.0021\n",
      "\n",
      "Settings\n",
      "--------\n",
      "Residual sum of squares        : 7.74177034122e+12\n",
      "Training RMSE                  : 176682.8115\n",
      "\n",
      "Highest Positive Coefficients\n",
      "-----------------------------\n",
      "(intercept)                    : 271544.8895\n",
      "the_Length_of_one_Episode      : 277.9293\n",
      "\n",
      "Lowest Negative Coefficients\n",
      "----------------------------\n",
      "Words_of_the_Title             : -5364.2291\n",
      "\n"
     ]
    }
   ],
   "source": [
    "example_model = graphlab.linear_regression.create(shiyuehehub, target = 'playbackperweek', features =my_features, \n",
    "                                                  validation_set = shiyuehehub)\n",
    "example_model.summary()"
   ]
  },
  {
   "cell_type": "code",
   "execution_count": 86,
   "metadata": {
    "collapsed": false
   },
   "outputs": [
    {
     "data": {
      "text/html": [
       "<div style=\"max-height:1000px;max-width:1500px;overflow:auto;\"><table frame=\"box\" rules=\"cols\">\n",
       "    <tr>\n",
       "        <th style=\"padding-left: 1em; padding-right: 1em; text-align: center\">Id</th>\n",
       "        <th style=\"padding-left: 1em; padding-right: 1em; text-align: center\">Title</th>\n",
       "        <th style=\"padding-left: 1em; padding-right: 1em; text-align: center\">Words_of_the_Title</th>\n",
       "        <th style=\"padding-left: 1em; padding-right: 1em; text-align: center\">English_or_not</th>\n",
       "        <th style=\"padding-left: 1em; padding-right: 1em; text-align: center\">person</th>\n",
       "        <th style=\"padding-left: 1em; padding-right: 1em; text-align: center\">the_Length_of_one_Episode</th>\n",
       "        <th style=\"padding-left: 1em; padding-right: 1em; text-align: center\">the_Playback_Amount_of_on<br>e_Episode ...</th>\n",
       "    </tr>\n",
       "    <tr>\n",
       "        <td style=\"padding-left: 1em; padding-right: 1em; text-align: center; vertical-align: top\">1</td>\n",
       "        <td style=\"padding-left: 1em; padding-right: 1em; text-align: center; vertical-align: top\">̥��������׼���������� -<br>ʮ�ºǻ� - ��Ѷ��Ƶ ...</td>\n",
       "        <td style=\"padding-left: 1em; padding-right: 1em; text-align: center; vertical-align: top\">25</td>\n",
       "        <td style=\"padding-left: 1em; padding-right: 1em; text-align: center; vertical-align: top\">0</td>\n",
       "        <td style=\"padding-left: 1em; padding-right: 1em; text-align: center; vertical-align: top\">0</td>\n",
       "        <td style=\"padding-left: 1em; padding-right: 1em; text-align: center; vertical-align: top\">195</td>\n",
       "        <td style=\"padding-left: 1em; padding-right: 1em; text-align: center; vertical-align: top\">2020</td>\n",
       "    </tr>\n",
       "    <tr>\n",
       "        <td style=\"padding-left: 1em; padding-right: 1em; text-align: center; vertical-align: top\">2</td>\n",
       "        <td style=\"padding-left: 1em; padding-right: 1em; text-align: center; vertical-align: top\">Ϊʲô���к����롰���ݺ��<br>ݡ� - ʮ�ºǻ� - ��Ѷ��Ƶ ...</td>\n",
       "        <td style=\"padding-left: 1em; padding-right: 1em; text-align: center; vertical-align: top\">28</td>\n",
       "        <td style=\"padding-left: 1em; padding-right: 1em; text-align: center; vertical-align: top\">0</td>\n",
       "        <td style=\"padding-left: 1em; padding-right: 1em; text-align: center; vertical-align: top\">0</td>\n",
       "        <td style=\"padding-left: 1em; padding-right: 1em; text-align: center; vertical-align: top\">182</td>\n",
       "        <td style=\"padding-left: 1em; padding-right: 1em; text-align: center; vertical-align: top\">54000</td>\n",
       "    </tr>\n",
       "    <tr>\n",
       "        <td style=\"padding-left: 1em; padding-right: 1em; text-align: center; vertical-align: top\">3</td>\n",
       "        <td style=\"padding-left: 1em; padding-right: 1em; text-align: center; vertical-align: top\">���к�����Щ�����������Լ<br>� - ʮ�ºǻ� - ��Ѷ��Ƶ ...</td>\n",
       "        <td style=\"padding-left: 1em; padding-right: 1em; text-align: center; vertical-align: top\">27</td>\n",
       "        <td style=\"padding-left: 1em; padding-right: 1em; text-align: center; vertical-align: top\">0</td>\n",
       "        <td style=\"padding-left: 1em; padding-right: 1em; text-align: center; vertical-align: top\">0</td>\n",
       "        <td style=\"padding-left: 1em; padding-right: 1em; text-align: center; vertical-align: top\">203</td>\n",
       "        <td style=\"padding-left: 1em; padding-right: 1em; text-align: center; vertical-align: top\">720000</td>\n",
       "    </tr>\n",
       "    <tr>\n",
       "        <td style=\"padding-left: 1em; padding-right: 1em; text-align: center; vertical-align: top\">4</td>\n",
       "        <td style=\"padding-left: 1em; padding-right: 1em; text-align: center; vertical-align: top\">100�������˵ķ��侭�� -<br>ʮ�ºǻ� - ��Ѷ��Ƶ ...</td>\n",
       "        <td style=\"padding-left: 1em; padding-right: 1em; text-align: center; vertical-align: top\">26</td>\n",
       "        <td style=\"padding-left: 1em; padding-right: 1em; text-align: center; vertical-align: top\">0</td>\n",
       "        <td style=\"padding-left: 1em; padding-right: 1em; text-align: center; vertical-align: top\">0</td>\n",
       "        <td style=\"padding-left: 1em; padding-right: 1em; text-align: center; vertical-align: top\">276</td>\n",
       "        <td style=\"padding-left: 1em; padding-right: 1em; text-align: center; vertical-align: top\">873000</td>\n",
       "    </tr>\n",
       "    <tr>\n",
       "        <td style=\"padding-left: 1em; padding-right: 1em; text-align: center; vertical-align: top\">5</td>\n",
       "        <td style=\"padding-left: 1em; padding-right: 1em; text-align: center; vertical-align: top\">������������ʱ�� -<br>ʮ�ºǻ� - ��Ѷ��Ƶ ...</td>\n",
       "        <td style=\"padding-left: 1em; padding-right: 1em; text-align: center; vertical-align: top\">23</td>\n",
       "        <td style=\"padding-left: 1em; padding-right: 1em; text-align: center; vertical-align: top\">0</td>\n",
       "        <td style=\"padding-left: 1em; padding-right: 1em; text-align: center; vertical-align: top\">0</td>\n",
       "        <td style=\"padding-left: 1em; padding-right: 1em; text-align: center; vertical-align: top\">194</td>\n",
       "        <td style=\"padding-left: 1em; padding-right: 1em; text-align: center; vertical-align: top\">832000</td>\n",
       "    </tr>\n",
       "    <tr>\n",
       "        <td style=\"padding-left: 1em; padding-right: 1em; text-align: center; vertical-align: top\">6</td>\n",
       "        <td style=\"padding-left: 1em; padding-right: 1em; text-align: center; vertical-align: top\">Ů�����������ΰٲ� -<br>ʮ�ºǻ� - ��Ѷ��Ƶ ...</td>\n",
       "        <td style=\"padding-left: 1em; padding-right: 1em; text-align: center; vertical-align: top\">23</td>\n",
       "        <td style=\"padding-left: 1em; padding-right: 1em; text-align: center; vertical-align: top\">0</td>\n",
       "        <td style=\"padding-left: 1em; padding-right: 1em; text-align: center; vertical-align: top\">0</td>\n",
       "        <td style=\"padding-left: 1em; padding-right: 1em; text-align: center; vertical-align: top\">214</td>\n",
       "        <td style=\"padding-left: 1em; padding-right: 1em; text-align: center; vertical-align: top\">692000</td>\n",
       "    </tr>\n",
       "    <tr>\n",
       "        <td style=\"padding-left: 1em; padding-right: 1em; text-align: center; vertical-align: top\">7</td>\n",
       "        <td style=\"padding-left: 1em; padding-right: 1em; text-align: center; vertical-align: top\">���о�������ȡ��<br>�̵��Ƶ�81�� - ʮ�ºǻ� ...</td>\n",
       "        <td style=\"padding-left: 1em; padding-right: 1em; text-align: center; vertical-align: top\">31</td>\n",
       "        <td style=\"padding-left: 1em; padding-right: 1em; text-align: center; vertical-align: top\">0</td>\n",
       "        <td style=\"padding-left: 1em; padding-right: 1em; text-align: center; vertical-align: top\">0</td>\n",
       "        <td style=\"padding-left: 1em; padding-right: 1em; text-align: center; vertical-align: top\">233</td>\n",
       "        <td style=\"padding-left: 1em; padding-right: 1em; text-align: center; vertical-align: top\">971000</td>\n",
       "    </tr>\n",
       "    <tr>\n",
       "        <td style=\"padding-left: 1em; padding-right: 1em; text-align: center; vertical-align: top\">8</td>\n",
       "        <td style=\"padding-left: 1em; padding-right: 1em; text-align: center; vertical-align: top\">���к��Ӱ�����������<br>- ʮ�ºǻ� - ��Ѷ��Ƶ ...</td>\n",
       "        <td style=\"padding-left: 1em; padding-right: 1em; text-align: center; vertical-align: top\">26</td>\n",
       "        <td style=\"padding-left: 1em; padding-right: 1em; text-align: center; vertical-align: top\">0</td>\n",
       "        <td style=\"padding-left: 1em; padding-right: 1em; text-align: center; vertical-align: top\">0</td>\n",
       "        <td style=\"padding-left: 1em; padding-right: 1em; text-align: center; vertical-align: top\">229</td>\n",
       "        <td style=\"padding-left: 1em; padding-right: 1em; text-align: center; vertical-align: top\">611000</td>\n",
       "    </tr>\n",
       "    <tr>\n",
       "        <td style=\"padding-left: 1em; padding-right: 1em; text-align: center; vertical-align: top\">9</td>\n",
       "        <td style=\"padding-left: 1em; padding-right: 1em; text-align: center; vertical-align: top\">���ڵ��׸�����Щ��飿 -<br>ʮ�ºǻ� - ��Ѷ��Ƶ ...</td>\n",
       "        <td style=\"padding-left: 1em; padding-right: 1em; text-align: center; vertical-align: top\">25</td>\n",
       "        <td style=\"padding-left: 1em; padding-right: 1em; text-align: center; vertical-align: top\">0</td>\n",
       "        <td style=\"padding-left: 1em; padding-right: 1em; text-align: center; vertical-align: top\">0</td>\n",
       "        <td style=\"padding-left: 1em; padding-right: 1em; text-align: center; vertical-align: top\">296</td>\n",
       "        <td style=\"padding-left: 1em; padding-right: 1em; text-align: center; vertical-align: top\">483000</td>\n",
       "    </tr>\n",
       "    <tr>\n",
       "        <td style=\"padding-left: 1em; padding-right: 1em; text-align: center; vertical-align: top\">10</td>\n",
       "        <td style=\"padding-left: 1em; padding-right: 1em; text-align: center; vertical-align: top\">���������Ѫ����Ҫ��Ҫ��<br>� - ʮ�ºǻ� - ��Ѷ��Ƶ ...</td>\n",
       "        <td style=\"padding-left: 1em; padding-right: 1em; text-align: center; vertical-align: top\">27</td>\n",
       "        <td style=\"padding-left: 1em; padding-right: 1em; text-align: center; vertical-align: top\">0</td>\n",
       "        <td style=\"padding-left: 1em; padding-right: 1em; text-align: center; vertical-align: top\">0</td>\n",
       "        <td style=\"padding-left: 1em; padding-right: 1em; text-align: center; vertical-align: top\">206</td>\n",
       "        <td style=\"padding-left: 1em; padding-right: 1em; text-align: center; vertical-align: top\">214000</td>\n",
       "    </tr>\n",
       "</table>\n",
       "<table frame=\"box\" rules=\"cols\">\n",
       "    <tr>\n",
       "        <th style=\"padding-left: 1em; padding-right: 1em; text-align: center\">Release_Week</th>\n",
       "        <th style=\"padding-left: 1em; padding-right: 1em; text-align: center\">PageUrl</th>\n",
       "        <th style=\"padding-left: 1em; padding-right: 1em; text-align: center\">Relative</th>\n",
       "        <th style=\"padding-left: 1em; padding-right: 1em; text-align: center\">playbackperweek</th>\n",
       "        <th style=\"padding-left: 1em; padding-right: 1em; text-align: center\">prediction</th>\n",
       "    </tr>\n",
       "    <tr>\n",
       "        <td style=\"padding-left: 1em; padding-right: 1em; text-align: center; vertical-align: top\">5</td>\n",
       "        <td style=\"padding-left: 1em; padding-right: 1em; text-align: center; vertical-align: top\">https://v.qq.com/x/cover/<br>d2x46xrtl0rrrst/l0380 ...</td>\n",
       "        <td style=\"padding-left: 1em; padding-right: 1em; text-align: center; vertical-align: top\">1971 60 230 5071 1031<br>1572 5567 1520 5568 569 ...</td>\n",
       "        <td style=\"padding-left: 1em; padding-right: 1em; text-align: center; vertical-align: top\">404.0</td>\n",
       "        <td style=\"padding-left: 1em; padding-right: 1em; text-align: center; vertical-align: top\">191635.384264</td>\n",
       "    </tr>\n",
       "    <tr>\n",
       "        <td style=\"padding-left: 1em; padding-right: 1em; text-align: center; vertical-align: top\">3</td>\n",
       "        <td style=\"padding-left: 1em; padding-right: 1em; text-align: center; vertical-align: top\">https://v.qq.com/x/cover/<br>d2x46xrtl0rrrst/w0380 ...</td>\n",
       "        <td style=\"padding-left: 1em; padding-right: 1em; text-align: center; vertical-align: top\">954 462 463 5627 5628<br>5629 5628 5629 5567 1520 ...</td>\n",
       "        <td style=\"padding-left: 1em; padding-right: 1em; text-align: center; vertical-align: top\">18000.0</td>\n",
       "        <td style=\"padding-left: 1em; padding-right: 1em; text-align: center; vertical-align: top\">171929.615664</td>\n",
       "    </tr>\n",
       "    <tr>\n",
       "        <td style=\"padding-left: 1em; padding-right: 1em; text-align: center; vertical-align: top\">3</td>\n",
       "        <td style=\"padding-left: 1em; padding-right: 1em; text-align: center; vertical-align: top\">https://v.qq.com/x/cover/<br>d2x46xrtl0rrrst/w0377 ...</td>\n",
       "        <td style=\"padding-left: 1em; padding-right: 1em; text-align: center; vertical-align: top\">462 463 218 389 2223 407<br>5630 788 5567 1520 5568 ...</td>\n",
       "        <td style=\"padding-left: 1em; padding-right: 1em; text-align: center; vertical-align: top\">240000.0</td>\n",
       "        <td style=\"padding-left: 1em; padding-right: 1em; text-align: center; vertical-align: top\">183130.36086</td>\n",
       "    </tr>\n",
       "    <tr>\n",
       "        <td style=\"padding-left: 1em; padding-right: 1em; text-align: center; vertical-align: top\">3</td>\n",
       "        <td style=\"padding-left: 1em; padding-right: 1em; text-align: center; vertical-align: top\">https://v.qq.com/x/cover/<br>d2x46xrtl0rrrst/j0375 ...</td>\n",
       "        <td style=\"padding-left: 1em; padding-right: 1em; text-align: center; vertical-align: top\">5631 3977 40 3492 5632<br>5567 1520 5568 569 ...</td>\n",
       "        <td style=\"padding-left: 1em; padding-right: 1em; text-align: center; vertical-align: top\">291000.0</td>\n",
       "        <td style=\"padding-left: 1em; padding-right: 1em; text-align: center; vertical-align: top\">208783.431726</td>\n",
       "    </tr>\n",
       "    <tr>\n",
       "        <td style=\"padding-left: 1em; padding-right: 1em; text-align: center; vertical-align: top\">3</td>\n",
       "        <td style=\"padding-left: 1em; padding-right: 1em; text-align: center; vertical-align: top\">https://v.qq.com/x/cover/<br>d2x46xrtl0rrrst/z0364 ...</td>\n",
       "        <td style=\"padding-left: 1em; padding-right: 1em; text-align: center; vertical-align: top\">899 5633 2270 381 701<br>5567 1520 5568 569 ...</td>\n",
       "        <td style=\"padding-left: 1em; padding-right: 1em; text-align: center; vertical-align: top\">277333.333333</td>\n",
       "        <td style=\"padding-left: 1em; padding-right: 1em; text-align: center; vertical-align: top\">202085.913046</td>\n",
       "    </tr>\n",
       "    <tr>\n",
       "        <td style=\"padding-left: 1em; padding-right: 1em; text-align: center; vertical-align: top\">5</td>\n",
       "        <td style=\"padding-left: 1em; padding-right: 1em; text-align: center; vertical-align: top\">https://v.qq.com/x/cover/<br>d2x46xrtl0rrrst/i0363 ...</td>\n",
       "        <td style=\"padding-left: 1em; padding-right: 1em; text-align: center; vertical-align: top\">1366 5427 407 1354 775<br>5567 1520 5568 569 ...</td>\n",
       "        <td style=\"padding-left: 1em; padding-right: 1em; text-align: center; vertical-align: top\">138400.0</td>\n",
       "        <td style=\"padding-left: 1em; padding-right: 1em; text-align: center; vertical-align: top\">207644.499842</td>\n",
       "    </tr>\n",
       "    <tr>\n",
       "        <td style=\"padding-left: 1em; padding-right: 1em; text-align: center; vertical-align: top\">5</td>\n",
       "        <td style=\"padding-left: 1em; padding-right: 1em; text-align: center; vertical-align: top\">https://v.qq.com/x/cover/<br>d2x46xrtl0rrrst/k0361 ...</td>\n",
       "        <td style=\"padding-left: 1em; padding-right: 1em; text-align: center; vertical-align: top\">462 5634 5635 5636 4923<br>3745 1154 40 5637 1386 ...</td>\n",
       "        <td style=\"padding-left: 1em; padding-right: 1em; text-align: center; vertical-align: top\">194200.0</td>\n",
       "        <td style=\"padding-left: 1em; padding-right: 1em; text-align: center; vertical-align: top\">170011.32481</td>\n",
       "    </tr>\n",
       "    <tr>\n",
       "        <td style=\"padding-left: 1em; padding-right: 1em; text-align: center; vertical-align: top\">3</td>\n",
       "        <td style=\"padding-left: 1em; padding-right: 1em; text-align: center; vertical-align: top\">https://v.qq.com/x/cover/<br>d2x46xrtl0rrrst/e0360 ...</td>\n",
       "        <td style=\"padding-left: 1em; padding-right: 1em; text-align: center; vertical-align: top\">5638 5386 5411 158 5639<br>58 5567 1520 5568 569 ...</td>\n",
       "        <td style=\"padding-left: 1em; padding-right: 1em; text-align: center; vertical-align: top\">203666.666667</td>\n",
       "        <td style=\"padding-left: 1em; padding-right: 1em; text-align: center; vertical-align: top\">195720.752756</td>\n",
       "    </tr>\n",
       "    <tr>\n",
       "        <td style=\"padding-left: 1em; padding-right: 1em; text-align: center; vertical-align: top\">2</td>\n",
       "        <td style=\"padding-left: 1em; padding-right: 1em; text-align: center; vertical-align: top\">https://v.qq.com/x/cover/<br>d2x46xrtl0rrrst/e0359 ...</td>\n",
       "        <td style=\"padding-left: 1em; padding-right: 1em; text-align: center; vertical-align: top\">386 1666 1029 389 1473<br>5567 1520 5568 569 ...</td>\n",
       "        <td style=\"padding-left: 1em; padding-right: 1em; text-align: center; vertical-align: top\">241500.0</td>\n",
       "        <td style=\"padding-left: 1em; padding-right: 1em; text-align: center; vertical-align: top\">219706.247583</td>\n",
       "    </tr>\n",
       "    <tr>\n",
       "        <td style=\"padding-left: 1em; padding-right: 1em; text-align: center; vertical-align: top\">3</td>\n",
       "        <td style=\"padding-left: 1em; padding-right: 1em; text-align: center; vertical-align: top\">https://v.qq.com/x/cover/<br>d2x46xrtl0rrrst/m0357 ...</td>\n",
       "        <td style=\"padding-left: 1em; padding-right: 1em; text-align: center; vertical-align: top\">60 40 5640 1666 536 5641<br>5567 1520 5568 569 ...</td>\n",
       "        <td style=\"padding-left: 1em; padding-right: 1em; text-align: center; vertical-align: top\">71333.3333333</td>\n",
       "        <td style=\"padding-left: 1em; padding-right: 1em; text-align: center; vertical-align: top\">183964.14888</td>\n",
       "    </tr>\n",
       "</table>\n",
       "[248 rows x 12 columns]<br/>Note: Only the head of the SFrame is printed.<br/>You can use print_rows(num_rows=m, num_columns=n) to print more rows and columns.\n",
       "</div>"
      ],
      "text/plain": [
       "Columns:\n",
       "\tId\tint\n",
       "\tTitle\tstr\n",
       "\tWords_of_the_Title\tint\n",
       "\tEnglish_or_not\tint\n",
       "\tperson\tint\n",
       "\tthe_Length_of_one_Episode\tint\n",
       "\tthe_Playback_Amount_of_one_Episode\tint\n",
       "\tRelease_Week\tint\n",
       "\tPageUrl\tstr\n",
       "\tRelative\tstr\n",
       "\tplaybackperweek\tfloat\n",
       "\tprediction\tfloat\n",
       "\n",
       "Rows: 248\n",
       "\n",
       "Data:\n",
       "+----+--------------------------------+--------------------+----------------+--------+\n",
       "| Id |             Title              | Words_of_the_Title | English_or_not | person |\n",
       "+----+--------------------------------+--------------------+----------------+--------+\n",
       "| 1  |  ̥��������׼���������� - ʮ�º...  |         25         |       0        |   0    |\n",
       "| 2  | Ϊʲô���к����롰���ݺ��ݡ� - ʮ�º... |         28         |       0        |   0    |\n",
       "| 3  | ���к�����Щ�����������Լ� - ...  |         27         |       0        |   0    |\n",
       "| 4  | 100�������˵ķ��侭�� - ʮ�ºǻ� ... |         26         |       0        |   0    |\n",
       "| 5  | ������������ʱ�� - ʮ�ºǻ� - ...  |         23         |       0        |   0    |\n",
       "| 6  | Ů�����������ΰٲ� - ʮ�ºǻ� - ...  |         23         |       0        |   0    |\n",
       "| 7  |  ���о�������ȡ�� �̵��Ƶ�81�� ...  |         31         |       0        |   0    |\n",
       "| 8  | ���к��Ӱ����������� - ʮ�ºǻ�...  |         26         |       0        |   0    |\n",
       "| 9  | ���ڵ��׸�����Щ��飿 - ʮ�ºǻ� -... |         25         |       0        |   0    |\n",
       "| 10 | ���������Ѫ����Ҫ��Ҫ�棿 - ʮ�º... |         27         |       0        |   0    |\n",
       "+----+--------------------------------+--------------------+----------------+--------+\n",
       "+---------------------------+-------------------------------+--------------+\n",
       "| the_Length_of_one_Episode | the_Playback_Amount_of_one... | Release_Week |\n",
       "+---------------------------+-------------------------------+--------------+\n",
       "|            195            |              2020             |      5       |\n",
       "|            182            |             54000             |      3       |\n",
       "|            203            |             720000            |      3       |\n",
       "|            276            |             873000            |      3       |\n",
       "|            194            |             832000            |      3       |\n",
       "|            214            |             692000            |      5       |\n",
       "|            233            |             971000            |      5       |\n",
       "|            229            |             611000            |      3       |\n",
       "|            296            |             483000            |      2       |\n",
       "|            206            |             214000            |      3       |\n",
       "+---------------------------+-------------------------------+--------------+\n",
       "+-------------------------------+-------------------------------+-----------------+\n",
       "|            PageUrl            |            Relative           | playbackperweek |\n",
       "+-------------------------------+-------------------------------+-----------------+\n",
       "| https://v.qq.com/x/cover/d... | 1971 60 230 5071 1031 1572... |      404.0      |\n",
       "| https://v.qq.com/x/cover/d... | 954 462 463 5627 5628 5629... |     18000.0     |\n",
       "| https://v.qq.com/x/cover/d... | 462 463 218 389 2223 407 5... |     240000.0    |\n",
       "| https://v.qq.com/x/cover/d... | 5631 3977 40 3492 5632 556... |     291000.0    |\n",
       "| https://v.qq.com/x/cover/d... | 899 5633 2270 381 701 5567... |  277333.333333  |\n",
       "| https://v.qq.com/x/cover/d... | 1366 5427 407 1354 775 556... |     138400.0    |\n",
       "| https://v.qq.com/x/cover/d... | 462 5634 5635 5636 4923 37... |     194200.0    |\n",
       "| https://v.qq.com/x/cover/d... | 5638 5386 5411 158 5639 58... |  203666.666667  |\n",
       "| https://v.qq.com/x/cover/d... | 386 1666 1029 389 1473 556... |     241500.0    |\n",
       "| https://v.qq.com/x/cover/d... | 60 40 5640 1666 536 5641 5... |  71333.3333333  |\n",
       "+-------------------------------+-------------------------------+-----------------+\n",
       "+---------------+\n",
       "|   prediction  |\n",
       "+---------------+\n",
       "| 191635.384264 |\n",
       "| 171929.615664 |\n",
       "|  183130.36086 |\n",
       "| 208783.431726 |\n",
       "| 202085.913046 |\n",
       "| 207644.499842 |\n",
       "|  170011.32481 |\n",
       "| 195720.752756 |\n",
       "| 219706.247583 |\n",
       "|  183964.14888 |\n",
       "+---------------+\n",
       "[248 rows x 12 columns]\n",
       "Note: Only the head of the SFrame is printed.\n",
       "You can use print_rows(num_rows=m, num_columns=n) to print more rows and columns."
      ]
     },
     "execution_count": 86,
     "metadata": {},
     "output_type": "execute_result"
    }
   ],
   "source": [
    "shiyuehehub['prediction']=example_model.predict(shiyuehehub)\n",
    "shiyuehehub"
   ]
  },
  {
   "cell_type": "code",
   "execution_count": null,
   "metadata": {
    "collapsed": true
   },
   "outputs": [],
   "source": []
  }
 ],
 "metadata": {
  "kernelspec": {
   "display_name": "Python 2",
   "language": "python",
   "name": "python2"
  },
  "language_info": {
   "codemirror_mode": {
    "name": "ipython",
    "version": 2
   },
   "file_extension": ".py",
   "mimetype": "text/x-python",
   "name": "python",
   "nbconvert_exporter": "python",
   "pygments_lexer": "ipython2",
   "version": "2.7.11"
  }
 },
 "nbformat": 4,
 "nbformat_minor": 0
}
